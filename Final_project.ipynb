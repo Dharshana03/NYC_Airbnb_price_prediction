{
 "cells": [
  {
   "cell_type": "markdown",
   "metadata": {
    "application/vnd.databricks.v1+cell": {
     "cellMetadata": {
      "byteLimit": 2048000,
      "rowLimit": 10000
     },
     "inputWidgets": {},
     "nuid": "dffbc13e-d797-4802-a3c3-3d9db84e056f",
     "showTitle": false,
     "title": ""
    }
   },
   "source": [
    "## NYC Airbnb price Prediction\n",
    "\n",
    "Business Problem: To enhance the Airbnb experience by accurately predicting NYC property prices, enabling confident decision-making for both hosts and travelers.\n",
    "\n",
    "Goal: To develop a reliable model for predicting property prices, ensuring fair and competitive pricing strategies for hosts and transparent, trustworthy information for guests.\n",
    "\n",
    "Primary Objective and Business Benefit: Establishing an effective pricing strategy that promotes customer satisfaction and trust in the Airbnb market, creating a positive environment for hosts and guests.\n",
    "\n",
    "Project Implications: Contributing to the growth of the Airbnb market and the city's overall appeal, the project aims to cultivate a competitive and transparent marketplace, benefiting both the local economy and the hospitality industry.\n"
   ]
  },
  {
   "cell_type": "markdown",
   "metadata": {
    "application/vnd.databricks.v1+cell": {
     "cellMetadata": {
      "byteLimit": 2048000,
      "rowLimit": 10000
     },
     "inputWidgets": {},
     "nuid": "4f34af8e-0da7-4ce0-9367-fbaeff0f2389",
     "showTitle": false,
     "title": ""
    }
   },
   "source": [
    "#### 1. Read Data\n",
    "Reading the data using the Sparksession and Github URL for the input file in SPARK. "
   ]
  },
  {
   "cell_type": "code",
   "execution_count": null,
   "metadata": {
    "application/vnd.databricks.v1+cell": {
     "cellMetadata": {
      "byteLimit": 2048000,
      "rowLimit": 10000
     },
     "inputWidgets": {},
     "nuid": "5b7efb3e-9d6a-4bbd-8117-3db55c9cf0b0",
     "showTitle": false,
     "title": ""
    }
   },
   "outputs": [
    {
     "name": "stderr",
     "output_type": "stream",
     "text": [
      "<command-449254429941816>:12: DtypeWarning: Columns (17) have mixed types. Specify dtype option on import or set low_memory=False.\n",
      "  pd_df = pd.read_csv(url)\n"
     ]
    },
    {
     "name": "stdout",
     "output_type": "stream",
     "text": [
      "+----+--------------------+-------+---------+-------------------+------------------+--------+---------+---------------+-----+--------------+-----------------+-----------+-----------------+------------------------------+----------------+---------------------+-------+\n",
      "|  id|                name|host_id|host_name|neighbourhood_group|     neighbourhood|latitude|longitude|      room_type|price|minimum_nights|number_of_reviews|last_review|reviews_per_month|calculated_host_listings_count|availability_365|number_of_reviews_ltm|license|\n",
      "+----+--------------------+-------+---------+-------------------+------------------+--------+---------+---------------+-----+--------------+-----------------+-----------+-----------------+------------------------------+----------------+---------------------+-------+\n",
      "|2595|Skylit Midtown Ca...|   2845| Jennifer|          Manhattan|           Midtown|40.75356|-73.98559|Entire home/apt|  150|            30|               49| 2022-06-21|              0.3|                             3|             314|                    1|   null|\n",
      "|5121|     BlissArtsSpace!|   7356|    Garon|           Brooklyn|Bedford-Stuyvesant|40.68535|-73.95512|   Private room|   60|            30|               50| 2019-12-02|              0.3|                             2|             365|                    0|   null|\n",
      "|5203|Cozy Clean Guest ...|   7490|MaryEllen|          Manhattan|   Upper West Side| 40.8038|-73.96751|   Private room|   75|             2|              118| 2017-07-21|             0.72|                             1|               0|                    0|   null|\n",
      "|5178|Large Furnished R...|   8967| Shunichi|          Manhattan|           Midtown|40.76457|-73.98317|   Private room|   68|             2|              575| 2023-02-19|             3.41|                             1|             106|                   52|   null|\n",
      "|5136|Large Sunny Brook...|   7378|  Rebecca|           Brooklyn|       Sunset Park|40.66265|-73.99454|Entire home/apt|  275|            60|                3| 2022-08-10|             0.03|                             1|             181|                    1|   null|\n",
      "+----+--------------------+-------+---------+-------------------+------------------+--------+---------+---------------+-----+--------------+-----------------+-----------+-----------------+------------------------------+----------------+---------------------+-------+\n",
      "\n"
     ]
    }
   ],
   "source": [
    "# This will create the sql context to read data and read the data and save it as spark_df\n",
    "from pyspark.sql import SparkSession\n",
    "import pandas as pd \n",
    "\n",
    "spark = SparkSession \\\n",
    "    .builder \\\n",
    "    .appName(\"NYC price prediction\") \\\n",
    "    .config(\"spark.some.config.option\", \"some-value\") \\\n",
    "    .getOrCreate()\n",
    "\n",
    "url = \"https://raw.githubusercontent.com/Dharshana03/NYC_Airbnb_price_prediction/main/NYC-Airbnb-2023.csv\"\n",
    "pd_df = pd.read_csv(url)\n",
    "spark_df = spark.createDataFrame(pd_df)\n",
    "\n",
    "spark_df.limit(5).show()\n"
   ]
  },
  {
   "cell_type": "markdown",
   "metadata": {
    "application/vnd.databricks.v1+cell": {
     "cellMetadata": {
      "byteLimit": 2048000,
      "rowLimit": 10000
     },
     "inputWidgets": {},
     "nuid": "757ea410-baf8-4a2a-a8ee-52a7066dfcde",
     "showTitle": false,
     "title": ""
    }
   },
   "source": [
    "\n",
    "### Short description of the variables\n",
    " id: A unique identifier for each listing.\n",
    "\n",
    "name: The title or name of the listing.\n",
    "\n",
    "host_id: A unique identifier for each host.\n",
    "\n",
    "host_name: The name of the host.\n",
    "\n",
    "neighbourhood_group: The borough in New York City where the listing is located.\n",
    "\n",
    "neighbourhood: The specific neighborhood within the borough where the listing is situated.\n",
    "\n",
    "latitude: The latitude coordinate of the listing's location.\n",
    "\n",
    "longitude: The longitude coordinate of the listing's location.\n",
    "\n",
    "room_type: The type of room available for rent, such as a private room, shared room, or entire home/apartment.\n",
    "\n",
    "price: The nightly rental price for the listing.\n",
    "\n",
    "minimum_nights: The minimum number of nights required for booking the listing.\n",
    "\n",
    "number_of_reviews: The total number of reviews for the listing.\n",
    "\n",
    "last_review: The date of the last review for the listing.\n",
    "\n",
    "reviews_per_month: The average number of reviews per month for the listing.\n",
    "\n",
    "calculated_host_listings_count: The number of listings by the host.\n",
    "\n",
    "availability_365: The number of days the listing is available for booking in a year.\n",
    "\n",
    "number_of_reviews_ltm: The number of reviews in the last twelve months for the listing."
   ]
  },
  {
   "cell_type": "markdown",
   "metadata": {
    "application/vnd.databricks.v1+cell": {
     "cellMetadata": {
      "byteLimit": 2048000,
      "rowLimit": 10000
     },
     "inputWidgets": {},
     "nuid": "46a83646-21ca-4565-aaf5-78e09c0eaa94",
     "showTitle": false,
     "title": ""
    }
   },
   "source": [
    "####Datatypes "
   ]
  },
  {
   "cell_type": "code",
   "execution_count": null,
   "metadata": {
    "application/vnd.databricks.v1+cell": {
     "cellMetadata": {
      "byteLimit": 2048000,
      "rowLimit": 10000
     },
     "inputWidgets": {},
     "nuid": "2b9a2b1e-b5d1-46f1-a57d-a467b92a2bed",
     "showTitle": false,
     "title": ""
    }
   },
   "outputs": [
    {
     "name": "stdout",
     "output_type": "stream",
     "text": [
      "Out[399]: [('id', 'bigint'),\n",
      " ('name', 'string'),\n",
      " ('host_id', 'bigint'),\n",
      " ('host_name', 'string'),\n",
      " ('neighbourhood_group', 'string'),\n",
      " ('neighbourhood', 'string'),\n",
      " ('latitude', 'double'),\n",
      " ('longitude', 'double'),\n",
      " ('room_type', 'string'),\n",
      " ('price', 'bigint'),\n",
      " ('minimum_nights', 'bigint'),\n",
      " ('number_of_reviews', 'bigint'),\n",
      " ('last_review', 'string'),\n",
      " ('reviews_per_month', 'double'),\n",
      " ('calculated_host_listings_count', 'bigint'),\n",
      " ('availability_365', 'bigint'),\n",
      " ('number_of_reviews_ltm', 'bigint'),\n",
      " ('license', 'string')]"
     ]
    }
   ],
   "source": [
    "spark_df.dtypes"
   ]
  },
  {
   "cell_type": "markdown",
   "metadata": {
    "application/vnd.databricks.v1+cell": {
     "cellMetadata": {
      "byteLimit": 2048000,
      "rowLimit": 10000
     },
     "inputWidgets": {},
     "nuid": "ee662951-2a30-4ecd-b6c1-603f257aef03",
     "showTitle": false,
     "title": ""
    }
   },
   "source": [
    "#### 2. Defining the Target variable"
   ]
  },
  {
   "cell_type": "code",
   "execution_count": null,
   "metadata": {
    "application/vnd.databricks.v1+cell": {
     "cellMetadata": {
      "byteLimit": 2048000,
      "rowLimit": 10000
     },
     "inputWidgets": {},
     "nuid": "0d7c3da2-b26e-49a3-a831-21ef1a23c6ae",
     "showTitle": false,
     "title": ""
    }
   },
   "outputs": [],
   "source": [
    "target = 'price' # dependent variable in our dataset"
   ]
  },
  {
   "cell_type": "markdown",
   "metadata": {
    "application/vnd.databricks.v1+cell": {
     "cellMetadata": {
      "byteLimit": 2048000,
      "rowLimit": 10000
     },
     "inputWidgets": {},
     "nuid": "c300ffc8-3b5d-4e66-9c2c-bd76b08dac5e",
     "showTitle": false,
     "title": ""
    }
   },
   "source": [
    "#### 3. Performing Exploratory data analysis in the dataset"
   ]
  },
  {
   "cell_type": "code",
   "execution_count": null,
   "metadata": {
    "application/vnd.databricks.v1+cell": {
     "cellMetadata": {
      "byteLimit": 2048000,
      "rowLimit": 10000
     },
     "inputWidgets": {},
     "nuid": "21ada6e7-f90e-4aaf-a071-98ac959d1700",
     "showTitle": false,
     "title": ""
    }
   },
   "outputs": [
    {
     "name": "stdout",
     "output_type": "stream",
     "text": [
      "total no. of rows are 42931 and columns are 18\n"
     ]
    }
   ],
   "source": [
    "total_rows = spark_df.count()\n",
    "total_columns = len(spark_df.columns)\n",
    "\n",
    "print(f\"total no. of rows are {total_rows} and columns are {total_columns}\")"
   ]
  },
  {
   "cell_type": "markdown",
   "metadata": {
    "application/vnd.databricks.v1+cell": {
     "cellMetadata": {
      "byteLimit": 2048000,
      "rowLimit": 10000
     },
     "inputWidgets": {},
     "nuid": "4f5496e6-5c2d-430e-8606-ab9237e114d6",
     "showTitle": false,
     "title": ""
    }
   },
   "source": [
    "####Statistical summary of the dataset and Null percentage of the columns"
   ]
  },
  {
   "cell_type": "code",
   "execution_count": null,
   "metadata": {
    "application/vnd.databricks.v1+cell": {
     "cellMetadata": {
      "byteLimit": 2048000,
      "rowLimit": 10000
     },
     "inputWidgets": {},
     "nuid": "a7923cd7-b20f-4c15-839f-d1aaa56ddb1a",
     "showTitle": false,
     "title": ""
    }
   },
   "outputs": [
    {
     "name": "stdout",
     "output_type": "stream",
     "text": [
      "['null_percent', 0.0, 0.03, 0.0, 0.01, 0.0, 0.0, 0.0, 0.0, 0.0, 0.0, 0.0, 0.0, 24.0, 24.0, 0.0, 0.0, 0.0, 100.0]\n"
     ]
    }
   ],
   "source": [
    "#Finding the null percentage for all the variables in the dataset\n",
    "null_list = [round((spark_df.where(spark_df[x].isNull()).count()/total_rows)*100,2) for x in spark_df.columns] \n",
    "null_list.insert(0, 'null_percent') # insert null-count at index 0\n",
    "print(null_list)\n"
   ]
  },
  {
   "cell_type": "code",
   "execution_count": null,
   "metadata": {
    "application/vnd.databricks.v1+cell": {
     "cellMetadata": {
      "byteLimit": 2048000,
      "rowLimit": 10000
     },
     "inputWidgets": {},
     "nuid": "cdd1fd74-ba1b-4f1e-977b-dd5be925e43d",
     "showTitle": false,
     "title": ""
    }
   },
   "outputs": [
    {
     "name": "stderr",
     "output_type": "stream",
     "text": [
      "<command-1214778967230850>:4: FutureWarning: The frame.append method is deprecated and will be removed from pandas in a future version. Use pandas.concat instead.\n",
      "  summary = summary.append(null_list) # merge it w/ summary dataframe defned above\n"
     ]
    },
    {
     "data": {
      "text/html": [
       "<div>\n",
       "<style scoped>\n",
       "    .dataframe tbody tr th:only-of-type {\n",
       "        vertical-align: middle;\n",
       "    }\n",
       "\n",
       "    .dataframe tbody tr th {\n",
       "        vertical-align: top;\n",
       "    }\n",
       "\n",
       "    .dataframe thead th {\n",
       "        text-align: right;\n",
       "    }\n",
       "</style>\n",
       "<table border=\"1\" class=\"dataframe\">\n",
       "  <thead>\n",
       "    <tr style=\"text-align: right;\">\n",
       "      <th></th>\n",
       "      <th>id</th>\n",
       "      <th>name</th>\n",
       "      <th>host_id</th>\n",
       "      <th>host_name</th>\n",
       "      <th>neighbourhood_group</th>\n",
       "      <th>neighbourhood</th>\n",
       "      <th>latitude</th>\n",
       "      <th>longitude</th>\n",
       "      <th>room_type</th>\n",
       "      <th>price</th>\n",
       "      <th>minimum_nights</th>\n",
       "      <th>number_of_reviews</th>\n",
       "      <th>last_review</th>\n",
       "      <th>reviews_per_month</th>\n",
       "      <th>calculated_host_listings_count</th>\n",
       "      <th>availability_365</th>\n",
       "      <th>number_of_reviews_ltm</th>\n",
       "      <th>license</th>\n",
       "    </tr>\n",
       "    <tr>\n",
       "      <th>summary</th>\n",
       "      <th></th>\n",
       "      <th></th>\n",
       "      <th></th>\n",
       "      <th></th>\n",
       "      <th></th>\n",
       "      <th></th>\n",
       "      <th></th>\n",
       "      <th></th>\n",
       "      <th></th>\n",
       "      <th></th>\n",
       "      <th></th>\n",
       "      <th></th>\n",
       "      <th></th>\n",
       "      <th></th>\n",
       "      <th></th>\n",
       "      <th></th>\n",
       "      <th></th>\n",
       "      <th></th>\n",
       "    </tr>\n",
       "  </thead>\n",
       "  <tbody>\n",
       "    <tr>\n",
       "      <th>count</th>\n",
       "      <td>42931</td>\n",
       "      <td>42919</td>\n",
       "      <td>42931</td>\n",
       "      <td>42926</td>\n",
       "      <td>42931</td>\n",
       "      <td>42931</td>\n",
       "      <td>42931</td>\n",
       "      <td>42931</td>\n",
       "      <td>42931</td>\n",
       "      <td>42931</td>\n",
       "      <td>42931</td>\n",
       "      <td>42931</td>\n",
       "      <td>32627</td>\n",
       "      <td>32627</td>\n",
       "      <td>42931</td>\n",
       "      <td>42931</td>\n",
       "      <td>42931</td>\n",
       "      <td>1</td>\n",
       "    </tr>\n",
       "    <tr>\n",
       "      <th>mean</th>\n",
       "      <td>2.22277244526372992E17</td>\n",
       "      <td>1.0</td>\n",
       "      <td>1.516012090219189E8</td>\n",
       "      <td>NaN</td>\n",
       "      <td>None</td>\n",
       "      <td>None</td>\n",
       "      <td>40.7282727775814</td>\n",
       "      <td>-73.94366508294827</td>\n",
       "      <td>None</td>\n",
       "      <td>200.30716731499382</td>\n",
       "      <td>18.111178402552934</td>\n",
       "      <td>25.85600149076425</td>\n",
       "      <td>None</td>\n",
       "      <td>1.1689882612560172</td>\n",
       "      <td>24.05480887936456</td>\n",
       "      <td>140.26221145559154</td>\n",
       "      <td>7.736507418881461</td>\n",
       "      <td>None</td>\n",
       "    </tr>\n",
       "    <tr>\n",
       "      <th>stddev</th>\n",
       "      <td>3.3442130220379552E17</td>\n",
       "      <td>None</td>\n",
       "      <td>1.6213010756755662E8</td>\n",
       "      <td>NaN</td>\n",
       "      <td>None</td>\n",
       "      <td>None</td>\n",
       "      <td>0.05764045675759446</td>\n",
       "      <td>0.056626546755180744</td>\n",
       "      <td>None</td>\n",
       "      <td>895.082911473015</td>\n",
       "      <td>27.462512977553033</td>\n",
       "      <td>56.616343792008784</td>\n",
       "      <td>None</td>\n",
       "      <td>1.7896748767542965</td>\n",
       "      <td>80.86795810974908</td>\n",
       "      <td>142.00148630351472</td>\n",
       "      <td>18.290255833789328</td>\n",
       "      <td>None</td>\n",
       "    </tr>\n",
       "    <tr>\n",
       "      <th>min</th>\n",
       "      <td>2595</td>\n",
       "      <td>!! Large 3 Bedroom Apartment in NYC!!</td>\n",
       "      <td>1678</td>\n",
       "      <td>Valéria</td>\n",
       "      <td>Bronx</td>\n",
       "      <td>Allerton</td>\n",
       "      <td>40.50031443485432</td>\n",
       "      <td>-74.251907</td>\n",
       "      <td>Entire home/apt</td>\n",
       "      <td>0</td>\n",
       "      <td>1</td>\n",
       "      <td>0</td>\n",
       "      <td>2011-05-12</td>\n",
       "      <td>0.01</td>\n",
       "      <td>1</td>\n",
       "      <td>0</td>\n",
       "      <td>0</td>\n",
       "      <td>41662/AL</td>\n",
       "    </tr>\n",
       "    <tr>\n",
       "      <th>max</th>\n",
       "      <td>840466047136140141</td>\n",
       "      <td>🪴🛋🌞 Unique sunny clean brownstone studio 1st f...</td>\n",
       "      <td>503872891</td>\n",
       "      <td>진</td>\n",
       "      <td>Staten Island</td>\n",
       "      <td>Woodside</td>\n",
       "      <td>40.91138</td>\n",
       "      <td>-73.71087</td>\n",
       "      <td>Shared room</td>\n",
       "      <td>99000</td>\n",
       "      <td>1250</td>\n",
       "      <td>1842</td>\n",
       "      <td>2023-03-06</td>\n",
       "      <td>86.61</td>\n",
       "      <td>526</td>\n",
       "      <td>365</td>\n",
       "      <td>1093</td>\n",
       "      <td>41662/AL</td>\n",
       "    </tr>\n",
       "    <tr>\n",
       "      <th>null_percent</th>\n",
       "      <td>0.0</td>\n",
       "      <td>0.03</td>\n",
       "      <td>0.0</td>\n",
       "      <td>0.01</td>\n",
       "      <td>0.0</td>\n",
       "      <td>0.0</td>\n",
       "      <td>0.0</td>\n",
       "      <td>0.0</td>\n",
       "      <td>0.0</td>\n",
       "      <td>0.0</td>\n",
       "      <td>0.0</td>\n",
       "      <td>0.0</td>\n",
       "      <td>24.0</td>\n",
       "      <td>24.0</td>\n",
       "      <td>0.0</td>\n",
       "      <td>0.0</td>\n",
       "      <td>0.0</td>\n",
       "      <td>100.0</td>\n",
       "    </tr>\n",
       "  </tbody>\n",
       "</table>\n",
       "</div>"
      ]
     },
     "metadata": {
      "application/vnd.databricks.v1+output": {
       "addedWidgets": {},
       "arguments": {},
       "data": "<div>\n<style scoped>\n    .dataframe tbody tr th:only-of-type {\n        vertical-align: middle;\n    }\n\n    .dataframe tbody tr th {\n        vertical-align: top;\n    }\n\n    .dataframe thead th {\n        text-align: right;\n    }\n</style>\n<table border=\"1\" class=\"dataframe\">\n  <thead>\n    <tr style=\"text-align: right;\">\n      <th></th>\n      <th>id</th>\n      <th>name</th>\n      <th>host_id</th>\n      <th>host_name</th>\n      <th>neighbourhood_group</th>\n      <th>neighbourhood</th>\n      <th>latitude</th>\n      <th>longitude</th>\n      <th>room_type</th>\n      <th>price</th>\n      <th>minimum_nights</th>\n      <th>number_of_reviews</th>\n      <th>last_review</th>\n      <th>reviews_per_month</th>\n      <th>calculated_host_listings_count</th>\n      <th>availability_365</th>\n      <th>number_of_reviews_ltm</th>\n      <th>license</th>\n    </tr>\n    <tr>\n      <th>summary</th>\n      <th></th>\n      <th></th>\n      <th></th>\n      <th></th>\n      <th></th>\n      <th></th>\n      <th></th>\n      <th></th>\n      <th></th>\n      <th></th>\n      <th></th>\n      <th></th>\n      <th></th>\n      <th></th>\n      <th></th>\n      <th></th>\n      <th></th>\n      <th></th>\n    </tr>\n  </thead>\n  <tbody>\n    <tr>\n      <th>count</th>\n      <td>42931</td>\n      <td>42919</td>\n      <td>42931</td>\n      <td>42926</td>\n      <td>42931</td>\n      <td>42931</td>\n      <td>42931</td>\n      <td>42931</td>\n      <td>42931</td>\n      <td>42931</td>\n      <td>42931</td>\n      <td>42931</td>\n      <td>32627</td>\n      <td>32627</td>\n      <td>42931</td>\n      <td>42931</td>\n      <td>42931</td>\n      <td>1</td>\n    </tr>\n    <tr>\n      <th>mean</th>\n      <td>2.22277244526372992E17</td>\n      <td>1.0</td>\n      <td>1.516012090219189E8</td>\n      <td>NaN</td>\n      <td>None</td>\n      <td>None</td>\n      <td>40.7282727775814</td>\n      <td>-73.94366508294827</td>\n      <td>None</td>\n      <td>200.30716731499382</td>\n      <td>18.111178402552934</td>\n      <td>25.85600149076425</td>\n      <td>None</td>\n      <td>1.1689882612560172</td>\n      <td>24.05480887936456</td>\n      <td>140.26221145559154</td>\n      <td>7.736507418881461</td>\n      <td>None</td>\n    </tr>\n    <tr>\n      <th>stddev</th>\n      <td>3.3442130220379552E17</td>\n      <td>None</td>\n      <td>1.6213010756755662E8</td>\n      <td>NaN</td>\n      <td>None</td>\n      <td>None</td>\n      <td>0.05764045675759446</td>\n      <td>0.056626546755180744</td>\n      <td>None</td>\n      <td>895.082911473015</td>\n      <td>27.462512977553033</td>\n      <td>56.616343792008784</td>\n      <td>None</td>\n      <td>1.7896748767542965</td>\n      <td>80.86795810974908</td>\n      <td>142.00148630351472</td>\n      <td>18.290255833789328</td>\n      <td>None</td>\n    </tr>\n    <tr>\n      <th>min</th>\n      <td>2595</td>\n      <td>!! Large 3 Bedroom Apartment in NYC!!</td>\n      <td>1678</td>\n      <td>Valéria</td>\n      <td>Bronx</td>\n      <td>Allerton</td>\n      <td>40.50031443485432</td>\n      <td>-74.251907</td>\n      <td>Entire home/apt</td>\n      <td>0</td>\n      <td>1</td>\n      <td>0</td>\n      <td>2011-05-12</td>\n      <td>0.01</td>\n      <td>1</td>\n      <td>0</td>\n      <td>0</td>\n      <td>41662/AL</td>\n    </tr>\n    <tr>\n      <th>max</th>\n      <td>840466047136140141</td>\n      <td>🪴🛋🌞 Unique sunny clean brownstone studio 1st f...</td>\n      <td>503872891</td>\n      <td>진</td>\n      <td>Staten Island</td>\n      <td>Woodside</td>\n      <td>40.91138</td>\n      <td>-73.71087</td>\n      <td>Shared room</td>\n      <td>99000</td>\n      <td>1250</td>\n      <td>1842</td>\n      <td>2023-03-06</td>\n      <td>86.61</td>\n      <td>526</td>\n      <td>365</td>\n      <td>1093</td>\n      <td>41662/AL</td>\n    </tr>\n    <tr>\n      <th>null_percent</th>\n      <td>0.0</td>\n      <td>0.03</td>\n      <td>0.0</td>\n      <td>0.01</td>\n      <td>0.0</td>\n      <td>0.0</td>\n      <td>0.0</td>\n      <td>0.0</td>\n      <td>0.0</td>\n      <td>0.0</td>\n      <td>0.0</td>\n      <td>0.0</td>\n      <td>24.0</td>\n      <td>24.0</td>\n      <td>0.0</td>\n      <td>0.0</td>\n      <td>0.0</td>\n      <td>100.0</td>\n    </tr>\n  </tbody>\n</table>\n</div>",
       "datasetInfos": [],
       "metadata": {},
       "removedWidgets": [],
       "textData": null,
       "type": "htmlSandbox"
      }
     },
     "output_type": "display_data"
    }
   ],
   "source": [
    "summary = spark_df.describe().toPandas() # describes the dataset and displays the result as pandas dataframe (not spark dataframe)\n",
    "null_list = pd.DataFrame(null_list).T # make null_count a pandas dataframe and transpose it\n",
    "null_list.columns = summary.columns\n",
    "summary = summary.append(null_list) # merge it w/ summary dataframe defned above\n",
    "summary.index = summary.summary\n",
    "summary = summary[spark_df.columns]\n",
    "summary"
   ]
  },
  {
   "cell_type": "markdown",
   "metadata": {
    "application/vnd.databricks.v1+cell": {
     "cellMetadata": {
      "byteLimit": 2048000,
      "rowLimit": 10000
     },
     "inputWidgets": {},
     "nuid": "4d643bd9-8afa-433a-bd67-b5b99d611cee",
     "showTitle": false,
     "title": ""
    }
   },
   "source": [
    "\n",
    "Dropping the License column as it is nearly 100% null\n"
   ]
  },
  {
   "cell_type": "code",
   "execution_count": null,
   "metadata": {
    "application/vnd.databricks.v1+cell": {
     "cellMetadata": {
      "byteLimit": 2048000,
      "rowLimit": 10000
     },
     "inputWidgets": {},
     "nuid": "7af54846-7b32-4fa0-a509-e7c3a93f9b4d",
     "showTitle": false,
     "title": ""
    }
   },
   "outputs": [],
   "source": [
    "spark_df=spark_df.drop('license')"
   ]
  },
  {
   "cell_type": "markdown",
   "metadata": {
    "application/vnd.databricks.v1+cell": {
     "cellMetadata": {
      "byteLimit": 2048000,
      "rowLimit": 10000
     },
     "inputWidgets": {},
     "nuid": "32e2a3e4-a8b8-485e-8291-705974d56029",
     "showTitle": false,
     "title": ""
    }
   },
   "source": [
    "\n",
    "Exploring the price of the properties based on different neighbourhood group and room type\n",
    "\n",
    "1. The properties in Manhattan are pricier when compared to other neighbourhood\n",
    "\n",
    "2. Entire home room type is pricier.\n",
    "\n",
    "3. Less hotel rooms and shared rooms are avaiable in the data. They are of low cost."
   ]
  },
  {
   "cell_type": "code",
   "execution_count": null,
   "metadata": {
    "application/vnd.databricks.v1+cell": {
     "cellMetadata": {
      "byteLimit": 2048000,
      "rowLimit": 10000
     },
     "inputWidgets": {},
     "nuid": "329b7480-f027-4af1-ab10-4c3cde71b4d6",
     "showTitle": false,
     "title": ""
    }
   },
   "outputs": [
    {
     "data": {
      "text/html": [
       "<div>\n",
       "<style scoped>\n",
       "    .dataframe tbody tr th:only-of-type {\n",
       "        vertical-align: middle;\n",
       "    }\n",
       "\n",
       "    .dataframe tbody tr th {\n",
       "        vertical-align: top;\n",
       "    }\n",
       "\n",
       "    .dataframe thead th {\n",
       "        text-align: right;\n",
       "    }\n",
       "</style>\n",
       "<table border=\"1\" class=\"dataframe\">\n",
       "  <thead>\n",
       "    <tr style=\"text-align: right;\">\n",
       "      <th></th>\n",
       "      <th>neighbourhood_group</th>\n",
       "      <th>id</th>\n",
       "    </tr>\n",
       "  </thead>\n",
       "  <tbody>\n",
       "    <tr>\n",
       "      <th>0</th>\n",
       "      <td>Bronx</td>\n",
       "      <td>1691</td>\n",
       "    </tr>\n",
       "    <tr>\n",
       "      <th>1</th>\n",
       "      <td>Brooklyn</td>\n",
       "      <td>16237</td>\n",
       "    </tr>\n",
       "    <tr>\n",
       "      <th>2</th>\n",
       "      <td>Manhattan</td>\n",
       "      <td>17658</td>\n",
       "    </tr>\n",
       "    <tr>\n",
       "      <th>3</th>\n",
       "      <td>Queens</td>\n",
       "      <td>6916</td>\n",
       "    </tr>\n",
       "    <tr>\n",
       "      <th>4</th>\n",
       "      <td>Staten Island</td>\n",
       "      <td>429</td>\n",
       "    </tr>\n",
       "  </tbody>\n",
       "</table>\n",
       "</div>"
      ]
     },
     "metadata": {
      "application/vnd.databricks.v1+output": {
       "addedWidgets": {},
       "arguments": {},
       "data": "<div>\n<style scoped>\n    .dataframe tbody tr th:only-of-type {\n        vertical-align: middle;\n    }\n\n    .dataframe tbody tr th {\n        vertical-align: top;\n    }\n\n    .dataframe thead th {\n        text-align: right;\n    }\n</style>\n<table border=\"1\" class=\"dataframe\">\n  <thead>\n    <tr style=\"text-align: right;\">\n      <th></th>\n      <th>neighbourhood_group</th>\n      <th>id</th>\n    </tr>\n  </thead>\n  <tbody>\n    <tr>\n      <th>0</th>\n      <td>Bronx</td>\n      <td>1691</td>\n    </tr>\n    <tr>\n      <th>1</th>\n      <td>Brooklyn</td>\n      <td>16237</td>\n    </tr>\n    <tr>\n      <th>2</th>\n      <td>Manhattan</td>\n      <td>17658</td>\n    </tr>\n    <tr>\n      <th>3</th>\n      <td>Queens</td>\n      <td>6916</td>\n    </tr>\n    <tr>\n      <th>4</th>\n      <td>Staten Island</td>\n      <td>429</td>\n    </tr>\n  </tbody>\n</table>\n</div>",
       "datasetInfos": [],
       "metadata": {},
       "removedWidgets": [],
       "textData": null,
       "type": "htmlSandbox"
      }
     },
     "output_type": "display_data"
    }
   ],
   "source": [
    "neighborhood_count"
   ]
  },
  {
   "cell_type": "code",
   "execution_count": null,
   "metadata": {
    "application/vnd.databricks.v1+cell": {
     "cellMetadata": {
      "byteLimit": 2048000,
      "rowLimit": 10000
     },
     "inputWidgets": {},
     "nuid": "7dac60e5-d308-40e8-a05e-83af6ea1e7e8",
     "showTitle": false,
     "title": ""
    }
   },
   "outputs": [
    {
     "name": "stdout",
     "output_type": "stream",
     "text": [
      "Out[409]: Text(0, 0.5, 'Price')"
     ]
    },
    {
     "data": {
      "image/png": "[encoded data removed]"
     },
     "metadata": {
      "application/vnd.databricks.v1+output": {
       "addedWidgets": {},
       "arguments": {},
       "data": "data:image/png;base64,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\n",
       "datasetInfos": [],
       "metadata": {},
       "removedWidgets": [],
       "type": "image"
      }
     },
     "output_type": "display_data"
    }
   ],
   "source": [
    "import matplotlib.pyplot as plt \n",
    "import seaborn as sns\n",
    "\n",
    "fig, axes = plt.subplots(1,2, figsize=(15,15))\n",
    "neighborhood_count = pd_df.groupby(\"neighbourhood_group\").count()[\"id\"].reset_index()\n",
    "room_type_count = pd_df.groupby(\"room_type\").count()[\"id\"].reset_index()\n",
    "neighborhood_count.plot(x=\"neighbourhood_group\",kind='bar', ax=axes[0])\n",
    "sns.barplot(data = room_type_count,x = 'room_type', y = 'id', ax=axes[1]) #, palette = \"\"\n",
    "\n",
    "axes[0].set_title('Distribution of Neighbourhood_group')\n",
    "axes[1].set_title('Distribution of room_type')\n",
    "axes[0].set_xlabel('Neighbourhood_group')\n",
    "axes[1].set_xlabel('Room_type')\n",
    "axes[0].set_ylabel('Price')\n",
    "axes[1].set_ylabel('Price')\n"
   ]
  },
  {
   "cell_type": "markdown",
   "metadata": {
    "application/vnd.databricks.v1+cell": {
     "cellMetadata": {
      "byteLimit": 2048000,
      "rowLimit": 10000
     },
     "inputWidgets": {},
     "nuid": "c9a8a69d-86b7-418f-914e-1d05153d97cb",
     "showTitle": false,
     "title": ""
    }
   },
   "source": [
    "\n",
    "#### Correlation heatmap\n",
    "\n",
    "*No of reviews per month and number of reviews in the last twelve month* as they were highly correlated with *number of reviews*. To avoid multicollinearity, columns Review_per_month and number_of_reviews_ltm should be removed\n"
   ]
  },
  {
   "cell_type": "code",
   "execution_count": null,
   "metadata": {
    "application/vnd.databricks.v1+cell": {
     "cellMetadata": {
      "byteLimit": 2048000,
      "rowLimit": 10000
     },
     "inputWidgets": {},
     "nuid": "5a98956e-0df8-4c12-b4bd-d80381bb1eb4",
     "showTitle": false,
     "title": ""
    }
   },
   "outputs": [
    {
     "name": "stdout",
     "output_type": "stream",
     "text": [
      "Out[410]: <AxesSubplot:>"
     ]
    },
    {
     "data": {
      "image/png": "[encoded data removed]"
     },
     "metadata": {
      "application/vnd.databricks.v1+output": {
       "addedWidgets": {},
       "arguments": {},
       "data": "data:image/png;base64,iVBORw0KGgoAAAANSUhEUgAAAfQAAAGKCAYAAAD6/rM7AAAAOXRFWHRTb2Z0d2FyZQBNYXRwbG90bGliIHZlcnNpb24zLjUuMSwgaHR0cHM6Ly9tYXRwbG90bGliLm9yZy/YYfK9AAAACXBIWXMAAAsTAAALEwEAmpwYAADrsElEQVR4nOydd3hUxdeA39lNJ5X0QktoUkMInQChhSpgAcTeGyiCICAoFgQUfyqCBREr0vRT6RB6LymEJlVakk0B0iBty3x/7JLsZjeQQIKI932efZKdOXPOzJ25O3fKnSOklCgoKCgoKCj8u1H90xlQUFBQUFBQuHWUDl1BQUFBQeEuQOnQFRQUFBQU7gKUDl1BQUFBQeEuQOnQFRQUFBQU7gKUDl1BQUFBQeEuQOnQFRQUFBQUqhAhxAIhRIYQ4nA58UIIMVsIcUoIcVAIEVEVdpUOXUFBQUFBoWr5Huhznfi+QAPT5zngy6owqnToCgoKCgoKVYiUchtw+Toig4AfpZE9gKcQIvBW7drdqgIFhWohP6fajzDUTXupWvXv+GZrteqv6Vz9t29+kb5a9e/Oza9W/SnF1Zt/gCkda1er/pzsomrV7x8eUq36AdasPFKt+gdfThO3rKQSvzmihufzGEfW15gnpZxXCWvBwAWz78mmME0ldFihdOgKCgoKCgqVOAbd1HlXpgO/LSgduoKCgoKCArfVr0kKUMvse4gp7JZQ1tAVFBQUFBSkrPjn1lkOPGba7d4eyJFS3tJ0OygjdAUFBQUFBZCGKlMlhFgEdAN8hBDJwNuAPYCU8itgNdAPOAXkA09WhV2lQ1dQUFBQUKhCV+JSyoduEC+Bl6vMoAmlQ1eoNoQQu6SUHW2Efw+slFL+eqs2Jk59jy3bduBd04uVvy6+KR2iQQtU/R8FlQpD3BbkthW25Zq2QT1iNLovJkPKGQgJRT34mZJ4w6b/Qx6Ns5m2ZnQ36k97B6FWo/l5Eec/n2up28GBe+Z8ilvLFmgvZ3H0uRcpvJCMnZcnTb+dh3urlqQtXsbJiZNt6nft2pXgt98CtZrLi5eQ+eWXVvpr/e9/ODdvhj4rm3MjR6JNTgY7O0JmzsS5WVOEnR1Zv/0fmV98YdOGR3Q36r43FaFWk7FwEalzvrCyUf/zT6nRojm6rCxOPv8SRReSS+IdgoNouW0TybM+QfPl1zZtdJs1nXoxPdHmF7D++ZFkHDhoJdNx6ps0GTEMR08P5vrVsYhreN8g2r/5BkhJ5qHDzH/4GYv4QZ/M5J6+vSjOL2DJ0y+RkphkEW/v7MxjS77HO7QeBr2eo6vWsnrSOwB0eO5JOr74DAa9geKrV/j1hdGk/3W8JK1d2044vfIGqFRoV/0fRQsXWOh2GPooDgPuA70emZ1F/oy3kOkaVPUb4TxmMqJGDTAYKPrpG7Sb1tm8Pk6dovB6401Qqbj6f8vIXfCNRbxj60i8xk/CvkEjLr4xhoLYUj21Eo+iPXkCAF2ahouvvGilXzRvg90jLyNUKvRbV6NfaXlPqaIHoO45CAwGKCpAt+ATZOo5RGgj7J4cY1Ii0P/+A4b4nTbLANB8+vv49+qBvqCAhJdfJefgISsZj5YtiJj7GWonJ9JjN3LIrO2HPvs09Z5+AmkwkL5+Q7l2KkUVduj/FEqHrlBt2OrMq5r7BvbnkWEP8saUqTenQAhUA59A/910yL2M+sX30P+VAJll9qc4OKHq0Ad5/lRpWHoy+i8mG3/c3DxRj/wA/bEE43dzVCoazHyfpAdHUJSqofX6VVxct578EydLRAIfHo4uJ4e97TrjN/heQqdM4uhzL2EoKuLszI+o0bgRNRo3tl0GlYrg997lzMOPoE1Lo/7y5eRuiKXoZGleaw4bij4nh+Ndu+ExcCCBEyZwfuRIPPv3Q+XgwMmYPggnJxpt2ED28uXGzr6MjXrT3+evoSMo1mhotnYlWetjKTArg9+I4eiysznQIQrvQfdSe/IkTj5f+mpgnXfeInvT5nKrom5MTzzrh/Jd8zYEtImk+2ezWNy1t5Xc36vWkfTVfJ44uM8i3DMslDbjRrOkR1+KsnNw9vWxiG/ctxe+DUKZ0TiC2u0iuX/ux8zu2NNK/5b/zeH0lu2o7e15PvZPGvfpybG1G0hY9Cu7530HQJMBfRk4axrz+z9Qcn2cXpvE1THPITPTcZ23CO2OLRjO/V2iV3/yGFeefQiKCnEYNBSnF1+jYOp4KCyk4IM3MSSfR3j74jp/Mdp9u+BKnlUdeE16i4znnkSfnk7Aol/J37IJ3d+nS0R0Gg2XJk/E/YmnrMoliwpJGzq43OuPUGH/2CsUfzgeLmdi/84XGBJ2I1PPlYgYdm/CsHmlMTutOmA34gW0syYik8+ifftFY9v3qInDtHkUJ+62vhcA/549cA0LZUNkB7wiI2j58Uy29epnJRc+ayYHRo8lKy6BDkt/wa9ndzI2bMKncycC+sawuUsPDMXFOPj40OCVqhjs/vs7dGVTnEK1IYS4YvorhBBzhBDHhRAbAL+qstGmdQQeHu43ryAkDHk5HbIyQa/HcHAP4p7WVmKqng9g2L4CdMWlgdri0h8sO/tyTbhHhFNw5iyF584jtVoyfv8Tnz6WHZVPn96kLVkGQOaKVXhFdQbAkF9Azt79GArLfxfZJTyc4rPnKL5wAanVkr1iBe69LPW79+pN1m+/AZCzejWunUzPWhJULs6gVqNyckJqizHk5ZU1gWurcArPnKXovLEMl/5YjleMpQ2vmN5kLjVOulxauQr3zp1K4/rEUHT+AgXHT5RbjrABfflr4RIA0vbH4ejhQY0Afyu5tP1xXE1Ltwpv/uSjJH39LUXZOQAUZF60iG86sB9xPxlHnOf3xuHk4YFbGf3aggJOb9kOgF6rJSXhIB7BQQAUmV0XhxouFiM69T3NMKScR2pSQKdDu3Et9p2jLXTrE/dDUSEAuqMHUfkabRuSz2FIPg+AvJSJzLqMytPLqnwOzVqgO38OfUoy6LTkr12FS3QPSxupKWhPHkfa6EhvhAhrjMxIgUwN6HUY9mxGFVHmmbzQ7NwAR6fSPrC4qPResHe4bt8Y0C+G84uXApAVl4C9uzuO/pY/CY7+fti5uZIVlwDA+cVLCexnPHit3lOPc/KzzzEUG+/F4ouW9XzTyEp87lCUDl3hdjAEaAQ0AR4Dqn3kXlGEe03IuVQakHsZ4VHmxzSoLnh4I48fsFYQEob6lZmoR83A8OcCmyMSx4BAilJKN7AWadJwDAwsIxNQIiP1enR5udjXtP5Rt4V9gD9aTWrJd61Gg32Zjso+wB9tqklGr0efl4fay4vs1asx5BfQZP8+7tm9i8x536DPybGy4RAYQHFqqY1ijQaHwIDyZUw27Gp6oXJxIWjkiyTP+uS65XANCiQvuXRm5EpKKq5BFT88y7NBfbzqhzFs42qGb1lHnV7dLeI9ggPJNtOfk5KKR3D5+p08PGgyoA8nN5UeENTxxWeYcDyRATPe4Y/Rb5SECx9/ZEbpQ4YhMx3hW/5zq0P/Iej27rAKV9/TDOztMaRcsI7z90efnlbyXZeejtrP+oGnPISDI/6LfsP/5yU4l3kQABBePshLmSXf5eVMhJePlZyqxyAcPvoJu2HPoft5Tmn60MbYf/AtDh/MR/f9JzbvBQDnwEAKUkrbUmGqBucy94NzYCAFqRqbMq5hoXh3aE+X2NV0XvE7nq3CK3YBbsTt3eVeLSgdusLtoAuwSEqpl1KmAptsCQkhnhNCxAkh4uYt+P62ZrBchEDd92EMaxbajk8+jX72G+i/nIKq673XHanfibiEt0Qa9Bxt246/Okfh++wzONSqdeOElSBk3Bg08+ZjyK/eU+FUdmo864exLOZeVj/+LL3mfoqTh8fN6VKreWThfHbM+ZrLZ0qnnHd9OZ8ZjVqxauJUek4ad1O67Xv1R92oKUWLvrcIF94+OL/5AQXT36qWTiO1TzTpD93PxTfG4jV+EnYhN1fPho1/UjzuUXRLv0E96JGScPn3MbSTnkY79SXUA0aAffXcC8LODgdPT7b16sfht9+lzYJ5ALd+Upw0VPxzh6KsoSvcMVicvnQbjn4FkLmXER7epQHuNZE5WaXfHZzAvxbqZ0wbclw9UD8yFv3PHxs3xl0jMxVZVAj+IZbhQFGaBkezkaBjYABFGk0ZmTQcgwMp0mgQajV2bu5oL2dREbRp6dgHBpV8tw8MRFtmSlqblo59UBDatDRQq1G7uaHPysJz0CDytmwFnQ79pUtcjY/HuUULii9YjhCLNWk4BJXacAgMpFiTZlOmWFNqQ3c5C9dWrfAe0I86UyahdncHg8RQVEj6gh9o+fzTNHvyUQDS4xNxCwku0ecaHMSV1Iq/mnslJRXN/gQMOh25586TdfI0PSaMoaFppH4hLgFPM/0ewUHkpNjW/8BXn5F58m+2z7btM+PAkt+4b+7HJd/lxXSE2WhZ5euPzMywSqdu3Q7Hx57l6qinQKstjXCpQY2Zcyn85nP0R603AgLo09NR+5fOitj5+6PPsF56KA99hjE/+pRkCuP2YX9PE3TJpfUssy4ivH1Lvouavsis8qezDXs2Y/f4q1bhMvU8FBUgQuohzxiXWOo9/SR1H3sYgKzEAzgHl7Ylp6BACsrcDwUaDc5mszPmMgWpqaSuXA1AdkLitZkAHyCTW+EOHnlXFGWErnA72AYME0KoTQ4Iom+U4LaR8jfCOwC8fI3ryC3aI4/Fl8YXFaD/4AX0s0ajnzUaLpwq7cy9fEFluoU8fRC+Qca1+DLkJSbhHFoPp9q1EPb2+A0ZxMV1sRYyF9fFEjDsQQB8B/Yna0f5O4TLkp+UhEO9utjXCkHY2+M5cCC5sZb6czfE4nX//QB49OvHlV27ANCmpOLa0bgCIpydcWnViqLTpynLlQNJOIXWxdFUBu/B95K13tJG1vpYfIcaN4l5D+hP7k5jGY4Ovp/ENh1JbNORtG++JWX2HNIX/ABA0tffsrB9Nxa278bpFau55+FhAAS0iaQ4N9fmWnl5nFqxmlpRxnV7J++aeDUIY/NHn/JJZBSfREZxZPkqIh8dDkDtdpEU5uaSZ0N/n3ffxMnDneVjJliE+9QPLfn/nv4xXDxptuHt2BHUIXUQgcFgZ4d9jz5od26xSK9q0Bjn198if+IryGwzvx12dtSY9inF61ag22p5Tc0pPnII+zp1UQeHgJ09Ln36U7DF5mSXFcLNvWTErPL0wjE8Au3pUxYy8u9jCP9g8AkAtR2q9tEYEndZ6vEvfSBStWyPTDctYfgElN4L3n6IwFrIzNIHvjPffsfmrj3Z3LUnmlVrqT18KABekRHocvMoSrd8+ClKz0CXdwWvSKNX0drDh5K22rhjX7NqLT6meq4RFopwsAeogoX0f/8iujJCV7gd/A50B44C54HdVaV4zITJ7IuPJys7my4xAxj1wrM8OGRQxRUYDBhWfI/6iTdAqDAkbIWMFFQ97kemnEEeSyg3qajTCFWXgWDQgzRgWP4d5F+xkpN6PScnTKHFkoUItQrNL0vIP36Cum+8Tt6BJC6tiyVt4WIaz/2Mdnt3oM3K5qjZ7vD2cbtRu7mhcrDHp28MSUNHWOyQR68n9a23CP3xR1CryVq6lKKTJ/Ef8xoFBw+Ru2EDl5cspdYn/6PR1i3os7M5P3IUAJd+/JGQWR/RMHY9CEHWsmUUHjtmXVi9nrOTptB40c/G19YWLaHg+AlCxo/l6oGDZK2PJeOXxdSf8ynhu7ejy87m5POV23l8Zm0sdWN68eThOHT5Bax/YVRJ3MN7trCwfTcAot5/m0bDHsDexYVnTh7i8Pc/sWfah5yL3USdHtE8Fr8LqdezbdLb5JvNcvy1ej2N+/RiwvFEtPn5LHmmNH+vxW3nk8goPIKD6DlpHOl/HWf0/m0A7PxiHvsW/ESnl56jQY+u6LU6CrKzWfyU2Wtfej0Fn35AjVlfgkqNdvUfGM6exvGpl9AfP4pu5xacXxyDcHbB5Z1ZABgy0sif+Ar20TGoW0Yg3D1w6HMvAPnTp2A4VfpK3DUblz94F78v54NazdU/fkN7+hQeL71C8dHDFGzZhEPT5vh8OgeVuzvOXaPRvziKtPsGYB8aRs233gGDBJUgd8E3FrvjjRkyoPvxc+zHz0QIFfpta5Ap51Df9wTyzHEMibtR9RyMqmkE6HVw9Qq6eTMBUDVshnrAQ8ZwKdH9MBuu5Nqs5/TYDfj36kGv+D3oCgpIHDm6JC566wY2dzW+eZA0bkLpa2sbNpG+YSMA5xYuIuLzT+i+cwuG4mISXnqFzn/+duu97F0wQhfyLiiEwl2I4m3thije1m6M4m3txije1ozIzPMV97bmW/vW1+yrAWWErqCgoKCgcAdPpVcUpUNXUFBQUFC4iXf37zSUDl1BQUFBQUEZoSsoKCgoKNwF3AX7yZQOXUFBQUFBQRmhKyhUD9W9Ax3A7k3bXsWqCvv5zapVv5ubQ7XqB8gprN5d6IXVPCqKcK3+a6R2dapW/aknKnbA0M3ic7WwWvUDNPRyqXYbt4wyQldQUFBQULgLuIOPdK0oSoeuoKCgoKDw7x+gKx26goKCgoKCMuWuoKCgoKBwV6B06AoKCgoKCv9+7oIRuuJt7T+GEKKuEOLwLeroJoToeAOZF4QQj1WFfdGgBerRH6Ee8zGiy8Dy5Zq2wW7aQgiuZwwICUU98oOSj2gSWRmzJUyc+h4duscw4IHhN5UewDO6GxE7txCxZzvBo6x38AsHBxrN+4KIPdtpsWY5jrWM52u7tgqn5ca1tNy4lvBN66jZt49N/c6doghesZaQ1bF4PP2cVbxT60iClv5O3QNHcekVY22/Rg1qbdiG96S3bOr3iu5G651bidyzg5BR1k5XhIMDjed9QeSeHbRcs6Ik/55doghfv5qILRsIX78aj87XbTb0+ng6LxyO4+l92/EPb2FTpsvUN3n55CHGZp63CHevFcyItX/y5O4tPL1vO2ExPa9rq/XMaQxM2EvfnVvwatncpkyLyRMZdDiRB5PP2Iw3R926PS7zluEy/zfsH7Rq+tgPGYHLV4txnrsQpw/mIvxKXaEKX3+c3p+Ny1dLcPlqMcIv0Co9gEd0N1ru2EL47u0EjbTdjhp8/QXhu7fTbHVpO7qGQ3AQbU4fI/DF523qV4W3w2n2IpzmLMFuyCNW8XYDh+H06c84/e8HHN/+DOFb6jLW/pEXcfrkJ5w++Ql1xx429ZelRpcuhMVuoP6mTXg//4JVvEubNtT7czn3HD+BW5++FdJ500hZ8c8ditKhK9wM3YDr/jJLKb+SUv54y5aEQDXwCfQ/fIj+s/GoWnQA32BrOQcnVB36IM+buYRMT0b/xWT0cyah/+FDVIOeKnXxWAnuG9if+XM/u/kyqFSEznifIyMeIzGqO75DBuHcsIGFiP+I4eiys0loH0Xq1/OpO2USAPnHjpHUuz9JPfpwZPijhM2aDmq1lX7vyW+T/uKzJN/bjxr9jN61zNFpNGROnsCV1SttZtFr1GgK4/eXm/+wGe9zZMSjxEdF4ztkEC5l8h8wYji67Bzi2ncm9etvqGfKv/byZY4++iQJ3Xpy4pXXaDRndrmXKSymJ15hYXzVLJI1I1+jz+yPbcqdWr2O76OsO+uOb7zOX7/9wXcduvHHY8/Q+7NZ5doK6tUDt9BQVkS0Y9+rY2nz8Yc25VLWrmddD+sHICtUKhxfGk/BW6+S/8Iw7LrGIGrVsxAxnD5O/quPU/Dyw+h2bMLhqVJvck5jp6L97WfyXxhG/ugnkTmXy1oAlYp609/n2IjHSOrSHW8b7cjP1I4OdIhC8/V8ak+eZBFf5523yN60udwyODw7lqJpYykc/TB2nXsiQupaluHMSQrHP03hmMfR79mM/aPGhztVRAdUoY0oHPsEhROexW7QQ+B8g1fVVCoCp77D+aee5FRMDB4DB+JQv76FiDY1ldTx48lZsfz6uqoCaaj45w5F6dD/m6iFEN8IIY4IIdYLIZyFEOFCiD1CiINCiN+FEF4AQohXhBBHTeGLhRB1gReA14QQB4QQUbYMCCGmCiFeN/3fWgiRJIRIAirnUzMkDHk53ehnXK/HcHAP4p7WVmKqng9g2L4CdMWlgdri0vOZ7ewrZdacNq0j8PBwv+n0bhHhFJ45S9G580itlsw/llOzT28LmZp9epOx9FcALq5YhUdno79nQ0Eh6I0ew1ROjjZHB47NW6A9fw5d8gXQabm6ZhUu3S07PF1qCtoTx22eV+3QpClqbx8Kdu24bv4LS/L/p1X+vfv0Jn3pMgAyV6zCs3NnAK4ePkJxutHneP6x46icnBAOtt8NbzCgH4d/WQxA6r44HD3cqRHgbyWXui/Otp90KXF0dwPAycOdK5o0axkTwf36cmbxUgAuxcXj4OGBk7+fldyluHgKy/jqtoWqYVMMqcnItFTQ6dBtW49dhy4WMvqD8VBk9JxmOHYIlY/RnqhVD9Rq9In7jIKFBSVy5ri2MrWj88Z6uPTHcrxiLOvBK6Y3maZ2dGnlKtxN7QjAq08MRecvUHD8hO0y1L8HmZaMTDeVYcdG1G0sb2/D4QQoNuZNf+IIwtvXmLZWPfRHDxhdCRcVIs+dQt2q/XWvmXPLlhSfO4f2wgXQaslZuRK3nr0sZLQpKRQdP3Z7zllXOnSFfykNgLlSyqZANnA/8CPwhpSyBXAIeNskOwFoZQp/QUp5FvgK+ERKGS6l3F4Be98Bo6SULSubUeFeE3IulQbkXkZ4eFkKBdUFD2/k8QPWCkLCUL8yE/WoGRj+XPCPOGBwCAigODW15HtxqgbHgABLmcAAilJMMno9urw87Goay+kaEU6rrRtotSWW0+MmlXTw11D7+aNPK+289Olp2PlZd4Q2EYKa4yZwedaMckUcAwIpStWY5T8NxwDLKWFj/jVm+c8tyf81fAb058qhQ8jiYmzhFhRIbnJKyfe8lFTcgmxPPdti+7SZNB0+lJdPHebB35cQO+aNcmVdAgPITymtk/zUVFwCK26rLMLbF3mx9CFDXswo6exsYRdzL7q43QCoQmojr17B6c2ZOH/+k3HkbmMmySGwTDvSaHAItG5HJTJ6PXpTO1K5uBA08kWSZ31Sfhlq+iIvlj68yMs3KEOPgegT9gBgOHsKdat24OAIbh6omkUgvK0fkCzS+weg1ZS2K12aBnv/Crbb6kCZclf4l3JGSnnA9H88EAZ4SimvOfD+Abg2vDgILBRCPALoKmtICOFp0r3NFPTTdWSfE0LECSHivkk8VZ5Y2USo+z6MYc1C2/HJp9HPfgP9l1NQdb33lkbq/xRXEg6Q2LUnSTEDCHn1ZYSjY5Xpdhv+MAXbtqJPtzHirUJcGjWk7pSJnHp9QrXZaDL0fg79vIi59ZuxbMgwBn77FYg7z221XXQf1A3uQfur6VZQqVE3Dafo288oePUJVIHB2PUcUKU2Q8aNQTNvPob8qjn5T92lN6qwxuj+/AUAQ9I+9Am7cfrgaxxfewfD8SP/Pu9lBkPFP3coyi73/ybm83l6wPM6sv0xdu4DgTeFELZ3D1UBUsp5wDwA3ZsPSwCZexnh4V0q5F4TmWN2FKaDE/jXQv3MZON3Vw/Uj4xF//PHkGK2kSkzFVlUCP4hluG3geK0NByCgkqzHBRIUZrldHCxJg3H4CCKNWmgVmPn5obusuWRnwUnT6G/epUajRtxJelgSbg+Ix212Yhf7R+ALqNiHbRTy3CcWkfiNnwEKpcaCHt7DPn5ZH1auv5clKbB0Wyk7BAUQFGaxkKPMf+BFGs0pvy7l+TfITCQe76bz4mRoyk8d84iXcTzTxP+pHEDmSY+EfeQ0v0RbsFB5KVa2rkeLR9/hCWDHgQgZe9+1E6OOHp7U3TxIgANnnmK+o8bN3pdSkjEJbi0TlyCgsjXVNxWWeSlTIRP6ehS+PghL2VayanD2+Aw7EkK3ngBdFpj2osZGP4+YZyuB3S7t6Jq3AzWW6Yt1pRpR4GBxvZiQ+ZaO1Kb2pFrq1Z4D+hHnSmTULu7g0FiKCokfcEPpWW4nInwKR1Vi5q2y6BqEYn9/Y9TOOXlkjIA6H77Ed1vxm0zDqPfxqC5cN1rpktPw95sVsQuIBBtNT9YXpc7eORdUZQRugJADpBlth7+KLBVCKECakkpNwNvAB6AK5AHuFVEsZQyG8gWQnQ2BT1cqZyl/I3wDgAvX1CrUbVojzwWXxpfVID+gxfQzxqNftZouHCqtDP38i2duvT0QfgGGdfibzN5iUk4h9bFsXYthL09voPv5fK6WAuZy+ti8Rv6AAA+A/uTs2MnAI61a5VsgnMMCcalfn0KL1j+UBYdPoR97brYBYeAnT01+vYnf/PGCuUtc8LrXOjVjeSY7lyeNYMry/+w6Myv5d8ptJ5Z/gdZ5f/Sulj8hxo7U9+B/ck25V/t7k7ThT9w9v3p5O6Ps7Kf8PW3LGjflQXtu3JixSqajTC+SRDUNpKi3Fzba+XlkHshmbrdjBNL3o0aYufkWNKZA5ycv4A1Ud1ZE9Wd5FVrqDd8qFE2sjXa3NwKrZWXh+HEUVRBtRD+QWBnh12X3uj3WK5GqUIb4jhqIgXvvm7xUGo4eRRquIG7JwDqlpHI89YPnVcOJOFk1o68B99L1nrLeshaH4uvqR15D+hP7k5jPRwdfD+JbTqS2KYjad98S8rsORadOYDh1DFEYIhxh72dHXade6CPs9xXIeo1wOH58RTNeANys80KpwJX4z4TUScMVZ36GA7su+41Kzh4EIe6dbEPCQF7ezwGDODKxg3XTVOtVOEauhCijxDiuBDilBDCalpKCFFbCLFZCJFo2p/UryqKoIzQFa7xOPCVEMIF+Bt4ElADPwshPAABzJZSZgshVgC/CiEGYVwbv9E6+pPAAiGExGrccQMMBgwrvkf9xBsgVBgStkJGCqoe9yNTziCPJZSbVNRphKrLQONGHWnAsPw7yL9SKfMAYyZMZl98PFnZ2XSJGcCoF57lwSGDKq5Ar+fviVNouvhnUKvJWLSEguMnqD1+LFeSDnJ5XSzpvyym4ZxPidizHV12NsefN+4ddG/bhpBRL2HQ6cBg4PSEN61G7uj1XPrgXQK+/hbUavJ+/xXt6VN4vvwKxUcOk79lEw7NmuP/6VxU7u64dItG//IrpAzuX+H8n544hWaLFyLUKtIXLSH/+AnqjH+dvKQkLq+LJe2XxTSa8xmRe3agy87m2PPGV6qCnn4C53p1qT12NLXHjgbg8LARaC9esjJzem0sYTG9eOFIPNr8AlY9P7Ik7qk9W1nQvisA0dOm0mTYA9i7uPDyqcMkffcTO6bNZOOEKfT74lPajHoRpGTVsyOtbFwjdf0Ggnr1ZGDiPvT5+ex5+dWSuL7bN7EmqjsA4e+8Rd0H7sPOxZnBRw5w+qeFHJrxkbVCg56iLz/C+f3ZoFKhXb8Cw/m/cXjkOfQn/0K/dzsOT78CTs44TZwOgMxMo/Dd18FgoPjbz3CePheEwHDyGNq1f9ish7OTptB40c8Is3YUMn4sVw8cJGt9LBm/LKb+nE8J321sRyefr8QeVIOe4vmf4Djlf6BSo9u0EnnhDPbDn8Fw6hj6uB04PPYywskZx7HvG5NcTKd4xhugtsPpfaOzI1mQT9Fn7xrvu+uh15P2zlRqf/8DQqUi+9dlFJ08ie/o0RQcOsSVjRtxat6CWl9+idrDA9fuPfB99VX+LufVzVvmRvmtIEIINTAX6AUkA/uFEMullEfNxCYDS6WUXwohmgCrgbq3bFveBdMMCncf16bcq5Pq9ra2s171elsL8nWuVv0AyZnV621tR2716q/jWP1jlns71q1W/YcTbn4poCK06FS7WvUDnD1QvWVocvrvW94sYTi2u8K/OarGHcq1J4ToAEyVUsaYvk8EkFJON5P5GvhbSjnTJP+xlPL6hzRUAGWErqCgoKCgUInNbkKI5wDzE5zmmfYAAQQD5utiyUC7MiqmAuuFEKOAGsD1T0GqIEqHrnBLCCHeBB4sE7xMSjntn8iPgoKCwk1RiffLzTfw3iQPAd9LKT82jdB/EkI0k/LWXnJXOnSFW8LUcSudt4KCwr+bqlt+TgFqmX0PMYWZ8zTQx2hW7hZCOAE+wM3vzETZ5a6goKCgoGDcFFfRz/XZDzQQQtQTQjgAw4GyZ9eeB3oACCHuAZyAW34FRxmhKygoKCgoVNGRrlJKnRBiJLAO45tCC6SUR4QQ7wJxUsrlwFjgGyHEaxj9tj4hq2CHurLLXeGOZItfSLU3TPtqPkWs05lbcmp3Q/aFVdsZPyXk66v3VKzqroMsXaUPN7zj8LGv3nHXlWquY4DCaj5dbcAlza3vck/cUPFd7q163nlHEKKM0BUUFBQUFO5opysVRenQFRQUFBQU7oLZaqVDV1BQUFBQUEboCgoKCgoKdwFVdPTrP4nSoSsoKCgoKBj+/VPuynvo/xGEENf1SiKE8BRCvGT2PUgI8avp//Cb8QYkhJgqhHi98rm1pGZ0N9ru2kq7vTuoPcra2YRwcKDJvC9ot3cHEWtW4FQrBAA7L09a/t9Sos4cp8H098vV7xndjYidW4jYs53gUS9ZxQsHBxrN+4KIPdtpsWY5jib9rq3CablxLS03riV80zpq3qTTiIlT36ND9xgGPDD8ptIDeER3pfn2zbTYtY3AkbbLEPbVXFrs2kaTVX/iEGIsg0NICJF/n6Bp7Bqaxq6h7swPbOqv7jqA21MPTae/R/T+XXTZthH3FrbfEvBo2YIu2zcRvX8XTae/ZxUf+tLzDLikwb5mzdtuwyO6Gy13bCF893aCyqnnBl9/Qfju7TRbXXqNruEQHESb08cIfPF5m/kCaPjBu3Tct4N2W2Jxa2HbH4Fbi+a037qBjvt20PCDd0vC/e4dQPvtm+iRfgG3li3KtXE76qHSVKG3tX8KpUNXuIYnUPILIaVMlVI+YPoaDlSJe79Ko1LRYOb7HHzoUfZ1jsbvvkG4NGxgIRL48HB0OTnsbdeZ5K+/IXTKJAAMRUWcnfkRp6da/xiY6w+d8T5HRjxGYlR3fIcMwrmMfv8Rw9FlZ5PQPorUr+dT16Q//9gxknr3J6lHH44Mf5SwWdNLXJ1WhvsG9mf+3M8qnc68DHU+eJ8TDz/Ooa498B58L05lyuD70DD0OTkc7NiFtHnzqTV5Yklc4blzHOnVlyO9+nL2jUk29VdrHZhsVHc9+PXsTo3QUDa36cjBMeNoPmuGzaw0nzWDg6+9zuY2HakRGopvj+4lcU5BQfhEdyP/QrLNtNVqQ6Wi3vT3OTbiMZK6dMfbxjXyM12jAx2i0Hw9n9qTLeuzzjtvkb1ps808AXj37I5LaD12te3MX2PfoPGH023KNf5oOkfHjGdX2864hNbDu0c0AFf+OsbBJ54le/eecm3cjnq4KZQOXeHfhhDCVQixUQiRIIQ4ZHKBCjADCBNCHBBCfCSEqCuEOGw66ehdYJgpbljZkbdJrq7p/zeFECeEEDuARmYyYUKItUKIeCHEdiFE44rk1z0inIIzZyk8dx6p1ZLx+5/49OltIePTpzdpS5YBkLliFV5RRtfrhvwCcvbux1BYVK5+t4hwCs+cpcikP/OP5dQso79mn95kLP0VgIsrVuHRuZNRf0Eh6I3rbionx5veJdumdQQeHu43lRaMI9Sis2cpOm8sw6U/V+AVY1kGrz69uWgqw+WVq3GP6lRh/dVdB3B76sG/bx+STXnMjkvA3sMdR38/CxlHfz/s3NzIjjO65U1esoyAfqUj/qbT3uGvqe/9IzZcW5mu0bV6/mO5dT3H9CbTdI0urVyFe+fSevbqE0PR+QsUHD9hM+8Avn1i0Cwxps+NT8DOwwOHMvl3MOU/N96Yf82SX/E1zYrknzxF/unT5eqv7mt0K0gpK/y5U1E69P8ehcAQKWUEEA18LIQQwATgtJQyXEo57pqwlLIYeAtYYopbUp5iIURrjMcchmMc0bcxi56H0Xd6a+B1oEK+Sx0DAilKKXW9WKRJwzEwsIxMQImM1OvR5eViX9OrIupxCAigODW15HtxqgbHgABLmcAAilJMMno9urw87Ez6XSPCabV1A622xHJ63KSSjuV2Yh9glj+gWKPBIcDfWia1tAz63NIyONauRdP1q2n8f0txbdfWSn911wHcnnpwCgygwOw6FaZqcCpTDqfAQApSy8oY8+HfN4ZCTRp5R45SHtVpwyGwzDXSaHAItL5Gxeb1bLpGKhcXgka+SPKsT8rNO4BjYACFZjaKbNSDY0AAhanm7UGDY5l8XI/bUQ83RdUd/fqPoWyK++8hgA+EEF0AA0ZXf/7XT1JhooDfpZT5AEKI5aa/rkBHYJkoPRnM0SpjZi4Jx7h6MtC5RhVlq/q4knCAxK49cW5Qnwaff0LWps3IouuPRu8ktBkZJEW2R5eVjUuL5jRY8A2HuvXEcOW6Wy7uOKq7HlTOztR/7RX23n/z+xz+SRsh48agmTcfQ371+p+vbqq1Hu7gqfSKonTo/z0eBnyB1lJKrRDiLEbHAJVBh+Xszo3Sq4BsKWX49YTMXRJeO/q1KE2DY3Dp07tjYABFGo1FuqK0NByDAynSaBBqNXZu7mgvZ1WoIMVpaTgEBZV8dwgKpCgtzVJGk4ZjcBDFmjRQq7Fzc0NXRn/ByVPor16lRuNGXEk6WCHbVYU2zZi/azgEBlKclm4tExSE1lQGtXtpGXTFxQDkHzxE0blzOIeFctWsDNVdB1B99VDn6Seo/ejDAOQkJuEcHMS1FE5BgRSWKUehRoOzWT6MMmnUqFsHl9q16bJtY0l4l83r2dGrLwED+1erjaN9B6LNzKRYU+YaBQYar0WZa+QQVHqN1KZr5NqqFd4D+lFnyiTU7u5gkBiKCklf8AMhTz1OsCn/uYkHcAoKIsekz9FGPRSlpeEUZN4eAikqk4+yVHc9AAHA9TNxI5Rd7gr/QjyADFNnHg3UMYXnAW7lpCkbdxaIABBCRAD1TOHbgMFCCGchhBswEEBKmQucEUI8aEojhBAtK5LZvMQknEPr4VS7FsLeHr8hg7i4LtZC5uK6WAKGGV2y+w7sT9aOnRVRbaa/Lo4m/b6D7+VyGf2X18XiN9S4P9BnYH9yTPoda9cq2XzlGBKMS/36FF64UGHbVcWVA0k41quHQy1jGbwHDSS7TBmy1sXiYypDzQH9yN2xCwA775qgMv4MONaujVO9ehSeO2eRtrrroNRG1dfDuW+/Z3u3Xmzv1ou01WsIMeXRMzICXW4eRemW3iqL0jPQ5eXhGRkBQMiwB0lfs5a8v44R27g5m1q1ZVOrthSmatgW3ZuijMxqt6HNNDrhunIgCSeza+Q9+F6y1pep5/Wx+JqukfeA/uTuNF6jo4PvJ7FNRxLbdCTtm29JmT2H9AU/AJC84Af2Rvdmb3RvMtasI3CYMb176wh0ubkUl8l/sSn/7q2N+Q8c9gCZa9ddt36r+xpxq5053BWb4pQR+n+PhcAKIcQhIA44BiClvCSE2CmEOAysAeaapdkMTBBCHACmA78BjwkhjgB7gRMmHQlCiCVAEka/vvvNdDwMfCmEmAzYA4tNctdF6vWcnDCFFksWItQqNL8sIf/4Ceq+8Tp5B5K4tC6WtIWLaTz3M9rt3YE2K5ujz5e+ztM+bjdqNzdUDvb49I0haegI8k+cLDWg1/P3xCk0XfwzqNVkLFpCwfET1B4/litJB7m8Lpb0XxbTcM6nROzZji47m+PPG1/bcm/bhpBRL2HQ6cBg4PSEN61GjBVhzITJ7IuPJys7my4xAxj1wrM8OGTQjROaleHcpCk0XvQTqNVkLl5CwYkTBI8bw9WkQ2SvjyVz0RLCPv+UFru2ocvO5vQLIwFwa9+O4HFjkVotSANn35iEPjvHQn2118FtqoeM2I349epBdNxu9AUFJI16rSQuakss27v1AuDQuIm0nPMpaicnMjduImPDpgpXRbXa0Os5O2kKjRf9jDC7RiHjx3L1wEGy1seS8cti6s/5lPDdxmt08nnrVwyvx6XYjfj07E7HfTsxFBRw5JUxJXHtNq9nr7Hz5Nj4STT9/BNUTk5c2rSZS6b8+/brQ6Pp7+PgXZPwX37kypEjJA59+PZdo1vhDt7sVlEUb2sKdySKt7Ubo3hbuzGKt7Ubo3hbM6Lf+FOFf3PUPR5VvK0pKCgoKCjckfwDb6hUNUqHrqCgoKCgcBfMVisduoKCgoKCwh282a2iKB26goKCgoKCMkJXUFBQUFC4C6jmjXu3A6VDV7gjqelc/U3Tzc2hWvVX9y70tqcPVat+gD9CGt1Y6BbIr+Yf0VAnqwMJqxyvam5HBy5W76l9HWp5Vqt+gOycf8HpicoIXUFBQUFB4S5A2eWuoKCgoKBwF6BsilNQUFBQULgLUKbcFRQUFBQU7gLughG64pzlLkAIUeW7ZoQQ9wohJpj+HyyEaHITOrYIISJvNS+uXbvSaNNGGm3dgu+LL1rbcXCg9pw5NNq6hfp//IF9SIgxws6OkI8/psG6tTTcuAHfl16ySgvg3CmK4BVrCVkdi8fTz1nFO7WOJGjp79Q9cBSXXjHW9mvUoNaGbXhPeqvcMnhEd6X59s202LWNwJHW+RAODoR9NZcWu7bRZNWfOJjK4BASQuTfJ2gau4amsWuoO/ODcm2Ux8Sp79GhewwDHrh1l5PNp79Pz7jdRG/fhEcL25v+PFq2IHrHZnrG7ab59Pct4kKffZoee7bTfddWmk6dcl1brWdOY2DCXvru3IJXS9u2WkyeyKDDiTyYfOaGefeI7kbLHVsI372doHLqoMHXXxC+ezvNVi/HsVaIRbxDcBBtTh8j8MXnbep3iepCvXWx1NuwiZrPWcs4t2lDnT/+pOFfx3Ht08ciLuTb76gfn0jwvG9uWI5WM6bRL34PMTs241VOHXi1bEHMzi30i99DqxnTSsI9mzWhx7pVxOzcQudFP2Hn5mqRzqlTFIHL1xK4cj3uTz1rpdexdSQBS/6PWglHcC5zL9RKPErA0j8IWPoHPrO/LDf/1X0/3zQGWfHPHYrSoSvYREq5XEo5w/R1MFDpDr1KUKkIfu9dzjz+BCd69sLz3ntxbFDfQqTmsKHoc3I43rUbmd9+S+CECQB49u+HysGBkzF9ONl/AN4jRpT+OJjp9578NukvPkvyvf2o0W8A9qFhFiI6jYbMyRO4snqlzSx6jRpNYfx+m3HXbNT54H1OPPw4h7r2wHvwvTg1bGAh4vvQMPQ5ORzs2IW0efOpNXliSVzhuXMc6dWXI736cvaNSTe6YlbcN7A/8+d+Vul0ZfHv2QPXsFA2RHbgwGuv0/LjmTblwmfN5MDosWyI7IBrWCh+PbsD4NO5EwF9Y9jcpQebOnbl5Jzyf/SDevXALTSUFRHt2PfqWNp8/KFNuZS161nXw/ohywqVinrT3+fYiMdI6tId7yGDcC5TB34jhqPLzuZAhyg0X8+n9mTLa13nnbfI3rS5XP3+U6eS/MxTnOkbg9uAgTjUt2yn2tRU0t4YT+6KFVbJL8//Bs24sTcsRmCvHriF1WN16/bEjX6d1uVcl9Yff0jcq2NZ3bo9bmH1CDDVQZvP/sfBd95nXadupKxcTeNRZs5bVCq8Jr1FxovPoBncH5e+A7CzcS9cmjyR/DXW94IsKiRt6GDShg7m4ivWHfU1G9V6P98KBn3FPzdACNFHCHFcCHHq2sDIhsxQIcRRIcQRIcQvVVEEpUO/izC5Jf1ICHFYCHFICDHMFN7NNFr+VQhxTAixUAijVwwhRD9TWLwQYrYQYqUp/AkhxBwhREfgXuAjIcQBIUSY+chbCOFj8qmOyW3qYiHEX0KI3wFns7z1FkLsFkIkCCGWCSEshwbl4BIeTvHZcxRfuIDUaslesQL3Xr0tZNx79Sbrt98AyFm9GtdOHY0RElQuzqBWo3JyQmqLMeTlWaR1bN4C7flz6JIvgE7L1TWrcOne00JGl5qC9sRxm++pOjRpitrbh4JdO8otg2urcIrOnqXo/HmkVsulP1fgFWNZBq8+vbm49FcALq9cjXtUp4pcngrRpnUEHh7ut6wnoF8M5xcvBSArLgF7d3cc/f0sZBz9/bBzcyUrLgGA84uXEtjPOBqt99TjnPzscwwm/+vFFy+Wayu4X1/OmGxdiovHwcMDpzK2rsUVlnG9aQvXVuEUnjGrgz+WW9dBTG8yTXVwaeUq3DuX1oFXnxiKzl+g4PgJm/qdWrREe+4c2gsXQKslb9VKXHuUaUcpKRQdP25zajd/9y4MV67esBzB/fpwdvEyYx7j4rH3cLe6Lk7+fti7uXIpLh6As4uXEdK/r/E61A8jc9duANK2bCVkYP+SdA7NWqA7fw59SjLotOSvXYVLdA8L3frUFLQnjyNv8nXD6r6fb4kqGqELIdQYvVX2xTgQeqjsDKcQogEwEegkpWwKjK6KIigd+t3FfUA40BLoibETDjTFtcLYaJoAoUAnIYQT8DXQV0rZGvAtq1BKuQtYDoyTUoZLKU9fx/6LQL6U8h7gbaA1GDt9YDLQU0oZgdFt65hytZhhH+CPVpNa8l2r0WAf4G8tk2qS0evR5+Wh9vIie/VqDPkFNNm/j3t27yJz3jfocyxdg6r9/NGnlbpS1qenYednqb9chKDmuAlcnjXjumL2AQEUpZSWoVijwcGqDAEUmZchNw+7ml6A0d930/Wrafx/S3Ft17ZieasGnAMDKTArR2GqBufAQGuZVI1NGdewULw7tKdL7Go6r/gdz1bh5dpyCQwg38xWfmoqLmVsVQaHwACKU8vUQWBA+TKmdmRX0wuViwtBI18kedYn5eq3C/BHqyktty4tDTv/CrajSuAcGEh+SkrJ94Jy6iDfrA7yU1NLZHKPHSe4n7FzrzVoIC7BwSVyan9/9Oml94IuPR11Re8FQDg44r/oN/x/XoJzmQeBa1T3/XxLVJ0/9LbAKSnl31LKYoyuosv6Q34WmCulzAKQUt74qbQCKJvi7i46A4uklHogXQixFWgD5AL7pJTJACa/5nWBK8DfUsprC5CLAOtF5IrTBZgNIKU8KIQ4aApvj/FBYqdpYsAB2F02sRDiuWv2p9SsyQOubreQFXAJb4k06Dnath1qDw/qL1vKlR07KL5w4Zb0XsNt+MMUbNuKPj29SvTZQpuRQVJke3RZ2bi0aE6DBd9wqFtPDFeq97CR6kDY2eHg6cm2Xv3wjGhFmwXz+LPlLW+xqHZCxo1BM28+hvz8fzort8y+kaOJmDGNJuNeI3XNOgza4irTndonGn1GBurgEPzn/4D25AnjzFcVUd33c2V2uZv/VpmYJ6WcZ/o/GDDPVDLQroyKhiY9OwE1MFVKubayWS6L0qH/dzA/qknPrdW9jtLZHacKyAsgVkr50PWETDfEPICDdepKAG1aOvaBQSUy9oGBaNMsO1BtWjr2QUFo09JArUbt5oY+KwvPQYPI27IVdDr0ly5xNT4e5xYtLH4A9BnpqANKR2pq/wB0GRXroJ1ahuPUOhK34SNQudRA2NtjyM8n69NZZfKXhmNwaRkcAgMptipDGo5BQWg1pjK4u6G7nAWAzjRFnX/wEEXnzuEcFsrVpIPcDuo9/SR1H3sYgKzEAziblcMpKJACs1EpQIFGg3NQoE2ZgtRUUleuBiA7IREMBhy9vSm6dAmABs88Rf3HHwHgUkIiLma2XIKCyC9jqzIUa9JwCCpTB5o0mzLFmtJ2pLuchWurVngP6EedKZNQu7uDQWIoKiR9wQ8laXVp6dibjZTtAgLQVdGDXv1nniT0MeN1uZxwwGJU7VxOHbiY1YFLUFCJTN7JU2y9fxhgnDEJ7N2rRE6fno7av/ResPP3R1/BewFAn2EcZOpTkimM24f9PU2sOvTqvp9viUrscjf/rbpJ7IAGQDcgBNgmhGgupcy+BZ3KlPtdxnZgmBBCLYTwxThi3ncd+eNAqBCirun7sHLk8gDz4fJZTNPpwANm4duAEQBCiGZAC1P4HoxT/PVNcTWEEA0rUqD8pCQc6tXFvlYIwt4ez4EDyY2NtZDJ3RCL1/33A+DRrx9Xdu0CQJuSimtH4/qbcHbGpVUrik5brhgUHT6Efe262AWHgJ09Nfr2J3/zxopkjcwJr3OhVzeSY7pzedYMriz/w6ozB7hyIAnHevVwqFULYW+P96CBZK+zLEPWulh8hhovZc0B/cjdYSyDnXdNUBlvU8fatXGqV4/Cc+cqlL+q4My337G5a082d+2JZtVaag8fCoBXZAS63DyKyqxfF6VnoMu7gldkBAC1hw8lbfU6ADSr1uJj2htQIywU4WBf0pkDnJy/gDVR3VkT1Z3kVWuoZ7LlHdkabW5uhdbKy+PKgSScQuviWNtUB4PvJWt9mTpYH4uvqQ68B/Qnd+dOAI4Ovp/ENh1JbNORtG++JWX2HIvOHKDw0EHs69Y1btKyt8et/wCubKxYO7oRp+Z/x/ouPVjfpQcpq9dQd/iDxjxGtkabm2d1XQrTM9DmXcE70niL1h3+ICmrjYM/Rx8fo5AQNH39NU5/V1qO4iOHsK9TF7XpXnDp05+CLZsqlEfh5g729gCoPL1wDI9Ae/qUlVx138+3RNXtck8Bapl9DzGFmZMMLJdSak0zpCcwdvC3hDJCv7v4HegAJAESGC+lTBNCNLYlLKUsEEK8BKwVQlwFytuqvRj4RgjxCsYOfBaw1DTttMpM7kvgOyHEX8BfQLzJTqYQ4glgkRDi2uHakzE24uuj15P61luE/vgjqNVkLV1K0cmT+I95jYKDh8jdsIHLS5ZS65P/0WjrFvTZ2ZwfOQqASz/+SMisj2gYux6EIGvZMgqPHbPSf+mDdwn4+ltQq8n7/Ve0p0/h+fIrFB85TP6WTTg0a47/p3NRubvj0i0a/cuvkDK4v43Mll+Gc5Om0HjRT6BWk7l4CQUnThA8bgxXkw6RvT6WzEVLCPv8U1rs2oYuO5vTL4wEwK19O4LHjUVqtSANnH1jEvrsyq0bjpkwmX3x8WRlZ9MlZgCjXniWB4eUXdK7MemxG/Dv1YNe8XvQFRSQOHJ0SVz01g1s7mrcBJY0bgIRcz9D7eRE+oZNpG8wdmznFi4i4vNP6L5zC4biYhJeeqVcW6nrNxDUqycDE/ehz89nz8uvlsT13b6JNVHGXdvh77xF3Qfuw87FmcFHDnD6p4UcmvGRtUK9nrOTptB40c8ItZqMRUsoOH6CkPFjuXrgIFnrY8n4ZTH153xK+O7t6LKzOfn8y9Z6ykOvJ+OddwhZ8D2oVeT8+ivFp07i/epoCg8d4uqmjTg1b07QF1+idvfANbo7ulde5ey19exfFuMQForKpQah23eQNnEi+Tu2W5nRrN9AYK8e9E/Yi66ggH1m16X3to2s72Jcu45//Q3afTEbtZMTmg0b0cQa66D2/UNo8MyTACSvXM2ZhYsIuHaWu17P5Q/exe/L+aBWc/WP39CePoXHS69QfPQwBVs24dC0OT6fzkHl7o5z12j0L44i7T7jmyE133rH2NmpBLkLvkH3t43Otrrv51uhArvXK8h+oIEQoh7Gjnw4poGOGX8AD2H8vfTBOAX/960aFvIuOB1H4eYRQrhKKa+Ydr3PBU5KKcvf/XObuDblXp1Ut3OWzEuF1apfcc5yYxTnLDfmbnDO0uLcWXGrOvTfvVPh3xz1k29f154Qoh/wKcb18QVSymlCiHeBOCnlctPv7cdAH4xLoNOklItvOvMmlBG6wrNCiMcxblRLxLjrXUFBQeG/RRUObqWUq4HVZcLeMvtfYnzTp0Jv+1QUpUP/j2Majf/jI3IFBQWFf5S74OhXpUNXUFBQUFC4C5aflQ5dQUFBQUGhmvdz3A6UDl1BQUFBQaHqdrn/YygdusIdSX5R9d9cOYXVe/KXvppn8Kp7BzrA4OTj1ap/XZ17qlV/jr7621F+TvW+zRDiUL276C+kV/8JeAX/htHvHexFraIoHbqCgoKCgoKyKU5BQUFBQeEuQNkUp6CgoKCgcBegdOgKCgoKCgp3Abdhv0V1o3ToCgoKCgoKd8EIXfG2pnDLCCHeFUL0rC79HtHdaLljC+G7txM08iVr+w4ONPj6C8J3b6fZ6uU41gqxiHcIDqLN6WMEvvi8Tf1e0d1ovXMrkXt2EDLK2iGHcHCg8bwviNyzg5ZrVpTo9+wSRfj61URs2UD4+tV4dO5YbhlqRnej7a6ttNu7g9rl2Ggy7wva7d1BxJoVOJls2Hl50vL/lhJ15jgNpr9frn6A5tPfp2fcbqK3b8KjRXObMh4tWxC9YzM943bTvIy+0Gefpsee7XTftZWmU6dc11ZZJk59jw7dYxjwwPBKpStL4w/eI2rfTjpu2YBbOWVwb9Gcjls3ErVvJ40/eK8kvOHbU+i0axsdt2wg/PtvsXN3v+36r0fN6G6027WN9nt3UMdGG6gIntHdiNi5hYg92wkeZfteaDTvCyL2bKfFmtJ7wbVVOC03rqXlxrWEb1pHzb59/hH912j4wbt03LeDdlticWvRzKaMW4vmtN+6gY77dtDwg3dLwv3uHUD77ZvokX4Bt5YtbKa9KaSs+OcORenQFW4JIYRaSvmWlHJDtRhQqag3/X2OjXiMpC7d8R4yCOeGll4G/UYMR5edzYEOUWi+nk/tyZMs4uu88xbZmzaXqz9sxvscGfEo8VHR+A4ZhEsZ/QEjhqPLziGufWdSv/6GelOM+rWXL3P00SdJ6NaTE6+8RqM5s8u10WDm+xx86FH2dY7G7z5rG4EPD0eXk8Pedp1J/vobQk02DEVFnJ35EaenvmdLcwn+PXvgGhbKhsgOHHjtdVp+PNOmXPismRwYPZYNkR1wDQvFr6fRa5lP504E9I1hc5cebOrYlZNzvryuvbLcN7A/8+d+Vqk0ZfHp2R2X0Hpsb9uJI2PH0+TD6Tblmnw0gyNjxrG9bSdcQuvh0yMagEtbt7ErKppd3XqSf/pvQl8ddVv1XxeVikYzp5H00CPs7RyN332DrdpARXSEznifIyMeIzGqO7427gV/072Q0D6K1K/nU9fUjvKPHSOpd3+SevThyPBHCZs1HdTq26vfhLepHna17cxfY9+gcTn10Pij6RwdM55dbTvjEloPb1M9XPnrGAefeJbs3Xsqd/1uhMFQ8c8ditKhK5SLEKKuEOKYEGKhEOIvIcSvQggXIcRZIcRMIUQC8KAQ4nshxAOmNG2EELuEEElCiH1CCDeTf/aPhBD7hRAHhRC2h8o2cG0VTuGZsxSdP4/Uarn0x3K8YnpbyHjF9CZz6a8AXFq5CvfOnUrj+sRQdP4CBcdte2p1izDqLzxn1J/5x5/U7GOp37tPb9KXLgMgc8UqPDt3BuDq4SMUp6cDkH/sOConJ4SNd4bdI8IpMLOR8fuf+JSx4dOnN2lLSm14RRltGPILyNm7H0Ph9b1VBfSL4fzipQBkxSVg7+6Oo7+fhYyjvx92bq5kxSUAcH7xUgL7GUdS9Z56nJOffY6huBiA4osXr2uvLG1aR+DhUbkRa1n8+sSQusRYjznxCdh7eOBQpgwO/n6o3dzIiTeWIXXJr/iZRoOXtmxFmtZBs+PjcQwKvK36r4d7RCvyy7QB3z4xFU4PpW21qKStLrdqqzX79CbDdC9cXLEKD9O9YCgoLFkjVjk52hxlVrf+a/j2iUFjqofc+ATsyqkHOzc3ck31oFnyK76mesg/eYr8qvSDfg1lhK7wH6AR8IWU8h4gF7g2D3dJShlh7vJPCOEALAFelVK2BHoCBcDTQI6Usg3QBqOHt3oVMe4QGEBxamrJ92KNBofAgPJl9Hr0eXnY1fRC5eJC0MgXSZ5Vvu8Zx4BAilI1pfpT03AMsPyhdggMoChFU6Jfl5eLXU0vCxmfAf25cugQ0tQhWtlIKbVRpEnDMTCwjEypDWmyYV/GxvVwDgykIKX0OhWmanAuY8M5MJACs7Kay7iGheLdoT1dYlfTecXveLYKr7DtqsIxMIDCVPMypOIUYFnXTgEBFvVVqEnFsUx7AAge8RAXN266rfqvh7F+S20XaTQ29V4Ph4Ay90KqBscA63uhxI5ej850LwC4RoTTausGWm2J5fS4SVabwKpb/zXK1kORDTuOAQEUpprfM5W/XpVG6dAV/gNckFLuNP3/M9DZ9P8SG7KNAI2Ucj+AlDJXSqkDegOPCSEOAHsBb8BqvlEI8ZwQIk4IEfdH/q37gA4ZNwbNvPkY8qv3JCyXRg2pO2Uip16fUK12qhNhZ4eDpyfbevXj8Nvv0mbBvH86SzdN6GuvIHU6NL/+379Sf3VxJeEAiV17khQzgJBXX0Y4Vq2v+OrWX+3o9RX/3KEou9wVbkTZx9Fr369WQocARkkp113XkJTzgHkAewJqSYBiTRoOQUElMg6BgRRr0izSXZMp1qSBWo3azQ3d5SxcW7XCe0A/6kyZhNrdHQwSQ1Eh6Qt+KElblKaxmDp1CAqgKE1jpd8xOJBijQbUauzc3NFdzirJzz3fzefEyNEUnjtns1xFaRocg0ttOAYGUKTRlJEx2ijSaBAmG1qTjfKo9/ST1H3sYQCyEg/gHFx6nZyCAikoY6NAo8HZrKzmMgWpqaSuNLpvzk5IBIMBB2/v69qvCmo99QQhjxrLkJt4AKcg8zIEUZhmWdeFaWkW9eUUGESRWXsIGj4U31492X//sNuiv6IY67fUtmNgoIXeilCcVuZeCAqkKM36XnAMLr0X7Ez3gjkFJ0+hv3qVGo0bcSXp4G3RH/LU4wSXqYeca9fChp2itDScgszvmcpfr0pzB4+8K4oyQle4EbWFEB1M/48AdlxH9jgQKIRoA2BaP7cD1gEvCiHsTeENhRA1KmL8yoEknELr4li7FsLeHu/B95K1PtZCJmt9LL5DHwDAe0B/cncaJxSODr6fxDYdSWzTkbRvviVl9hyLzhwgLzEJp9B6Jfp9Bw/i8jpL/ZfWxeI/9EEAfAf2J3uHUb/a3Z2mC3/g7PvTyd0fV24Z8hKTcA6th5PJht+QQVwsY+PiulgChpXayNqx05YqC858+x2bu/Zkc9eeaFatpfbwoQB4RUagy82jKD3DQr4oPQNd3hW8IiMAqD18KGmrjc9YmlVr8YkyrofWCAtFONhTfOnSDfNwq1xY8D27o3uxO7oX6WvWEjTMWI8erSPQ5eZSXKYMxekZ6PPy8GhtLEPQsAfIWGssg0/3btQb+RIJjz6BoaDgtuivKHmJB3CxagPrK6kjCWeze8F38L1WbfXyulj8TPeCz8D+5JjakWPtWiWb1BxDgnGpX5/CCxdum/7kBT+wN7o3e6N7k7FmHYGmenC/Tj3o8vJwN9VD4LAHyFx73fHArXMXTLkrI3SFG3EceFkIsQA4CnwJ2NzeK6UsFkIMAz4XQjhjXD/vCcwH6gIJQggBZAKDK2Rdr+fspCk0XvQzQq0mY9ESCo6fIGT8WK4eOEjW+lgyfllM/TmfEr57O7rsbE4+X4lXgvR6Tk+cQrPFCxFqFemLlpB//AR1xr9OXlISl9fFkvbLYhrN+YzIPTvQZWdz7HnjNoKgp5/AuV5dao8dTe2xowE4PGwE2ouWHaHU6zk5YQotlhhtaH4x2qj7xuvkHUji0rpY0hYupvHcz2i3dwfarGyOPl/6ylD7uN2o3dxQOdjj0zeGpKEjyD9x0sJGeuwG/Hv1oFf8HnQFBSSOHF0SF711A5u7Gt8qTBo3gYi5n6F2ciJ9wybSN2wE4NzCRUR8/gndd27BUFxMwkuvVPwaAmMmTGZffDxZ2dl0iRnAqBee5cEhgyql42LsRnx79iBq3y70BQUcfuW1krgOm2PZHd0LgKPjJ9Ls809ROzlxcdNmLm4wrmXfM2MawsGRyF+Nq0E5cfEcHTfhtum/HlKv58SEyYQv+QWhVpH6yxKulrNRs1z0ev6eOIWmi38Gs3uh9vixXEk6yOV1saT/spiGcz4lYo/xXjhuuhfc27YhZNRLGHQ6MBg4PeFNq5F1tes3cSl2Iz49u9Nx304MBQUceWVMSVy7zevZG23ciHds/CSafv4JKicnLm3azCVTPfj260Oj6e/j4F2T8F9+5MqRI5W7juVxB+9eryhC3sFPGwr/LEKIusBKKaXtF0WrkWtT7tWJtprbfnV7W8vW6arXAP9+b2u3A3shqlW/o/j3T6RWt7e1npkpt1wJ+nefqvAdq35rQfVW+k2ijNAVFBQUFBTugsGt0qErlIuU8ixw20fnCgoKCrcbeQfvXq8oSoeuoKCgoKCgjNAVFBQUFBTuApQOXUFBQUFB4S5A6dAVFKqH3bnVe7obQGE138Bd3Cv0qv1Nk38bXrOp7l3oMef+qlb9X/qFVat+gKSr1sf9ViVjG/ndWOgWSEjPq1b9AIlXru+L4FapElePd8Fra0qHrqCgoKCgcBd06P/+FxwVFBQUFBRulSo8KU4I0UcIcVwIcUoIUe7pQ0KI+4UQUggRWRVFUEboCgoKCgoKVTRCF0KogblALyAZ2C+EWC6lPFpGzg14FaPDqipBGaErKCgoKChU3Qi9LXBKSvm3lLIYWAzYOgf5PWAmUFhVRVA6dAUFBQUFhUp06Oaunk2f58w0BQPmnm+STWElCCEigFpSylVVWQSlQ68mhBD3Xm/txCQTJIT49XblqbIIISKFELNvIFNXCHG4nLgnhBBBtuIqS7dZ03ny0H4e2bsNv/AWNmU6Tn2TZ04c5OUMazemDe8bxGPxu3gsbid9v/vaKr7Xx9N54XAcT+/bjn85+rtMfZOXTx5ibOZ5i3D3WsGMWPsnT+7ewtP7thMWY73n1jO6GxE7txCxZzvBo16yihcODjSa9wURe7bTYs1yHGuFAODaKpyWG9fScuNawjeto2bfPjbzVpbWM6cxMGEvfXduwatlc5syLSZPZNDhRB5MPlMhnQCNP3iPqH076bhlA24tbOt1b9Gcjls3ErVvJ40/eK8kvOHbU+i0axsdt2wg/PtvsXN3r7DdiVPfo0P3GAY8MLzCaWzR6aMPGJG0j6F7tuLT0nY9t317Eo8eS+KZtLM240MHDeDFKxfxbRVuFTf0sw959+QBJiftolarllbx9s7OvLxyGVP/iuOtw3sZPH2qRXzrB4fw9pF9vHV4L08t/NYqvUvnLtRZs5466zbi9ezzVvFOkW2o9duf1D98DNeY0rbi0PgeQhYvo/aKNdT+cyWuffvZLBtAqxnT6Be/h5gdm/Eqp469WrYgZucW+sXvodWMaSXhns2a0GPdKmJ2bqHzop+wc3O1mX7gJzN5/a8EXk3YSVA51+mJP5cw5tA+Xjuwmz7T3i6J6zz6ZV5L2sOrCTt5Zt2feNauVW5ZKkUlOnQp5TwpZaTZZ15FzQghVMD/gLFVk/FSlA69mpBSLpdSzriBTKqU8oHblafKIqWMk1JWzu2WJU8At9yh143piWf9UL5r3oYNI8fQ/bNZNuX+XrWORV16WYV7hoXSZtxolvToy4+Rndgy/k2L+LCYnniFhfFVs0jWjHyNPrM/tqn/1Op1fB9l3Vl3fON1/vrtD77r0I0/HnuG3mXzp1IROuN9jox4jMSo7vgOGYRzwwYWIv4jhqPLziahfRSpX8+n7pRJAOQfO0ZS7/4k9ejDkeGPEjZreombyvII6tUDt9BQVkS0Y9+rY2nz8Yc25VLWrmddj5jr6jLHp2d3XELrsb1tJ46MHU+TD6fblGvy0QyOjBnH9radcAmth0+PaAAubd3GrqhodnXrSf7pvwl91abTPpvcN7A/8+d+VmF5W9Tu3RPPsFB+admWraPG0OXTj2zKnVu9jt+69rYZZ+/qSvOXnid9n7W73GZ9e+PXIIy3GoSz8LlXGfHlJzZ1xM6azdR7IpnWqjNhndrTtI+xzfrVDyNm4hg+6tSbd5u1Y9noNywTqlT4vjWVlGef5tyAPrj1H4BDWH0LEZ0mlfSJ48lbucIiXBYWkP7G65wf2JeUZ5/Cd+JkVG5uVnkL7NUDt7B6rG7dnrjRr9O6nLbT+uMPiXt1LKtbt8ctrB4BPbsD0Oaz/3HwnfdZ16kbKStX03iUtefDRn164VM/lFn3RPB/L77K4Dm277dt/5vD/5q3ZXabLtTp2I6Gpgfl1MSDzGkfzWcRnTj0f3/Sd/o7NtNXGr2+4p/rkwKYP2WEmMKu4YbxSO0tQoizQHtgeVVsjFM69JvANCo9JoT4XghxQgixUAjRUwixUwhxUgjR1jQ6nWOS/14IMVsIsUsI8bcQ4gEzPYdN/z8hhPhDCBErhDgrhBgphBgjhEgUQuwRQtQ0yW25VvFCCB9Tg6hw+nLKs0UIMVMIsc9UnihTeDchxErT/74m3UeEEPOFEOeEED4mFWohxDemuPVCCGdTGSOBhUKIA6awGUKIo0KIg0II272yDcIG9OWvhUaXlWn743D08KBGgL+VXNr+OK6mpVuFN3/yUZK+/pai7BwACjIvWsQ3GNCPw78sBiB1XxyOHu429afus60fKXF0N/44Onm4c0WTZhHtFhFO4ZmzFJ07j9RqyfxjOTX7WHYYNfv0JmOpcbLm4opVeHQ2+iY3FBSW/IConBwrtMM2uF9fzixeCsCluHgcPDxw8rd+l/lSXDyFZfxQXw+/PjGkLjHmMSc+AXsPDxzK6HXw90Pt5kZOfAIAqUt+xc80q3Bpy9aS87Kz4+NxDAqssO02rSPw8Kj4iN4WdQf05fgi43VJ3x+Po4cHLv7W9Zy+P578dBv1DLSdMoHE/81GV2T9XnWLQf3Y8+MiAM7s3Y+zpwfuZdqRtqCAE1u2A6DXarmQkIRXiPGZt/Ozj7N17jfkZ2cDkFemnTq1aIn2/Dl0yRdAqyVv9Spq9LB8wNSlpFB84jhIyw1e2rNn0Z4zzlzpMzLQX76Euqb1T0Jwvz6cXbwMMLYPew93q7bj5O+HvZsrl+LiATi7eBkh/fsC4Fo/jMxduwFI27KVkIH9rWw0ubcfCT8b77cLe+Nw9vDAzcZ1+ntr6XVKTTyIh+k6/b11O9pr/u73xpWE3zJVt4a+H2gghKgnhHAAhgPLS83IHCmlj5SyrpSyLrAHuFdKaf2UWEmUDv3mqQ98DDQ2fUYAnYHXgUk25ANN8QOA8kbuzYD7gDbANCBfStkK2A08VoE83Up6OyllW2A08LaN+LeBTVLKpsCvQG2zuAbAXFNcNnC/lPJXIA54WEoZDrgAQ4CmUsoWwPsVKA8ArkGB5CWXPuBeSUnFtRKdgWeD+njVD2PYxtUM37KOOr26W8S7BQWSa6Y/LyUVt0ro3z5tJk2HD+XlU4d58PclxI6xHFk5BARQnJpa8r04VYNjQIClTGAARSkmGb0eXV4edjW9AHCNCKfV1g202hLL6XGTbjhCcAkMID+l1F5+aiougRUvT3k4BgZQaFaOwtRUnMqUwykggKJUTamMJhXHQEsZgOARD3Fx46ZbzlNlqBEYyBXzdpSaSo1K1LNPyxa4hgRzfl2szXjP4CCyLiSXfM9OTsEzuPzOxtnDg+YD+3Bs41YA/BrWx79hfcbtWM/43RtpUmbpxs7fH52m9Nrq0tKws/FAciMcm7dA2NujPX/eKs45MJD8lNJrVJCqwblM23EODCTfrI7zU1NLZHKPHSe4n7FzrzVoIC7BFkvHALgHBZJtVg85Kam4B5dfD04eHjTu34fTm7ZaxUU++Qgn1m4oN22lqKIOXUqpA0YC64C/gKVSyiNCiHeFEPdWTWZto3ToN88ZKeUhKaUBOAJslEbn8oeAujbk/5BSGkyvLpR3F26WUuZJKTOBHODavFl5Oqsy/f+Z/saXI9sZ425NpJRrgSyzuDNSygM3SJ+DcTfnt0KI+wCro+DMN5rs1lXZxk9Udmo864exLOZeVj/+LL3mforjLY72zGky9H4O/byIufWbsWzIMAZ++xVUoY/sKwkHSOzak6SYAYS8+jLC0bHKdP8ThL72ClKnQ/Pr/91Y+E5BCDrOeI9dE9+qEnUqtZqnFy1g8+yvuXjmrDHMzg6/BmF83K0f3z70FI98MxtnD48qsXcNta8vAR/OIn3ShGo56nTfyNHUf/oJem1ej72rKwbtrZ2ip1Kreejn+eya+zWXz1jujQkfMZSQ1q3Y+vF1t/lUHIOs+OcGSClXSykbSinDpJTTTGFvSSmX25DtVhWjc1DeQ78VzOfcDGbfDdi+ruby5f3aV0SnjtIHMadbzJOttPoKyJaX9lp657ICUkqdEKIt0AN4AOMTbPcyMvOAeQCbXhsvmz35KADp8Ym4hZQ+6bsGB3HFbIRwI66kpKLZn4BBpyP33HmyTp6mzbjXqG1a29XEJ+Jupt8tOIi8Suhv+fgjLBn0IAApe/ejdnLExccbiozTgsVpaTgElY7UHIICKUqznJYv1qThGBxEsSYN1Grs3NzQXc6ykCk4eQr91avUaNyIK0kHLeIaPPMU9R9/BIBLCYm4mI0MXYKCyNdUvDzm1HrqCUIefRiA3MQDOJmVwykoiMIy5ShMS7OYSncKDKLIbAkiaPhQfHv1ZP/9w24qP5Wl6XNP0eQJYzvKiD+Aq3k7CgriagXr2cHNlZpNGnPvmj8BcPH3o+/SnzmxaCkDuncD4Nz+BLxMmxkBPEOCyTabKTHn4XmzyTh5mk2ffVESlp2cwpm9cRh0Oi6dPUfGiVP4NQiDPOOoX5eejp3ZaNkuIABdOUsDtlDVcCXoq/lc+vR/FCYdKAmv/8yThD5mbDuXEw5YjKqdgwIpKNN2CjQaXMzq2CUoqEQm7+Qptprq1jUslMDexv0B7V98hrZPPw5AclwCniHBXOuePYKDyE2xXQ/3ffUZF0/9zc7ZX1qE1+/ele4TxvJ1j/7oi6vm6F15F5zlrozQ/32cBVqb/r+dG+p2AkMBhBC9Aa8KpMnDuAEEIYQr4CGlXA28BlhvbTUj6etvWdi+Gwvbd+P0itXc87DxRyKgTSTFubm217LL4dSK1dSKMq5JO3nXxKtBGHH/m82C9l1Z0L4rJ1asotkI4+7poLaRFFVSf+6FZOp26wKAd6OG2Dk5km+2/pmXmIRzaF0ca9dC2NvjO/heLpeZtr28Lha/ocbq9BnYn5wdOwFwrF2rZBOcY0gwLvXrU3jhAmU5OX8Ba6K6syaqO8mr1lBv+FBjfiJbo83NrdRauTkXFnzP7uhe7I7uRfqatQQNM+bRo3UEutxcisvoLU7PQJ+Xh0frCACChj1Axtp1xnJ170a9kS+R8OgTGExroNXNkXkLWNYxmmUdozmzcjWNHjJeF/82rSnKzS13rbwsxbl5fF+nEQubRrCwaQTp++NZM/QR9rz1LtNadWZaq84c+GMV7R97CIB67dpQmJNLro12dO97U3D2cLfa9Hbgj1U07BYFQA3vmvg1rM/Fv8+WxBceOohDnTrYBYeAvT1u/fpzddPGil0Ie3sC53xB3p+/c2XdWouoU/O/Y32XHqzv0oOU1WuoO9z4cGpsO3lWbacwPQNt3hW8I40/Q3WHP0jKaqNORx/TthohaPr6a5z+7gcA9nw5n9mRUcyOjOLIn6uIeMR4v9VqF0lhbi55Nq5T73fexMndnZVjLF8WCgpvwZAvPuWH+x7iapl9BrdEFY7Q/ymUEfq/j1nAUtN7j1X6DuMNeAdYJIR4FOOafBrGDtv2eylGvge+EkIUAH2BP4UQThhnKMZU1PCZtbHUjenFk4fj0OUXsP6F0t3RD+/ZwsL23QCIev9tGg17AHsXF545eYjD3//Enmkfci52E3V6RPNY/C6kXs+2SW9TaDb6Pb02lrCYXrxwJB5tfgGrnh9ZEvfUnq0saN8VgOhpU2li0v/yqcMkffcTO6bNZOOEKfT74lPajHoRpGTVs6XpAdDr+XviFJou/hnUajIWLaHg+Alqjx/LlaSDXF4XS/ovi2k451Mi9mxHl53N8eeNu4Pd27YhZNRLGHQ6MBg4PeFNq5F7WVLXbyCoV08GJu5Dn5/PnpdfLYnru30Ta6KMEyPh77xF3Qfuw87FmcFHDnD6p4UcmmF75zfAxdiN+PbsQdS+XegLCjj8ymslcR02x7I72jgaOzp+Is0+/xS1kxMXN23m4gbjWvk9M6YhHByJ/NW4wTHHtKmqIoyZMJl98fFkZWfTJWYAo154lgeH2Dqro3zOr4ulTkxPRhzcj66ggM0vlL7A8eCuzSzraJyxaf/e2zQYej92Li48evwgf/3wM3Ef2N7tbc7h1eto1q83751Kojg/nx+eLH098c3EHUxr1RnP4CD6TR6H5q/jTEowbvraMmceO7/9kaPrNtCkd3fePrIPg17P/42bwtXLl8HXtClNryfjvXcI/vY7UKnJ/W0ZxadOUnPUqxQdPszVzRtxbNacwDlfonZ3p0Z0d2qOfJXzA/vi1qcfzpFtUHt64j7kPgDSJr5B8TFL5zia9RsI7NWD/gl70RUUsM+s7fTetpH1XXoAEP/6G7T7YjZqJyc0GzaiiTU+WNS+fwgNnnkSgOSVqzmzcJHVdTq+Zj2N+/Zi3LFEtAX5LHumdCf8K3HbmR0ZhXtwEN0njSPjr+OM2r8NgN1fzGP/gp/oO+NdHFxr8PBi48NC9vlkKxs3g9T/+89yF3fDNINC9SOEcAT0pqnzDsCXps1u1cInLt7V3jD/7d7WztnYaV3VeNtX7zO/4m3txije1m7MDG32LW9aKX66d4V/EBy+XV91m2SqEGWErlBRamOcGVABxcCz/3B+FBQUFKqOO3gqvaIoHfp/CCHEXKBTmeDPpJTf3SitlPIk0KpaMqagoKDwD3M3zFYrHfp/CCml9bFNCgoKCgrKCF1BQUFBQeFuQFaR+9R/EqVDV1BQUFBQUEboCgrVQ0rxDR0g3DIRrg7Vqj9Lp6tW/aFO1X9iXM6NHVHcEtW9C/3FjNPVqh9Av6yKTiorh4WvfF6t+hu7lD2fqup54Mep1W7jVlHW0BUUFBQUFO4GlBG6goKCgoLCXYAyQldQUFBQUPj3I5URuoKCgoKCwr8fqVc6dAUFBQUFhX8/d8GUu+JtrRoQQmwRQkTeRnsfCSGOCCHK96xxa/rfFUL0rA7dFWXQJzOZcCyBMQk7CW5l7ajN3tmZp5cvYfzhfbyetJt+H7xdEtfhuScZm7iT1+K28/LWNfjf0+iG9lrPnMbAhL303bkFr5bNbcq0mDyRQYcTeTD5TIXK0HT6e0Tv30WXbRtxb2Fbp0fLFnTZvono/btoOv09q/jQl55nwCUN9jVrWqaL7kbLHVsI372doJEvWaUTDg40+PoLwndvp9nq5TiaufkEcAgOos3pYwS++Px1y9D4g/eI2reTjls24FZOGdxbNKfj1o1E7dtJ4w9Ky9Dw7Sl02rWNjls2EP79t9i5W/uk7/TRB4xI2sfQPVvxadnCpv62b0/i0WNJPJN21mZ86KABvHjlIr6twq9blrJMnPoeHbrHMOCB4ZVKZ87206n0++pPYr78g292HbaK//3gaTp9sowh81cxZP4qfj1wsiRu1qYEBs5bwYCvlzNt/f5yd123mTmNwYl7GbhzCzXLaZvhUyZy/5FEHkqxbJt+HdvTf9sGHrmUSu1BA6zSeUR3pfn2zbTYtY3ActpR2FdzabFrG01W/YlDiLEdOYSEEPn3CZrGrqFp7BrqzvzA9vU5dpZ+M38gZvp3fLNpv02ZNQdOMODDHxn40Y+MW7imJLzZuM8Y8r+fGfK/n3l5gZVb8VvnLvC2pnTodxhCiJuZNXkOaCGlHFcd+qWUb0kpN9xEvqqExn174dsglBmNI/j1xVe5f+7HNuW2/G8OHzZryyeRXajbsR2N+xifQRIW/crHrTrxSWQUmz+azcBZ065rL6hXD9xCQ1kR0Y59r46lzce2PW2lrF3Puh4xFSqDX8/u1AgNZXObjhwcM47ms2bYlGs+awYHX3udzW06UiM0FN8epS7jnYKC8InuRv6FMt6lVCrqTX+fYyMeI6lLd7yHDMK5YQNL+yOGo8vO5kCHKDRfz6f25EkW8XXeeYvsTZuvWwafnt1xCa3H9radODJ2PE0+nG5TrslHMzgyZhzb23bCJbQePia/85e2bmNXVDS7uvUk//TfhL46yiJd7d498QwL5ZeWbdk6agxdPrX9fHpu9Tp+69rbZpy9qyvNX3qe9H1x1y2LLe4b2J/5cz+rdLpr6A0G3l+3j6+HdWfFcwNZffQspzKzreT6NqnD78/05/dn+vNAuLGeEpMzSUzO5I9n+vPnswM4rLnE/vPWLkWDe/XAPSyUP1q1Y/erY2n3P9ttM3nNelZ3t26bV5NT2PniK5xZ9n/WiVQq6nzwPicefpxDXXvgPfhenMq0I9+HhqHPyeFgxy6kzZtPrckTS+IKz53jSK++HOnVl7NvTCqr3Xh9ft/M188MZsW4x1ideJxTaZcsZM5mZvHNpv0sHDmUFeMeY8K9XUviHO3t+H3MI/w+5hHmPnWvzXLfClLKCn/uVP7THboQoq4Q4i8hxDemEe56IYSz+QhbCOEjhDhr+v8JIcQfQohYIcRZIcRIIcQYIUSiEGKPEMJ82PSoEOKAEOKwEKKtKX0NIcQCIcQ+U5pBZnqXCyE2ATYdHAsjH5n0HRJCDDOFL8fowjT+WpiNtN8LIb4SQuwFPhRChAkh1goh4oUQ24UQjYUQHkKIcybnK9fyekEIYW9K/4ApvLUQYqsp7TohRKAQwk8IEW+KbymEkEKI2qbvp4UQLkKIB015TxJCbKtMPTUd2I+4nxYDcH5vHE4eHrgF+FvIaAsKOL3F6I5Sr9WSknAQj+AgAIrySr1JOdRwueHUWnC/vpxZvBSAS3HxOHh44ORv7fHqUlx8hf2M+/ftQ/KSZQBkxyVg7+GOYxmdjv5+2Lm5kR2XAEDykmUE9OtTEt902jv8NfU9q/y7tgqn8MxZis6fR2q1XPpjOV4xlh2eV0xvMpf+asz3ylW4dy490t+rTwxF5y9QcPzEdcvg1yeG1CVGHTnxCdh7eOBQpgwO/n6o3dzIiTeWIXXJr/j1NZbh0patSNN77dnx8TgGBVqkrTugL8cXGa97+v54HD08cPG3rOdrceX5MW87ZQKJ/5uN7iY80bVpHYGHh/WsQUU5lHqJ2l5u1PJyw0Gtpm+Tumw6WTHXngIo0unR6g0U6w3o9Aa8azhbydXq35fTpmt00dQ2nW20zYtx8RTYaJtXz18g+8hRm6eiubYKp+isWTv6c4V1O+rTm4umdnR55Wrco8q6hiifQ+fTqO3tQS1vDxzs1PQNb8imI5bnBPy69zAjOrXEw/RuvLebS4X13zLKCP2uoAEwV0rZFMgG7r+BfDPgPqANMA3Il1K2wugj/DEzOReTe9GXgAWmsDeBTVLKtkA08JEQ4pqPzQjgASllV2xzHxAOtAR6mtIGSinvBQqklOFSyiXXyXcI0FFKOQaYB4ySUrYGXge+kFLmAAeAa/YHAOuklNprCoQQ9sDnpny2NpVrmpQyA3ASQrgDUUAcECWEqANkSCnzgbeAGCllS6BSj9cewYFkJ6eUfM9JScUjOLBceScPD5oM6MPJTVtLwjq++AwTjicyYMY7/DH6jevacwkMID8lteR7fmoqLoHl26sIToEBFJjpLEzV4FRGp1NgIAWpZWUCAPDvG0OhJo28I0etdDsEBlBslq5Yo8HBlM6mjF6PPi8Pu5peqFxcCBr5IsmzPrlhGRwDAyi0yF8qTgGWdpwCAihK1ZTKaFJxLJMXgOARD3Fx4yaLsBqBgVwxq+crqanUCKr4dfdp2QLXkGDOr4utcJqqJD0vnwD30g4owM2FjLx8K7n1x84z+JuVjP5tG5rcqwCEh/jSto4/XWf/RtfZv9EpNIgwHw+rtDbbZiWu0fWwDwigKKVMOyrz4GwfEECReTvKNbYjAMfatWi6fjWN/28pru3aWulPz7lKgKdbyfcATzcycq5ayJzNzOJsZhYPz1nC8NmL2X7sbGl+dDoe/PQXhs9ezIbDp261uFZIvaHCnzsVZVMcnJFSHjD9Hw/UvYH8ZillHpAnhMgBVpjCDwHmi36LAKSU24QQ7kIIT6A3cK8Q4nWTjBNGt6QAsVLKy9ex2xlYJKXUA+lCiK0YHyoqupi0TEqpF0K4Ah2BZUKUuPS9duTYEmAYsBkYDnxRRkcjjA80saa0auDar/cujJ7cugAfAH0wDjy2m+J3At8LIZYCNub7QAjxHMblA3oJZ1qoKn+Sm0qt5pGF89kx52sunzlXEr7ry/ns+nI+rYY/QM9J41j81IuV1v1PoXJ2pv5rr7D3/ptf2y2PkHFj0MybjyHfuuOpLkJfewWp06H51WYzuDmEoOOM99j8/Miq01kNRNcPoX+TujjYqVmScIJJK3bx3cO9OHc5j78v5rBp1H0APLNoI3HnM4isXb2+0KsKbUYGSZHt0WVl49KiOQ0WfMOhbj0xXLlSKT16g+TcxWy+f/EB0rOv8NgXy/jj9Udwd3Ziw5tP4+/hyoVLOTz51a80DPChto9n1RXiDp5KryhKhw7mc3N6wBnQUTp7UfZcRHN5g9l3A5bXs2zrkBg7uPullMfNI4QQ7YCrVC/X9KuAbNPsQVmWAx+Ylg5aA5vKxAvgiJSyg4202zCOzusAfwJvYCzzKgAp5QumcvbHuDzQWkppsYAmpZyHcfaA/xv1umz39OMAXIhLwDMkuETOIziInBQNtnjgq8/IPPk322d/aTP+wJLfuM/GGnyDZ56i/uOPAHApIREX03Q9gEtQEPka2/auR52nn6D2ow8DkJOYhHNwEFmmOKegQArL6CzUaHAOKrVrlEmjRt06uNSuTZdtG0vCu2xez9G+A9FmZlKsScPBLJ1DYCDFmjQL3ddkijVpoFajdnNDdzkL11at8B7QjzpTJqF2dweDxFBUSPqCHwCo9dQThJjKkJt4ACeL/AVRmGZppzAtzWIq3SkwiCKzvAQNH4pvr57sv9+4OtT0uado8sSjAGTEH8DVrJ5dg4K4mlqx6+7g5krNJo25d82fALj4+9F36c+gUoOh+o8RBvB3cyEtt/TBKC0vH78yU8aeLqXH9T4QXp+PNycCsOHEeVoG+1DDwR6AqNAgklIyiaztR6NnnqLBtbaZaKNtVvAa3QhtWhqOwWXaUVq6tUxQENpr7cjd2I4AdMXFAOQfPETRuXM4h4VyNelgSVp/jxqkZZcuf6Vl5+HnUcNCv7+HKy1qB2CvVhPi7UEdXy/OZWbTvHYA/h6uANTy9qBtWAh/pWRWaYd+N7yHrky52+Ysxg4N4IGb1HFtjbszkGOa0l4HjBKm4a0QojL+xbcDw4QQaiGEL8aR8L7KZkpKmQucEUI8aMqDEEK0NMVdAfYDnwErTbMB5hwHfIUQHUxp7YUQTc3y9whwUkppAC4D/YAdJtkwKeVeKeVbQCZQ63r53PXlfD6JjOKTyCiOLF9F5KPG0WntdpEU5uaSl2a9htrn3Tdx8nBn+ZgJFuE+9UNL/r+nfwwXT/5tlfbk/AWsierOmqjuJK9aQ73hQwHwjmyNNje3wmvl5pz79nu2d+vF9m69SFu9hpBhDwLgGRmBLjePojI6i9Iz0OXl4RkZAUDIsAdJX7OWvL+OEdu4OZtatWVTq7YUpmrYFt0bbWYmAFcOJOEUWhfH2rUQ9vZ4D76XrPWW085Z62PxHWpsyt4D+pO7cycARwffT2KbjiS26UjaN9+SMntOSWcOcGHB9+yO7sXu6F6kr1lL0DCjDo/WEehycykuU4bi9Az0eXl4tDaWIWjYA2SsXQeAT/du1Bv5EgmPPoGhoACAI/MWsKxjNMs6RnNm5WoaPWS87v5tWlOUm1vuWnlZinPz+L5OIxY2jWBh0wjS98ezZugjt60zB2gW5M25rDySs69QrNez5uhZohtYvk2QeaW0w998MplQb+O0epB7Dfafz0BnMKDVG9h/PoNQ05T78fkLWBnVnZVR3Tm/cg1hpmvkY2qbttbKb4YrB5JwrFcPh1qmdjRoINllli+y1sXiY2pHNQf0I3fHLgDsvGuCytidONaujVO9ehSeO2eRtlmtAM5dzCb5Ug7FOj1rDpwguqnlWf49moWx/7Rx30HW1QLOZWZRy9uDnPxCik2+EbKuFpBwVkOYv+WbHreMlBX/3KEoI3TbzAKWmqaAV92kjkIhRCJgDzxlCnsP+BQ4aNp8dgbjWnVF+B3oACRhHPmOl1KmXT9JuTwMfCmEmGzK32KTXjBOuy8DupVNJKUsNm2Omy2E8MDYfj7FOGo/a3pQubbhbQcQIqW8Nij9SAjRAOMof6OZvRvy1+r1NO7TiwnHE9Hm57PkmVK37q/FbeeTyCg8goPoOWkc6X8dZ/R+YxZ2fjGPfQt+otNLz9GgR1f0Wh0F2dk3nG5PXb+BoF49GZi4D31+PntefrUkru/2TayJMu48D3/nLeo+cB92Ls4MPnKA0z8t5NAM2zuzM2I34terB9Fxu9EXFJA06rWSuKgtsWzv1guAQ+Mm0nLOp6idnMjcuImMDWUnSWyg13N20hQaL/oZoVaTsWgJBcdPEDJ+LFcPHCRrfSwZvyym/pxPCd+9HV12Nieff/nGestwMXYjvj17ELVvF/qCAg6/UlqGDptj2R1tLMPR8RNp9rmxDBc3beaiqQz3zJiGcHAk8lfjVo+cuHj+HjmmRMf5dbHUienJiIP70RUUsPmFV0riHty1mWUdjbvl27/3Ng2G3o+diwuPHj/IXz/8TNwHtnd7V4YxEyazLz6erOxsusQMYNQLz/LgkEEVTm+nUvFm7zY8u3gjBoNkSMswGvh68vnWJJoG1qR7w1r8tP84m08mY6cSeDg58sEA42RX78a12XM2jcHfrAQEUWGBVg8DACnrNxDcuydDDuxDl5/PLrO2OWD7Jlaa2mbEu29Rz9Q27z96gFM/LiRpxkd4R4TT7efvcfD0oFbf3oRPHM+J7qaNb3o95yZNofGin0CtJnPxEgpOnCB43BiuJh0ie30smYuWEPb5p7TYtQ1ddjanXzAucbi1b0fwuLFIrRakgbNvTEKfnWN5fdQq3hwSzbPf/I5BSoa0aUqDAG8+X7ubprX86N40jM6N6rDrxDkGfPgjapXg9QFReNZwJvFsKlN/3YhKCAxS8mx0JPUDvCtTvTfmLhihizt5C77Cf5fX7TyrvWFWt7c1d7W6WvX72Ff/83h1e1v7u6C4WvUr3tZuzO3wttZ63sQbC90C6oEvihtLXZ+c6PAK/+Z4bD5wy/aqA2WErqCgoKCgcAfvXq8oyhr6HYYQornp/XXzz94Kpn3TRto3qzvPCgoKCv92qvJgGSFEHyHEcSHEKSHEBBvxY4QQR4UQB4UQG02v+N4yygj9DkNKeQjj++Y3k3YaxnfjFRQUFBQqgayiAboQQg3MBXoBycB+IcRyKaX5IRKJQKSUMl8I8SLwIaaN1LeCMkJXUFBQUPjPU4Uj9LbAKSnl31LKYoybji12V0opN5sO3ALYg/Hgr1tG6dAVFBQUFP7zVOatNSHEc0KIOLPPc2aqgoELZt+TTWHl8TSw5jrxFUaZcle4I5nSsfaNhW4RtWv17u7dsvfCjYVuAS+36t2lD5CfU1it+pOuVu8u9+regQ6gfvCVGwvdAjVem1ut+uvVdrux0C2iatml2m3cKpV548v8EKxbQQjxCBBJ6ZHbt4TSoSsoKCgo/OcxVN176ClYHpwVYgqzQBhdUr8JdJVSVt6bkA2UKXcFBQUFhf88VXhQ3H6ggRCinhDCAaNfDAufG6ZTQr8G7jU5t6oSlBG6goKCgsJ/HkMVHbImpdQJIUZiPOpbDSyQUh4RQrwLxEkplwMfYXR7fc1J1nmT58xbQunQFRQUFBT+81TloalSytXA6jJhb5n937PqrJWidOgKdzx2bTvh9MoboFKhXfV/FC1cYBHvMPRRHAbcB3o9MjuL/BlvIdM1qOo3wnnMZESNGmAwUPTTN2g3rbPSr27dHsfnxxr1r/sT7bIfLeLth4zAPuZepF6PzMmm6NP3kBnGY/SFrz+Or76JyscfkBS89Royw7b3q6bT38OvZw/0BQUcGDma3IOHrGQ8WrYoOcs9Y8NGjkycYhEf+tLzNHlvKusaNAVKN6y5RHXBf/IUUKvJWbqEy/O+tkjn3KYNfm9OxrFRY1Jfe5Ura9eWxIV8+x1O4eEUxMeR8tyzNvN+I2pGd6PBtHcRahWanxdx7vOb28g19LMPadavN8X5+fzwxItcSLQ88t/e2Znnlv2Ib1g9DHo9B1es4Y+JU0viWz84hAFTJyKlJDnpMGiPlcRtP53K9Nj96KXkgZb1ebZjMwvdvx88zayNCSUe0h6ObMgD4Q0AmLUpga2nUpBS0qFeIJN6RWLmfrhCTJz6Hlu27cC7phcrf11cqbTmtJz+PgG9jO0o7uVXybbRjjxbtiBy7meonZxIi91I0sTJALT99mvc6hsdoth7eKDNyUH7TOnrz/btO+M6ZgJCpaZg+W8U/DjfQq99eGtqvDYBu/oNyZ0yjuJN60viarw8BodOxs1v+Qu+omjDWmyxfX8C075YgMFg4IG+PXlu+H0W8akZmUz48HPyrlxFbzAw9ulH6NquNclpGfR/+hXqhRg9wrW8pyHvjH6hspevXO4Gb2tKh36TCCGCgNlSypv1xnbXIoQIB4JMT6kIIaYCV6SUsyqtTKXC6bVJXB3zHDIzHdd5i9Du2ILhXKnHNP3JY1x59iEoKsRh0FCcXnyNgqnjobCQgg/exJB8HuHti+v8xWj37YIreRb6HV8aT8GbI5EXM3D+9Ad0e7YjL5wpETGcPk7+q49DURF2/e7H4alRFM0wHsDnNHYqxUu+Q5+4D5ycyz2dwq9nd2qEhrK5TUc8IyNoPmsGO3v3t5JrPmsGB197ney4BNouWYhvj+5kbjQ6N3EKCsInuhv5F5KtrpH/1KkkP/E42rQ06vz2O1c2baT41KkSEW1qKmlvjMfraesO+/L8bxDOTngOf+iG1WETlYpGM6eR+OBDFKVqiFy/msx168k/cbJSapr17Y1fgzDeahBOvXZtGPHlJ8xs391KLnbWbE5s2Y7a3p7RG1fQtE8vjqyNxa9+GDETx/BRp97kZ2fj5utD64+eBEBvMPD+un3Mf6gH/u4uDPtuDdENQqjv62mhu2+TOkyOaWsRlpicSWJyJn88Y6yvR35az/7z6bStE1Cp8t03sD+PDHuQN6ZMrVQ6cwJ69sA1LJR1kR2oGRlBq49nsrlXPyu5VrNmkjB6LJfjEui09Bf8e3YnfcMm9j39fIlM8/emos3NpcTjukqF27g3yR71LIaMdLy+X0Lx9s3oz5Seh69P15D33pu4PPyEhT2HTl2wa3QPWY/eD/YOeH75PcW7tyOvWnqF1uv1vPv5NyyY+Tb+Pt48OHI83Tu0oX6d0j1kXy78lb5dO/LQwD6cOneB5958n03tjA+otYP8+ePr/9309bsehn//ya/KprhrmNyIVvh6SClT/y2duRDidj+4hWN0nXrLqO9phiHlPFKTAjod2o1rse8cbSGjT9wPRcbRqu7oQVS+/gAYks9hSD4PgLyUicy6jMrTyyKtqmFTDKnJyLRU0OnQbVuPXQfLV2z0B+OhyLgJ1XDsECof40+gqFUP1GpjZw5QWFAiVxb/vn1IXrIMgOy4BOw93HH097OQcfT3w87Njey4BACSlywjoF+fkvim097hr6nvWc0NOrVoifbcObQXLoBWS96qlbj2sJzR06WkUHT8uM0HjvzduzBcuWoVXlHcI1qRf+YshefOI7VaMn7/E98+MZXW02JQP/b8uAiAM3v34+zpgXuAv4WMtqCAE1u2A6DXarmQkISXacTW+dnH2Tr3G/KzswHIy7xYku5Q6iVqe7lRy8sNB7Wavk3qsulkmQejchBAkU6PVm+gWG9ApzfgXcO50uVr0zoCDw/3SqczJ7BfDOcWLwXgclwC9u7uOJVpR07+fti7uXLZ1I7OLV5KkFk7ukbI4IEk//Z7yXe7Js3RJ1/AkJoMOi2Fsatx6GJ5rxk0qehPnbDyTKauF4b2QDzo9VBYgO7UcRzad7ayefD4KWoHBVIrMAAHe3v6devMxl2WXqCFgCtXjWeu5F3Nx8+7it2klkNVHv36T/Gf7tCFEHVN5+3+CBwGpggh9pvO133HJDNDCPGyWZqpQojXTWkPm8LUQoiPzNI+bwqfK4S41/T/70KIBab/nxJCTBNC1BBCrBJCJAkhDgshyj36TwhxVgjxoRDikBBinxCivincVwjxm8n2fiFEJ7N8/iSE2An8VI7OJ4QQfwghYk36R5rOGE4UQuwRQtQ0yYWbvh80lcPLFL5FCDHTlJ8TQogo067OdzH6bj9gVqYmJvm/hRAVfnFX+PgjM0p9Yhsy0xG+fuXKO/Qfgm7vDqtw9T3NwN4eQ4rlu+HC2xd5sVS/vJiB8PYtV79dzL3o4nYDoAqpjbx6Bac3Z+L8+U84PDWqxCd0WZwCAyhISS35XpiqwSkwsIxMIAWpZWWMo0D/vjEUatLIO3KUstgF+KPVlE7z69LSsPP3t5KrLhwDAigyK1uRRoNjYOVGrwCewUFkmc0+ZCen4BkcVK68s4cHzQf24djGrQD4NayPf8P6jNuxnvG7N9IkpvShJj0vnwB3l5LvAW4uZOTlW+lcf+w8g79ZyejftqHJNT7khIf40raOP11n/0bX2b/RKTSIMJOv8tuNc2CgRTsqKLcdaSxknMvI+HRoT1HGRa78XToTpfLzR59ems6QkY7at2LtSHfS1IE7OiE8PHFo3RaVv3UbSL94iUDfUrenAT7epF+8bCEz8tFhLN+4ja4PPcPzb77P5JefKYlLTstgyAtjeWTMZOIOWd8Lt8Jd4A79v92hm2gAfAG8hvE0n7YYR5ithRBdMPoHH2omP9QUZs7TQI6Usg3QBnhWCFEP2A5EmWSCgSam/6Mw+g3vA6RKKVtKKZsBthedSsmRUjYH5mD0Qw7wGfCJyfb9gPmiVxOgp5TyenOpzYD7TPmeBuRLKVsBu4HHTDI/Am9IKVsAh4C3zdLbSSnbAqOBt01HHb4FLJFShkspr12rxkAMxuv7thDCvmxGzE9f+l5zuWz0DbHv1R91o6YULfreUq+3D85vfkDB9Ldu6W60i+6DusE9aH81PR+p1KibhlP07WcUvPoEqsBg7HpW1L19xVE5O1P/tVc4Pv3WfX7fLajUap5etIDNs7/m4pmzxjA7O/wahPFxt358+9BTPPLNbLB3rLDO6PohbHh5CH88O4AO9QKYtGIXAOcu5/H3xRw2jbqPzaPuY++5NOLOV9mbRv8Ite4fwoX/+/3GghVEu3cXxbu24TV/Ie7vfYT2UNJNz2Gv2ryDIb2j2bpoPl9Pm8wbMz/DYDDgV9OLTQvn8ftXHzPhhSd5ffonJSP5qsAgZYU/dypKhw7npJR7gN6mTyKQgLEDaiClTAT8hBBBQoiWQJaUsuwRYL2Bx4QQB4C9gDfGB4XtQJQQoglwFEgXQgQCHYBdGDvHXqZRbpSUMucGeV1k9reD6f+ewByT7eWAuxDC1RS3XEpZcAOdm6WUeVLKTCAHWGEKPwTUFUJ4AJ5Syq2m8B8A8znp/zP9jQfqXsfOKillkZTyIpABWD36SynnSSkjpZSRTwQap9nkxXSEX6moytcfmWn9Y6pu3Q7Hx54lf+IroNWWRrjUoMbMuRR+8zn6owet0slLmQifUv3Cxw95KdNaf3gbHIY9SeE7r4NOa8pbBoa/Txin6w16dLu3oqrfqCRNnaefIGpLLFFbYilKz8DZbLTpFBRIocZy81yhRoNzUFmZNGrUrYNL7dp02baR7on7cAoKpMvm9ah9fADQpaVjbzYCswsIQJeezu2iKC0NR7OyOQYGUqRJq1Dari89y5uJO3gzcQe5mjS8av1/e+cdHlXRNfDfSSeEhJ5C6Aio9KKigNK7iojYXntv2BXba+9dP33tXVEsiPReRZHeBOkIabRAqEk25/vj3k12k01j7yYkzO958uzuvTNnzty72XNn5sw5eSGtqyfWI91jNOrJFR++TdqGTcx8673cY+k7drJi3ERysrPZs3Ubaf9shGjrexRbLZKUA3k//ikZh3Od33LbiwwnLMTKYX9xu2asSbEeKqf/s5229WpTNSyUqmGhdGuSwIqdBb8jgaLJ9dfSa850es2ZztHUVK/vUZVCv0fxXmWOeJSR4GASBg9kxy+/etXLSUslODavXlDdWFy7Sv49Ovz5h+z7zzD233UjiODavrVAmdjatUjetSf3c8ruPcTW9p5S/2nyDAacew4A7U9rwbHMLPbtP0BYWCg1oq2odq2aN6V+fBxbdvj+fhwPZoReOXAvHgrwgj2qbKeqzVT1E/vcGOBirGw4+Ufn7rp3etRtrKpTVXUnUB1rJD4Xy8BfguUglqGq/wAdsIznsyLyhA/ZnqiP90HAWR5t11PVg/n6VhSei745Hp9zKJnTpLu8q5jynu0UVzav4Lo1BCc2ROLrQUgIob36k7VgtleZoFNaUuX+Jzg86i403WNkHxJC1efeJHPKb2TPmeZTfs4/awlKqI/EJkBICCHd++L6Y563/CbNCb9zFEeevh/dvy+v7oa1ULUaRFcHILhtJ3R73hTmtk8+Z955fZh3Xh9SJk4iccRwAKp36kD2gQyOpXo/mBxLTSM7I4PqnToAkDhiOKmTJpPx9zqmtWzNzPZnMLP9GRxNSmZuj764dltrxEdXrSS0USNCExMhNJRqgwZzcMaMklxeR8hYtpzIJo2JaFAfCQ2l7tAL2D1lavEVgTnvfcRz7bvyXPuuLB87gbOusiaTGp/ZmaP7D3AgpaBBOf+Zx6kSE82Yux/yOr587ASan2dNiFWtVZO6zZvBwXQAWiXUYtu+DHakHyTT5WLS2q30OMU7H8aug3kGf9aGHTSpZU2rJ0RX5a/taWTn5JDlyuGv7Wk0KcMp982ffMaMc3sz49zeJE2YTMNLrQnDmp06kHUgg6P5vkdHU9PIyjhITft71PDSS0iemLe7o+553cnYsNFrWh4g++/VBNdvQFB8PQgJJaLPQDLnziqZkkFBSLR1TYKbNSekWXMy//y9QLHWLZqxbWcyO5JTyczKYuLs+fTs0tmrTHzd2ixcZj18b9q2g2OZmdSsHsPe9P24XC4A/k1OYdvOZOrHO7e0VBnW0I2Xex5TgGdE5BtVPSgi9YAsO4rP98BHQG18x9ydAtwqIjNVNUtEmgM7VfUQViadu4GeWCP3H+0/t6f8XlX9WkTSgRt8yPZkBPCi/brQPjYVuBMrUAEi0k5Vlx9H/32iqvtFZJ89gzAP+A8wp5hqGYAzAaJdLo68+TxVX30fgoLJmjiWnK2bCL/uNlzr15K9YDZVbr0XqRJJ5FOWE31OWgqHR91FaI9+BLftgETHENbfitlw+IXHydm4Pk9+jotj779ClWfftratTf2NnO2bCbvyJlwb/sb15zzCrr8LIqoQMeoF65rsSuHo0/dDTg6Zn7xFlRf+D0TI2bCOrMljfXYjbdoM6vbpRY/FC3EdOcKKO+/JPddt9jTmndcHgFUPjMrdtrZrxkzSps8s0TVKe+opEj/9HIKD2P/jj2Ru3ECtkXdzdNUqDs2cQUTr1iS89z7B0TFE9ehJ9l0j2TpwAAD1vx1NWNMmBEVWpcm8+aSMGsXh+fOKbtMDdbn45+HHaPf9t0hwEEnffs+h9f+UuL6b1ROn0GpgX57ZuMLatnbtbbnnHl02n+fad6V6vQQGPvYAyX+v55Gllo6z3/2QBZ98ydop0zmtb0/+u2YROS4XPz/wONcOaAJASFAQj/btzI2jZ5CTowxt25RT6lTnnTkrOD2+Jj2b1+erv9Yza8MOQoKEmIhwnh9sTYL1bdmAP7amcOFH4wGhW9P4Ag8DJeHehx9j0ZIl7EtPp3u/wdx5y40MH3pB8RU9SJk2nbg+vei35A9r29odd+ee6zVnOjPOtfwGlj3wcO62tdTpM0mZnveAlzj0Qv79ycd0u8vFwVefI+btD5GgII7+9guuLZuIvOkOsv9eQ+a8WYSc2orol98iqFo0Yd3OI+fG29l32QUQEkL1D62lKD10kAP/fdhykMtHSHAwj99xA9ePepqcnByG9evFKY0a8Pbn39GqeVN6nn0GD918DY+//h5f/PwbgvDCA3ciIvy1ai3vfDGakOBggoKEJ0feTPVo5+LQOxj6tdyQE/lpI9CISCNgvL1+jYiMJM+oHgSuVNVN9rlVwG5V7ZG/ru0d/ywwBGu0vgu40DaG1wPPqGqCvW6cDvxHVX8WkX5YhjgHyAJuVdXFhei6FevBYgDWaPcyVd0oIrWxcu+eivWANldVbynJVjERuQYrJ+8dHm10UtXdnufsbWj/AyKBzcC1qrpPRGYD96vqYluPxarayHammwKEAi/YuuXqYjsTDlbVrYXptr97m4B/MSt6cpZTakYWX8hPdgY4OcsPuzKKL+QH//f5AwGVD4FPzvJTYoviC/lB91NqFV/IT2qP+SGg8qXB6aULCuCDf5o3K/FvTvN/NvrdXiA4qQ16RcLT2Ja3LmWBMejFYwx68RiDXjzGoFusP6VpiX9zWmzYdEIadDPlbjAYDIaTnsowtjUG/QRDRH4BGuc7/JCqNvJDZj/gpXyHt6jq0OOVaTAYDJWJE3k7WkkxBv0EIxBGVlWnYK1pGwwGg8EHlcCeG4NuMBgMBoPxcjcYAsT2Ni0C/sVMSnMuylR5sO1YZsDbSAwLC6j8ujVKHsnteFiYfCCg8gGqBgc2nMewHeuLL+QHmzp1Cqh8gD+TiouZ5R+Xp6f57aS2smGjEv/mtNm21TjFGQwGg8FwIlIZxrbGoBsMBoPhpMcYdIPBYDAYKgFaCdbQjUE3GAwGw0mPyxh0g8FgMBgqPhXfnJtsa4YKQMQ53YgfN5n48VOJvu7GAufDO3Yi7vufqb90DVX69PM6V3/ZWuJ+GEvcD2Op/fb7PuXH9DiPtvNn027hPBLuuK3AeQkL45QP3qPdwnm0mjiO8PreiTnC6iXQedM64m+9udA+lEUb7V98joFL/qDf/FnUaNPaZ5kabdvQb8FsBi75g/YvPpd7vHqr0+g1ZQL9Fsym63dfEVItqkDd6j3Oo8OC2XT4Yx717vTdhxYfvkeHP+bRZlJeH6Lat6PtjMm0nTGZdjOnUHNAf5+6RXbtTsNJU2k4ZQY1bizYz4hOnan/0680W72OqH55MsJankri6DE0+G0SDX4dT9SAgYVeo84vPceFy/5kyILZ1Gzr+xq1e3wUw9Ys47KdW7yO1z37LAbNnc6Ve5JocEHhee/bvvAs/RYvpPe8mVQv5D5Ub9uG3vNn0W/xQtq+8Gzu8TM++SA3VWr/5X/Ra870QtvJz6gnn6FLz34MvvjSEtfJT5Wu3ag/YQoNJk+n+g03FTgf0bEziT+OpcnKv6naN+8ehCQkkPjjWBJ/Hkf9cROJHnFZidvs+NJzDFn6JwMWzKZGIfekzWOjuGD1Mobv2OLzvBNoKf5OVBw16CJyjYi8e5x1PxeRi0sgP6GoMj7qNLKTgRQl87h0Lq1uIjJbRDrZ7yeKSPUiyt4tIpEen4ssX1HI369iCQqixiNPkHbrDSRfOIjIAYMJadLUq0h2cjJ7HhvF4UnjC1TXY0dJueRCUi65kN133epTfuMXnmXd5VexontPag29gCrNT/EqUvfyS8lOT2d5l24kf/AxDR57xOt8w6eeIH1mEWkmy6CN+D69qNa0MRM7nsXiu++n42sv+yzX8bWXWTzyPiZ2PItqTRsT17snAJ3fep2VTz3LlHPOY+f4ibS88/YCfWjy4rOsufwqlnXrSR0ffYi1+7D0rG4kffAxjR63+nB43TpW9B3Eil79WXPpf2j66gsQHFxAfp0nnmTnjdezbXB/qg0aTFjTZl5FspOTSB31IBnjf/M6rkePkPrQ/WwfMoCdN15HnVGPEVStYBauen16Ed20CWPbn8nCkfdx5uu+r9GOSVOZ2LNfgeOHduxkwa13sWXMzz7rAcT17kVU0yZM6dSFpffcT/vX8gdotGj/6kssvfs+pnTqQlTTJsTa92HR9Tfnpkrd+dsEdo6fWGhb+bloyCA+/r+3Sly+AEFB1HnsSZJvvoHtQwYQNXAwoT7uQdojD3Fwgvc9yN61ix2XXcKOi85nx6UXU/2GmwiuU7fYJhP69KJakyb81uFMFo28j86FfG93Tp7KlF4F74mTVIb0qRVthH4NUCqDXoZcQyl0U9WBqppeRJG7sbKblbR8ReFuPPpVHGGt2pC9fRuunTsgO4vDkycQ2aOXVxlX0k6yNqxHc3JKrUxU+3Yc3bKVY9u3o1lZ7Bk7jhr9+nqVqdGvL7t++BGAPeMnEN31nLxz/ftxbPu/HCkiXWhZtFFvYH+2jh5j1V+8hNCYaCJivX9QI2LrElotij2LlwCwdfQYEgdZKVSjmjVl1+9WRt6U2XNIHDLIq261DnYftll92DV2HDX7e/ehZv++pNl92P3bBGLsPuQcOZqbSjMoItynO3FEm7Zkbd9G9o5/ISuLjIkTqNqrt1eZ7J07yfxnPaj3fc7aupWsbdsAcKWl4dq7h+CaNQu0UX/QADZ9ZyUJ2b14CWExMVSJLWh0di9ewpF8OcYBDm3/l/Q1a4v8nsUP7Me20VYbexcvJTS68Puwd/FSALaN/oGEgQVnLRIvHMIOX2lOC6Fzxw7ExESXuHx+wlu38boHBydNoGpP7/+17CTrHhRwIMvKgiwrLoKEhkFQyUxLvYED2GJfrz32Pcl/vdzn8ud9d5qTZoQuIleJyEoRWSEiX4nIEBH5U0SWich0ESmQZV5EYkXkF7vOChE5O/9oWUTut9N85q/7hIj8JSKrReRDsbgY6AR8IyLLRaSKiHQUkTkiskREpohIvF2/o7td4Pb88n2QICKTRWSDiOQ+IorIZSKyytbjJftYsD2bsNo+d48v3UpwTbeKSG0RqSoiE2x9V4vICBG5C+vhYJaIzMpXvpGI/C0iH4nIGhGZ6m5PRDrb92m5iLzivtYicrqILLKPrxSRU4rQy+te28caichM+/gMEWlgH/eaVRGRg/brefZsxI8isk5EvrHvYYF+FUdwbCyu1JTcz9mpqQTXLfB1K/w6h4UT+91PxH79PVXyPQgAhMXHkZmUlPs5MzmZsPi4wsu4XLgyMgipWYOgyEgS7riVHa++UaQOZdFGlfh4Du/cmfv5SFIyVeLjC5ZJSs79fDgpKbfMgXXrqefOj37BECLr1fPWLy5fH5KSCY8r2IdjO/P6kG33ASCqQzvaz5lO+9nT2PTAIwVyZYfExpKdnKdbdkoKIbElv89uwlu3QUJDydq+vcC5yPg4Du/M68PhpCQiE+ILlPOHKvHxHPFo40hSMhH57kNEfDxHPO6Dr3tVu8tZHEvbzcHNgZtizk9IbBzZKfnuQSn+14Lj4kj85TcazpxL+scf4tpVvAH2eU/inb0nJSWnFH8nKsUadBE5HXgM6KmqbYGRwHzgLFVtD4wGHvRR9W1gjl2nA7CmFHq9q6qd7TzlVbByZ/8ILAauUNV2QDbwDnCxqnYEPgXci4KfAXfabZeEdsAIoDUwQkTq29PnLwE97fOdReRC+309VW2lqq2Bz/LrpqpHStHX/kCSqra1+ztZVd8GkoAe7vzr+TgF+D9VPR0rv/owj37fbF8fz1/MW4C37OOdgB2+FCnkXoN1nb9Q1TbAN1j3tjjaY43GTwOaAOcU1y8RuUlEFovI4m/3ppegieJJ6t+D1MuGsfuh+6jx4COEJNZ3RC5A4gP3kvzhx+QcDlzEubJoA2DRHXfT7Ppr6DNrKqFRUeRkORuF7uDS5Sw7tzcr+g0mceTtSLjzEeKC69Qh7uVXSX3k4Qq/qbj+sKH8+3PJR+cnAq6UFHYMHcL2/r2pdsFQgmsFPi2rk+SolvjvRKUkXu49gTHuPNyquldEWgPf2yPiMMDXY2RP4Cq7jgvYLyI1SqhXDxF5EGtqtibWw8Bv+cq0AFoB00QEIBhIFmudubqqzrXLfQUMKKa9Gaq6H0BE1gINgVrAbFXdZR//BugOPAM0EZF3gAnA1BL2qTBWAa/ZMwDjVXVeCepsUdXl9vslQCO739VUdaF9/FvA7bmzEHhURBKBn1V1QyFyC9xr+3gX4CL7/VeA74Uubxap6g4AEVkONMJ6ECwUVf0Q+BDyQr+6UlMJjs0bCYbExuJKSy1B8xauNGuU4Nq5g6OLFxF66mnWlKJNZnIKYQl5KyVh8fFkJqd4yXCXyUxOgeBggqtVI3vvPqLat6fW4IE0fPwRgqOjIUfJOXaU1E+/8Fnf6Taa3XAtTa66EoC9S5d7jaqrJMRzxGPEC3AkOdlrRBqZkJBbJmPDRuYMGwFAVNMmxPft461fSr4+JMRzLKVgH8Lr5fUhxO6Dlw4bNuI6dIiqLVtwcMXK3OPZqamEeIzMQuLiyE4t+X0OqhpFwv8+Zs+br3N0xfLc4y1uuI5Trrau0Z5ly4isl9eHyIQErxmL46XJ9dfS+KorANi3bDlVPNqokhDP0Xz34WhyMlU87kP+eyXBwSQMHsjMnt5LGoEmOzWFkLh896AU/2tuXLvSyNy4gYiOnTk0dXKB86fccB3N3PdkqY97kuz/PTkeTlwzXXKOdw39HaxRdGvgZiCihPWy87VZoJ6IRADvYY28WwMfFSJfgDX2iLidqrZW1eP9Dzjm8d5FEQ86qroPaAvMxhr5fnycbbrl/YM1g7EKeFZEnihBtRLra7fxLXA+cASYKCI9j1Pd/OTeTxEJwnq4Oy4dCyNzzSpCGzYiuF4ihIQS2X8QR2bPLFFdqRYNoaEABFWvQXi7DmRt2uhV5uDyFUQ0aUR4g/pIaCi1LjyffVOneZXZN3UadS6xVhZqDR7EgQULAFh74TCWdT6bZZ3PJuWjT9j59rsFjHkg29j48WdM7d6Lqd17sXPiJBpdOtyq36kjWQcyCqw5Hk1NIyvjILU6dQSg0aXD2TnR+sENr13bvmjC6fffw6bPvPuRsWwFVTz6UOfC89k7xbsPe6dMo67dh9pDBrF/vtWH8Ab1c53gwhPrEdmsGUf//der7tFVKwlr2JCQeokQGkq1gYM4NHNGgWvpk9BQ4t99j4xff+HgFG8Dsv7jTxnfrSfju/Vk+/hJNL3sEku/Th3JOnDA51p5adn8yWe5jmxJEybT8FKrjZqdOhR5H2p26gBAw0svIXliXjLEuud1J2PDRq9p+bLg2Grrf819D6IGDOLQrJLdg+DYuNxZl6DoaCI6dCRry2afZTd8/CmTuvVkUree7Jgwicb29apl35NAr5UXhpNr6CLSX0TWi8hGEXnYx/lwEfnePv+niDRyog8lMegzgeEiUstWpCYQA7gX7K4upN4M4Fa7TrCIxACpQF0RqSUi4eSNID1xG+/dIhIFeHq+ZwBu99X1QB0R6WK3ESoip9uOY+ki0tUud0UJ+uiLRcC59rp1MHAZMEdEagNBqvoT1vR0Bx+6lRh7av+wqn4NvHK88ux+Z4jImfah3L0rItIE2GxPef8KtClEjK97DfC7h7wrAPcswlago/3+fCC0BKqW7jq5XOx9/mnqvv8x8b9O5PDUSWRt2kjMbXdR5TzruSTs9NYkTJtDZN/+1Hz8KeJ+trzdQ5s0JW70T8SN+ZW6n3zBgU8/InvzpgLytz7yOC2/+5q282axZ9x4jqz/h8QH76OGPUpN+3Y0ITVr0G7hPOJvuZHtz75YYvXLqo3kqdM5uHUbg5b+Sae3XmPJ/Q/lnus7N+9Hecn9D9H57dcZtPRPDm7ZSvI061yDYUMZ+NfvDFy0gCMpqWz55rsCfdg86nFOH/017efPYrfdhwYP3kfNflYfUr8dTUiNGnT4Yx4Jt9zI1uesPkSf0Zn2M6fQdsZkWn72EZsefrTAyB2Xi7RnnqLeJ5/RcMIUMiZNJHPjBmreOZKqtu9DeKvWNJo9n6h+A6j71DM0+G0SANX6D6RKp85ED72IBr+Mo8Ev4whreWqBa7Rz6nQytm5j6PJFdHn7Nf68L+8aDZ6X95DY4eknGLZ2OSGRVRi2djltH34AgFod2jFs7XIaXjiELm++yvl/zC3QRsq06Rzauo1+S/6gw5uvseyBvN9yzy1oyx54mA5vvU6/JX9waMtWUqbn3aPEoRfybymc4dzc+/BjXHr19WzZto3u/QYz5pdfSyfA5WL3c08R/9GnNPhtMgenTCJr40Zq3DGSyB7W/1p4q9Y0nDmPqH79qfPk09QfZ3nhhzVpSr3RP5L48zgSvviG9M8+IXND4U6cbpLs7+2QZYs4863X+MvjngzwuCftnnqCC9dY9+TCNctpbd8TJ8nRkv8VhW0v/g9rZvg04DIROS1fseuBfaraDHgDa3nXb0qUbU1ErgYewBppLQN+sZXYh2UEOqvqeSJyDdBJVe8Qy1HuQ6z1Uxdwq6outB2jRmI9EGwGtqrqkyLyOdaU848i8iyWAU0B/gG22WWGAc9jjTS7YE27v431gBECvKmqH4mIe01dsabEB9rr0776lquz/Xk88KqqzhaRy4BHsGYDJqjqQyLSFmut2v0wNEpVJ+XXzdc6uojMBu5X1cUishVrPbsjliHPAbLs67RYRO4E7sBaX+/hUT7Kvk6tbJn3A1H29TkTa0YjB5hj9+sc+wnxP7b8FOByj+n0/Dp63WtVvUZEGtp9rg3sAq5V1e32Pf4Vy89hMnC7qkaJyHl2PwfbMt8FFqvq5/n75UsHMNnWSoLJtlY8Jtta8Zhsaxaz6tYr8W9Oj7SdhbZnDzKfVNV+9udRAKr6gkeZKXaZhSISgvW7XEf93BNn0qdWIkQkSlXdnuYPA/GqOrKYaickxqAXjzHoxWMMevEYg24xsxQGvdeupJsBz8g7H9o+QNg7f/qr6g325/8AZ7oHjfax1XYZt5/RJrvMbn/6YEK/Vi4G2U+DIcA2rL3xBoPBYCiG0oRy93TgPZE4aQy6iPSj4DrFFlUdGoC2fgEa5zv8kKpO8VXeKVT1e+D74srZa+S+vF16qeoexxUzGAyGE5wc5/zcdwKe+2MTyfM5y19mhz3lHgP4/dt70hh025gG1KB6tOX4Q4KT2Ea7XXnrYTAYDCcKDq7x/QWcIiKNsQz3pcDl+cqMw3IoX4jl+D3T3/VzOIkMusFgMBgMheGUO5mqZovIHVgDyGDgU1VdIyJPYzkHjwM+Ab4SkY3AXjx2JfmDcYoznJAcu6pXwL+YrkNHAyr/97lbAyq/eXzBjGhO829qYB0Hd2QG1rGvcURgne4AGjco9W7VUnEgI7DXqOnixQGVD7ChQ8fiC/nBKes2+u0UN6l2Qol/cwbsTvK7vUBgRugGg8FgOOlxVYLBrTHoBoPBYDjpqfjm3Bh0g8FgMBiMQTcYDAaDoTKglcCkG4NuMBgMhpOeSrCEftzZ1gwBQEQm2mlQEZGDxZRtZIcP9HXuY3cyABHZaieUQUR+96ibf19kSXW8QERWishyO3d5V49zDURkqoj8LSJr3RmERORzEdli11kuIu1K1WbrzoS+9Dlhr3xJ8OCCuzuCegwm9LmPCH3mA0IfexNJaGjVa9LCOvbMB4Q++yFBHc/xKT+o3ZlEvP0dEe9+T8jQKwucDxkygog3vybi9S8I/+9bSJ3Y3HOhV95KxBtfEfHGVwSf3avIfjR//mnOXjSfM2dPo1obn6kFqNamNWfNmc7Zi+bT/Pmnc4/XPX8wZ82bSa/Uf6nWtmBunYhzuhE/bjLx46cSfd2NBc6Hd+xE3Pc/U3/pGqr06ed1rv6ytcT9MJa4H8ZS++33C9W/eo/z6LBgNh3+mEe9O28rcF7Cwmjx4Xt0+GMebSaNI7x+IgBR7dvRdsZk2s6YTLuZU6g5oH+hbbR/8TkGLvmDfvNnUaNNa59larRtQ78Fsxm45A/av/hcnn6tTqPXlAn0WzCbrt99RUg1710AMT3OpfW8WbT5fS7xd/jWv+n//o82v8/ltAm/EpZo6R+WmEinzf9w+rRJnD5tEo1eet6nXqFndaXGD+Op+eMkqlx1Q8Hz7TpS/Ysx1F6wgrB8qVGr3n4vNb4dS41vxxLeu/DrU6VrN+pPmEKDydOpfsNNBc5HdOxM4o9jabLyb6r2zZMTkpBA4o9jSfx5HPXHTSR6xGWFtlEUo558hi49+zH44uPbZRXZtTsNJ02l4ZQZ1Ljx5oL6d+pM/Z9+pdnqdUT1y9M/rOWpJI4eQ4PfJtHg1/FEDRh4XO0XRU4p/k5UzAj9BEJVHfmWumMI+zh+tv22EVagg2+PQ/wMYJyqqoi0AX4AWtrnvgSeU9VpdqY8z+/+A6r6Y6lbkyBCr7qLzJcfhL27CH3qPXKWLkSTtuUWyVk4k5xZVoa1oPZdCLn8FrJeHYXu2ErWf2+FnByIqUnYcx+SuWyh9dlNUBBhN97HsafvRvekEfHSx7j+mo/u2Jonf8sGjj54PWQeI6TfhYT+53YyX3+CoA5dCGrSgqP3XQOhoYQ//S6uZQvhSMGtXrV69ySySWN+P6Mr0R070PLlF/ir/5AC5Vq+8gJr732QA0uW0m70V9Tq1YM9M2Zx8O91rLzmRk59zUcWtqAgajzyBGk3XYsrNZW4737k8OyZXpnlspOT2fPYKKKvua5AdT12lJRLLiz6PgQF0eTFZ1lzyeVkJiXTdsp49k6ZxpF/NuQWib38UrLT01l6VjdqX3g+jR5/hPU33cbhdetY0XcQuFyE1q1Lu1lT2Dt1GrhcXk3E9+lFtaaNmdjxLGp16kjH115mep8BBVTp+NrLLB55H3sWL6H7mG+J692TlOkz6fzW6yx//Cl2/b6QxldcRss7b+fQ62/m6t/w+WdZP+IKMpOTOX3Sb+ybOo2jHvrXuWwErv37WXl2d2peMIT6j41i0y23A3B02zbW+NDF8/pUe+BR0u+8kZy0VGp8/j2Z82bh2pJ3D1ypyWQ88yiRV1zjVTXsnO6EtDiVff8ZBqFhVH//czIXzkMPHSrQRp3HniTphmvITk0h8fufODRrpldK4OzkJNIeeYjq117vVTV71y52XHYJZGUikZHU/3UCh2bOwLWrdKlKLxoyiCtHDOehx58sVb1c/Z94kp3XXU12agoNxvzMoZkzyMynf+qoB6lxnfdPmB49QupD95O1bRvBdevS4MexHJ4/j5yMjNLrUQg5lWCIbkboDiEiY0VkiYisEZGbROQWEXnF4/w1dtaxAmU9yuSOpj2ORYnIDBFZKiKrROQCj9MhIvKNPSL+UUQi7TqzRaRAxgWPUf+LQDd7tHyPiMz1HDWLyHw7q1wBVPWgR0Sjqti+JPaMQIiqTvMo5/cmZmnaEk3bCbuSwZVNzh+zCOpwtnehox7NhEfkebdkHssz3qFhPr1egpqdiqbsQFOTIDub7PkzCO7czatMzuqllizA9c8apFYdq279xrjWLoccFxw7im7bSHD7s3z2o07/fiR/bz3PHFiylJCYGMJi63qVCYutS0i1ahxYshSA5O9/pI49mj28YSOHN+VL/equ16oN2du34dq5A7KzODx5ApE9vGcLXEk7ydqwHs05vvFFtQ7tOLplK8e2bUezstg1dhw1+3uPMmv270vaD1Yfd/82gZiu1oxIzpGjucY7KCK80LnNegP7s3X0GAD2LF5CaEw0EfmuUURsXUKrRbFn8RIAto4eQ+Igy9BGNWvKrt8XApAyew6JQwbl1otq345jW7dybLul/55ff6NGP2/9a/Tvy25b/73jJxLdzfeMji9CTmuNa8e/5CRZ9+DotImEdfdOJpiTnIRr4z8FgoYHN25K1vIl1jU6eoTsjesJO6sr+Qlv3Yas7dvI3vEvZGVxcNIEqvb0vs/ZSTvJ/Gc9mj8weVYWZFn72SU0DIKO76e/c8cOxMREH1fdiDZtvfTPmDiBqr16e+u/09If9f6eZm3dStY26yHelZaGa+8egmvWxEmczIdeXhiD7hzXqWpHrBSnd2GlmPUMATsCGO2rrDv/eCEcBYaqagegB/CaiLiDGrQA3lPVU4EDQMF5RN88DMxT1Xaq+gZW1KJrAESkORChqisKqywiQ0VkHTABcA/5mmPlof9ZRJaJyCt2XmA3z9lT9W+ISImjfUiN2uieXbmfde8upEbtAuWCel1A2CtfETLiJrK/fjevfpOWhD7/CWHPf0z25294j84BqVkH3Z03StG9abkG2xchvYbgWvoHADlbNxLc/kwIC4dqMQS16oDUquuzXnh8HEeTknI/H0tKJjwuzrtMXBxHk5LzyiQnEx7vXcYXwbGxuFJTcj9np6YSXDe2iBreSFg4sd/9ROzX31Olh+9lg7C4ODI99M/0oX9YfBzHdtplXC6yMzIIqVkDgKgO7Wg/ZzrtZ09j0wOPFBidA1SJj+fwzryQ10eSkqkSH1+wjMc1OpyUlFvmwLr11BtoGff6Fwwhsl693HKhcR66AZnJyYTFeV+j0Lg4jiXl6e86kKd/eIP6nD51Ii1//oGoM88ooHtQ3VhcqXl65aSlElynZPcge4NtwMMjkJjqhHU8g6DYgvc9JDaO7JS8NrJTUggpxX0Ojosj8ZffaDhzLukff1jq0bm/hMTGkp2cT//YkuvvJrx1GyQ0lKzt251Uzxh0gxd3icgK4A+soPuNgc0icpZtsFsCCwope0oRcgV4XkRWAtOBeoD7v+BfVXXL/Boo+FhfMsYAg0UkFMtAf15UYVX9RVVbAhcCz9iHQ4BuwP1AZ6AJedneRmH1vzNQE3jIl1x7ZmOxiCz++J/8uQyKJmfGr2Q+8B+yf/iI4Avy1sF18zqyHrmerCdvI3jw5RAaWiq5ngR370tQ05Zk/2qtVOSsWIRr6UIinv+A8HueImf9mgIPDBWBpP49SL1sGLsfuo8aDz5CSGL94iuVkoNLl7Ps3N6s6DeYxJG3I+HOR3BbdMfdNLv+GvrMmkpoVBQ5Wc5EWMtKS2NFp7NY03cg2598hqb/9zZBUc5F6cv683cyf59LjY+/IfqZV8hatSIg3yNXSgo7hg5he//eVLtgKMG1ihpHnJgE16lD3MuvkvrIw457sRmDbgBARM4DegNdVLUtsAyIwBqRXwIMA36x150LK1sYVwB1gI6q2g5I9Sif/7t1XN81e2p8GnCBre83Jaw3F2hiLxPsAJar6mZVzQbGAh3scslqcQz4DCg4xLHKfaiqnVS10w3NrdGV7tvtNWKWmnXQfYWnDPY5JQ9o0nY4dgRJ9E6Cp3t3IbXzRtVSs67XjICboDadCB12NcdeeBCys3KPZ//0JUfvv4ZjT98NAjnJ/+aeS7zuas6cNZUzZ00lMzWViISE3HPhCfEcS0nxbIJjKSlEJOSNSMPj4zmW7F3GF67UVII9RnQhsbG40lKLrZdbP80aqbl27uDo4kWEnnpagTKZKSmEeegf5kP/zOQUwuvZZYKDCalWjey9+7zKHNmwEdehQ1Rt2QKAZjdcS9+5M+g7dwZHUlK9RtVVEuI54jGiAziSnEykxzWKTEjILZOxYSNzho1gWo++bPvpFw5uyfOzyErx0A0Ii48nM8X7GmWlpBCekKd/cLSlv2Zmkr0vHYDDK1dxbNs2qjRt4lU3Jy2V4Ng8vYLqxuLaVfJ7cPjzD9n3n2Hsv+tGEMG1fWuBMtmpKYTE5bUREhdHdinusxvXrjQyN24gomPnUtf1h+zUVELi8+mfWnL9g6pGkfC/j9nz5uscXbHccf1yVEv8d6JiDLozxAD7VPWwiLQE3Aupv2AZycvIm24vrGxRstNUNUtEegANPc41EJEu9vvLgfkl1DcDyB+A+mPgbeAvVd1XsIqFiDRzT/mLSAcgHCvt319AdRFxW9+ewFq7XLz9Klijep/e+b7QzeuQ2HpQOw6CQwg6qwc5y3731ik2zwgEtT0LTbVH97Xj8tYKa9VF4uuju7yNUM7GdUh8IlI3HkJCCOnaC9di78sojU8h7OYHOfbiQ3AgPe9EUBBEWeuJ0rApQQ2bkbN8Ue7pHZ9+wZ89+vJnj76kTZpC/IiLAYju2IHsAwfITPWe8sxMTSM7I4Pojh0AiB9xMbsmF58gMHPNKkIbNiK4XiKEhBLZfxBHZs8sth6AVIvOnbUIql6D8HYdvJys3GQsW0GVJo0Ib1AfCQ2lzoXns3fKNK8ye6dMo+4lVh9rDxnE/vnW5FF4g/oQbK2+hCfWI7JZM47+az34bPz4M6Z278XU7r3YOXESjS4dDkCtTh3JOpDB0XzX6GhqGlkZB6nVyYoN3ujS4eycONmSXdteihHh9PvvYdNnX+TWO7h8BeGNGxNW39K/1gVDSM+n/74p06ht619z8EAOzLe+ZyG1auZ+j8IbNCCicWOObtvmVTf779UE129AUHw9CAklos9AMufOKuLKexAUhETHABDcrDkhzZqT+efvBYodW23d55B6iRAaStSAQRya5SsLckGCY+NyZ0WCoqOJ6NCRrC2bS6afQxxdtZKwhg1z9a82cBCHZpZMf0JDiX/3PTJ+/YWDUyYHRD9XKf5OVIyXuzNMBm4Rkb+B9VhT6ajqPvvYaaq6qKiyRfAN8JuIrAIWA+s8zq0HbheRT7GMZ+F7jrxZCbjsaf/PVfUNVV0iIgewRtBFMQy4SkSygCPACNtJziUi9wMzbMO9BPjI3Qfb0AuwHLilhHpCTg7ZX75D6IMvIRKEa+4kdOc2gi+6Bt2ynpxlCwnqfSFBp3cAVzYcOkj2h1ba+6DmrQgefJl1XJXsL96GgwfyyXeR+fEbhD/+OgQFkz1zPPrvFkIvvYGcjetwLZ5P2FW3IxFVCL/vWavK7lQyX3wIgkOIePY9APTIYY699bTlIOeDPdNmULt3T85etICcI0dYc9e9uefOnDWVP3tYDlrrHnyE0995g6CICPbMnMWe6ZZhrjOwPy1eeJawWjVp9+2XHFyzhkMj7W0/Lhd7n3+auu9/DMHBHBr7E1mbNhJz211krl3NkdkzCTu9NbXffJeg6GiqnNsD1613knLRYEKbNKXmE09ZjlpBwoFPP/Lyjs/F5WLzqMc5ffTXEBxM2nffc2T9PzR48D4OrljJ3inTSP12NM3ffZMOf8wjOz2d9TdbHuLRZ3Qm8c7byMnOhpwcNj38aIGRO0Dy1OnE9+nFoKV/kn3kCItuH5l7ru/cGUztbq3vL7n/Ic58722CIyJInj6D5GmWUWgwbCin3HAtADvGT2TLN9/lJWdxudj2yOO0/O4rCA5m1+jvOfLPP9R74F4OrVhF+tRp7Prue5q+8yZtfp9Ldno6m265A4BqZ51JvQfuQ7OyQHPY+tAjuNL3F7g+B199jpi3P0SCgjj62y+4tmwi8qY7yP57DZnzZhFyaiuiX36LoGrRhHU7j5wbb2ffZRdASAjVP/zK+h4dOsiB/z7s08cAl4vdzz1F/EefIkHBHPjlR7I2bqTGHSM5tmYVh2fNJLxVa+Lefo+g6Giq9uhBzTvu4t/zBxLWpCm1HrSnqUVI/+wTMjf84/O7WhT3PvwYi5YsYV96Ot37DebOW25k+NALiq9o65/2zFPU++QzCArmwE9jyNy4gZp3juTY6tUcmjWD8FatiX/3fYKjo6naoyc17xjJ9iEDqNZ/IFU6dSa4enWih14EQMqoh8hc93ep+1AY+f0IKyIm25oBABFJAGYDLVW13BeCTba14jHZ1orHZFsrHpNtzeLzmDol/s25Zv+uEzLbmplyNyAiVwF/Ao+eCMbcYDAYypocLfnfiYqZcjegql9iBYXJRUSuBUbmK7pAVW8vM8UMBoOhjDiB7XSJMQbd4BNV/Yzi19MNBoOhUnAij7xLijHoBoPBYDjpya4E/mTGoBsMBoPhpKcyOA8Zg244IZk0fk3A22heIzKg8o8GOGpc+v5jAZUPcCTAfVh2MLB9uPjLJwMqHyCobfeAyp/WpkfxhfwgJ8Ae6ACnLF0S8Db8xUy5GwwGg8FQCcipBG5xxqAbDAaD4aTHjNANBoPBYKgEmDV0g8FgMBgqAcbL3WAwGAyGSkBlGKGf9KFfRWS2iHQqw/ZeEZE1IvJKgOQ/LSK9AyHbR1vnich4j/cF85Y6ROsXnqX34oX0mDeTmDatfZaJaduGHvNn0XvxQlq/8KzXuSY3Xk+vP+bR8/c5nP7k40W2VbV7d5pOm06zmTOpdXPBPDKRnTvT+NdxnLr+H6r1H1DiPpz+wjP0+Ot3us+dQXQRfeg+byY9/vqd0194psD5JrfdzOA9yYTWrOl1POrcc2kxcwYt5symzq23FqgnYWE0ePddWsyZTbOxYwlNTLROhISQ+NprnDJlMs1nTKfObbcV2Yfmzz/N2Yvmc+bsaVRr08pnmWptWnPWnOmcvWg+zZ9/Ovd43fMHc9a8mfRK/Zdqbdv4rDvkjZe4/++ljFy6gIT2bQucD61ShWt+/Z57Vy3inuUL6f/cf3PPdb37du5Z8Qcjly7ghim/Ur2Bd173eeu2MvClL+j3wmd8NPMvn+1PWv4Pg1/+kiGvfMkD30zKPd7qgbcY+vrXDH39a27/dFyh12feX0vpf+0d9L36Nj4c/XOB80lpu7jq/icYest9nH/TPcz50/L+3pGSRttBl3Lhzfdy4c338t83/1doG550fOk5hiz9kwELZlOjre/vVJvHRnHB6mUM37GlWHmRXbvTcNJUGk6ZQY0bby5wPqJTZ+r/9CvNVq8jql//3ONhLU8lcfQYGvw2iQa/jidqwMAS6Z+fUU8+Q5ee/Rh88aXHVd8fyir0q4jUFJFpIrLBfq3ho0w7EVlo24qVIjKiJLLNCN0PRCTEzv1dGm4CaqpqsVn4jke+qj5RSn2c4jzgIFAw76OfxPbuRVTTJkzv1IUanTrQ9rWXmNun4A9Gu1dfYvnd97Fv8VK6/PAtdXv3JG36TGp3PYe4Af2Y1b0XOZmZhLnTbPoiKIj4J59i29VXkZWSQpNfxpIxYzqZG/NSimYlJZH04IPUuvGGEvehbu+eVG3ShFmdz6Z6pw60fvVFFvQdVKBc61dfZOU995O+eClnfP8NdXr1ZNcMK+NaREICtXucx+F/dxTQud4zT7PliivJSkmh2bhxHJg+jWMb8nSuOeISXPv3s/7c84gZMoT4hx9m+x13UH3QQILCwtjQrz8SEUGL6dNJHzeOrB352gBq9e5JZJPG/H5GV6I7dqDlyy/wV/8hBcq1fOUF1t77IAeWLKXd6K+o1asHe2bM4uDf61h5zY2c+tqLPq9Ri/59qN2sCa+e2oH6Z3biwndf471zCj6bzn39XTbPmUdwaCg3TP2V5v1688+U6SQtW8m7H/Qg68gRzrz5Oga88BRg5dt25eTw7C+z+Pimi4iNiWLEW9/R47QmNIurlSt36659fDTzL7654xJiIiPYk5GXmCY8NIRf7r3Sp95uXC4XT7/zEZ++9F9ia9di+B0P0rNLZ5o1zHuweP+bHxlw7tlcNqQ/G7f9y02PPsvMMz8AoEFCLGM/eL3INjxJ6NOLak2a8FuHM6nVqSOdX3uZqb0LPmDunDyVfz76hCFL/ixaYFAQdZ54kp3XXU12agoNxvzMoZkzyPRIp5udnETqqAepcZ33d1+PHiH1ofvJ2raN4Lp1afDjWA7Pn0dORkaJ+wNw0ZBBXDliOA89/mSp6jlBGY7QHwZmqOqLIvKw/fmhfGUOA1ep6gY7cdYSEZmiqulFCa4wI3QRaSQif4vIR/ZTy1QRqeI5whaR2iKy1X5/jYiMtZ+AtorIHSJyr4gsE5E/RMRziPMfEVkuIqtF5Ay7flUR+VREFtl1LvCQO05EZgI+k/mKxSu2vFXupysRGQdEYd0cn09cIvK5iPxPRP4EXhaRpiIyWUSWiMg8EWkpIjEisk1Egjx0/VdEQu36F9vHO4rIHLvuFBGJF5G6IrLEPt9WRFREGtifN4lIpIgMt3VfISJzS3JvsFKi3mNfx262Hu/b13qzPYL/1L6Hnxcn05O4gf3YPvoHAPYtXkpodDThsXW9yoTH1iWkWhT7Fi8FYPvoH4gfaI0gGl93NRveeoccO7NX5u7dhbZVpW1bMrdtI+vffyEri/3jx1Otdx+vMlk7d3Js/TooxR7t2AH92fH9GADSFy8lNKawPlQj3e7Dju/HEDcwbxR0+nNP8feTz1gpMD2IbNeOzK3byPz3XzQri/TffiO6T1+vMtF9+rLvp58A2D9xIlHn2JMpCkGRVSA4mKCICDQrs9Af4Tr9+5H8/Y8AHFiylJCYGMLy9SHM7sOBJVYfkr//kToDrD4c3rCRw5t8pGa1Oe38gSz9ejQA//65mCoxMVSLi/Uqk3XkCJvnzAPAlZVF0rKVxCQmALB5zjyyjhzJre8+DrBqewoNasVQv1YMYSHBDGjXnJlrvHX58c/VXH5OW2IiIwCoVa10cQpWrt9Ig4R46sfHERYaysDzujLj90VeZUTg4CHrQSHj0GHq1qrpS1SJqDdwAFvs/4s9i5cQFhNDRL774T6XP6+8LyLatCVr+zayd1jf/YyJE6jay/uBKnvnTjL/WQ/5cjhlbd1Klp0j3pWWhmvvHoJrlr5vnTt2ICYmutT1nCBHtcR/fnIB8IX9/gvgwvwFVPUfVd1gv08C0oA6xQmuMAbd5hTg/1T1dCAdKzd3UbQCLgI6A88Bh1W1PbAQuMqjXKSqtgNuAz61jz0KzFTVM4AewCsiUtU+1wG4WFXPLaTdi4B2QFugt103XlXPB46oajtV/b4IvROBs1X1XuBD4E5V7QjcD7ynqvux8oq72x8MTFHVLLcAEQkF3rH17Gj36zlVTQMiRCQa6IaVY72biDQE0lT1MPAE0E9V2wLnF6EnAKq6Ffgf8Ibdt3n2qRpAF+AeYBzwBnA60FpE2hUn102V+HiO7EzK/Xw0KZkq8fEFyyQl+ywT1bQJtbqcRfdpE+n62y9Ub1940yGxcWQl58nJTkkmNDa20PIlJSI+rkAfIvL1ISI+niNJ+cvEARA7oB9Hk1PIWLO2gOzQuFiykvPqZSUnE5rPEIbGxZLllu1y4crIILhGDdInTiTn8BFO+2sRpy78nV0ffoRrf75c3zbh8XEc9dDvWFIy4XFx3mXi4jjqcR+OJScTHu9dpjCiE+JJ37Ez9/P+nUlE14svtHxETAwtB/Vn08w5Bc51uvZK/pk8Pfdz6v5DxFXPS3MaV70aafsPedXZumsfW3ft44p3v+fSt0czb93W3HOZ2dkMf/NbLn17NNNXb8QXqbv3EF8nb8QfV7sWqbv3epW54z8jGDdjLudedgM3P/osj92eN9LdkZLG0Fvu48p7H2PxqoL3OT+R8XEc9vhOHU5KIjK+8OtVHCGxsWR7ffdTCDmO73546zZIaChZ27cfty7lQbaW/E9EbhKRxR5/N5WiqVhVdV/oFKDIi2wPMsOAwp+GbSralPsWVV1uv18CNCqm/CxVzQAyRGQ/8Jt9fBXguYj3HYCqzhWRaBGpDvQFzheR++0yEUAD+/00VfX+T/WmK/CdPa2eKiJzsB4qCl9882aMqrpEJAo4Gxgjkpt+153g+XtgBDALuBR4L5+MFlgPNNPsusGA+0v0O3AO0B14HugPCOA2xAuAz0XkB6DgQmDJ+U1VVURWAamqugpARNZg3bvlnoXtf4qbAG6NrEbfcGciuUlICGHVqzO3z0Cqd2hP508/ZFr7MxyRXRYEValCs3vu4s9hzq8rRrZri+a4WHvGmQTHxNBszA8cnD+fzH//dbwtJwkKDuayrz/m9//7gL1btnmda3f5JSR2bM8HPQfRa/RTJZbpylG27U7n81svJjX9IFe9N4ax919JdJUIpj96PbExUfy7Zz/X/u9HmsfVpkHt6qXWe8Ks+Qzt24Prhl/AsrXreeilt/jtozepW7MGM7/5kBrR1Vj9zybuePJFxn/0FlFVAxvN0GmC69Qh7uVXSX34wQIzSSc6pZlyV9UPsQZbPhGR6YCvJ9lH88lRESn0QolIPPAVcHVJUltXNIPuGSfSBVQBssmbaYgoonyOx+ccvPue/4IqloEbpqrrPU+IyJnAIQKLW34QkG7PHuRnHPC8vXTQEZiZ77wAa1S1i4+6c7FG5w2BX7HWbxSYAKCqt9j9HIS1PNBRVfccRz88r3f+e1Hgu+f5T7LigVHa6KorANi3bDlV6uVNn0YkxHPEYyQBcCQ5mSoJ8T7LHElKImn8RADSly6DnBzCatWCnCMFFM5OTSHUY5QTEhdPVmpqiTvsScPrr6HBf6w+7F+2gir1Etjnod/RfH04mpxMlQTvfh5NTqFqo4ZENmhA97kzco93nzWVLRdeSPauXWSlpBIan1cvND6erBRvnbNSUglNSCArJQWCgwmuVg3Xvn1Uv+ACMmbPgexsXHv2cGjJEqq0aZNr0BOvu5p6dh8OLFtOREIC7vF7eEI8x1JSvNo5lpJChMd9CI+P51iydxlPzrr1Bs64/moAdixeSvXEerjNc0y9BA7sTPZZ76L/vcXujZtZ8Pb7Xseb9TyXng/fxwe9BuGyl1gAYmOqkpKet5SQkp5B3ZiqXnVjY6Jo0yCO0OBgEmvF0LBODbbtSqd1gzhiY6IAqF8rhjOaJvL3zl0FDHps7Vok78r7N0nZvYfY2t7Tzj9NnsFHz1tOme1Pa8GxzCz27T9ArRrVCQsLBaBV86bUj49jy44kWrdo5lX/lBuuo9nV1lr+nqXLiPT4v4hMSOBwsu/rVRKyU1MJ8frux5Fdiu9+UNUoEv73MXvefJ2jK5Yftx7lhTr4AKKqhTomi0iqPWObbBtsn+sh9izqBOBRVf2jJO1WtCl3X2zFMmgAFx+nDPcad1dgvz2lPQW4U+zhrYi0L4W8ecAIEQkWkTpYI+FFxdQpgKoeALaIyHBbBxGRtva5g8BfwFvAeB9OduuBOiLSxa4bKiKne+h3JbDBfurbCwwE5ttlm6rqn7aD3S6gPsWTAVQrtlQJ2fLJZ8w6tzezzu1N8oTJNLj0EgBqdOpA9oEMjuVbEzyWmkZ2xkFqdOoAQINLLyFl4hQAkidMpna3cwCo2rQJEhZK5h7fzydHVq4krFEjyws8NJSYwYM5OGO6z7LFse2Tz5l3Xh/mndeHlImTSBwxHIDqRfYhg+p2HxJHDCd10mQy/l7HtJatmdn+DGa2P4OjScnM7dGX7F27ADi8YgVhjRsRWj8RCQ2l+pAhHJg2zUv2genTqDHMWqGKGTiQg79bvotZO5OIOttaT5cqVYhs355jHuvcOz79gj979OXPHn1JmzSF+BHWv1h0xw5kHzhAZr4+ZNp9iO5o9SF+xMXsmjyl0Gv0x/sf83anbrzdqRtrfp1AhyutWYj6Z3bi6IEDZKQUNCh9n3qUiOhoxt/7sNfxhHZtGPrem3xx0WUc2uXtJ9GqfhzbdqezY89+MrNdTFr+Dz1Ob+pVplerpvy1yXIG3HfoCNt27aN+rRj2Hz5KZnZ27vGlW5NpGltwfbh1i2Zs25nMjuRUMrOymDh7Pj27dPYqE1+3NguXrQRg07YdHMvMpGb1GPam78flsv6F/01OYdvOZOrHF5yJ3fDxp0zq1pNJ3XqyY8IkGtv/F7U6dSTrwIESrZUXxtFVKwlr2JCQetZ3v9rAQRya6dNNqCChocS/+x4Zv/7CwSmTj1uH8iSnFH9+Mg642n5/NdagygsRCQN+Ab5U1R9LKriijdB98Srwgz1dO+E4ZRwVkWVAKHCdfewZ4E1gpe18tgVrrbok/IK1drwCa+T7oKoWPkwpmiuA90XkMVu/0bZcsKbdx2B5mHuhqpm2c9zbIhKDda/fxBq1b7UfVNwOb/OBRFV1DyBfEZFTsEb5MzzaK4rfgB9t58E7S93LIkidNp3YPr3os+QPso8cYdkdd+ee6zFnOrPOtR6GVzzwMB3+7y2CIyJInT6T1OnWj9G2b76jwztv0HPBbHIyM1l6212FN+ZykfLUkzT4/AskKIj0H8dwbMMG6tx9N0dWreLgjBlEtG5D/fffJzgmhqievagzciSbB/QvXCaQNm0Gdfv0osfihbiOHGHFnffknus2exrzzrMc71Y9MIq2775JcEQEu2bMJG16/okX3zonPfEETb78EoKD2ffDDxzbsIHYe+/hyMpVHJg+nb3f/0D9N16nxZzZuNLT2X6HdYv2fPklia++QvNpU0GEfWPGcHTdOp/N7Jk2g9q9e3L2ogXkHDnCmrvuzT135qyp/NnDcsRb9+AjnP7OGwRFRLBn5iz22H2oM7A/LV54lrBaNWn37ZccXLOG6X0vzJWxftJUWg7owwPrlpF15DBjbrg999xdi+fxdqduRNdLoOcjD5D293ru/Mv6+i5870P++vQrBrz4NGFRVblitOVvlL59B9bzPoQEB/Ho0B7c+NEv5KgytPPpnBJXi3cmL+T0+nXpeXpTurZoyO//bGPwy18SHCTcP7gb1atWYdnWJJ78cQZBIuSocmOPTl7e8W5CgoN5/I4buH7U0+Tk5DCsXy9OadSAtz//jlbNm9Lz7DN46OZrePz19/ji598QhBceuBMR4a9Va3nni9GEBAcTFCQ8OfJmqkcX/XycNHU6CX16M2TZIlyHD/PH7SNzzw2YN5NJ3XoC0O6pJ2h08UWERFbhwjXL2fTVN6x60ceuWZeLtGeeot4nn0FQMAd+GkPmxg3UvHMkx1av5tCsGYS3ak38u+8THB1N1R49qXnHSLYPGUC1/gOp0qkzwdWrEz30IgBSRj1E5rq/i+xDfu59+DEWLVnCvvR0uvcbzJ233MjwoReUSsbxUoahX1/EslnXA9uASwDEcu6+RVVvsI91B2qJyDV2vWs8lpx9Ik5OMxgMTjG2ZlzAv5iBzra2Ob3glL6TNIgKL76Qn6Qdziq+kB9MTw/s6tVzP78QUPkQ+Gxr3wU421rnuMB7lQc821pkjBRfqGjuD6le4t+cV7PT/W4vEFSGEbrBYDAYDH5hQr+e5IhIaywPRE+OqeqZJaj7KDA83+ExqvqcU/o5hYj0A17Kd3iLqg4tD30MBoPBaUy2tZMcextWu+Os+xzW3vgTHlWdguUkaDAYDJWSyhDL3Rh0g8FgMJz0OBABrtwxBt1gMBgMJz2VYYRuvNwNlQIRuckOTFNh2zB9KH/5ZdFGRZdfFm2URR8qI5UhsIzBAHbI2ArehulD+csvizYquvyyaKMs+lDpMAbdYDAYDIZKgDHoBoPBYDBUAoxBN1QWymK9LdBtmD6Uv/yyaKOiyy+LNsz6+XFgnOIMBoPBYKgEmBG6wWAwGAyVAGPQDQaDwWCoBBiDbjAYDAZDJcAYdIPBYPBARGqISJvy1sNgKC3GKc5Q4RCRi4o6r6o/O9DGKqDQfw5VdeQHX0SaA+8DsarayjYk56vqs07It9uIBO4DGqjqjSJyCtBCVcc72EZD4BRVnS4iVYAQVc1wUP7LwLPAEWAy0Aa4R1W/dkj+bOB8rHDYS4A0YIGq3uuEfLuNYCAWj5DbqrrdIdkzVLVXcceOU3YbVV1pvw8FHgLOAFYDz6rqYX/b8GwLaIT3NfL7//lkwcRyN1REhtivdYGzgZn25x7A74ATPwCD7dfb7Vd3mtwrHJDtyUfAA8AHAKq6UkS+xTJeTvEZlpHqYn/eCYwBHDHoInIjVmSvmkBTIBH4H+C3MfGgr6o+KCJDga3ARcBcwBGDDsSo6gERuQH4UlX/KyIrHZKNiNwJ/BdIJS9suGI9mPgjNwKIBGqLSA1A7FPRQD1/ZHvwOdDBfv8iUAt4DbgQ6z5f5UQjIvIp1vVYg/c1Mga9hBiDbqhwqOq1ACIyFThNVZPtz/FYPz5OtLHNltlHVdt7nHpYRJYCDzvRDhCpqotExPNYtkOy3TRV1REichmAqh6WfA36ye1YI7Y/bfkbRKSug/IBQu3XQcAYVd3vbBcIsb8/lwCPOinYZiTWrMgeh+XeDNwNJGA9tLkvygHgXYfa8LzQvYDOqpolInOBFQ61AXCWqp7moLyTDmPQDRWZ+m5jbpMKNHC4DRGRc1R1gf3hbJz1PdktIk2xp/dF5GIguegqpSbTngZ3t9EUOOag/GOqmuk2sCISQhHLFcfJbyKyDmvK/VYRqQMcdVD+08AUYL6q/iUiTYANDsr/F9jvoDwAVPUt4C0RuVNV33Favk2MPTMSBISrapbdtoqIk/d5oYicpqprHZR5UmHW0A0VFhF5FzgF+M4+NALYqKp3OthGR+BTIAZrpLIPuE5VlzokvwlWVKyzbdlbgCtVdasT8u02+gCPAacBU4FzgGtUdbZD8l8G0rGmXu8EbgPWqqpjI10RCQeqAvtV1SUiVYEoVU11SH6Eqjr5gOCW616DPx1oAUzA42FKVV93sK2zKbj+/KUDcj/Ld+hhVU0VkTjgGyfW6e12zgXGASlY10iwnhuMg2IJMQbdUKGxHeS62R/nquovAWonBkBVHR9l2fKrAkFOOpLlk18LOAvrR/IPVd3toOwg4Hqgry1/CvCxOvjjIiJLVbVDccf8kL8Ra4Znnv0334l7LSL/LeK0qurT/rZht/MVlv/CcsDlIf8uJ+SXBfY9uBdYhUd6cvfyl6F4jEE3GHwgIleq6tceIywv/B1ZFSbXKfl2G0UaOwdnGaoCR1XVZX8Oxpqa9dv72R4F1sNyfrscb6ev/6lqS3/b8GirAdbD4TnAQCBdVds5JHu4qo4p7pgf8v/G8idx/Afdvi5pqnrU9r24BstJbi3wkao64vMhIgtVtUvxJQ2FYdbQDRUOEZmvql1FJAPvtVr3FF20A81UtV+rOSDLF265LYDOWFONYHnwL3Kojdfs1wigE5YDk2B5Ei8mz+vdX2YAvYGD9ucqWFP7Zzsgux+WAUkEPB9yMoBHHJAPgIgkYhnybkBbLE/r+U7JB0Zh7Swo7tjxshqIw3n/C4CJWE6PYHm5NwXGAj2xvrvXOdTOMnuHx294L0sYL/cSYkboBoMfiMgoVX3Bj/pzgUHuqXYRqQZMUNXuDur4M/BfVV1lf24FPKmqFzskf3n+kayvY362MUxVf3JKng/5OcBfwPOq+quDcgdgjfYvAb73OBWNNaI+w2fF0rczC2iH9TDoaQzPd0D2Wrf3uYgswfJyz7E/r1DVtv62YcvKv1YP1gO6Uw8MlR4zQjcY/GM4cNwGHSvQSKbH50z7mJO0cBtzAFVdLSKnOij/kIh0cE/h246ERxyUDzBeRC6noNOXI2vQQHugK3C5iDyM5eE+R1U/8VNuEtZsyPlY28rcZAD3+CnbkycdlJWff0Wkp6rOxIoBUB/YZvtlOMnH7t0kbkTkHIfbqNSYEbrB4AcisizfPvXS1n8Ua/Tmdua7EPhBVZ93QD13G98Bh8gLwnIFlof4ZQ7J7wyMxjJegjX1O0JVlxRZsXRtTMba9rWEPKcvVPW1QiuVvo0oLKPeDbjSlt/QIdmh7u1eFQ0RqQ98CQRj3YOuWM531YH7VXWGQ+0E1PHxZMAYdIPBD5z4wbGd1zw99Zf5r5mX/AjgVsA9jT8XeN/JbVp2SNAW9sf1ThsvEVmtqq2clJlP/mIgHCvS4DxgnpPe1fZI80mgIdYMg9vfo4lD8j39ScKwAvEccsifxN3GqUBzLP13AH+5p979lNsFy9/ibuANj1PRwFCnpvRPBsyUu8HgH36FK7M9iHeTN0JHRBqoQzG+AWzD/QbeP5Z+456GlYKx9ZuLiNPOTL+LSGvPpQOHGaCquwIkG+ATrCl2rxkGp1DVXOdN2xP9Aqxtik628Tfwt91GTSeMuU0YEIVljzydUA8Ajvh5nCyYEbrBUASeUeJ8HRORR/yZHhfvJDBVgMZYI9zTj1emjza24CNym7+jQxF5Sq2Y5wFzZvK4PiFYQYQ2E4CgIyISCzwPJKjqABE5DejiwBq6W/6fqnqmE7JK0aZfy0Eecs4BPsbaG34dVp6BJliG+BJVXehvG3Y7Dc2ec/8wBt1gKIKyXtezp99vU9UbHJTp6bwUgeXIV1NVn3BAdhBwsar+4K+sQuQXuYbtlAEQkUlYSWweVdW2dvjaZara2iH5L2KtQf+Mtxe6U7EAPGdJgrC2KZ7rxL5uEVmEFTgoCmtL2YWqOt/+rr6jqn45ronIbxSd2dBvT/2TBTPlbjD4wGNdr06+IDDRWD/MAUFVl4qIoyM5LZgQ5E17+5HfBl1Vc0TkQSAgBl3zkuTU9HHayah6tVX1BxEZZbebLSJOTo2772knj2OKtZfbCYZ4vM/G8ka/wCHZoR5bHnep6nzI/a5WcUD+qw7IMGAMusFQGGWyrpfvYSEIKwJXklPy7TY8ZxPcozcn//eni8j9WPusD7kPqupeB9tYirVdah/WdHt1IEVEUoEbHfCoP2TPZLgT2JyFg8lUVLWHU7IKkX9tAMV7JiMale9cmL/CVXVOScqJyE+qOszf9iozZsrdYCgCz3U9e3o5SlUPOCjfM9a3e2T1k8Me6LPytbEFeE1V1zskPyBr9Pna+Aj4UVWn2J/7AsOwpsnf8nd92j19DLTCirpWB2spwZGc6GLlAvgveTsN5gBPq0O5AexId+9gRbsDy1N/pKrucED2+cB0zRfKV6ysfcNU9WV/2yihHo74BFRmjEE3GIrADkV5C5Zn8l9YU+5vqeorDskPaIxvW14TVd2c71hjVd3ikPwqWBnWumIZ9nlYcdYdCy4jIqvyr2eLyEpVbeNUVDp73bwF1gyAo1vvROQnrAeFL+xD/wHaqmr+HQLHK38a8C3wlX3oSuAKVe3jhPwS6vCOOpjp0Id8sye9GIxBNxiKwG0sROQKrOnwh4ElDnpXB9zprpA2lqhqR4fk/4C1FPGNfehyIEZVL3FCvt3GVKyY8aPtQyOAPkB/rP3Qx3W9ith6BzgXR9zXQ4dTDyJlIb+EOgTU4BqDXjxmDd1gKJpQO2jKhcC7qpolIn4/BUtejO96IvK2x6lorGlxvxGRllh5uGPyGaxoLG93p2ildqxvm1kistZB+WA9JPwXKykIwAL7WDBWpL3j5VxgJt5OZW4UyyvdCY6ISFe3Q5m9FczJ8Lh7RORK4Dv782VAfmfIio5fMR9OBoxBNxiK5gOsde0VwFx7G5UTa+hlEeO7BTAYy4HM02BlADc61AbAUhE5S1X/ALC99Bc7KB+18rcXNp270Q+5bh+GG9RO/xogbgW+sNfSBdiLlUXOKa7DWkN/A+tB5HcgkI5yAUVEagD18/kwPFRe+lQUzJS7wVBKRCREncsB7ZisItro4lTwj0Lk/4318OCObtcAWI810+BX8BcReVNV7y5sr7JTe5RFZDswGctTf6YG6IdRRKIBnHSsPFHw12lNRGZjPeCGYD3kpgELVPXeouoZ8jAjdIOhCArzTsbPLU0i8oO9xrzM1xS+E2v0IvKg7YF8uYgUSMSiqnf524ZNf4fk+MLt5BXovcotsWYzbgc+EZHxwGj3FLm/iEh14CrsbHFWdFbn7oGIfIHl1Z5uf66BtZPBsdSjJQi9+5afTcSo6gERuQH4Uq0ohI7sMjhZMAbdYCiaT7G8k93rtP/B2irlr3fySPt1sJ9yiuJv+9XR6e/8BDJcp3t/eUn3KvvRzmGs4Dg/2MbwLayHN6eCCE0E/gBWYYVQdZo2bmMOoKr7RMTpLV7viUg48DnwTf4td6r6uZ/yQ0QkHut/7VE/ZZ2UGINuMBRN03zBLJ4SkeX+ClXVZPvtbarqtTYoIi/hwHqhqv5mv35RXNkTHQlwtjK7jXOxvOf7Yz0EOealD0QEeOo4SERqqOo+yI2s5+jvu6p2E5FTsNbrl9ghYT9T1WkONfE0MAWYr6p/iUgTrLz0hhJi1tANhiIQkYXAA/m8k191Ika2Lc/XlrKVTm2Ls+X5Wn/ej2W0PnAyiE2gEJF1+MhW5iOs7fHK3woswxqlj1PVQ0XXKLX8e4CDwHi8Y7k7Ek1PRK4CHgHc8QuGA8+p6leF1zrutoKxdn28jeUgKsAj/m7xE5GIivBdPJExBt1gKAIRaYcVDCTGPrQPuNrfCGIicitWMJYmwCaPU9WwHIGu9Ed+vrbewop85t7SNALrh1iBaFX9j1NtBQoJcLYyEYkOpKOaiNwOPAekk/dw5fQMw2nkxYafqaprPc7ljt79kN8Gy3N+EDAN+ESteO4JwEJVLTKRTgnkbwRSsfPRY43UHQu/ezJgDLrBUAT2muHFQFOs7V/7sX6In/ZTbgxQA3gBK1iNmwynRm0ebf2lqp19HRORNepgqtZAIYHPVtYceB+IVdVWtvE6X1WfdUj+ZuAMe/tdmeNEUBYRmYOVRvXH/FEAReQ/TswGiEgDoBtWCNuBQHpZBsep6Jg1dIOhaH7FGlUtBXY6JdQeeezHCgCCiNTFCvYSJSJRqrq9qPqlJEpEGrhl2j+aUfa5TAfbCSSBzlb2EfAAVtwBVHWlHfbXEYOOtVf+cLGlAocTQVl+yW+0RWSkqr7lkDFPxDLk3YC2wBrAkV0GJwvGoBsMRZOoqgHbliUiQ4DXgQSsfbcNsbzTnRw13wfMF5FNWD/sjYHbRKQqebHFT2i0mGxlInK1n85/kaq6yL2dzMbJ+ACHgOViJcrxnGFwautgcTgxFXsV8Ga+Y9fg/3Y1N9ux8iU8r6q3OCTzpMIYdIOhaH4vwf5bf3gWOAsrm1V7EemBlVjDMVR1ou2d3NI+tN7D+ehNJ9sqR0bi38PJbrGyh7nTp14MJBddpVSMJS9sbYXCjmFwOdBYRMZ5nKqGFfHOKdpjJfi5XEQexvJwn6OqnzjYRqXGrKEbDD4QkVVYP+4hwCnAZqyRlXu7lFPJWRaraicRWQG0V9UcEVmhqm2dkO/RztnYQU3cx1T1SyfbKE8ciFLWBPgQOBvL8XELVraygO2xz9d+QHN9+3N97HDHjfHh7wGsdDLSoYhEYRn1btgPtv46251MmBG6weCbQAZ88STd/hGbC3wjImlY07OOISJfYTn1LSdvy5cClcag48eUsr0N6zZV7W0vQwSpaoZzqpUIv7zd7dmFHap6TETOA9pgRVtLt4v0Ol7Z9kPNNsCRrZqFISKLgXCsOPTzgO5l9UBVWTAjdIOhHLENyFGskf8VWNvjvnFqf7Xdxt/AaYGKT34i4MAI/Q9VPctJnUrZvl9e6Hawo05YszATsZw5T1fVgQ7oNl9Vu4pIBt4PTu7Zqmh/27DbqaOqu5yQdbJiRugGQzmSL4BJoBzUVgNxOLsmfKKxwM/6y+z14TF4zJD4GyylDMlR1WwRGQq8o6rviMgyJwSralf7tZoT8oogSEQ+ARJUdYC9r76LWUMvOcagGwzlgI/RTu4pHBz12NQG1tqhOj09rB3JVFYW5E9u4j7u9hJX1Tv8bCICK3+45zY4J/OhF4e/28qybOe1q8lLlRvqp0wgN4xsoTgYN+FzrDwJ7jju/2BlvzMGvYQYg24wlANlMNrx5MkybCtQBDS5iaoWmTtcREap6gvHI9teo/9SVa8oopi/sfuvBW7BCve6RUQak5epzl+WYD3c+HroUPxc//egtqr+ICKjAOwZh0DmqK90mDV0g+EkQERiAXe0uEWqmlae+pQWJyKdlWf7IjIf6KmqFSWQT5kjVj70YcA0Ve0gImcBL6nqueWrWcXBjNANhkqOiFwCvALMxhplvSMiD6jqj+WqWOn4SkRuJEDJTUqAv1Pim4EF9jq95xr9637KBby2WXriTsDzrD9OliLSUlXXiYjPBxqnwu8C9wLjgKYisgAr/8DFDsk+KTAG3WCo/DwKdHaPykWkDjAdqEgGPRProeRRPJKb4Nx0b3H4O5W5yf4LwgrI4jSTsLYkfmt/vhSIBFKw1qaH+K5WIu4FbgJe83HOsfC7dqKXc4EWWA9Q61U1ywnZJwtmyt1gqOSIyCpVbe3xOQhY4XnsROcESG7i17Y4DzmRqup4TPdC0vAutaeuV53I91pEeqrqTBG5yNf5CrTToNwJKm8FDAZDwJksIlNE5BoRuQaYgOVkVpEISHITEXnJfh1eTNExxZwvrp0uIrIWWGd/bisi7/kjMx/BInKGR3udsbLTgUMx6UUkQkTuFZGfReQnEblbRCIcEO1eIx/i46+sAjxVCswI3WA4CRCRYViZrADmqeov5alPaRGRX7AS1jia3MRee24DLAmk052I/Im1HjzOPdIXkdWq2soh+Z2BT7Gy6AlWvvsbsDKWDVLVHxxo4wescK9f24cuB6qranEPQyWVH6yqxqvdD8wausFwEqCqPwE/lbcefjCWwCQ3mYwVuz1KRA5gxwFwvzoZD0BV/82Xzc0x46WqfwGtRSTG/rzf47Tfxtymlaqe5vF5lj3r4BRbRGQy1t7zmZU5smGgMAbdYKiklHHwmoDiZ2rUouQ+ADwgIr+q6gWBaMPmXztBjopIKFZ2uL+dEi4i4VhbvhoBIe4HB1V92qk2gKUicpaq/mG3eSaWF71TtMSaYr8d+ERExgOjVdXkRC8hZsrdYDCc8IjIFnw8nKiqY17u+fbq/+lkXHERqY2VN7w3lu/SFGCkUzH77ZHtfqwgMLkjf1X15ZleWtnuLXGhWB7o2+3PDYF1+UbtjiAiNbCu1xWqGlxceYOFGaEbDIaKQCeP9xHAcKDIkKSlwXaKe5UA7dW3vfOLihTnL4mq2j9AssvMMc3etjYC6I81+r+krNquDJgRusFgqJCIyBJV7eiQrBVAn/x79Z3KS2/nW38LOAtrdLsQuEdVNzsk/0OspCyrnJBXTFt1sR6qAFDV7Q7J3Qosw1rzH5cvcZGhBJgRusFgOOHJF6UsCGvE7uTvV1C+cLh7cHZb77fA/wFD7c+XAt8BZzokvytwjb00cYw8P4k2DslHRM7HCi6TAKRhTbn/jbX7wAnaqOoBh2SdlBiDbjAYKgKea8HZwFacnY6dLCJTsIwsWNO+Tu7Vj1RVz2QpX4vIAw7KH+CgrMJ4BmuGYbqqtheRHsCVDsqPs7cnxqpqKxFpA5yvqs862Ealxky5GwwGA2BHKutqf3R0r74dwGYfMBpryn0EUAMrnO1xx6QXkWhVPVBYilMnY92LyGJV7WQvT7RX1RwRWeHgssQc4AHgg0Ds1T8ZMCN0g8FwwlNcPnQnsEOM+gwzKiILVbWLH+Ldswk35zt+Kf7FpP8Wy2nNV4pTp2Pdp4tIFDAX+EZE0vBINOMAkaq6KN9efUei3J0sGINuMBgqAgHNh14C/ApxqqqNizovIn1UddpxyB1cEvkOcQFwFLgHy2M/BnByn/tuEWmKvT1RRC4Gkh2UX+kxU+4Gg+GEp6LnQw+0fBGZoaq9ijt2ImPvBPgQOBtreWIL1j70beWqWAXCjNANBkNFoLzzoQea48q3bidHiQRq28FY3HKigXqOKFYGEQdFJBi4TVV7i0hVrF0HGf7KPdkwBt1gMFQEyjsf+nEZ3FJwvFOlNwN3Y20lW0KengeAd/1XC1Q1EPnb87fhEpGu9nuz//w4MVPuBoPhhCeQ+dDt0eF0Ve1RRJlWqrra6bY95Ps75X6nqr7jpE4essvEk15E3seaVRiDh7OdyYdecswI3WAwVAQCkg8dckeHOSISky9LmWeZgBlzm61+1k8RkWqqmiEijwEdgGdVdan/qpWZJ30EVkCfnvnkG4NeQswI3WAwnPAEKh+6h/xfgfbANLxHh07JHw5MDpDBRURWqmobe9r6WazliSdU1alIdOWOiIxS1RfKW48TGTNCNxgMFYGxBCYfuptC96A7xOOqOsY2uL2xDO77OBf61Z1hbRDwoapOEBHHI6zZjnen4B3Lfa7T7RTCcMAY9CIwBt1gMJzwBCofuqd8EakCNFDV9QFoItAGd6eIfAD0AV6y86M7GYseEbkBK497IrAcKwzsQrynyANJoB0TKzyO3nCDwWBwEhH5wX5dJSIr8/852M4QLCM12f7cTkTGOSWfPIM7ApgYAIN7CVaO9X6qmo6VWtbJWPFgGfPOwDbbgbA9kO5wG0Vh1oeLwYzQDQbDicxI+zXQObmfBM7AyoeOqi63A504xSVYOb5fVdV0EYnHAYPr9kDHmgKfbR+rieVnsNhf+fk4qqpHRQQRCVfVdSLSwuE2isKM0IvBGHSDwXDCoqrJ9mugo4Vlqer+fHHEnQwxOworBnoS5PbLibCmZRnLfYcdU38sME1E9gF+3xcReUlVHxKR4ao6poiiRZ0zYLzcDQZDBcDOhPYSUBfLaDkWpcyW/wkwA3gYGAbcBYSq6i0Oyb8W6AZ0ATKAecBcVf3VCflljYicixXLfbKqZvopaxXQBlhSnuF9KwPGoBsMhhMeEdkIDFHVvwMkPxIrCl1frIeFKcAzqnrU4XbisKbf7wdq+BuFTUSKNIBObYuz23obGK2qvzsl05b7CnAjEIUVa0DIm21w7KHtZMAYdIPBcMIjIgtU9ZwyaCcay4g4GkdcRD4GTgNSsUbn84GlqupXelARmVXEaVVVxzzQReRqLKe+FsAvWMbdsXV6EflVVS9wSt7JiDHoBoPhhEdE3gLisNZvPQPLOLJ3XEQ6A58C7hHzfuA6VV3ikPxfsOKtrwXmYE23b3ZCdgnbP670rIXIqom1LHEp1ja/U5yQa8uOxfKkB/hTVXc5JftkwDjFGQyGikA01nRsX49jToYF/QQr29c8ADsAzGdYa7t+o6pDbbmnAv2AWSISrKqJTsgvAS9hRcFzgmZAS6Ah4NgSiB1N71Usb30B3hGRB1T1R6faqOwYg24wGE54VPXaADfhchtzu735IuLXdLgnIjIYyymuO1AdmIk19V5W+L3lS0ReBoYCm4DRWD4G6f7K9eAxoLOqptnt1QGmA8aglxBj0A0GwwmLiDyoqi+LyDv4CCzib6x1D6eyOXbgl+/sdkZg7+t2iP5YBvwtVU1yUG5JcWJtdRNwNtZWuHCgjYg4Gfo1yG3MbfZggp+VCmPQDQbDiYx7SncxgYkU9lq+z//1eO9Ye6p6h4g0xHKMS7LDzIY47XwXYHKwZhYCFfp1sohMwXqoAjuqnkOyTwqMU5zBYDjhsZ3WHgEakTcQUVV1ZI070IjIjcBNQE1VbSoipwD/U9VeDskPV9VjhR0TkZ9V9SI/21iF5bD2h6q2E5GWwPP+ys3XxkVAV/vjPFX9xSnZJwPGoBsMhhMeEVmPFSp1FR4R3JyKIGdHQLsK7wcGJ9OnLscKLfunqra3j61S1dYOyV+aPyiLr2N+tvGXqna2+3Kmqh4TkTWqerpTbRTT/kJV7VIWbVVUzJS7wWCoCOxSVSeTpeRnIvAH+R4YHOSYqma6Q8uKSAgOTOnbgWrqAVVEpD15zm/RQKS/8vMRkNCvpSCi+CInN8agGwyGisB/7eAsMwjAPnQgQlXvdUiWL+aIyCNYhrcPcBvwmwNy+wHXYK1rv0aeQc/AWqJwDPfWO+BJO6BNDHZ2ujLCTCcXg5lyNxgMJzwi8jXW3uc15I2gVVWvc0j+PcBBYDzeDwx7HZIfBFyPd2jZj9WhH2ARGaaqPzkh60TF6SWEyogZoRsMhopAZ1UNZKrOTOAVrHjubiPrWLYyVc0BPrL/AkGiHbY2w26jA/Cwqk4NUHvlgUmfWgxmj5/BYKgI/C4ipwVQ/n1AM1VtpKqN7T+/jbmI/GC/rhKRlfn//NY6j+vsvOh9gVrAf4AXHZQfUEQkuJi49GD1yVAEZoRuMBgqAmcBy0VkC9aUuDsTl1Pb1jZihZZ1mpH26+AAyPbEPXodCHypqmskX3L3ExlVdYlIjojEqOr+QsqsLmu9KhrGoBsMhopA/wDLP4T1wDAL7zV0v7atqWqy/XYYVnayQEWJWyIiU4HGwCgRqUZgvPUDyUFglYhMw7ofgHNbB08GjEE3GAwnPE7tNy+CsfZfoKiGtdVrL/A9MEZVUx2Ufz3QDtisqodFpBYQ6Pj3TvMzziXbOSkxXu4Gg8FQRohIG6yQpsOAHara20HZ52MlfwGYo6pObIsrU+yQuA1UdX1561IRMU5xBoPhpEdEtojI5vx/AWgqDUjBSjxS1ymhIvIi1nr9WvvvLhF53in5ZYGIDMGKET/Z/txORAIZTKjSYUboBoPhpMeeonYTAQzHirv+hEPybwMuAeoAY4AfVHWtE7Jt+SuBdvb2OEQkGFhWUWLdA4jIEqxEL7M9wuOuVtVW5atZxcGsoRsMhpMeVd2T79CbtoFxxKAD9YG7VXW5Q/J8UR1wB8KJCWA7gSJLVffnc86vaI595Yox6AaD4aTHIy86WEuRnXDw91FVR4lIVxG5VlU/E5E6QJSqbnGoiReAZbaXvmCtpT/skOyyYo2IXA4E29no7gJ+L2edKhRmyt1gMJz02IbQ/WOYDWwFXlXVfxyS/1+sh4QWqtpcRBKwPN3PcUK+3UY8VnpTgEWqmuKU7LJARCKxIvV5hsd9RlWPlqtiFQhj0A0Gw0mPiERgeZ43wjvf+tMOyV8OtAeWeqwPr3RyjVtE6gEN8U7/Otcp+WWFHcJWVTWjvHWpaJgpd4PBYLD2oKcDS4FAjAgzVVVFRAFEpKqTwkXkJaztcF7Ja4AKY9BFpDPwKdaefURkP1ZI2yXlqlgFwhh0g8FggERVDUg0OjsE63gR+QCoLiI3AtfhbKKWC7Gm848VV/AE5hPgNlWdByAiXYHPgArjqV/eGINuMBgMVvKX1qq6ymnB9sh8OHAvcABoATyhqtMcbGYzEIpH2NoKiMttzAFUdb6IZJenQhUNY9ANBoMBugLXBDD5y1IgXVUfcEgeACLyDtbU+mGsWPQzcDAWfVngscNgjj2L8R1Wn0YAs8tLr4qIcYozGAwnPSLS0Ndxp2LIi8g6oBmwDe/EI349MIjI1UWdV9Uv/JFfFhSTNlVVtWeZKVPBMQbdYDAYAkygHxhK0P5PqjqsLNoylB9myt1gMBgCTFkZ7iJoUs7tF4uIVAeuwnvrYIVYNjhRMAbdYDAYKj8VYSp2IvAHsAoT8vW4MAbdYDAYDCcCEap6b3krUZEx6VMNBoOh8iPFFyl3vhKRG0UkXkRquv/KW6mKhBmhGwwGQ+XnofJWoARkAq9gxXN3LxEoFWD9/0TBeLkbDAZDBUVEVlHE+ngFy4e+GThDVXeXty4VFTNCNxgMhorLYPv1dvv1K/v1inLQxV82YgXIMRwnZoRuMBgMFRwRWebO4uZxbKmqdiiszomGiPwCnA7MooJFuztRMCN0g8FgqPiIiJyjqgvsD2dT8Zyex9p/huPEjNANBoOhgiMiHbFSj8bYh9KxUo8uLTelDGWOMegGg8FQSRCRGABV3V/eupQWOzFOAYOkqsbLvYSYKXeDwWCo4IhILPA8kKCqA0TkNKCLqn5SzqqVhk4e7yOA4YDZh14KzAjdYDAYKjgiMgn4DHhUVduKSAiwTFVbl7NqfiEiS1S1Y3nrUVEwI3SDwWCo+NRW1R9EZBSAqmaLiKu8lSoNHnnRwXLo64SxUaXCXCyDwWCo+BwSkVrYa9AichZQ0dbRXyNvDT0b2Io17W4oIWbK3WAwGCo49uj2HaAVsBqoAwxX1RXlqlgpEJEIYBje6VNVVZ8uN6UqGGaEbjAYDBWfNcC5QAusRCzrqZj70NOBpcDRctWkgmJG6AaDwVDB8RUVrgJGilutqq3KW4+KjBmhGwwGQwVFROKAekAVEWlPXprUaCCy3BQ7Pn4Xkdaquqq8FamomBG6wWAwVFBE5GrgGiyP8MUepzKAz1X15/LQ63gQkbVAM2ALVix3wVpDrzAZ48obY9ANBoOhgiMiw1T1p/LWwx9EpKGv46q6rax1qagYg24wGAyVABEZhJWtLMJ9zHiIn1xUNC9Ig8FgMORDRP4HjADuxJqqHg74HPEaKi9mhG4wGAwVHBFZqaptPF6jgEmq2q28dTOUHWaEbjAYDBWfI/brYRFJALKA+HLUx1AOmG1rBoPBUPEZLyLVgVewArMo8HG5amQoc8yUu8FgMFQiRCQciKiIOdEN/mEMusFgMFRQROSios5XpH3oBv8xU+4Gg8FQcRlSxDkFjEE/iTAjdIPBYDAYKgFmhG4wGAwVHBF5wtdxE1jm5MIYdIPBYKj4HPJ4HwEMBv4uJ10M5YSZcjcYDIZKhu3pPkVVzytvXQxlhwksYzAYDJWPSCCxvJUwlC1myt1gMBgqOCKyCsurHSAYqAOY9fOTDDPlbjAYDBWcfKlHs4FUVc0uL30M5YOZcjcYDIaKTzywV1W3qepOoIqInFneShnKFjNCNxgMhgqOiCwDOqj9gy4iQcBiVe1QvpoZyhIzQjcYDIaKj6jH6ExVczA+UicdxqAbDAZDxWeziNwlIqH230hgc3krZShbjEE3GAyGis8twNnATmAHcCZwU7lqZChzzBq6wWAwGAyVALPGYjAYDBUUEXmHvP3nBVDVu8pQHUM5Ywy6wWAwVFwWl7cChhMHM+VuMBgMBkMlwIzQDQaDoYIjInWAh4DTsLKtAaCqPctNKUOZY7zcDQaDoeLzDVa61MbAU8BW4K/yVMhQ9pgpd4PBYKjgiMgSVe0oIitVtY197C9V7VzeuhnKDjPlbjAYDBWfLPs1WUQGAUlAzXLUx1AOGINuMBgMFZ9nRSQGuA94B4gG7i5XjQxljllDNxgMhorPcKwl1NWq2gPoAwwtZ50MZYwx6AaDwVDxaaOq6e4PqroXaF9+6hjKA2PQDQaDoeITJCI13B9EpCZmSfWkw9xwg8FgqPi8BiwUkTH25+HAc+Woj6EcMNvWDAaDoRIgIqcB7kAyM1V1bXnqYyh7jEE3GAwGg6ESYNbQDQaDwWCoBBiDbjAYDAZDJcAYdIPBYDAYKgHGoBsMBoPBUAn4f6Br9plNkOX4AAAAAElFTkSuQmCC\n",
       "datasetInfos": [],
       "metadata": {},
       "removedWidgets": [],
       "type": "image"
      }
     },
     "output_type": "display_data"
    }
   ],
   "source": [
    "import seaborn as sns\n",
    "correlation_matrix = pd_df.corr().round(2)\n",
    "\n",
    "sns.heatmap(correlation_matrix,  annot=True, cmap = \"Reds_r\")"
   ]
  },
  {
   "cell_type": "markdown",
   "metadata": {
    "application/vnd.databricks.v1+cell": {
     "cellMetadata": {
      "byteLimit": 2048000,
      "rowLimit": 10000
     },
     "inputWidgets": {},
     "nuid": "2510800f-291b-4d10-afff-04266291b3dc",
     "showTitle": false,
     "title": ""
    }
   },
   "source": [
    "### Retaining only the significant columns\n",
    "\n",
    "name : Name introducing the hosted home\n",
    "a pretty house with a swimming pool\n",
    "\n",
    "host_id : id of the host\n",
    "\n",
    "host_name : Name of the host\n",
    "\n",
    "neighbourhood_group : The area where the hosted home is located\n",
    "\n",
    "room_type : Type of hosted house\n",
    "\n",
    "price : Daily accommodation price (target variable)\n",
    "\n",
    "minimum_nights : Minimum number of nights to stay\n",
    "\n",
    "number_of_reviews : Total number of reviews\n",
    "\n",
    "last_review : Last review date\n",
    "\n",
    "calculated_host_listings_count: Number of accommodations hosted by the host\n",
    "\n",
    "availability_365 : Days Available\n",
    "\n"
   ]
  },
  {
   "cell_type": "markdown",
   "metadata": {
    "application/vnd.databricks.v1+cell": {
     "cellMetadata": {
      "byteLimit": 2048000,
      "rowLimit": 10000
     },
     "inputWidgets": {},
     "nuid": "e25d537f-c3be-4d96-9ac7-9f570234c02a",
     "showTitle": false,
     "title": ""
    }
   },
   "source": [
    "####Removed columns - \n",
    "Id of the property as it is less significant in predicting the price\n",
    "\n",
    "Latitude, longitude as they provide the same information and we are retaining neighbourhood_group and neighbourhood columns which are sufficient.\n",
    "\n",
    "No of reviews per month and number of reviews in the last twelve month as they were highly correlated with number of reviews"
   ]
  },
  {
   "cell_type": "code",
   "execution_count": null,
   "metadata": {
    "application/vnd.databricks.v1+cell": {
     "cellMetadata": {
      "byteLimit": 2048000,
      "rowLimit": 10000
     },
     "inputWidgets": {},
     "nuid": "eb06cc21-ae32-45b5-9f22-17c3ee99842b",
     "showTitle": false,
     "title": ""
    }
   },
   "outputs": [],
   "source": [
    "use_columns = ['name', \n",
    "               'host_id', \n",
    "               'neighbourhood_group',\n",
    "               'neighbourhood', \n",
    "               'room_type',\n",
    "               'price', \n",
    "               'minimum_nights', \n",
    "               'number_of_reviews',  \n",
    "               'last_review', \n",
    "               'calculated_host_listings_count', \n",
    "               'availability_365']"
   ]
  },
  {
   "cell_type": "code",
   "execution_count": null,
   "metadata": {
    "application/vnd.databricks.v1+cell": {
     "cellMetadata": {
      "byteLimit": 2048000,
      "rowLimit": 10000
     },
     "inputWidgets": {},
     "nuid": "60d466da-3a8c-4a8d-965f-a157dea02085",
     "showTitle": false,
     "title": ""
    }
   },
   "outputs": [],
   "source": [
    "preprocessed_df = spark_df.select(*use_columns)"
   ]
  },
  {
   "cell_type": "markdown",
   "metadata": {
    "application/vnd.databricks.v1+cell": {
     "cellMetadata": {
      "byteLimit": 2048000,
      "rowLimit": 10000
     },
     "inputWidgets": {},
     "nuid": "5ea8cc70-591a-4bb4-9cd8-4209e2f330f4",
     "showTitle": false,
     "title": ""
    }
   },
   "source": [
    "\n",
    "#### Checking the Host details who is hosting the most no.of properties\n",
    "Top two maximum listings are 526 and 394. Ther are listed by hostids - 107434423 and 3223938"
   ]
  },
  {
   "cell_type": "code",
   "execution_count": null,
   "metadata": {
    "application/vnd.databricks.v1+cell": {
     "cellMetadata": {
      "byteLimit": 2048000,
      "rowLimit": 10000
     },
     "inputWidgets": {},
     "nuid": "56745a95-af30-42f3-8d7d-536a44e70a66",
     "showTitle": false,
     "title": ""
    }
   },
   "outputs": [
    {
     "name": "stdout",
     "output_type": "stream",
     "text": [
      "[1, 2, 3, 4, 5, 6, 7, 8, 9, 10, 11, 12, 13, 14, 15, 16, 17, 18, 19, 20, 21, 22, 23, 24, 25, 27, 28, 29, 30, 31, 32, 33, 35, 36, 38, 39, 41, 44, 47, 48, 51, 53, 54, 57, 59, 62, 63, 69, 76, 83, 88, 101, 107, 113, 120, 124, 131, 159, 178, 192, 207, 222, 356, 394, 526]\n"
     ]
    }
   ],
   "source": [
    "unique_values = spark_df.select('calculated_host_listings_count').distinct().orderBy('calculated_host_listings_count').collect()\n",
    "unique_values_list = [row['calculated_host_listings_count'] for row in unique_values]\n",
    "\n",
    "# Print the unique values\n",
    "print(unique_values_list)"
   ]
  },
  {
   "cell_type": "code",
   "execution_count": null,
   "metadata": {
    "application/vnd.databricks.v1+cell": {
     "cellMetadata": {
      "byteLimit": 2048000,
      "rowLimit": 10000
     },
     "inputWidgets": {},
     "nuid": "048a8838-061a-4679-a21c-c435bb607ce8",
     "showTitle": false,
     "title": ""
    }
   },
   "outputs": [
    {
     "name": "stdout",
     "output_type": "stream",
     "text": [
      "+---------+-----+\n",
      "|  host_id|count|\n",
      "+---------+-----+\n",
      "|107434423|  526|\n",
      "|  3223938|  394|\n",
      "|496944100|  356|\n",
      "|305240193|  222|\n",
      "| 19303369|  207|\n",
      "|200239515|  192|\n",
      "|204704622|  178|\n",
      "|162280872|  159|\n",
      "| 51501835|  131|\n",
      "| 61391963|  124|\n",
      "+---------+-----+\n",
      "\n"
     ]
    }
   ],
   "source": [
    "sorted_df = spark_df.groupBy('host_id').count().orderBy('count', ascending=False).limit(10)\n",
    "\n",
    "# Show the sorted DataFrame\n",
    "sorted_df.show()\n"
   ]
  },
  {
   "cell_type": "markdown",
   "metadata": {
    "application/vnd.databricks.v1+cell": {
     "cellMetadata": {
      "byteLimit": 2048000,
      "rowLimit": 10000
     },
     "inputWidgets": {},
     "nuid": "ce890919-6f6a-47df-a0ab-dc03785ea822",
     "showTitle": false,
     "title": ""
    }
   },
   "source": [
    "\n",
    "#### Checking the keywords used by the Hosts in the name of the property\n",
    "Keywords like pool, gym, elevator, and park is present in the name of the property."
   ]
  },
  {
   "cell_type": "code",
   "execution_count": null,
   "metadata": {
    "application/vnd.databricks.v1+cell": {
     "cellMetadata": {
      "byteLimit": 2048000,
      "rowLimit": 10000
     },
     "inputWidgets": {},
     "nuid": "3c0adbdb-78cb-419e-91b0-e962625fcfc1",
     "showTitle": false,
     "title": ""
    }
   },
   "outputs": [],
   "source": [
    "from pyspark.sql.functions import explode, split\n",
    "\n",
    "names_1 = spark_df.filter(col('host_id') == 107434423).select('name')\n",
    "names_2 = spark_df.filter(col('host_id') == 3223938).select('name')\n"
   ]
  },
  {
   "cell_type": "markdown",
   "metadata": {
    "application/vnd.databricks.v1+cell": {
     "cellMetadata": {
      "byteLimit": 2048000,
      "rowLimit": 10000
     },
     "inputWidgets": {},
     "nuid": "fc367e17-305f-4354-85d8-4b1390e9800d",
     "showTitle": false,
     "title": ""
    }
   },
   "source": [
    "#### Extracting the keywords from the top 200 properties with high reviews"
   ]
  },
  {
   "cell_type": "code",
   "execution_count": null,
   "metadata": {
    "application/vnd.databricks.v1+cell": {
     "cellMetadata": {
      "byteLimit": 2048000,
      "rowLimit": 10000
     },
     "inputWidgets": {},
     "nuid": "b39c47d6-0170-400b-8408-75f0458e68cf",
     "showTitle": false,
     "title": ""
    }
   },
   "outputs": [],
   "source": [
    "from pyspark.sql.functions import desc\n",
    "\n",
    "names_3 = spark_df.select('name').distinct().orderBy(desc('number_of_reviews')).limit(200)"
   ]
  },
  {
   "cell_type": "code",
   "execution_count": null,
   "metadata": {
    "application/vnd.databricks.v1+cell": {
     "cellMetadata": {
      "byteLimit": 2048000,
      "rowLimit": 10000
     },
     "inputWidgets": {},
     "nuid": "b29a5dc7-afca-4ac0-9859-cf48552e387f",
     "showTitle": false,
     "title": ""
    }
   },
   "outputs": [
    {
     "name": "stdout",
     "output_type": "stream",
     "text": [
      "             name  count\n",
      "0              w/    530\n",
      "1              nr    351\n",
      "2               &    300\n",
      "3             1BR    236\n",
      "4            room    193\n",
      "5           room,    166\n",
      "6            Gym,    161\n",
      "7              to    161\n",
      "8            Park    152\n",
      "9            HDTV    145\n",
      "10        Central    123\n",
      "11       Doorman,    122\n",
      "12            2BR    108\n",
      "13        Midtown    101\n",
      "14            Gym     92\n",
      "15            min     89\n",
      "16           W/D,     87\n",
      "17            New     86\n",
      "18             in     82\n",
      "19         Studio     77\n",
      "20        Doorman     70\n",
      "21        Village     65\n",
      "22      Manhattan     63\n",
      "23           Hill     61\n",
      "24           w/d,     58\n",
      "25            UWS     57\n",
      "26             E.     56\n",
      "27       Prospect     51\n",
      "28           gym,     49\n",
      "29       Bushwick     49\n",
      "30        Private     48\n",
      "31            2br     48\n",
      "32     Manhattan,     48\n",
      "33            UES     46\n",
      "34            1br     46\n",
      "35           Room     45\n",
      "36      Elevator,     44\n",
      "37             W.     41\n",
      "38            Ave     41\n",
      "39             Sq     40\n",
      "40              2     39\n",
      "41          Times     34\n",
      "42         Luxury     34\n",
      "43          Large     33\n",
      "44      building,     33\n",
      "45        Chelsea     32\n",
      "46        doorman     32\n",
      "47            gym     32\n",
      "48           pool     31\n",
      "49            DM,     31\n",
      "50       Elevator     31\n",
      "51           East     30\n",
      "52          Pool,     29\n",
      "53       Balcony,     28\n",
      "54        Tribeca     28\n",
      "55            Bay     28\n",
      "56      Bushwick,     28\n",
      "57              –     28\n",
      "58           Kips     27\n",
      "59         Indoor     26\n",
      "60           FiDi     26\n",
      "61            W/D     26\n",
      "62           park     26\n",
      "63         Murray     26\n",
      "64        private     26\n",
      "65           mins     25\n",
      "66        Clinton     25\n",
      "67              #     25\n",
      "68             by     24\n",
      "69          River     24\n",
      "70   Williamsburg     24\n",
      "71          large     24\n",
      "72           West     23\n",
      "73              -     23\n",
      "74        rooftop     22\n",
      "75             of     21\n",
      "76             St     20\n",
      "77            nr.     20\n",
      "78              1     20\n",
      "79        exposed     20\n",
      "80             TV     20\n",
      "81             HD     20\n",
      "82           Huge     20\n",
      "83                    20\n",
      "84          Park,     19\n",
      "85            w/d     19\n",
      "86        closet,     19\n",
      "87            the     18\n",
      "88      elevator,     18\n",
      "89              +     18\n",
      "90      Apartment     18\n",
      "91              6     17\n",
      "92  washer/dryer,     17\n",
      "93           SoHo     16\n",
      "94            LIC     16\n",
      "95           with     16\n",
      "96        minutes     16\n",
      "97          Place     15\n",
      "98         Sutton     15\n",
      "99       doorman,     15\n"
     ]
    }
   ],
   "source": [
    "all_names = names_1.union(names_2).union(names_3)\n",
    "word_counts = all_names.withColumn('name', explode(split('name', ' '))).groupBy('name').count()\n",
    "\n",
    "top_words = word_counts.orderBy('count', ascending=False).limit(100)\n",
    "pd.set_option('display.max_rows', 100)\n",
    "\n",
    "print(top_words.toPandas())"
   ]
  },
  {
   "cell_type": "code",
   "execution_count": null,
   "metadata": {
    "application/vnd.databricks.v1+cell": {
     "cellMetadata": {
      "byteLimit": 2048000,
      "rowLimit": 10000
     },
     "inputWidgets": {},
     "nuid": "f6b20f1f-b191-4a67-9d18-4eb72e41504b",
     "showTitle": false,
     "title": ""
    }
   },
   "outputs": [],
   "source": [
    "#Remove rows with null names\n",
    "preprocessed_df = preprocessed_df.na.drop(subset=['name'])\n"
   ]
  },
  {
   "cell_type": "code",
   "execution_count": null,
   "metadata": {
    "application/vnd.databricks.v1+cell": {
     "cellMetadata": {
      "byteLimit": 2048000,
      "rowLimit": 10000
     },
     "inputWidgets": {},
     "nuid": "2dded9f1-eeea-4e6c-b752-b14d0f9ad645",
     "showTitle": false,
     "title": ""
    }
   },
   "outputs": [
    {
     "name": "stdout",
     "output_type": "stream",
     "text": [
      "Out[419]: 0"
     ]
    }
   ],
   "source": [
    "## Convert all names to lowercase\n",
    "preprocessed_df = preprocessed_df.withColumn('ext_opt', lower(col('name')))\n",
    "#Check null \n",
    "preprocessed_df.filter(col('ext_opt').isNull()).count()\n"
   ]
  },
  {
   "cell_type": "code",
   "execution_count": null,
   "metadata": {
    "application/vnd.databricks.v1+cell": {
     "cellMetadata": {
      "byteLimit": 2048000,
      "rowLimit": 10000
     },
     "inputWidgets": {},
     "nuid": "fd205ee6-8dc2-4abb-8088-a9d9c0ac5027",
     "showTitle": false,
     "title": ""
    }
   },
   "outputs": [
    {
     "data": {
      "text/html": [
       "<div>\n",
       "<style scoped>\n",
       "    .dataframe tbody tr th:only-of-type {\n",
       "        vertical-align: middle;\n",
       "    }\n",
       "\n",
       "    .dataframe tbody tr th {\n",
       "        vertical-align: top;\n",
       "    }\n",
       "\n",
       "    .dataframe thead th {\n",
       "        text-align: right;\n",
       "    }\n",
       "</style>\n",
       "<table border=\"1\" class=\"dataframe\">\n",
       "  <thead>\n",
       "    <tr style=\"text-align: right;\">\n",
       "      <th></th>\n",
       "      <th>name</th>\n",
       "      <th>host_id</th>\n",
       "      <th>neighbourhood_group</th>\n",
       "      <th>neighbourhood</th>\n",
       "      <th>room_type</th>\n",
       "      <th>price</th>\n",
       "      <th>minimum_nights</th>\n",
       "      <th>number_of_reviews</th>\n",
       "      <th>last_review</th>\n",
       "      <th>calculated_host_listings_count</th>\n",
       "      <th>...</th>\n",
       "      <th>view</th>\n",
       "      <th>park</th>\n",
       "      <th>camping</th>\n",
       "      <th>skiing</th>\n",
       "      <th>lake</th>\n",
       "      <th>new</th>\n",
       "      <th>surf</th>\n",
       "      <th>bbq</th>\n",
       "      <th>elevator</th>\n",
       "      <th>wifi</th>\n",
       "    </tr>\n",
       "  </thead>\n",
       "  <tbody>\n",
       "    <tr>\n",
       "      <th>0</th>\n",
       "      <td>Skylit Midtown Castle</td>\n",
       "      <td>2845</td>\n",
       "      <td>Manhattan</td>\n",
       "      <td>Midtown</td>\n",
       "      <td>Entire home/apt</td>\n",
       "      <td>150</td>\n",
       "      <td>30</td>\n",
       "      <td>49</td>\n",
       "      <td>2022-06-21</td>\n",
       "      <td>3</td>\n",
       "      <td>...</td>\n",
       "      <td>0</td>\n",
       "      <td>0</td>\n",
       "      <td>0</td>\n",
       "      <td>0</td>\n",
       "      <td>0</td>\n",
       "      <td>0</td>\n",
       "      <td>0</td>\n",
       "      <td>0</td>\n",
       "      <td>0</td>\n",
       "      <td>0</td>\n",
       "    </tr>\n",
       "    <tr>\n",
       "      <th>1</th>\n",
       "      <td>BlissArtsSpace!</td>\n",
       "      <td>7356</td>\n",
       "      <td>Brooklyn</td>\n",
       "      <td>Bedford-Stuyvesant</td>\n",
       "      <td>Private room</td>\n",
       "      <td>60</td>\n",
       "      <td>30</td>\n",
       "      <td>50</td>\n",
       "      <td>2019-12-02</td>\n",
       "      <td>2</td>\n",
       "      <td>...</td>\n",
       "      <td>0</td>\n",
       "      <td>0</td>\n",
       "      <td>0</td>\n",
       "      <td>0</td>\n",
       "      <td>0</td>\n",
       "      <td>0</td>\n",
       "      <td>0</td>\n",
       "      <td>0</td>\n",
       "      <td>0</td>\n",
       "      <td>0</td>\n",
       "    </tr>\n",
       "    <tr>\n",
       "      <th>2</th>\n",
       "      <td>Cozy Clean Guest Room - Family Apt</td>\n",
       "      <td>7490</td>\n",
       "      <td>Manhattan</td>\n",
       "      <td>Upper West Side</td>\n",
       "      <td>Private room</td>\n",
       "      <td>75</td>\n",
       "      <td>2</td>\n",
       "      <td>118</td>\n",
       "      <td>2017-07-21</td>\n",
       "      <td>1</td>\n",
       "      <td>...</td>\n",
       "      <td>0</td>\n",
       "      <td>0</td>\n",
       "      <td>0</td>\n",
       "      <td>0</td>\n",
       "      <td>0</td>\n",
       "      <td>0</td>\n",
       "      <td>0</td>\n",
       "      <td>0</td>\n",
       "      <td>0</td>\n",
       "      <td>0</td>\n",
       "    </tr>\n",
       "    <tr>\n",
       "      <th>3</th>\n",
       "      <td>Large Furnished Room Near B'way</td>\n",
       "      <td>8967</td>\n",
       "      <td>Manhattan</td>\n",
       "      <td>Midtown</td>\n",
       "      <td>Private room</td>\n",
       "      <td>68</td>\n",
       "      <td>2</td>\n",
       "      <td>575</td>\n",
       "      <td>2023-02-19</td>\n",
       "      <td>1</td>\n",
       "      <td>...</td>\n",
       "      <td>0</td>\n",
       "      <td>0</td>\n",
       "      <td>0</td>\n",
       "      <td>0</td>\n",
       "      <td>0</td>\n",
       "      <td>0</td>\n",
       "      <td>0</td>\n",
       "      <td>0</td>\n",
       "      <td>0</td>\n",
       "      <td>0</td>\n",
       "    </tr>\n",
       "    <tr>\n",
       "      <th>4</th>\n",
       "      <td>Large Sunny Brooklyn Duplex, Patio + Garden</td>\n",
       "      <td>7378</td>\n",
       "      <td>Brooklyn</td>\n",
       "      <td>Sunset Park</td>\n",
       "      <td>Entire home/apt</td>\n",
       "      <td>275</td>\n",
       "      <td>60</td>\n",
       "      <td>3</td>\n",
       "      <td>2022-08-10</td>\n",
       "      <td>1</td>\n",
       "      <td>...</td>\n",
       "      <td>0</td>\n",
       "      <td>0</td>\n",
       "      <td>0</td>\n",
       "      <td>0</td>\n",
       "      <td>0</td>\n",
       "      <td>0</td>\n",
       "      <td>0</td>\n",
       "      <td>0</td>\n",
       "      <td>0</td>\n",
       "      <td>0</td>\n",
       "    </tr>\n",
       "  </tbody>\n",
       "</table>\n",
       "<p>5 rows × 25 columns</p>\n",
       "</div>"
      ]
     },
     "metadata": {
      "application/vnd.databricks.v1+output": {
       "addedWidgets": {},
       "arguments": {},
       "data": "<div>\n<style scoped>\n    .dataframe tbody tr th:only-of-type {\n        vertical-align: middle;\n    }\n\n    .dataframe tbody tr th {\n        vertical-align: top;\n    }\n\n    .dataframe thead th {\n        text-align: right;\n    }\n</style>\n<table border=\"1\" class=\"dataframe\">\n  <thead>\n    <tr style=\"text-align: right;\">\n      <th></th>\n      <th>name</th>\n      <th>host_id</th>\n      <th>neighbourhood_group</th>\n      <th>neighbourhood</th>\n      <th>room_type</th>\n      <th>price</th>\n      <th>minimum_nights</th>\n      <th>number_of_reviews</th>\n      <th>last_review</th>\n      <th>calculated_host_listings_count</th>\n      <th>...</th>\n      <th>view</th>\n      <th>park</th>\n      <th>camping</th>\n      <th>skiing</th>\n      <th>lake</th>\n      <th>new</th>\n      <th>surf</th>\n      <th>bbq</th>\n      <th>elevator</th>\n      <th>wifi</th>\n    </tr>\n  </thead>\n  <tbody>\n    <tr>\n      <th>0</th>\n      <td>Skylit Midtown Castle</td>\n      <td>2845</td>\n      <td>Manhattan</td>\n      <td>Midtown</td>\n      <td>Entire home/apt</td>\n      <td>150</td>\n      <td>30</td>\n      <td>49</td>\n      <td>2022-06-21</td>\n      <td>3</td>\n      <td>...</td>\n      <td>0</td>\n      <td>0</td>\n      <td>0</td>\n      <td>0</td>\n      <td>0</td>\n      <td>0</td>\n      <td>0</td>\n      <td>0</td>\n      <td>0</td>\n      <td>0</td>\n    </tr>\n    <tr>\n      <th>1</th>\n      <td>BlissArtsSpace!</td>\n      <td>7356</td>\n      <td>Brooklyn</td>\n      <td>Bedford-Stuyvesant</td>\n      <td>Private room</td>\n      <td>60</td>\n      <td>30</td>\n      <td>50</td>\n      <td>2019-12-02</td>\n      <td>2</td>\n      <td>...</td>\n      <td>0</td>\n      <td>0</td>\n      <td>0</td>\n      <td>0</td>\n      <td>0</td>\n      <td>0</td>\n      <td>0</td>\n      <td>0</td>\n      <td>0</td>\n      <td>0</td>\n    </tr>\n    <tr>\n      <th>2</th>\n      <td>Cozy Clean Guest Room - Family Apt</td>\n      <td>7490</td>\n      <td>Manhattan</td>\n      <td>Upper West Side</td>\n      <td>Private room</td>\n      <td>75</td>\n      <td>2</td>\n      <td>118</td>\n      <td>2017-07-21</td>\n      <td>1</td>\n      <td>...</td>\n      <td>0</td>\n      <td>0</td>\n      <td>0</td>\n      <td>0</td>\n      <td>0</td>\n      <td>0</td>\n      <td>0</td>\n      <td>0</td>\n      <td>0</td>\n      <td>0</td>\n    </tr>\n    <tr>\n      <th>3</th>\n      <td>Large Furnished Room Near B'way</td>\n      <td>8967</td>\n      <td>Manhattan</td>\n      <td>Midtown</td>\n      <td>Private room</td>\n      <td>68</td>\n      <td>2</td>\n      <td>575</td>\n      <td>2023-02-19</td>\n      <td>1</td>\n      <td>...</td>\n      <td>0</td>\n      <td>0</td>\n      <td>0</td>\n      <td>0</td>\n      <td>0</td>\n      <td>0</td>\n      <td>0</td>\n      <td>0</td>\n      <td>0</td>\n      <td>0</td>\n    </tr>\n    <tr>\n      <th>4</th>\n      <td>Large Sunny Brooklyn Duplex, Patio + Garden</td>\n      <td>7378</td>\n      <td>Brooklyn</td>\n      <td>Sunset Park</td>\n      <td>Entire home/apt</td>\n      <td>275</td>\n      <td>60</td>\n      <td>3</td>\n      <td>2022-08-10</td>\n      <td>1</td>\n      <td>...</td>\n      <td>0</td>\n      <td>0</td>\n      <td>0</td>\n      <td>0</td>\n      <td>0</td>\n      <td>0</td>\n      <td>0</td>\n      <td>0</td>\n      <td>0</td>\n      <td>0</td>\n    </tr>\n  </tbody>\n</table>\n<p>5 rows × 25 columns</p>\n</div>",
       "datasetInfos": [],
       "metadata": {},
       "removedWidgets": [],
       "textData": null,
       "type": "htmlSandbox"
      }
     },
     "output_type": "display_data"
    }
   ],
   "source": [
    "#gym, park, elevator,pool,wifi\n",
    "\n",
    "from pyspark.sql.functions import lit,when\n",
    "\n",
    "option_lst = [\"gym\", \"pool\", \"beach\", \"view\", \"park\", \"camping\", \"skiing\", \"lake\", \"new\", \"surf\",'bbq','elevator','wifi']\n",
    "\n",
    "for item in option_lst:\n",
    "    preprocessed_df = preprocessed_df.withColumn(item, lit(0))\n",
    "\n",
    "preprocessed_df.toPandas().head(5)   "
   ]
  },
  {
   "cell_type": "code",
   "execution_count": null,
   "metadata": {
    "application/vnd.databricks.v1+cell": {
     "cellMetadata": {
      "byteLimit": 2048000,
      "rowLimit": 10000
     },
     "inputWidgets": {},
     "nuid": "82974a76-5134-4ff0-a02a-09b2ebc66f9a",
     "showTitle": false,
     "title": ""
    }
   },
   "outputs": [],
   "source": [
    "from pyspark.sql.functions import udf\n",
    "from pyspark.sql.types import StringType\n",
    "\n",
    "# Define the UDF function\n",
    "def get_option_compact(house_name):\n",
    "    opt = \"\"\n",
    "    if \"gym\" in house_name:\n",
    "        opt += \"gym \"\n",
    "    if \"pool\" in house_name:\n",
    "        opt += \"pool \"\n",
    "    if \"view\" in house_name:\n",
    "        opt += \"view \"\n",
    "    if \"park\" in house_name:\n",
    "        opt += \"park \"\n",
    "    if \"skiing\" in house_name:\n",
    "        opt += \"skiing \"\n",
    "    if \"new\" in house_name:\n",
    "        opt += \"new \"\n",
    "    if \"bbq\" in house_name:\n",
    "        opt += \"bbq \"\n",
    "    if( \"lake\" in house_name ): \n",
    "        opt += \"lake \"   \n",
    "    if( \"camping\" in house_name ): \n",
    "        opt += \"camping \" \n",
    "    if( \"surf\" in house_name ): \n",
    "        opt += \"surfing \"\n",
    "    if( \"beach\" in house_name ): \n",
    "        opt += \"beach \"\n",
    "    if( \"elevator\" in house_name ): \n",
    "        opt += \"elevator \"\n",
    "    if( \"wifi\" in house_name ): \n",
    "        opt += \"wifi \"\n",
    "    return opt.strip()  # Remove trailing space\n",
    "\n",
    "# Create a UDF\n",
    "get_option_compact_udf = udf(get_option_compact, StringType())\n",
    "\n",
    "# Apply the UDF to the DataFrame\n",
    "preprocessed_df = preprocessed_df.withColumn('ext_opt_new', get_option_compact_udf(preprocessed_df['ext_opt']))\n"
   ]
  },
  {
   "cell_type": "code",
   "execution_count": null,
   "metadata": {
    "application/vnd.databricks.v1+cell": {
     "cellMetadata": {
      "byteLimit": 2048000,
      "rowLimit": 10000
     },
     "inputWidgets": {},
     "nuid": "1fd14571-f30c-4a01-abba-71eefb5dcf5d",
     "showTitle": false,
     "title": ""
    }
   },
   "outputs": [],
   "source": [
    "from pyspark.sql.functions import split, array_contains, when\n",
    "\n",
    "for item in option_lst:\n",
    "    preprocessed_df = preprocessed_df.withColumn(item, when(array_contains(split(preprocessed_df['ext_opt_new'], ' '), item), 1).otherwise(0))\n",
    "\n"
   ]
  },
  {
   "cell_type": "code",
   "execution_count": null,
   "metadata": {
    "application/vnd.databricks.v1+cell": {
     "cellMetadata": {
      "byteLimit": 2048000,
      "rowLimit": 10000
     },
     "inputWidgets": {},
     "nuid": "bdd9c046-2f07-48bb-88af-bf66808d1f3a",
     "showTitle": false,
     "title": ""
    }
   },
   "outputs": [],
   "source": [
    "#Counting the number of options occurred in the names column\n",
    "preprocessed_df = preprocessed_df.withColumn('ext_opt_cnt', lit(0))\n",
    "\n",
    "for l in option_lst:\n",
    "  preprocessed_df = preprocessed_df.withColumn('ext_opt_cnt', when(preprocessed_df['ext_opt'].contains(l), preprocessed_df['ext_opt_cnt'] + 1).otherwise(preprocessed_df['ext_opt_cnt']))\n"
   ]
  },
  {
   "cell_type": "code",
   "execution_count": null,
   "metadata": {
    "application/vnd.databricks.v1+cell": {
     "cellMetadata": {
      "byteLimit": 2048000,
      "rowLimit": 10000
     },
     "inputWidgets": {},
     "nuid": "ab0cebe3-cd65-48fd-962a-82bafd096b83",
     "showTitle": false,
     "title": ""
    }
   },
   "outputs": [
    {
     "data": {
      "text/html": [
       "<div>\n",
       "<style scoped>\n",
       "    .dataframe tbody tr th:only-of-type {\n",
       "        vertical-align: middle;\n",
       "    }\n",
       "\n",
       "    .dataframe tbody tr th {\n",
       "        vertical-align: top;\n",
       "    }\n",
       "\n",
       "    .dataframe thead th {\n",
       "        text-align: right;\n",
       "    }\n",
       "</style>\n",
       "<table border=\"1\" class=\"dataframe\">\n",
       "  <thead>\n",
       "    <tr style=\"text-align: right;\">\n",
       "      <th></th>\n",
       "      <th>name</th>\n",
       "      <th>host_id</th>\n",
       "      <th>neighbourhood_group</th>\n",
       "      <th>neighbourhood</th>\n",
       "      <th>room_type</th>\n",
       "      <th>price</th>\n",
       "      <th>minimum_nights</th>\n",
       "      <th>number_of_reviews</th>\n",
       "      <th>last_review</th>\n",
       "      <th>calculated_host_listings_count</th>\n",
       "      <th>...</th>\n",
       "      <th>camping</th>\n",
       "      <th>skiing</th>\n",
       "      <th>lake</th>\n",
       "      <th>new</th>\n",
       "      <th>surf</th>\n",
       "      <th>bbq</th>\n",
       "      <th>elevator</th>\n",
       "      <th>wifi</th>\n",
       "      <th>ext_opt_new</th>\n",
       "      <th>ext_opt_cnt</th>\n",
       "    </tr>\n",
       "  </thead>\n",
       "  <tbody>\n",
       "    <tr>\n",
       "      <th>0</th>\n",
       "      <td>Skylit Midtown Castle</td>\n",
       "      <td>2845</td>\n",
       "      <td>Manhattan</td>\n",
       "      <td>Midtown</td>\n",
       "      <td>Entire home/apt</td>\n",
       "      <td>150</td>\n",
       "      <td>30</td>\n",
       "      <td>49</td>\n",
       "      <td>2022-06-21</td>\n",
       "      <td>3</td>\n",
       "      <td>...</td>\n",
       "      <td>0</td>\n",
       "      <td>0</td>\n",
       "      <td>0</td>\n",
       "      <td>0</td>\n",
       "      <td>0</td>\n",
       "      <td>0</td>\n",
       "      <td>0</td>\n",
       "      <td>0</td>\n",
       "      <td></td>\n",
       "      <td>0</td>\n",
       "    </tr>\n",
       "    <tr>\n",
       "      <th>1</th>\n",
       "      <td>BlissArtsSpace!</td>\n",
       "      <td>7356</td>\n",
       "      <td>Brooklyn</td>\n",
       "      <td>Bedford-Stuyvesant</td>\n",
       "      <td>Private room</td>\n",
       "      <td>60</td>\n",
       "      <td>30</td>\n",
       "      <td>50</td>\n",
       "      <td>2019-12-02</td>\n",
       "      <td>2</td>\n",
       "      <td>...</td>\n",
       "      <td>0</td>\n",
       "      <td>0</td>\n",
       "      <td>0</td>\n",
       "      <td>0</td>\n",
       "      <td>0</td>\n",
       "      <td>0</td>\n",
       "      <td>0</td>\n",
       "      <td>0</td>\n",
       "      <td></td>\n",
       "      <td>0</td>\n",
       "    </tr>\n",
       "    <tr>\n",
       "      <th>2</th>\n",
       "      <td>Cozy Clean Guest Room - Family Apt</td>\n",
       "      <td>7490</td>\n",
       "      <td>Manhattan</td>\n",
       "      <td>Upper West Side</td>\n",
       "      <td>Private room</td>\n",
       "      <td>75</td>\n",
       "      <td>2</td>\n",
       "      <td>118</td>\n",
       "      <td>2017-07-21</td>\n",
       "      <td>1</td>\n",
       "      <td>...</td>\n",
       "      <td>0</td>\n",
       "      <td>0</td>\n",
       "      <td>0</td>\n",
       "      <td>0</td>\n",
       "      <td>0</td>\n",
       "      <td>0</td>\n",
       "      <td>0</td>\n",
       "      <td>0</td>\n",
       "      <td></td>\n",
       "      <td>0</td>\n",
       "    </tr>\n",
       "    <tr>\n",
       "      <th>3</th>\n",
       "      <td>Large Furnished Room Near B'way</td>\n",
       "      <td>8967</td>\n",
       "      <td>Manhattan</td>\n",
       "      <td>Midtown</td>\n",
       "      <td>Private room</td>\n",
       "      <td>68</td>\n",
       "      <td>2</td>\n",
       "      <td>575</td>\n",
       "      <td>2023-02-19</td>\n",
       "      <td>1</td>\n",
       "      <td>...</td>\n",
       "      <td>0</td>\n",
       "      <td>0</td>\n",
       "      <td>0</td>\n",
       "      <td>0</td>\n",
       "      <td>0</td>\n",
       "      <td>0</td>\n",
       "      <td>0</td>\n",
       "      <td>0</td>\n",
       "      <td></td>\n",
       "      <td>0</td>\n",
       "    </tr>\n",
       "    <tr>\n",
       "      <th>4</th>\n",
       "      <td>Large Sunny Brooklyn Duplex, Patio + Garden</td>\n",
       "      <td>7378</td>\n",
       "      <td>Brooklyn</td>\n",
       "      <td>Sunset Park</td>\n",
       "      <td>Entire home/apt</td>\n",
       "      <td>275</td>\n",
       "      <td>60</td>\n",
       "      <td>3</td>\n",
       "      <td>2022-08-10</td>\n",
       "      <td>1</td>\n",
       "      <td>...</td>\n",
       "      <td>0</td>\n",
       "      <td>0</td>\n",
       "      <td>0</td>\n",
       "      <td>0</td>\n",
       "      <td>0</td>\n",
       "      <td>0</td>\n",
       "      <td>0</td>\n",
       "      <td>0</td>\n",
       "      <td></td>\n",
       "      <td>0</td>\n",
       "    </tr>\n",
       "    <tr>\n",
       "      <th>...</th>\n",
       "      <td>...</td>\n",
       "      <td>...</td>\n",
       "      <td>...</td>\n",
       "      <td>...</td>\n",
       "      <td>...</td>\n",
       "      <td>...</td>\n",
       "      <td>...</td>\n",
       "      <td>...</td>\n",
       "      <td>...</td>\n",
       "      <td>...</td>\n",
       "      <td>...</td>\n",
       "      <td>...</td>\n",
       "      <td>...</td>\n",
       "      <td>...</td>\n",
       "      <td>...</td>\n",
       "      <td>...</td>\n",
       "      <td>...</td>\n",
       "      <td>...</td>\n",
       "      <td>...</td>\n",
       "      <td>...</td>\n",
       "      <td>...</td>\n",
       "    </tr>\n",
       "    <tr>\n",
       "      <th>42914</th>\n",
       "      <td>bright studio in Williamsburg</td>\n",
       "      <td>28057253</td>\n",
       "      <td>Brooklyn</td>\n",
       "      <td>Williamsburg</td>\n",
       "      <td>Entire home/apt</td>\n",
       "      <td>76</td>\n",
       "      <td>7</td>\n",
       "      <td>0</td>\n",
       "      <td>None</td>\n",
       "      <td>1</td>\n",
       "      <td>...</td>\n",
       "      <td>0</td>\n",
       "      <td>0</td>\n",
       "      <td>0</td>\n",
       "      <td>0</td>\n",
       "      <td>0</td>\n",
       "      <td>0</td>\n",
       "      <td>0</td>\n",
       "      <td>0</td>\n",
       "      <td></td>\n",
       "      <td>0</td>\n",
       "    </tr>\n",
       "    <tr>\n",
       "      <th>42915</th>\n",
       "      <td>Room in the heart of LES with Gym&amp; Rooftop BBQ</td>\n",
       "      <td>247439246</td>\n",
       "      <td>Manhattan</td>\n",
       "      <td>East Village</td>\n",
       "      <td>Private room</td>\n",
       "      <td>32</td>\n",
       "      <td>30</td>\n",
       "      <td>0</td>\n",
       "      <td>None</td>\n",
       "      <td>5</td>\n",
       "      <td>...</td>\n",
       "      <td>0</td>\n",
       "      <td>0</td>\n",
       "      <td>0</td>\n",
       "      <td>0</td>\n",
       "      <td>0</td>\n",
       "      <td>1</td>\n",
       "      <td>0</td>\n",
       "      <td>0</td>\n",
       "      <td>gym bbq</td>\n",
       "      <td>2</td>\n",
       "    </tr>\n",
       "    <tr>\n",
       "      <th>42916</th>\n",
       "      <td>Fantastic 3BD apt in Brooklyn</td>\n",
       "      <td>26349246</td>\n",
       "      <td>Brooklyn</td>\n",
       "      <td>Bushwick</td>\n",
       "      <td>Entire home/apt</td>\n",
       "      <td>127</td>\n",
       "      <td>3</td>\n",
       "      <td>0</td>\n",
       "      <td>None</td>\n",
       "      <td>8</td>\n",
       "      <td>...</td>\n",
       "      <td>0</td>\n",
       "      <td>0</td>\n",
       "      <td>0</td>\n",
       "      <td>0</td>\n",
       "      <td>0</td>\n",
       "      <td>0</td>\n",
       "      <td>0</td>\n",
       "      <td>0</td>\n",
       "      <td></td>\n",
       "      <td>0</td>\n",
       "    </tr>\n",
       "    <tr>\n",
       "      <th>42917</th>\n",
       "      <td>The Coziest Home</td>\n",
       "      <td>48533809</td>\n",
       "      <td>Staten Island</td>\n",
       "      <td>Bull's Head</td>\n",
       "      <td>Entire home/apt</td>\n",
       "      <td>280</td>\n",
       "      <td>1</td>\n",
       "      <td>0</td>\n",
       "      <td>None</td>\n",
       "      <td>1</td>\n",
       "      <td>...</td>\n",
       "      <td>0</td>\n",
       "      <td>0</td>\n",
       "      <td>0</td>\n",
       "      <td>0</td>\n",
       "      <td>0</td>\n",
       "      <td>0</td>\n",
       "      <td>0</td>\n",
       "      <td>0</td>\n",
       "      <td></td>\n",
       "      <td>0</td>\n",
       "    </tr>\n",
       "    <tr>\n",
       "      <th>42918</th>\n",
       "      <td>378-2L-Red</td>\n",
       "      <td>488616033</td>\n",
       "      <td>Brooklyn</td>\n",
       "      <td>Williamsburg</td>\n",
       "      <td>Private room</td>\n",
       "      <td>78</td>\n",
       "      <td>90</td>\n",
       "      <td>0</td>\n",
       "      <td>None</td>\n",
       "      <td>69</td>\n",
       "      <td>...</td>\n",
       "      <td>0</td>\n",
       "      <td>0</td>\n",
       "      <td>0</td>\n",
       "      <td>0</td>\n",
       "      <td>0</td>\n",
       "      <td>0</td>\n",
       "      <td>0</td>\n",
       "      <td>0</td>\n",
       "      <td></td>\n",
       "      <td>0</td>\n",
       "    </tr>\n",
       "  </tbody>\n",
       "</table>\n",
       "<p>42919 rows × 27 columns</p>\n",
       "</div>"
      ]
     },
     "metadata": {
      "application/vnd.databricks.v1+output": {
       "addedWidgets": {},
       "arguments": {},
       "data": "<div>\n<style scoped>\n    .dataframe tbody tr th:only-of-type {\n        vertical-align: middle;\n    }\n\n    .dataframe tbody tr th {\n        vertical-align: top;\n    }\n\n    .dataframe thead th {\n        text-align: right;\n    }\n</style>\n<table border=\"1\" class=\"dataframe\">\n  <thead>\n    <tr style=\"text-align: right;\">\n      <th></th>\n      <th>name</th>\n      <th>host_id</th>\n      <th>neighbourhood_group</th>\n      <th>neighbourhood</th>\n      <th>room_type</th>\n      <th>price</th>\n      <th>minimum_nights</th>\n      <th>number_of_reviews</th>\n      <th>last_review</th>\n      <th>calculated_host_listings_count</th>\n      <th>...</th>\n      <th>camping</th>\n      <th>skiing</th>\n      <th>lake</th>\n      <th>new</th>\n      <th>surf</th>\n      <th>bbq</th>\n      <th>elevator</th>\n      <th>wifi</th>\n      <th>ext_opt_new</th>\n      <th>ext_opt_cnt</th>\n    </tr>\n  </thead>\n  <tbody>\n    <tr>\n      <th>0</th>\n      <td>Skylit Midtown Castle</td>\n      <td>2845</td>\n      <td>Manhattan</td>\n      <td>Midtown</td>\n      <td>Entire home/apt</td>\n      <td>150</td>\n      <td>30</td>\n      <td>49</td>\n      <td>2022-06-21</td>\n      <td>3</td>\n      <td>...</td>\n      <td>0</td>\n      <td>0</td>\n      <td>0</td>\n      <td>0</td>\n      <td>0</td>\n      <td>0</td>\n      <td>0</td>\n      <td>0</td>\n      <td></td>\n      <td>0</td>\n    </tr>\n    <tr>\n      <th>1</th>\n      <td>BlissArtsSpace!</td>\n      <td>7356</td>\n      <td>Brooklyn</td>\n      <td>Bedford-Stuyvesant</td>\n      <td>Private room</td>\n      <td>60</td>\n      <td>30</td>\n      <td>50</td>\n      <td>2019-12-02</td>\n      <td>2</td>\n      <td>...</td>\n      <td>0</td>\n      <td>0</td>\n      <td>0</td>\n      <td>0</td>\n      <td>0</td>\n      <td>0</td>\n      <td>0</td>\n      <td>0</td>\n      <td></td>\n      <td>0</td>\n    </tr>\n    <tr>\n      <th>2</th>\n      <td>Cozy Clean Guest Room - Family Apt</td>\n      <td>7490</td>\n      <td>Manhattan</td>\n      <td>Upper West Side</td>\n      <td>Private room</td>\n      <td>75</td>\n      <td>2</td>\n      <td>118</td>\n      <td>2017-07-21</td>\n      <td>1</td>\n      <td>...</td>\n      <td>0</td>\n      <td>0</td>\n      <td>0</td>\n      <td>0</td>\n      <td>0</td>\n      <td>0</td>\n      <td>0</td>\n      <td>0</td>\n      <td></td>\n      <td>0</td>\n    </tr>\n    <tr>\n      <th>3</th>\n      <td>Large Furnished Room Near B'way</td>\n      <td>8967</td>\n      <td>Manhattan</td>\n      <td>Midtown</td>\n      <td>Private room</td>\n      <td>68</td>\n      <td>2</td>\n      <td>575</td>\n      <td>2023-02-19</td>\n      <td>1</td>\n      <td>...</td>\n      <td>0</td>\n      <td>0</td>\n      <td>0</td>\n      <td>0</td>\n      <td>0</td>\n      <td>0</td>\n      <td>0</td>\n      <td>0</td>\n      <td></td>\n      <td>0</td>\n    </tr>\n    <tr>\n      <th>4</th>\n      <td>Large Sunny Brooklyn Duplex, Patio + Garden</td>\n      <td>7378</td>\n      <td>Brooklyn</td>\n      <td>Sunset Park</td>\n      <td>Entire home/apt</td>\n      <td>275</td>\n      <td>60</td>\n      <td>3</td>\n      <td>2022-08-10</td>\n      <td>1</td>\n      <td>...</td>\n      <td>0</td>\n      <td>0</td>\n      <td>0</td>\n      <td>0</td>\n      <td>0</td>\n      <td>0</td>\n      <td>0</td>\n      <td>0</td>\n      <td></td>\n      <td>0</td>\n    </tr>\n    <tr>\n      <th>...</th>\n      <td>...</td>\n      <td>...</td>\n      <td>...</td>\n      <td>...</td>\n      <td>...</td>\n      <td>...</td>\n      <td>...</td>\n      <td>...</td>\n      <td>...</td>\n      <td>...</td>\n      <td>...</td>\n      <td>...</td>\n      <td>...</td>\n      <td>...</td>\n      <td>...</td>\n      <td>...</td>\n      <td>...</td>\n      <td>...</td>\n      <td>...</td>\n      <td>...</td>\n      <td>...</td>\n    </tr>\n    <tr>\n      <th>42914</th>\n      <td>bright studio in Williamsburg</td>\n      <td>28057253</td>\n      <td>Brooklyn</td>\n      <td>Williamsburg</td>\n      <td>Entire home/apt</td>\n      <td>76</td>\n      <td>7</td>\n      <td>0</td>\n      <td>None</td>\n      <td>1</td>\n      <td>...</td>\n      <td>0</td>\n      <td>0</td>\n      <td>0</td>\n      <td>0</td>\n      <td>0</td>\n      <td>0</td>\n      <td>0</td>\n      <td>0</td>\n      <td></td>\n      <td>0</td>\n    </tr>\n    <tr>\n      <th>42915</th>\n      <td>Room in the heart of LES with Gym&amp; Rooftop BBQ</td>\n      <td>247439246</td>\n      <td>Manhattan</td>\n      <td>East Village</td>\n      <td>Private room</td>\n      <td>32</td>\n      <td>30</td>\n      <td>0</td>\n      <td>None</td>\n      <td>5</td>\n      <td>...</td>\n      <td>0</td>\n      <td>0</td>\n      <td>0</td>\n      <td>0</td>\n      <td>0</td>\n      <td>1</td>\n      <td>0</td>\n      <td>0</td>\n      <td>gym bbq</td>\n      <td>2</td>\n    </tr>\n    <tr>\n      <th>42916</th>\n      <td>Fantastic 3BD apt in Brooklyn</td>\n      <td>26349246</td>\n      <td>Brooklyn</td>\n      <td>Bushwick</td>\n      <td>Entire home/apt</td>\n      <td>127</td>\n      <td>3</td>\n      <td>0</td>\n      <td>None</td>\n      <td>8</td>\n      <td>...</td>\n      <td>0</td>\n      <td>0</td>\n      <td>0</td>\n      <td>0</td>\n      <td>0</td>\n      <td>0</td>\n      <td>0</td>\n      <td>0</td>\n      <td></td>\n      <td>0</td>\n    </tr>\n    <tr>\n      <th>42917</th>\n      <td>The Coziest Home</td>\n      <td>48533809</td>\n      <td>Staten Island</td>\n      <td>Bull's Head</td>\n      <td>Entire home/apt</td>\n      <td>280</td>\n      <td>1</td>\n      <td>0</td>\n      <td>None</td>\n      <td>1</td>\n      <td>...</td>\n      <td>0</td>\n      <td>0</td>\n      <td>0</td>\n      <td>0</td>\n      <td>0</td>\n      <td>0</td>\n      <td>0</td>\n      <td>0</td>\n      <td></td>\n      <td>0</td>\n    </tr>\n    <tr>\n      <th>42918</th>\n      <td>378-2L-Red</td>\n      <td>488616033</td>\n      <td>Brooklyn</td>\n      <td>Williamsburg</td>\n      <td>Private room</td>\n      <td>78</td>\n      <td>90</td>\n      <td>0</td>\n      <td>None</td>\n      <td>69</td>\n      <td>...</td>\n      <td>0</td>\n      <td>0</td>\n      <td>0</td>\n      <td>0</td>\n      <td>0</td>\n      <td>0</td>\n      <td>0</td>\n      <td>0</td>\n      <td></td>\n      <td>0</td>\n    </tr>\n  </tbody>\n</table>\n<p>42919 rows × 27 columns</p>\n</div>",
       "datasetInfos": [],
       "metadata": {},
       "removedWidgets": [],
       "textData": null,
       "type": "htmlSandbox"
      }
     },
     "output_type": "display_data"
    }
   ],
   "source": [
    "preprocessed_df.toPandas()\n"
   ]
  },
  {
   "cell_type": "code",
   "execution_count": null,
   "metadata": {
    "application/vnd.databricks.v1+cell": {
     "cellMetadata": {
      "byteLimit": 2048000,
      "rowLimit": 10000
     },
     "inputWidgets": {},
     "nuid": "a5e758c6-baff-40af-897c-f8e4f1a6933b",
     "showTitle": false,
     "title": ""
    }
   },
   "outputs": [
    {
     "data": {
      "text/html": [
       "<div>\n",
       "<style scoped>\n",
       "    .dataframe tbody tr th:only-of-type {\n",
       "        vertical-align: middle;\n",
       "    }\n",
       "\n",
       "    .dataframe tbody tr th {\n",
       "        vertical-align: top;\n",
       "    }\n",
       "\n",
       "    .dataframe thead th {\n",
       "        text-align: right;\n",
       "    }\n",
       "</style>\n",
       "<table border=\"1\" class=\"dataframe\">\n",
       "  <thead>\n",
       "    <tr style=\"text-align: right;\">\n",
       "      <th></th>\n",
       "      <th>name</th>\n",
       "      <th>host_id</th>\n",
       "      <th>neighbourhood_group</th>\n",
       "      <th>neighbourhood</th>\n",
       "      <th>room_type</th>\n",
       "      <th>price</th>\n",
       "      <th>minimum_nights</th>\n",
       "      <th>number_of_reviews</th>\n",
       "      <th>last_review</th>\n",
       "      <th>calculated_host_listings_count</th>\n",
       "      <th>...</th>\n",
       "      <th>lake</th>\n",
       "      <th>new</th>\n",
       "      <th>surf</th>\n",
       "      <th>bbq</th>\n",
       "      <th>elevator</th>\n",
       "      <th>wifi</th>\n",
       "      <th>ext_opt_new</th>\n",
       "      <th>ext_opt_cnt</th>\n",
       "      <th>last_review_dt</th>\n",
       "      <th>last_review_year</th>\n",
       "    </tr>\n",
       "  </thead>\n",
       "  <tbody>\n",
       "    <tr>\n",
       "      <th>0</th>\n",
       "      <td>Room in the heart of Astoria</td>\n",
       "      <td>67730</td>\n",
       "      <td>Queens</td>\n",
       "      <td>Astoria</td>\n",
       "      <td>Private room</td>\n",
       "      <td>55</td>\n",
       "      <td>30</td>\n",
       "      <td>0</td>\n",
       "      <td>None</td>\n",
       "      <td>1</td>\n",
       "      <td>...</td>\n",
       "      <td>0</td>\n",
       "      <td>0</td>\n",
       "      <td>0</td>\n",
       "      <td>0</td>\n",
       "      <td>0</td>\n",
       "      <td>0</td>\n",
       "      <td></td>\n",
       "      <td>0</td>\n",
       "      <td>None</td>\n",
       "      <td>NaN</td>\n",
       "    </tr>\n",
       "    <tr>\n",
       "      <th>1</th>\n",
       "      <td>Country space in the city</td>\n",
       "      <td>45445</td>\n",
       "      <td>Brooklyn</td>\n",
       "      <td>Flatbush</td>\n",
       "      <td>Private room</td>\n",
       "      <td>150</td>\n",
       "      <td>30</td>\n",
       "      <td>0</td>\n",
       "      <td>None</td>\n",
       "      <td>1</td>\n",
       "      <td>...</td>\n",
       "      <td>0</td>\n",
       "      <td>0</td>\n",
       "      <td>0</td>\n",
       "      <td>0</td>\n",
       "      <td>0</td>\n",
       "      <td>0</td>\n",
       "      <td></td>\n",
       "      <td>0</td>\n",
       "      <td>None</td>\n",
       "      <td>NaN</td>\n",
       "    </tr>\n",
       "    <tr>\n",
       "      <th>2</th>\n",
       "      <td>Room in Beautiful Townhouse.</td>\n",
       "      <td>204586</td>\n",
       "      <td>Bronx</td>\n",
       "      <td>Mott Haven</td>\n",
       "      <td>Private room</td>\n",
       "      <td>60</td>\n",
       "      <td>30</td>\n",
       "      <td>0</td>\n",
       "      <td>None</td>\n",
       "      <td>1</td>\n",
       "      <td>...</td>\n",
       "      <td>0</td>\n",
       "      <td>0</td>\n",
       "      <td>0</td>\n",
       "      <td>0</td>\n",
       "      <td>0</td>\n",
       "      <td>0</td>\n",
       "      <td></td>\n",
       "      <td>0</td>\n",
       "      <td>None</td>\n",
       "      <td>NaN</td>\n",
       "    </tr>\n",
       "    <tr>\n",
       "      <th>3</th>\n",
       "      <td>1 Bedroom in 2 Bdrm Apt- Upper East</td>\n",
       "      <td>236421</td>\n",
       "      <td>Manhattan</td>\n",
       "      <td>Upper East Side</td>\n",
       "      <td>Private room</td>\n",
       "      <td>130</td>\n",
       "      <td>14</td>\n",
       "      <td>0</td>\n",
       "      <td>None</td>\n",
       "      <td>2</td>\n",
       "      <td>...</td>\n",
       "      <td>0</td>\n",
       "      <td>0</td>\n",
       "      <td>0</td>\n",
       "      <td>0</td>\n",
       "      <td>0</td>\n",
       "      <td>0</td>\n",
       "      <td></td>\n",
       "      <td>0</td>\n",
       "      <td>None</td>\n",
       "      <td>NaN</td>\n",
       "    </tr>\n",
       "    <tr>\n",
       "      <th>4</th>\n",
       "      <td>Beautiful Uptown Manhattan apartmnt</td>\n",
       "      <td>253385</td>\n",
       "      <td>Manhattan</td>\n",
       "      <td>Harlem</td>\n",
       "      <td>Private room</td>\n",
       "      <td>200</td>\n",
       "      <td>30</td>\n",
       "      <td>0</td>\n",
       "      <td>None</td>\n",
       "      <td>1</td>\n",
       "      <td>...</td>\n",
       "      <td>0</td>\n",
       "      <td>0</td>\n",
       "      <td>0</td>\n",
       "      <td>0</td>\n",
       "      <td>0</td>\n",
       "      <td>0</td>\n",
       "      <td></td>\n",
       "      <td>0</td>\n",
       "      <td>None</td>\n",
       "      <td>NaN</td>\n",
       "    </tr>\n",
       "    <tr>\n",
       "      <th>...</th>\n",
       "      <td>...</td>\n",
       "      <td>...</td>\n",
       "      <td>...</td>\n",
       "      <td>...</td>\n",
       "      <td>...</td>\n",
       "      <td>...</td>\n",
       "      <td>...</td>\n",
       "      <td>...</td>\n",
       "      <td>...</td>\n",
       "      <td>...</td>\n",
       "      <td>...</td>\n",
       "      <td>...</td>\n",
       "      <td>...</td>\n",
       "      <td>...</td>\n",
       "      <td>...</td>\n",
       "      <td>...</td>\n",
       "      <td>...</td>\n",
       "      <td>...</td>\n",
       "      <td>...</td>\n",
       "      <td>...</td>\n",
       "      <td>...</td>\n",
       "    </tr>\n",
       "    <tr>\n",
       "      <th>10292</th>\n",
       "      <td>bright studio in Williamsburg</td>\n",
       "      <td>28057253</td>\n",
       "      <td>Brooklyn</td>\n",
       "      <td>Williamsburg</td>\n",
       "      <td>Entire home/apt</td>\n",
       "      <td>76</td>\n",
       "      <td>7</td>\n",
       "      <td>0</td>\n",
       "      <td>None</td>\n",
       "      <td>1</td>\n",
       "      <td>...</td>\n",
       "      <td>0</td>\n",
       "      <td>0</td>\n",
       "      <td>0</td>\n",
       "      <td>0</td>\n",
       "      <td>0</td>\n",
       "      <td>0</td>\n",
       "      <td></td>\n",
       "      <td>0</td>\n",
       "      <td>None</td>\n",
       "      <td>NaN</td>\n",
       "    </tr>\n",
       "    <tr>\n",
       "      <th>10293</th>\n",
       "      <td>Room in the heart of LES with Gym&amp; Rooftop BBQ</td>\n",
       "      <td>247439246</td>\n",
       "      <td>Manhattan</td>\n",
       "      <td>East Village</td>\n",
       "      <td>Private room</td>\n",
       "      <td>32</td>\n",
       "      <td>30</td>\n",
       "      <td>0</td>\n",
       "      <td>None</td>\n",
       "      <td>5</td>\n",
       "      <td>...</td>\n",
       "      <td>0</td>\n",
       "      <td>0</td>\n",
       "      <td>0</td>\n",
       "      <td>1</td>\n",
       "      <td>0</td>\n",
       "      <td>0</td>\n",
       "      <td>gym bbq</td>\n",
       "      <td>2</td>\n",
       "      <td>None</td>\n",
       "      <td>NaN</td>\n",
       "    </tr>\n",
       "    <tr>\n",
       "      <th>10294</th>\n",
       "      <td>Fantastic 3BD apt in Brooklyn</td>\n",
       "      <td>26349246</td>\n",
       "      <td>Brooklyn</td>\n",
       "      <td>Bushwick</td>\n",
       "      <td>Entire home/apt</td>\n",
       "      <td>127</td>\n",
       "      <td>3</td>\n",
       "      <td>0</td>\n",
       "      <td>None</td>\n",
       "      <td>8</td>\n",
       "      <td>...</td>\n",
       "      <td>0</td>\n",
       "      <td>0</td>\n",
       "      <td>0</td>\n",
       "      <td>0</td>\n",
       "      <td>0</td>\n",
       "      <td>0</td>\n",
       "      <td></td>\n",
       "      <td>0</td>\n",
       "      <td>None</td>\n",
       "      <td>NaN</td>\n",
       "    </tr>\n",
       "    <tr>\n",
       "      <th>10295</th>\n",
       "      <td>The Coziest Home</td>\n",
       "      <td>48533809</td>\n",
       "      <td>Staten Island</td>\n",
       "      <td>Bull's Head</td>\n",
       "      <td>Entire home/apt</td>\n",
       "      <td>280</td>\n",
       "      <td>1</td>\n",
       "      <td>0</td>\n",
       "      <td>None</td>\n",
       "      <td>1</td>\n",
       "      <td>...</td>\n",
       "      <td>0</td>\n",
       "      <td>0</td>\n",
       "      <td>0</td>\n",
       "      <td>0</td>\n",
       "      <td>0</td>\n",
       "      <td>0</td>\n",
       "      <td></td>\n",
       "      <td>0</td>\n",
       "      <td>None</td>\n",
       "      <td>NaN</td>\n",
       "    </tr>\n",
       "    <tr>\n",
       "      <th>10296</th>\n",
       "      <td>378-2L-Red</td>\n",
       "      <td>488616033</td>\n",
       "      <td>Brooklyn</td>\n",
       "      <td>Williamsburg</td>\n",
       "      <td>Private room</td>\n",
       "      <td>78</td>\n",
       "      <td>90</td>\n",
       "      <td>0</td>\n",
       "      <td>None</td>\n",
       "      <td>69</td>\n",
       "      <td>...</td>\n",
       "      <td>0</td>\n",
       "      <td>0</td>\n",
       "      <td>0</td>\n",
       "      <td>0</td>\n",
       "      <td>0</td>\n",
       "      <td>0</td>\n",
       "      <td></td>\n",
       "      <td>0</td>\n",
       "      <td>None</td>\n",
       "      <td>NaN</td>\n",
       "    </tr>\n",
       "  </tbody>\n",
       "</table>\n",
       "<p>10297 rows × 29 columns</p>\n",
       "</div>"
      ]
     },
     "metadata": {
      "application/vnd.databricks.v1+output": {
       "addedWidgets": {},
       "arguments": {},
       "data": "<div>\n<style scoped>\n    .dataframe tbody tr th:only-of-type {\n        vertical-align: middle;\n    }\n\n    .dataframe tbody tr th {\n        vertical-align: top;\n    }\n\n    .dataframe thead th {\n        text-align: right;\n    }\n</style>\n<table border=\"1\" class=\"dataframe\">\n  <thead>\n    <tr style=\"text-align: right;\">\n      <th></th>\n      <th>name</th>\n      <th>host_id</th>\n      <th>neighbourhood_group</th>\n      <th>neighbourhood</th>\n      <th>room_type</th>\n      <th>price</th>\n      <th>minimum_nights</th>\n      <th>number_of_reviews</th>\n      <th>last_review</th>\n      <th>calculated_host_listings_count</th>\n      <th>...</th>\n      <th>lake</th>\n      <th>new</th>\n      <th>surf</th>\n      <th>bbq</th>\n      <th>elevator</th>\n      <th>wifi</th>\n      <th>ext_opt_new</th>\n      <th>ext_opt_cnt</th>\n      <th>last_review_dt</th>\n      <th>last_review_year</th>\n    </tr>\n  </thead>\n  <tbody>\n    <tr>\n      <th>0</th>\n      <td>Room in the heart of Astoria</td>\n      <td>67730</td>\n      <td>Queens</td>\n      <td>Astoria</td>\n      <td>Private room</td>\n      <td>55</td>\n      <td>30</td>\n      <td>0</td>\n      <td>None</td>\n      <td>1</td>\n      <td>...</td>\n      <td>0</td>\n      <td>0</td>\n      <td>0</td>\n      <td>0</td>\n      <td>0</td>\n      <td>0</td>\n      <td></td>\n      <td>0</td>\n      <td>None</td>\n      <td>NaN</td>\n    </tr>\n    <tr>\n      <th>1</th>\n      <td>Country space in the city</td>\n      <td>45445</td>\n      <td>Brooklyn</td>\n      <td>Flatbush</td>\n      <td>Private room</td>\n      <td>150</td>\n      <td>30</td>\n      <td>0</td>\n      <td>None</td>\n      <td>1</td>\n      <td>...</td>\n      <td>0</td>\n      <td>0</td>\n      <td>0</td>\n      <td>0</td>\n      <td>0</td>\n      <td>0</td>\n      <td></td>\n      <td>0</td>\n      <td>None</td>\n      <td>NaN</td>\n    </tr>\n    <tr>\n      <th>2</th>\n      <td>Room in Beautiful Townhouse.</td>\n      <td>204586</td>\n      <td>Bronx</td>\n      <td>Mott Haven</td>\n      <td>Private room</td>\n      <td>60</td>\n      <td>30</td>\n      <td>0</td>\n      <td>None</td>\n      <td>1</td>\n      <td>...</td>\n      <td>0</td>\n      <td>0</td>\n      <td>0</td>\n      <td>0</td>\n      <td>0</td>\n      <td>0</td>\n      <td></td>\n      <td>0</td>\n      <td>None</td>\n      <td>NaN</td>\n    </tr>\n    <tr>\n      <th>3</th>\n      <td>1 Bedroom in 2 Bdrm Apt- Upper East</td>\n      <td>236421</td>\n      <td>Manhattan</td>\n      <td>Upper East Side</td>\n      <td>Private room</td>\n      <td>130</td>\n      <td>14</td>\n      <td>0</td>\n      <td>None</td>\n      <td>2</td>\n      <td>...</td>\n      <td>0</td>\n      <td>0</td>\n      <td>0</td>\n      <td>0</td>\n      <td>0</td>\n      <td>0</td>\n      <td></td>\n      <td>0</td>\n      <td>None</td>\n      <td>NaN</td>\n    </tr>\n    <tr>\n      <th>4</th>\n      <td>Beautiful Uptown Manhattan apartmnt</td>\n      <td>253385</td>\n      <td>Manhattan</td>\n      <td>Harlem</td>\n      <td>Private room</td>\n      <td>200</td>\n      <td>30</td>\n      <td>0</td>\n      <td>None</td>\n      <td>1</td>\n      <td>...</td>\n      <td>0</td>\n      <td>0</td>\n      <td>0</td>\n      <td>0</td>\n      <td>0</td>\n      <td>0</td>\n      <td></td>\n      <td>0</td>\n      <td>None</td>\n      <td>NaN</td>\n    </tr>\n    <tr>\n      <th>...</th>\n      <td>...</td>\n      <td>...</td>\n      <td>...</td>\n      <td>...</td>\n      <td>...</td>\n      <td>...</td>\n      <td>...</td>\n      <td>...</td>\n      <td>...</td>\n      <td>...</td>\n      <td>...</td>\n      <td>...</td>\n      <td>...</td>\n      <td>...</td>\n      <td>...</td>\n      <td>...</td>\n      <td>...</td>\n      <td>...</td>\n      <td>...</td>\n      <td>...</td>\n      <td>...</td>\n    </tr>\n    <tr>\n      <th>10292</th>\n      <td>bright studio in Williamsburg</td>\n      <td>28057253</td>\n      <td>Brooklyn</td>\n      <td>Williamsburg</td>\n      <td>Entire home/apt</td>\n      <td>76</td>\n      <td>7</td>\n      <td>0</td>\n      <td>None</td>\n      <td>1</td>\n      <td>...</td>\n      <td>0</td>\n      <td>0</td>\n      <td>0</td>\n      <td>0</td>\n      <td>0</td>\n      <td>0</td>\n      <td></td>\n      <td>0</td>\n      <td>None</td>\n      <td>NaN</td>\n    </tr>\n    <tr>\n      <th>10293</th>\n      <td>Room in the heart of LES with Gym&amp; Rooftop BBQ</td>\n      <td>247439246</td>\n      <td>Manhattan</td>\n      <td>East Village</td>\n      <td>Private room</td>\n      <td>32</td>\n      <td>30</td>\n      <td>0</td>\n      <td>None</td>\n      <td>5</td>\n      <td>...</td>\n      <td>0</td>\n      <td>0</td>\n      <td>0</td>\n      <td>1</td>\n      <td>0</td>\n      <td>0</td>\n      <td>gym bbq</td>\n      <td>2</td>\n      <td>None</td>\n      <td>NaN</td>\n    </tr>\n    <tr>\n      <th>10294</th>\n      <td>Fantastic 3BD apt in Brooklyn</td>\n      <td>26349246</td>\n      <td>Brooklyn</td>\n      <td>Bushwick</td>\n      <td>Entire home/apt</td>\n      <td>127</td>\n      <td>3</td>\n      <td>0</td>\n      <td>None</td>\n      <td>8</td>\n      <td>...</td>\n      <td>0</td>\n      <td>0</td>\n      <td>0</td>\n      <td>0</td>\n      <td>0</td>\n      <td>0</td>\n      <td></td>\n      <td>0</td>\n      <td>None</td>\n      <td>NaN</td>\n    </tr>\n    <tr>\n      <th>10295</th>\n      <td>The Coziest Home</td>\n      <td>48533809</td>\n      <td>Staten Island</td>\n      <td>Bull's Head</td>\n      <td>Entire home/apt</td>\n      <td>280</td>\n      <td>1</td>\n      <td>0</td>\n      <td>None</td>\n      <td>1</td>\n      <td>...</td>\n      <td>0</td>\n      <td>0</td>\n      <td>0</td>\n      <td>0</td>\n      <td>0</td>\n      <td>0</td>\n      <td></td>\n      <td>0</td>\n      <td>None</td>\n      <td>NaN</td>\n    </tr>\n    <tr>\n      <th>10296</th>\n      <td>378-2L-Red</td>\n      <td>488616033</td>\n      <td>Brooklyn</td>\n      <td>Williamsburg</td>\n      <td>Private room</td>\n      <td>78</td>\n      <td>90</td>\n      <td>0</td>\n      <td>None</td>\n      <td>69</td>\n      <td>...</td>\n      <td>0</td>\n      <td>0</td>\n      <td>0</td>\n      <td>0</td>\n      <td>0</td>\n      <td>0</td>\n      <td></td>\n      <td>0</td>\n      <td>None</td>\n      <td>NaN</td>\n    </tr>\n  </tbody>\n</table>\n<p>10297 rows × 29 columns</p>\n</div>",
       "datasetInfos": [],
       "metadata": {},
       "removedWidgets": [],
       "textData": null,
       "type": "htmlSandbox"
      }
     },
     "output_type": "display_data"
    }
   ],
   "source": [
    "from pyspark.sql.functions import to_date, year, isnull\n",
    "\n",
    "preprocessed_df = preprocessed_df.withColumn('last_review_dt', to_date(preprocessed_df['last_review']))\n",
    "preprocessed_df = preprocessed_df.withColumn('last_review_year', year(preprocessed_df['last_review_dt']))\n",
    "preprocessed_df.filter(isnull(preprocessed_df['last_review_year'])).toPandas()\n"
   ]
  },
  {
   "cell_type": "code",
   "execution_count": null,
   "metadata": {
    "application/vnd.databricks.v1+cell": {
     "cellMetadata": {
      "byteLimit": 2048000,
      "rowLimit": 10000
     },
     "inputWidgets": {},
     "nuid": "cfb3a1e6-a533-43bc-849c-695191147aba",
     "showTitle": false,
     "title": ""
    }
   },
   "outputs": [],
   "source": [
    "#StingIndexer to label code the room_type column\n",
    "\n",
    "from pyspark.ml.feature import StringIndexer\n",
    "\n",
    "indexer = StringIndexer(inputCol='room_type', outputCol='room_type_le')\n",
    "preprocessed_df = indexer.fit(preprocessed_df).transform(preprocessed_df)"
   ]
  },
  {
   "cell_type": "markdown",
   "metadata": {
    "application/vnd.databricks.v1+cell": {
     "cellMetadata": {
      "byteLimit": 2048000,
      "rowLimit": 10000
     },
     "inputWidgets": {},
     "nuid": "d41b40bb-ef8c-45dc-b686-deb9a10a03c9",
     "showTitle": false,
     "title": ""
    }
   },
   "source": [
    "####Exploring the properties with zero prices\n"
   ]
  },
  {
   "cell_type": "code",
   "execution_count": null,
   "metadata": {
    "application/vnd.databricks.v1+cell": {
     "cellMetadata": {
      "byteLimit": 2048000,
      "rowLimit": 10000
     },
     "inputWidgets": {},
     "nuid": "a34a9ca8-3ed7-469c-8bbe-a6da92866c01",
     "showTitle": false,
     "title": ""
    }
   },
   "outputs": [
    {
     "data": {
      "text/html": [
       "<div>\n",
       "<style scoped>\n",
       "    .dataframe tbody tr th:only-of-type {\n",
       "        vertical-align: middle;\n",
       "    }\n",
       "\n",
       "    .dataframe tbody tr th {\n",
       "        vertical-align: top;\n",
       "    }\n",
       "\n",
       "    .dataframe thead th {\n",
       "        text-align: right;\n",
       "    }\n",
       "</style>\n",
       "<table border=\"1\" class=\"dataframe\">\n",
       "  <thead>\n",
       "    <tr style=\"text-align: right;\">\n",
       "      <th></th>\n",
       "      <th>name</th>\n",
       "      <th>host_id</th>\n",
       "      <th>neighbourhood_group</th>\n",
       "      <th>neighbourhood</th>\n",
       "      <th>room_type</th>\n",
       "      <th>price</th>\n",
       "      <th>minimum_nights</th>\n",
       "      <th>number_of_reviews</th>\n",
       "      <th>last_review</th>\n",
       "      <th>calculated_host_listings_count</th>\n",
       "      <th>...</th>\n",
       "      <th>new</th>\n",
       "      <th>surf</th>\n",
       "      <th>bbq</th>\n",
       "      <th>elevator</th>\n",
       "      <th>wifi</th>\n",
       "      <th>ext_opt_new</th>\n",
       "      <th>ext_opt_cnt</th>\n",
       "      <th>last_review_dt</th>\n",
       "      <th>last_review_year</th>\n",
       "      <th>room_type_le</th>\n",
       "    </tr>\n",
       "  </thead>\n",
       "  <tbody>\n",
       "    <tr>\n",
       "      <th>0</th>\n",
       "      <td>The Hoxton, Williamsburg - Cosy Room</td>\n",
       "      <td>273324213</td>\n",
       "      <td>Brooklyn</td>\n",
       "      <td>Williamsburg</td>\n",
       "      <td>Hotel room</td>\n",
       "      <td>0</td>\n",
       "      <td>1</td>\n",
       "      <td>83</td>\n",
       "      <td>2023-02-17</td>\n",
       "      <td>1</td>\n",
       "      <td>...</td>\n",
       "      <td>0</td>\n",
       "      <td>0</td>\n",
       "      <td>0</td>\n",
       "      <td>0</td>\n",
       "      <td>0</td>\n",
       "      <td></td>\n",
       "      <td>0</td>\n",
       "      <td>2023-02-17</td>\n",
       "      <td>2023.0</td>\n",
       "      <td>3.0</td>\n",
       "    </tr>\n",
       "    <tr>\n",
       "      <th>1</th>\n",
       "      <td>The James New York - NoMad</td>\n",
       "      <td>268417148</td>\n",
       "      <td>Manhattan</td>\n",
       "      <td>Midtown</td>\n",
       "      <td>Hotel room</td>\n",
       "      <td>0</td>\n",
       "      <td>1</td>\n",
       "      <td>48</td>\n",
       "      <td>2022-10-10</td>\n",
       "      <td>1</td>\n",
       "      <td>...</td>\n",
       "      <td>1</td>\n",
       "      <td>0</td>\n",
       "      <td>0</td>\n",
       "      <td>0</td>\n",
       "      <td>0</td>\n",
       "      <td>new</td>\n",
       "      <td>1</td>\n",
       "      <td>2022-10-10</td>\n",
       "      <td>2022.0</td>\n",
       "      <td>3.0</td>\n",
       "    </tr>\n",
       "    <tr>\n",
       "      <th>2</th>\n",
       "      <td>Gardens Suites Hotel by Affinia</td>\n",
       "      <td>269311462</td>\n",
       "      <td>Manhattan</td>\n",
       "      <td>Upper East Side</td>\n",
       "      <td>Hotel room</td>\n",
       "      <td>0</td>\n",
       "      <td>1</td>\n",
       "      <td>5</td>\n",
       "      <td>2022-10-01</td>\n",
       "      <td>1</td>\n",
       "      <td>...</td>\n",
       "      <td>0</td>\n",
       "      <td>0</td>\n",
       "      <td>0</td>\n",
       "      <td>0</td>\n",
       "      <td>0</td>\n",
       "      <td></td>\n",
       "      <td>0</td>\n",
       "      <td>2022-10-01</td>\n",
       "      <td>2022.0</td>\n",
       "      <td>3.0</td>\n",
       "    </tr>\n",
       "    <tr>\n",
       "      <th>3</th>\n",
       "      <td>Mint House At 70 Pine</td>\n",
       "      <td>197053492</td>\n",
       "      <td>Manhattan</td>\n",
       "      <td>Financial District</td>\n",
       "      <td>Hotel room</td>\n",
       "      <td>0</td>\n",
       "      <td>1</td>\n",
       "      <td>619</td>\n",
       "      <td>2023-01-02</td>\n",
       "      <td>1</td>\n",
       "      <td>...</td>\n",
       "      <td>0</td>\n",
       "      <td>0</td>\n",
       "      <td>0</td>\n",
       "      <td>0</td>\n",
       "      <td>0</td>\n",
       "      <td></td>\n",
       "      <td>0</td>\n",
       "      <td>2023-01-02</td>\n",
       "      <td>2023.0</td>\n",
       "      <td>3.0</td>\n",
       "    </tr>\n",
       "    <tr>\n",
       "      <th>4</th>\n",
       "      <td>Leon Hotel LES</td>\n",
       "      <td>265458818</td>\n",
       "      <td>Manhattan</td>\n",
       "      <td>Chinatown</td>\n",
       "      <td>Hotel room</td>\n",
       "      <td>0</td>\n",
       "      <td>1</td>\n",
       "      <td>348</td>\n",
       "      <td>2023-02-13</td>\n",
       "      <td>1</td>\n",
       "      <td>...</td>\n",
       "      <td>0</td>\n",
       "      <td>0</td>\n",
       "      <td>0</td>\n",
       "      <td>0</td>\n",
       "      <td>0</td>\n",
       "      <td></td>\n",
       "      <td>0</td>\n",
       "      <td>2023-02-13</td>\n",
       "      <td>2023.0</td>\n",
       "      <td>3.0</td>\n",
       "    </tr>\n",
       "    <tr>\n",
       "      <th>5</th>\n",
       "      <td>Carvi Hotel NYC</td>\n",
       "      <td>310429455</td>\n",
       "      <td>Manhattan</td>\n",
       "      <td>Midtown</td>\n",
       "      <td>Hotel room</td>\n",
       "      <td>0</td>\n",
       "      <td>30</td>\n",
       "      <td>0</td>\n",
       "      <td>None</td>\n",
       "      <td>1</td>\n",
       "      <td>...</td>\n",
       "      <td>0</td>\n",
       "      <td>0</td>\n",
       "      <td>0</td>\n",
       "      <td>0</td>\n",
       "      <td>0</td>\n",
       "      <td></td>\n",
       "      <td>0</td>\n",
       "      <td>None</td>\n",
       "      <td>NaN</td>\n",
       "      <td>3.0</td>\n",
       "    </tr>\n",
       "    <tr>\n",
       "      <th>6</th>\n",
       "      <td>Hotel Five44</td>\n",
       "      <td>308721299</td>\n",
       "      <td>Manhattan</td>\n",
       "      <td>Hell's Kitchen</td>\n",
       "      <td>Hotel room</td>\n",
       "      <td>0</td>\n",
       "      <td>30</td>\n",
       "      <td>43</td>\n",
       "      <td>2023-02-05</td>\n",
       "      <td>1</td>\n",
       "      <td>...</td>\n",
       "      <td>0</td>\n",
       "      <td>0</td>\n",
       "      <td>0</td>\n",
       "      <td>0</td>\n",
       "      <td>0</td>\n",
       "      <td></td>\n",
       "      <td>0</td>\n",
       "      <td>2023-02-05</td>\n",
       "      <td>2023.0</td>\n",
       "      <td>3.0</td>\n",
       "    </tr>\n",
       "    <tr>\n",
       "      <th>7</th>\n",
       "      <td>Opera House Hotel</td>\n",
       "      <td>309772430</td>\n",
       "      <td>Bronx</td>\n",
       "      <td>Mott Haven</td>\n",
       "      <td>Hotel room</td>\n",
       "      <td>0</td>\n",
       "      <td>30</td>\n",
       "      <td>0</td>\n",
       "      <td>None</td>\n",
       "      <td>1</td>\n",
       "      <td>...</td>\n",
       "      <td>0</td>\n",
       "      <td>0</td>\n",
       "      <td>0</td>\n",
       "      <td>0</td>\n",
       "      <td>0</td>\n",
       "      <td></td>\n",
       "      <td>0</td>\n",
       "      <td>None</td>\n",
       "      <td>NaN</td>\n",
       "      <td>3.0</td>\n",
       "    </tr>\n",
       "    <tr>\n",
       "      <th>8</th>\n",
       "      <td>The Wall Street Inn</td>\n",
       "      <td>314151200</td>\n",
       "      <td>Manhattan</td>\n",
       "      <td>Financial District</td>\n",
       "      <td>Hotel room</td>\n",
       "      <td>0</td>\n",
       "      <td>1</td>\n",
       "      <td>51</td>\n",
       "      <td>2023-02-19</td>\n",
       "      <td>9</td>\n",
       "      <td>...</td>\n",
       "      <td>0</td>\n",
       "      <td>0</td>\n",
       "      <td>0</td>\n",
       "      <td>0</td>\n",
       "      <td>0</td>\n",
       "      <td></td>\n",
       "      <td>0</td>\n",
       "      <td>2023-02-19</td>\n",
       "      <td>2023.0</td>\n",
       "      <td>3.0</td>\n",
       "    </tr>\n",
       "    <tr>\n",
       "      <th>9</th>\n",
       "      <td>Sister City New York</td>\n",
       "      <td>314197504</td>\n",
       "      <td>Manhattan</td>\n",
       "      <td>Lower East Side</td>\n",
       "      <td>Hotel room</td>\n",
       "      <td>0</td>\n",
       "      <td>30</td>\n",
       "      <td>0</td>\n",
       "      <td>None</td>\n",
       "      <td>1</td>\n",
       "      <td>...</td>\n",
       "      <td>1</td>\n",
       "      <td>0</td>\n",
       "      <td>0</td>\n",
       "      <td>0</td>\n",
       "      <td>0</td>\n",
       "      <td>new</td>\n",
       "      <td>1</td>\n",
       "      <td>None</td>\n",
       "      <td>NaN</td>\n",
       "      <td>3.0</td>\n",
       "    </tr>\n",
       "    <tr>\n",
       "      <th>10</th>\n",
       "      <td>Hotel Hayden</td>\n",
       "      <td>262458398</td>\n",
       "      <td>Manhattan</td>\n",
       "      <td>Chelsea</td>\n",
       "      <td>Hotel room</td>\n",
       "      <td>0</td>\n",
       "      <td>1</td>\n",
       "      <td>83</td>\n",
       "      <td>2022-04-17</td>\n",
       "      <td>1</td>\n",
       "      <td>...</td>\n",
       "      <td>0</td>\n",
       "      <td>0</td>\n",
       "      <td>0</td>\n",
       "      <td>0</td>\n",
       "      <td>0</td>\n",
       "      <td></td>\n",
       "      <td>0</td>\n",
       "      <td>2022-04-17</td>\n",
       "      <td>2022.0</td>\n",
       "      <td>3.0</td>\n",
       "    </tr>\n",
       "    <tr>\n",
       "      <th>11</th>\n",
       "      <td>Executive Hotel LeSoleil New York</td>\n",
       "      <td>318559292</td>\n",
       "      <td>Manhattan</td>\n",
       "      <td>Midtown</td>\n",
       "      <td>Hotel room</td>\n",
       "      <td>0</td>\n",
       "      <td>30</td>\n",
       "      <td>0</td>\n",
       "      <td>None</td>\n",
       "      <td>1</td>\n",
       "      <td>...</td>\n",
       "      <td>1</td>\n",
       "      <td>0</td>\n",
       "      <td>0</td>\n",
       "      <td>0</td>\n",
       "      <td>0</td>\n",
       "      <td>new</td>\n",
       "      <td>1</td>\n",
       "      <td>None</td>\n",
       "      <td>NaN</td>\n",
       "      <td>3.0</td>\n",
       "    </tr>\n",
       "    <tr>\n",
       "      <th>12</th>\n",
       "      <td>The Lex Hotel NYC</td>\n",
       "      <td>334334264</td>\n",
       "      <td>Manhattan</td>\n",
       "      <td>Kips Bay</td>\n",
       "      <td>Hotel room</td>\n",
       "      <td>0</td>\n",
       "      <td>30</td>\n",
       "      <td>0</td>\n",
       "      <td>None</td>\n",
       "      <td>1</td>\n",
       "      <td>...</td>\n",
       "      <td>0</td>\n",
       "      <td>0</td>\n",
       "      <td>0</td>\n",
       "      <td>0</td>\n",
       "      <td>0</td>\n",
       "      <td></td>\n",
       "      <td>0</td>\n",
       "      <td>None</td>\n",
       "      <td>NaN</td>\n",
       "      <td>3.0</td>\n",
       "    </tr>\n",
       "    <tr>\n",
       "      <th>13</th>\n",
       "      <td>SIXTY LES</td>\n",
       "      <td>342053968</td>\n",
       "      <td>Manhattan</td>\n",
       "      <td>Lower East Side</td>\n",
       "      <td>Hotel room</td>\n",
       "      <td>0</td>\n",
       "      <td>1</td>\n",
       "      <td>73</td>\n",
       "      <td>2023-02-09</td>\n",
       "      <td>1</td>\n",
       "      <td>...</td>\n",
       "      <td>0</td>\n",
       "      <td>0</td>\n",
       "      <td>0</td>\n",
       "      <td>0</td>\n",
       "      <td>0</td>\n",
       "      <td></td>\n",
       "      <td>0</td>\n",
       "      <td>2023-02-09</td>\n",
       "      <td>2023.0</td>\n",
       "      <td>3.0</td>\n",
       "    </tr>\n",
       "    <tr>\n",
       "      <th>14</th>\n",
       "      <td>Wellington Hotel</td>\n",
       "      <td>335389657</td>\n",
       "      <td>Manhattan</td>\n",
       "      <td>Midtown</td>\n",
       "      <td>Hotel room</td>\n",
       "      <td>0</td>\n",
       "      <td>1</td>\n",
       "      <td>9</td>\n",
       "      <td>2020-12-27</td>\n",
       "      <td>1</td>\n",
       "      <td>...</td>\n",
       "      <td>0</td>\n",
       "      <td>0</td>\n",
       "      <td>0</td>\n",
       "      <td>0</td>\n",
       "      <td>0</td>\n",
       "      <td></td>\n",
       "      <td>0</td>\n",
       "      <td>2020-12-27</td>\n",
       "      <td>2020.0</td>\n",
       "      <td>3.0</td>\n",
       "    </tr>\n",
       "    <tr>\n",
       "      <th>15</th>\n",
       "      <td>6 Columbus Central Park Hotel</td>\n",
       "      <td>335072254</td>\n",
       "      <td>Manhattan</td>\n",
       "      <td>Hell's Kitchen</td>\n",
       "      <td>Hotel room</td>\n",
       "      <td>0</td>\n",
       "      <td>1</td>\n",
       "      <td>24</td>\n",
       "      <td>2023-02-12</td>\n",
       "      <td>1</td>\n",
       "      <td>...</td>\n",
       "      <td>0</td>\n",
       "      <td>0</td>\n",
       "      <td>0</td>\n",
       "      <td>0</td>\n",
       "      <td>0</td>\n",
       "      <td>park</td>\n",
       "      <td>1</td>\n",
       "      <td>2023-02-12</td>\n",
       "      <td>2023.0</td>\n",
       "      <td>3.0</td>\n",
       "    </tr>\n",
       "    <tr>\n",
       "      <th>16</th>\n",
       "      <td>Hotel 57</td>\n",
       "      <td>324955773</td>\n",
       "      <td>Manhattan</td>\n",
       "      <td>Midtown</td>\n",
       "      <td>Hotel room</td>\n",
       "      <td>0</td>\n",
       "      <td>30</td>\n",
       "      <td>59</td>\n",
       "      <td>2022-12-26</td>\n",
       "      <td>1</td>\n",
       "      <td>...</td>\n",
       "      <td>0</td>\n",
       "      <td>0</td>\n",
       "      <td>0</td>\n",
       "      <td>0</td>\n",
       "      <td>0</td>\n",
       "      <td></td>\n",
       "      <td>0</td>\n",
       "      <td>2022-12-26</td>\n",
       "      <td>2022.0</td>\n",
       "      <td>3.0</td>\n",
       "    </tr>\n",
       "    <tr>\n",
       "      <th>17</th>\n",
       "      <td>Belvedere Hotel</td>\n",
       "      <td>318788301</td>\n",
       "      <td>Manhattan</td>\n",
       "      <td>Hell's Kitchen</td>\n",
       "      <td>Hotel room</td>\n",
       "      <td>0</td>\n",
       "      <td>30</td>\n",
       "      <td>0</td>\n",
       "      <td>None</td>\n",
       "      <td>1</td>\n",
       "      <td>...</td>\n",
       "      <td>0</td>\n",
       "      <td>0</td>\n",
       "      <td>0</td>\n",
       "      <td>0</td>\n",
       "      <td>0</td>\n",
       "      <td></td>\n",
       "      <td>0</td>\n",
       "      <td>None</td>\n",
       "      <td>NaN</td>\n",
       "      <td>3.0</td>\n",
       "    </tr>\n",
       "    <tr>\n",
       "      <th>18</th>\n",
       "      <td>The Standard, East Village</td>\n",
       "      <td>360662584</td>\n",
       "      <td>Manhattan</td>\n",
       "      <td>East Village</td>\n",
       "      <td>Hotel room</td>\n",
       "      <td>0</td>\n",
       "      <td>1</td>\n",
       "      <td>8</td>\n",
       "      <td>2021-09-03</td>\n",
       "      <td>1</td>\n",
       "      <td>...</td>\n",
       "      <td>0</td>\n",
       "      <td>0</td>\n",
       "      <td>0</td>\n",
       "      <td>0</td>\n",
       "      <td>0</td>\n",
       "      <td></td>\n",
       "      <td>0</td>\n",
       "      <td>2021-09-03</td>\n",
       "      <td>2021.0</td>\n",
       "      <td>3.0</td>\n",
       "    </tr>\n",
       "    <tr>\n",
       "      <th>19</th>\n",
       "      <td>CITIZENM NEW YORK TIMES SQUARE HOTEL</td>\n",
       "      <td>373324108</td>\n",
       "      <td>Manhattan</td>\n",
       "      <td>Theater District</td>\n",
       "      <td>Hotel room</td>\n",
       "      <td>0</td>\n",
       "      <td>1</td>\n",
       "      <td>163</td>\n",
       "      <td>2023-02-19</td>\n",
       "      <td>1</td>\n",
       "      <td>...</td>\n",
       "      <td>1</td>\n",
       "      <td>0</td>\n",
       "      <td>0</td>\n",
       "      <td>0</td>\n",
       "      <td>0</td>\n",
       "      <td>new</td>\n",
       "      <td>1</td>\n",
       "      <td>2023-02-19</td>\n",
       "      <td>2023.0</td>\n",
       "      <td>3.0</td>\n",
       "    </tr>\n",
       "    <tr>\n",
       "      <th>20</th>\n",
       "      <td>The William Vale</td>\n",
       "      <td>373522899</td>\n",
       "      <td>Brooklyn</td>\n",
       "      <td>Williamsburg</td>\n",
       "      <td>Hotel room</td>\n",
       "      <td>0</td>\n",
       "      <td>1</td>\n",
       "      <td>6</td>\n",
       "      <td>2023-01-29</td>\n",
       "      <td>1</td>\n",
       "      <td>...</td>\n",
       "      <td>0</td>\n",
       "      <td>0</td>\n",
       "      <td>0</td>\n",
       "      <td>0</td>\n",
       "      <td>0</td>\n",
       "      <td></td>\n",
       "      <td>0</td>\n",
       "      <td>2023-01-29</td>\n",
       "      <td>2023.0</td>\n",
       "      <td>3.0</td>\n",
       "    </tr>\n",
       "    <tr>\n",
       "      <th>21</th>\n",
       "      <td>citizenM New York Bowery hotel</td>\n",
       "      <td>374516933</td>\n",
       "      <td>Manhattan</td>\n",
       "      <td>Lower East Side</td>\n",
       "      <td>Hotel room</td>\n",
       "      <td>0</td>\n",
       "      <td>1</td>\n",
       "      <td>191</td>\n",
       "      <td>2023-02-20</td>\n",
       "      <td>1</td>\n",
       "      <td>...</td>\n",
       "      <td>1</td>\n",
       "      <td>0</td>\n",
       "      <td>0</td>\n",
       "      <td>0</td>\n",
       "      <td>0</td>\n",
       "      <td>new</td>\n",
       "      <td>1</td>\n",
       "      <td>2023-02-20</td>\n",
       "      <td>2023.0</td>\n",
       "      <td>3.0</td>\n",
       "    </tr>\n",
       "    <tr>\n",
       "      <th>22</th>\n",
       "      <td>Equinox Hotel New York</td>\n",
       "      <td>375044940</td>\n",
       "      <td>Manhattan</td>\n",
       "      <td>Chelsea</td>\n",
       "      <td>Hotel room</td>\n",
       "      <td>0</td>\n",
       "      <td>1</td>\n",
       "      <td>0</td>\n",
       "      <td>None</td>\n",
       "      <td>1</td>\n",
       "      <td>...</td>\n",
       "      <td>1</td>\n",
       "      <td>0</td>\n",
       "      <td>0</td>\n",
       "      <td>0</td>\n",
       "      <td>0</td>\n",
       "      <td>new</td>\n",
       "      <td>1</td>\n",
       "      <td>None</td>\n",
       "      <td>NaN</td>\n",
       "      <td>3.0</td>\n",
       "    </tr>\n",
       "    <tr>\n",
       "      <th>23</th>\n",
       "      <td>Ink 48 Hotel</td>\n",
       "      <td>376877842</td>\n",
       "      <td>Manhattan</td>\n",
       "      <td>Hell's Kitchen</td>\n",
       "      <td>Hotel room</td>\n",
       "      <td>0</td>\n",
       "      <td>1</td>\n",
       "      <td>1</td>\n",
       "      <td>2021-06-13</td>\n",
       "      <td>1</td>\n",
       "      <td>...</td>\n",
       "      <td>0</td>\n",
       "      <td>0</td>\n",
       "      <td>0</td>\n",
       "      <td>0</td>\n",
       "      <td>0</td>\n",
       "      <td></td>\n",
       "      <td>0</td>\n",
       "      <td>2021-06-13</td>\n",
       "      <td>2021.0</td>\n",
       "      <td>3.0</td>\n",
       "    </tr>\n",
       "    <tr>\n",
       "      <th>24</th>\n",
       "      <td>Condor Hotel</td>\n",
       "      <td>261016212</td>\n",
       "      <td>Brooklyn</td>\n",
       "      <td>Bedford-Stuyvesant</td>\n",
       "      <td>Hotel room</td>\n",
       "      <td>0</td>\n",
       "      <td>1</td>\n",
       "      <td>0</td>\n",
       "      <td>None</td>\n",
       "      <td>6</td>\n",
       "      <td>...</td>\n",
       "      <td>0</td>\n",
       "      <td>0</td>\n",
       "      <td>0</td>\n",
       "      <td>0</td>\n",
       "      <td>0</td>\n",
       "      <td></td>\n",
       "      <td>0</td>\n",
       "      <td>None</td>\n",
       "      <td>NaN</td>\n",
       "      <td>3.0</td>\n",
       "    </tr>\n",
       "    <tr>\n",
       "      <th>25</th>\n",
       "      <td>Hotel Beacon</td>\n",
       "      <td>390077597</td>\n",
       "      <td>Manhattan</td>\n",
       "      <td>Upper West Side</td>\n",
       "      <td>Hotel room</td>\n",
       "      <td>0</td>\n",
       "      <td>1</td>\n",
       "      <td>3</td>\n",
       "      <td>2022-06-05</td>\n",
       "      <td>1</td>\n",
       "      <td>...</td>\n",
       "      <td>0</td>\n",
       "      <td>0</td>\n",
       "      <td>0</td>\n",
       "      <td>0</td>\n",
       "      <td>0</td>\n",
       "      <td></td>\n",
       "      <td>0</td>\n",
       "      <td>2022-06-05</td>\n",
       "      <td>2022.0</td>\n",
       "      <td>3.0</td>\n",
       "    </tr>\n",
       "    <tr>\n",
       "      <th>26</th>\n",
       "      <td>HGU New York</td>\n",
       "      <td>390810530</td>\n",
       "      <td>Manhattan</td>\n",
       "      <td>Midtown</td>\n",
       "      <td>Hotel room</td>\n",
       "      <td>0</td>\n",
       "      <td>1</td>\n",
       "      <td>55</td>\n",
       "      <td>2023-01-30</td>\n",
       "      <td>1</td>\n",
       "      <td>...</td>\n",
       "      <td>1</td>\n",
       "      <td>0</td>\n",
       "      <td>0</td>\n",
       "      <td>0</td>\n",
       "      <td>0</td>\n",
       "      <td>new</td>\n",
       "      <td>1</td>\n",
       "      <td>2023-01-30</td>\n",
       "      <td>2023.0</td>\n",
       "      <td>3.0</td>\n",
       "    </tr>\n",
       "  </tbody>\n",
       "</table>\n",
       "<p>27 rows × 30 columns</p>\n",
       "</div>"
      ]
     },
     "metadata": {
      "application/vnd.databricks.v1+output": {
       "addedWidgets": {},
       "arguments": {},
       "data": "<div>\n<style scoped>\n    .dataframe tbody tr th:only-of-type {\n        vertical-align: middle;\n    }\n\n    .dataframe tbody tr th {\n        vertical-align: top;\n    }\n\n    .dataframe thead th {\n        text-align: right;\n    }\n</style>\n<table border=\"1\" class=\"dataframe\">\n  <thead>\n    <tr style=\"text-align: right;\">\n      <th></th>\n      <th>name</th>\n      <th>host_id</th>\n      <th>neighbourhood_group</th>\n      <th>neighbourhood</th>\n      <th>room_type</th>\n      <th>price</th>\n      <th>minimum_nights</th>\n      <th>number_of_reviews</th>\n      <th>last_review</th>\n      <th>calculated_host_listings_count</th>\n      <th>...</th>\n      <th>new</th>\n      <th>surf</th>\n      <th>bbq</th>\n      <th>elevator</th>\n      <th>wifi</th>\n      <th>ext_opt_new</th>\n      <th>ext_opt_cnt</th>\n      <th>last_review_dt</th>\n      <th>last_review_year</th>\n      <th>room_type_le</th>\n    </tr>\n  </thead>\n  <tbody>\n    <tr>\n      <th>0</th>\n      <td>The Hoxton, Williamsburg - Cosy Room</td>\n      <td>273324213</td>\n      <td>Brooklyn</td>\n      <td>Williamsburg</td>\n      <td>Hotel room</td>\n      <td>0</td>\n      <td>1</td>\n      <td>83</td>\n      <td>2023-02-17</td>\n      <td>1</td>\n      <td>...</td>\n      <td>0</td>\n      <td>0</td>\n      <td>0</td>\n      <td>0</td>\n      <td>0</td>\n      <td></td>\n      <td>0</td>\n      <td>2023-02-17</td>\n      <td>2023.0</td>\n      <td>3.0</td>\n    </tr>\n    <tr>\n      <th>1</th>\n      <td>The James New York - NoMad</td>\n      <td>268417148</td>\n      <td>Manhattan</td>\n      <td>Midtown</td>\n      <td>Hotel room</td>\n      <td>0</td>\n      <td>1</td>\n      <td>48</td>\n      <td>2022-10-10</td>\n      <td>1</td>\n      <td>...</td>\n      <td>1</td>\n      <td>0</td>\n      <td>0</td>\n      <td>0</td>\n      <td>0</td>\n      <td>new</td>\n      <td>1</td>\n      <td>2022-10-10</td>\n      <td>2022.0</td>\n      <td>3.0</td>\n    </tr>\n    <tr>\n      <th>2</th>\n      <td>Gardens Suites Hotel by Affinia</td>\n      <td>269311462</td>\n      <td>Manhattan</td>\n      <td>Upper East Side</td>\n      <td>Hotel room</td>\n      <td>0</td>\n      <td>1</td>\n      <td>5</td>\n      <td>2022-10-01</td>\n      <td>1</td>\n      <td>...</td>\n      <td>0</td>\n      <td>0</td>\n      <td>0</td>\n      <td>0</td>\n      <td>0</td>\n      <td></td>\n      <td>0</td>\n      <td>2022-10-01</td>\n      <td>2022.0</td>\n      <td>3.0</td>\n    </tr>\n    <tr>\n      <th>3</th>\n      <td>Mint House At 70 Pine</td>\n      <td>197053492</td>\n      <td>Manhattan</td>\n      <td>Financial District</td>\n      <td>Hotel room</td>\n      <td>0</td>\n      <td>1</td>\n      <td>619</td>\n      <td>2023-01-02</td>\n      <td>1</td>\n      <td>...</td>\n      <td>0</td>\n      <td>0</td>\n      <td>0</td>\n      <td>0</td>\n      <td>0</td>\n      <td></td>\n      <td>0</td>\n      <td>2023-01-02</td>\n      <td>2023.0</td>\n      <td>3.0</td>\n    </tr>\n    <tr>\n      <th>4</th>\n      <td>Leon Hotel LES</td>\n      <td>265458818</td>\n      <td>Manhattan</td>\n      <td>Chinatown</td>\n      <td>Hotel room</td>\n      <td>0</td>\n      <td>1</td>\n      <td>348</td>\n      <td>2023-02-13</td>\n      <td>1</td>\n      <td>...</td>\n      <td>0</td>\n      <td>0</td>\n      <td>0</td>\n      <td>0</td>\n      <td>0</td>\n      <td></td>\n      <td>0</td>\n      <td>2023-02-13</td>\n      <td>2023.0</td>\n      <td>3.0</td>\n    </tr>\n    <tr>\n      <th>5</th>\n      <td>Carvi Hotel NYC</td>\n      <td>310429455</td>\n      <td>Manhattan</td>\n      <td>Midtown</td>\n      <td>Hotel room</td>\n      <td>0</td>\n      <td>30</td>\n      <td>0</td>\n      <td>None</td>\n      <td>1</td>\n      <td>...</td>\n      <td>0</td>\n      <td>0</td>\n      <td>0</td>\n      <td>0</td>\n      <td>0</td>\n      <td></td>\n      <td>0</td>\n      <td>None</td>\n      <td>NaN</td>\n      <td>3.0</td>\n    </tr>\n    <tr>\n      <th>6</th>\n      <td>Hotel Five44</td>\n      <td>308721299</td>\n      <td>Manhattan</td>\n      <td>Hell's Kitchen</td>\n      <td>Hotel room</td>\n      <td>0</td>\n      <td>30</td>\n      <td>43</td>\n      <td>2023-02-05</td>\n      <td>1</td>\n      <td>...</td>\n      <td>0</td>\n      <td>0</td>\n      <td>0</td>\n      <td>0</td>\n      <td>0</td>\n      <td></td>\n      <td>0</td>\n      <td>2023-02-05</td>\n      <td>2023.0</td>\n      <td>3.0</td>\n    </tr>\n    <tr>\n      <th>7</th>\n      <td>Opera House Hotel</td>\n      <td>309772430</td>\n      <td>Bronx</td>\n      <td>Mott Haven</td>\n      <td>Hotel room</td>\n      <td>0</td>\n      <td>30</td>\n      <td>0</td>\n      <td>None</td>\n      <td>1</td>\n      <td>...</td>\n      <td>0</td>\n      <td>0</td>\n      <td>0</td>\n      <td>0</td>\n      <td>0</td>\n      <td></td>\n      <td>0</td>\n      <td>None</td>\n      <td>NaN</td>\n      <td>3.0</td>\n    </tr>\n    <tr>\n      <th>8</th>\n      <td>The Wall Street Inn</td>\n      <td>314151200</td>\n      <td>Manhattan</td>\n      <td>Financial District</td>\n      <td>Hotel room</td>\n      <td>0</td>\n      <td>1</td>\n      <td>51</td>\n      <td>2023-02-19</td>\n      <td>9</td>\n      <td>...</td>\n      <td>0</td>\n      <td>0</td>\n      <td>0</td>\n      <td>0</td>\n      <td>0</td>\n      <td></td>\n      <td>0</td>\n      <td>2023-02-19</td>\n      <td>2023.0</td>\n      <td>3.0</td>\n    </tr>\n    <tr>\n      <th>9</th>\n      <td>Sister City New York</td>\n      <td>314197504</td>\n      <td>Manhattan</td>\n      <td>Lower East Side</td>\n      <td>Hotel room</td>\n      <td>0</td>\n      <td>30</td>\n      <td>0</td>\n      <td>None</td>\n      <td>1</td>\n      <td>...</td>\n      <td>1</td>\n      <td>0</td>\n      <td>0</td>\n      <td>0</td>\n      <td>0</td>\n      <td>new</td>\n      <td>1</td>\n      <td>None</td>\n      <td>NaN</td>\n      <td>3.0</td>\n    </tr>\n    <tr>\n      <th>10</th>\n      <td>Hotel Hayden</td>\n      <td>262458398</td>\n      <td>Manhattan</td>\n      <td>Chelsea</td>\n      <td>Hotel room</td>\n      <td>0</td>\n      <td>1</td>\n      <td>83</td>\n      <td>2022-04-17</td>\n      <td>1</td>\n      <td>...</td>\n      <td>0</td>\n      <td>0</td>\n      <td>0</td>\n      <td>0</td>\n      <td>0</td>\n      <td></td>\n      <td>0</td>\n      <td>2022-04-17</td>\n      <td>2022.0</td>\n      <td>3.0</td>\n    </tr>\n    <tr>\n      <th>11</th>\n      <td>Executive Hotel LeSoleil New York</td>\n      <td>318559292</td>\n      <td>Manhattan</td>\n      <td>Midtown</td>\n      <td>Hotel room</td>\n      <td>0</td>\n      <td>30</td>\n      <td>0</td>\n      <td>None</td>\n      <td>1</td>\n      <td>...</td>\n      <td>1</td>\n      <td>0</td>\n      <td>0</td>\n      <td>0</td>\n      <td>0</td>\n      <td>new</td>\n      <td>1</td>\n      <td>None</td>\n      <td>NaN</td>\n      <td>3.0</td>\n    </tr>\n    <tr>\n      <th>12</th>\n      <td>The Lex Hotel NYC</td>\n      <td>334334264</td>\n      <td>Manhattan</td>\n      <td>Kips Bay</td>\n      <td>Hotel room</td>\n      <td>0</td>\n      <td>30</td>\n      <td>0</td>\n      <td>None</td>\n      <td>1</td>\n      <td>...</td>\n      <td>0</td>\n      <td>0</td>\n      <td>0</td>\n      <td>0</td>\n      <td>0</td>\n      <td></td>\n      <td>0</td>\n      <td>None</td>\n      <td>NaN</td>\n      <td>3.0</td>\n    </tr>\n    <tr>\n      <th>13</th>\n      <td>SIXTY LES</td>\n      <td>342053968</td>\n      <td>Manhattan</td>\n      <td>Lower East Side</td>\n      <td>Hotel room</td>\n      <td>0</td>\n      <td>1</td>\n      <td>73</td>\n      <td>2023-02-09</td>\n      <td>1</td>\n      <td>...</td>\n      <td>0</td>\n      <td>0</td>\n      <td>0</td>\n      <td>0</td>\n      <td>0</td>\n      <td></td>\n      <td>0</td>\n      <td>2023-02-09</td>\n      <td>2023.0</td>\n      <td>3.0</td>\n    </tr>\n    <tr>\n      <th>14</th>\n      <td>Wellington Hotel</td>\n      <td>335389657</td>\n      <td>Manhattan</td>\n      <td>Midtown</td>\n      <td>Hotel room</td>\n      <td>0</td>\n      <td>1</td>\n      <td>9</td>\n      <td>2020-12-27</td>\n      <td>1</td>\n      <td>...</td>\n      <td>0</td>\n      <td>0</td>\n      <td>0</td>\n      <td>0</td>\n      <td>0</td>\n      <td></td>\n      <td>0</td>\n      <td>2020-12-27</td>\n      <td>2020.0</td>\n      <td>3.0</td>\n    </tr>\n    <tr>\n      <th>15</th>\n      <td>6 Columbus Central Park Hotel</td>\n      <td>335072254</td>\n      <td>Manhattan</td>\n      <td>Hell's Kitchen</td>\n      <td>Hotel room</td>\n      <td>0</td>\n      <td>1</td>\n      <td>24</td>\n      <td>2023-02-12</td>\n      <td>1</td>\n      <td>...</td>\n      <td>0</td>\n      <td>0</td>\n      <td>0</td>\n      <td>0</td>\n      <td>0</td>\n      <td>park</td>\n      <td>1</td>\n      <td>2023-02-12</td>\n      <td>2023.0</td>\n      <td>3.0</td>\n    </tr>\n    <tr>\n      <th>16</th>\n      <td>Hotel 57</td>\n      <td>324955773</td>\n      <td>Manhattan</td>\n      <td>Midtown</td>\n      <td>Hotel room</td>\n      <td>0</td>\n      <td>30</td>\n      <td>59</td>\n      <td>2022-12-26</td>\n      <td>1</td>\n      <td>...</td>\n      <td>0</td>\n      <td>0</td>\n      <td>0</td>\n      <td>0</td>\n      <td>0</td>\n      <td></td>\n      <td>0</td>\n      <td>2022-12-26</td>\n      <td>2022.0</td>\n      <td>3.0</td>\n    </tr>\n    <tr>\n      <th>17</th>\n      <td>Belvedere Hotel</td>\n      <td>318788301</td>\n      <td>Manhattan</td>\n      <td>Hell's Kitchen</td>\n      <td>Hotel room</td>\n      <td>0</td>\n      <td>30</td>\n      <td>0</td>\n      <td>None</td>\n      <td>1</td>\n      <td>...</td>\n      <td>0</td>\n      <td>0</td>\n      <td>0</td>\n      <td>0</td>\n      <td>0</td>\n      <td></td>\n      <td>0</td>\n      <td>None</td>\n      <td>NaN</td>\n      <td>3.0</td>\n    </tr>\n    <tr>\n      <th>18</th>\n      <td>The Standard, East Village</td>\n      <td>360662584</td>\n      <td>Manhattan</td>\n      <td>East Village</td>\n      <td>Hotel room</td>\n      <td>0</td>\n      <td>1</td>\n      <td>8</td>\n      <td>2021-09-03</td>\n      <td>1</td>\n      <td>...</td>\n      <td>0</td>\n      <td>0</td>\n      <td>0</td>\n      <td>0</td>\n      <td>0</td>\n      <td></td>\n      <td>0</td>\n      <td>2021-09-03</td>\n      <td>2021.0</td>\n      <td>3.0</td>\n    </tr>\n    <tr>\n      <th>19</th>\n      <td>CITIZENM NEW YORK TIMES SQUARE HOTEL</td>\n      <td>373324108</td>\n      <td>Manhattan</td>\n      <td>Theater District</td>\n      <td>Hotel room</td>\n      <td>0</td>\n      <td>1</td>\n      <td>163</td>\n      <td>2023-02-19</td>\n      <td>1</td>\n      <td>...</td>\n      <td>1</td>\n      <td>0</td>\n      <td>0</td>\n      <td>0</td>\n      <td>0</td>\n      <td>new</td>\n      <td>1</td>\n      <td>2023-02-19</td>\n      <td>2023.0</td>\n      <td>3.0</td>\n    </tr>\n    <tr>\n      <th>20</th>\n      <td>The William Vale</td>\n      <td>373522899</td>\n      <td>Brooklyn</td>\n      <td>Williamsburg</td>\n      <td>Hotel room</td>\n      <td>0</td>\n      <td>1</td>\n      <td>6</td>\n      <td>2023-01-29</td>\n      <td>1</td>\n      <td>...</td>\n      <td>0</td>\n      <td>0</td>\n      <td>0</td>\n      <td>0</td>\n      <td>0</td>\n      <td></td>\n      <td>0</td>\n      <td>2023-01-29</td>\n      <td>2023.0</td>\n      <td>3.0</td>\n    </tr>\n    <tr>\n      <th>21</th>\n      <td>citizenM New York Bowery hotel</td>\n      <td>374516933</td>\n      <td>Manhattan</td>\n      <td>Lower East Side</td>\n      <td>Hotel room</td>\n      <td>0</td>\n      <td>1</td>\n      <td>191</td>\n      <td>2023-02-20</td>\n      <td>1</td>\n      <td>...</td>\n      <td>1</td>\n      <td>0</td>\n      <td>0</td>\n      <td>0</td>\n      <td>0</td>\n      <td>new</td>\n      <td>1</td>\n      <td>2023-02-20</td>\n      <td>2023.0</td>\n      <td>3.0</td>\n    </tr>\n    <tr>\n      <th>22</th>\n      <td>Equinox Hotel New York</td>\n      <td>375044940</td>\n      <td>Manhattan</td>\n      <td>Chelsea</td>\n      <td>Hotel room</td>\n      <td>0</td>\n      <td>1</td>\n      <td>0</td>\n      <td>None</td>\n      <td>1</td>\n      <td>...</td>\n      <td>1</td>\n      <td>0</td>\n      <td>0</td>\n      <td>0</td>\n      <td>0</td>\n      <td>new</td>\n      <td>1</td>\n      <td>None</td>\n      <td>NaN</td>\n      <td>3.0</td>\n    </tr>\n    <tr>\n      <th>23</th>\n      <td>Ink 48 Hotel</td>\n      <td>376877842</td>\n      <td>Manhattan</td>\n      <td>Hell's Kitchen</td>\n      <td>Hotel room</td>\n      <td>0</td>\n      <td>1</td>\n      <td>1</td>\n      <td>2021-06-13</td>\n      <td>1</td>\n      <td>...</td>\n      <td>0</td>\n      <td>0</td>\n      <td>0</td>\n      <td>0</td>\n      <td>0</td>\n      <td></td>\n      <td>0</td>\n      <td>2021-06-13</td>\n      <td>2021.0</td>\n      <td>3.0</td>\n    </tr>\n    <tr>\n      <th>24</th>\n      <td>Condor Hotel</td>\n      <td>261016212</td>\n      <td>Brooklyn</td>\n      <td>Bedford-Stuyvesant</td>\n      <td>Hotel room</td>\n      <td>0</td>\n      <td>1</td>\n      <td>0</td>\n      <td>None</td>\n      <td>6</td>\n      <td>...</td>\n      <td>0</td>\n      <td>0</td>\n      <td>0</td>\n      <td>0</td>\n      <td>0</td>\n      <td></td>\n      <td>0</td>\n      <td>None</td>\n      <td>NaN</td>\n      <td>3.0</td>\n    </tr>\n    <tr>\n      <th>25</th>\n      <td>Hotel Beacon</td>\n      <td>390077597</td>\n      <td>Manhattan</td>\n      <td>Upper West Side</td>\n      <td>Hotel room</td>\n      <td>0</td>\n      <td>1</td>\n      <td>3</td>\n      <td>2022-06-05</td>\n      <td>1</td>\n      <td>...</td>\n      <td>0</td>\n      <td>0</td>\n      <td>0</td>\n      <td>0</td>\n      <td>0</td>\n      <td></td>\n      <td>0</td>\n      <td>2022-06-05</td>\n      <td>2022.0</td>\n      <td>3.0</td>\n    </tr>\n    <tr>\n      <th>26</th>\n      <td>HGU New York</td>\n      <td>390810530</td>\n      <td>Manhattan</td>\n      <td>Midtown</td>\n      <td>Hotel room</td>\n      <td>0</td>\n      <td>1</td>\n      <td>55</td>\n      <td>2023-01-30</td>\n      <td>1</td>\n      <td>...</td>\n      <td>1</td>\n      <td>0</td>\n      <td>0</td>\n      <td>0</td>\n      <td>0</td>\n      <td>new</td>\n      <td>1</td>\n      <td>2023-01-30</td>\n      <td>2023.0</td>\n      <td>3.0</td>\n    </tr>\n  </tbody>\n</table>\n<p>27 rows × 30 columns</p>\n</div>",
       "datasetInfos": [],
       "metadata": {},
       "removedWidgets": [],
       "textData": null,
       "type": "htmlSandbox"
      }
     },
     "output_type": "display_data"
    }
   ],
   "source": [
    "\n",
    "zero_df = preprocessed_df.filter(preprocessed_df['price'] == 0)\n",
    "zero_df.toPandas()\n"
   ]
  },
  {
   "cell_type": "code",
   "execution_count": null,
   "metadata": {
    "application/vnd.databricks.v1+cell": {
     "cellMetadata": {
      "byteLimit": 2048000,
      "rowLimit": 10000
     },
     "inputWidgets": {},
     "nuid": "10190c03-c177-48e8-9408-5a93fcc26e43",
     "showTitle": false,
     "title": ""
    }
   },
   "outputs": [
    {
     "name": "stdout",
     "output_type": "stream",
     "text": [
      "+----------------+\n",
      "|availability_365|\n",
      "+----------------+\n",
      "|               0|\n",
      "+----------------+\n",
      "\n"
     ]
    }
   ],
   "source": [
    "\n",
    "#Checking the availability of the zero priced properties\n",
    "\n",
    "zero_df.select('availability_365').distinct().show()\n"
   ]
  },
  {
   "cell_type": "code",
   "execution_count": null,
   "metadata": {
    "application/vnd.databricks.v1+cell": {
     "cellMetadata": {
      "byteLimit": 2048000,
      "rowLimit": 10000
     },
     "inputWidgets": {},
     "nuid": "f7449446-2fd2-46e3-88e0-0b74473f80d3",
     "showTitle": false,
     "title": ""
    }
   },
   "outputs": [],
   "source": [
    "#Removing the properties which are unavailable for booking\n",
    "preprocessed_df = preprocessed_df.filter(preprocessed_df['price'] > 0)\n"
   ]
  },
  {
   "cell_type": "code",
   "execution_count": null,
   "metadata": {
    "application/vnd.databricks.v1+cell": {
     "cellMetadata": {
      "byteLimit": 2048000,
      "rowLimit": 10000
     },
     "inputWidgets": {},
     "nuid": "b64f0f12-5134-44f2-a049-e6070dbfddb6",
     "showTitle": false,
     "title": ""
    }
   },
   "outputs": [
    {
     "name": "stdout",
     "output_type": "stream",
     "text": [
      "Out[430]: ['name',\n",
      " 'host_id',\n",
      " 'neighbourhood_group',\n",
      " 'neighbourhood',\n",
      " 'room_type',\n",
      " 'price',\n",
      " 'minimum_nights',\n",
      " 'number_of_reviews',\n",
      " 'last_review',\n",
      " 'calculated_host_listings_count',\n",
      " 'availability_365',\n",
      " 'ext_opt',\n",
      " 'gym',\n",
      " 'pool',\n",
      " 'beach',\n",
      " 'view',\n",
      " 'park',\n",
      " 'camping',\n",
      " 'skiing',\n",
      " 'lake',\n",
      " 'new',\n",
      " 'surf',\n",
      " 'bbq',\n",
      " 'elevator',\n",
      " 'wifi',\n",
      " 'ext_opt_new',\n",
      " 'ext_opt_cnt',\n",
      " 'last_review_dt',\n",
      " 'last_review_year',\n",
      " 'room_type_le']"
     ]
    }
   ],
   "source": [
    "preprocessed_df.columns\n"
   ]
  },
  {
   "cell_type": "code",
   "execution_count": null,
   "metadata": {
    "application/vnd.databricks.v1+cell": {
     "cellMetadata": {
      "byteLimit": 2048000,
      "rowLimit": 10000
     },
     "inputWidgets": {},
     "nuid": "d12e22e2-e9fa-4f88-a730-e2f5befc090e",
     "showTitle": false,
     "title": ""
    }
   },
   "outputs": [],
   "source": [
    "#Dropping the redundant columns \n",
    "\n",
    "drop_column_list = ['last_review','last_review_dt','name', 'ext_opt']\n",
    "preprocessed_df = preprocessed_df.drop(*drop_column_list)\n"
   ]
  },
  {
   "cell_type": "markdown",
   "metadata": {
    "application/vnd.databricks.v1+cell": {
     "cellMetadata": {
      "byteLimit": 2048000,
      "rowLimit": 10000
     },
     "inputWidgets": {},
     "nuid": "c0d5ed51-5567-4293-8a74-62fc41dc6049",
     "showTitle": false,
     "title": ""
    }
   },
   "source": [
    "#### Checking the anomalies in Price column "
   ]
  },
  {
   "cell_type": "code",
   "execution_count": null,
   "metadata": {
    "application/vnd.databricks.v1+cell": {
     "cellMetadata": {
      "byteLimit": 2048000,
      "rowLimit": 10000
     },
     "inputWidgets": {},
     "nuid": "21e1d196-6027-45c5-83f9-4a39db35bc32",
     "showTitle": false,
     "title": ""
    }
   },
   "outputs": [
    {
     "name": "stdout",
     "output_type": "stream",
     "text": [
      "+-----+\n",
      "|price|\n",
      "+-----+\n",
      "|99000|\n",
      "|85170|\n",
      "|85100|\n",
      "|65115|\n",
      "|20500|\n",
      "|19750|\n",
      "|15000|\n",
      "|10000|\n",
      "|10000|\n",
      "|10000|\n",
      "|10000|\n",
      "|10000|\n",
      "|10000|\n",
      "|10000|\n",
      "|10000|\n",
      "|10000|\n",
      "| 9999|\n",
      "| 9999|\n",
      "| 9999|\n",
      "| 9999|\n",
      "+-----+\n",
      "\n"
     ]
    }
   ],
   "source": [
    "from pyspark.sql import functions as F\n",
    "\n",
    "top_20_prices = preprocessed_df.orderBy(F.desc(\"price\")).limit(20)\n",
    "top_20_prices.select('price').show()\n"
   ]
  },
  {
   "cell_type": "code",
   "execution_count": null,
   "metadata": {
    "application/vnd.databricks.v1+cell": {
     "cellMetadata": {
      "byteLimit": 2048000,
      "rowLimit": 10000
     },
     "inputWidgets": {},
     "nuid": "0364af2c-305d-40d7-85c3-19d1828bb186",
     "showTitle": false,
     "title": ""
    }
   },
   "outputs": [
    {
     "data": {
      "text/html": [
       "<div>\n",
       "<style scoped>\n",
       "    .dataframe tbody tr th:only-of-type {\n",
       "        vertical-align: middle;\n",
       "    }\n",
       "\n",
       "    .dataframe tbody tr th {\n",
       "        vertical-align: top;\n",
       "    }\n",
       "\n",
       "    .dataframe thead th {\n",
       "        text-align: right;\n",
       "    }\n",
       "</style>\n",
       "<table border=\"1\" class=\"dataframe\">\n",
       "  <thead>\n",
       "    <tr style=\"text-align: right;\">\n",
       "      <th></th>\n",
       "      <th>host_id</th>\n",
       "      <th>neighbourhood_group</th>\n",
       "      <th>neighbourhood</th>\n",
       "      <th>room_type</th>\n",
       "      <th>price</th>\n",
       "      <th>minimum_nights</th>\n",
       "      <th>number_of_reviews</th>\n",
       "      <th>calculated_host_listings_count</th>\n",
       "      <th>availability_365</th>\n",
       "      <th>gym</th>\n",
       "      <th>...</th>\n",
       "      <th>lake</th>\n",
       "      <th>new</th>\n",
       "      <th>surf</th>\n",
       "      <th>bbq</th>\n",
       "      <th>elevator</th>\n",
       "      <th>wifi</th>\n",
       "      <th>ext_opt_new</th>\n",
       "      <th>ext_opt_cnt</th>\n",
       "      <th>last_review_year</th>\n",
       "      <th>room_type_le</th>\n",
       "    </tr>\n",
       "  </thead>\n",
       "  <tbody>\n",
       "    <tr>\n",
       "      <th>0</th>\n",
       "      <td>2845</td>\n",
       "      <td>Manhattan</td>\n",
       "      <td>Midtown</td>\n",
       "      <td>Entire home/apt</td>\n",
       "      <td>150</td>\n",
       "      <td>30</td>\n",
       "      <td>49</td>\n",
       "      <td>3</td>\n",
       "      <td>314</td>\n",
       "      <td>0</td>\n",
       "      <td>...</td>\n",
       "      <td>0</td>\n",
       "      <td>0</td>\n",
       "      <td>0</td>\n",
       "      <td>0</td>\n",
       "      <td>0</td>\n",
       "      <td>0</td>\n",
       "      <td></td>\n",
       "      <td>0</td>\n",
       "      <td>2022.0</td>\n",
       "      <td>0.0</td>\n",
       "    </tr>\n",
       "    <tr>\n",
       "      <th>1</th>\n",
       "      <td>7356</td>\n",
       "      <td>Brooklyn</td>\n",
       "      <td>Bedford-Stuyvesant</td>\n",
       "      <td>Private room</td>\n",
       "      <td>60</td>\n",
       "      <td>30</td>\n",
       "      <td>50</td>\n",
       "      <td>2</td>\n",
       "      <td>365</td>\n",
       "      <td>0</td>\n",
       "      <td>...</td>\n",
       "      <td>0</td>\n",
       "      <td>0</td>\n",
       "      <td>0</td>\n",
       "      <td>0</td>\n",
       "      <td>0</td>\n",
       "      <td>0</td>\n",
       "      <td></td>\n",
       "      <td>0</td>\n",
       "      <td>2019.0</td>\n",
       "      <td>1.0</td>\n",
       "    </tr>\n",
       "    <tr>\n",
       "      <th>2</th>\n",
       "      <td>7490</td>\n",
       "      <td>Manhattan</td>\n",
       "      <td>Upper West Side</td>\n",
       "      <td>Private room</td>\n",
       "      <td>75</td>\n",
       "      <td>2</td>\n",
       "      <td>118</td>\n",
       "      <td>1</td>\n",
       "      <td>0</td>\n",
       "      <td>0</td>\n",
       "      <td>...</td>\n",
       "      <td>0</td>\n",
       "      <td>0</td>\n",
       "      <td>0</td>\n",
       "      <td>0</td>\n",
       "      <td>0</td>\n",
       "      <td>0</td>\n",
       "      <td></td>\n",
       "      <td>0</td>\n",
       "      <td>2017.0</td>\n",
       "      <td>1.0</td>\n",
       "    </tr>\n",
       "    <tr>\n",
       "      <th>3</th>\n",
       "      <td>8967</td>\n",
       "      <td>Manhattan</td>\n",
       "      <td>Midtown</td>\n",
       "      <td>Private room</td>\n",
       "      <td>68</td>\n",
       "      <td>2</td>\n",
       "      <td>575</td>\n",
       "      <td>1</td>\n",
       "      <td>106</td>\n",
       "      <td>0</td>\n",
       "      <td>...</td>\n",
       "      <td>0</td>\n",
       "      <td>0</td>\n",
       "      <td>0</td>\n",
       "      <td>0</td>\n",
       "      <td>0</td>\n",
       "      <td>0</td>\n",
       "      <td></td>\n",
       "      <td>0</td>\n",
       "      <td>2023.0</td>\n",
       "      <td>1.0</td>\n",
       "    </tr>\n",
       "    <tr>\n",
       "      <th>4</th>\n",
       "      <td>7378</td>\n",
       "      <td>Brooklyn</td>\n",
       "      <td>Sunset Park</td>\n",
       "      <td>Entire home/apt</td>\n",
       "      <td>275</td>\n",
       "      <td>60</td>\n",
       "      <td>3</td>\n",
       "      <td>1</td>\n",
       "      <td>181</td>\n",
       "      <td>0</td>\n",
       "      <td>...</td>\n",
       "      <td>0</td>\n",
       "      <td>0</td>\n",
       "      <td>0</td>\n",
       "      <td>0</td>\n",
       "      <td>0</td>\n",
       "      <td>0</td>\n",
       "      <td></td>\n",
       "      <td>0</td>\n",
       "      <td>2022.0</td>\n",
       "      <td>0.0</td>\n",
       "    </tr>\n",
       "    <tr>\n",
       "      <th>...</th>\n",
       "      <td>...</td>\n",
       "      <td>...</td>\n",
       "      <td>...</td>\n",
       "      <td>...</td>\n",
       "      <td>...</td>\n",
       "      <td>...</td>\n",
       "      <td>...</td>\n",
       "      <td>...</td>\n",
       "      <td>...</td>\n",
       "      <td>...</td>\n",
       "      <td>...</td>\n",
       "      <td>...</td>\n",
       "      <td>...</td>\n",
       "      <td>...</td>\n",
       "      <td>...</td>\n",
       "      <td>...</td>\n",
       "      <td>...</td>\n",
       "      <td>...</td>\n",
       "      <td>...</td>\n",
       "      <td>...</td>\n",
       "      <td>...</td>\n",
       "    </tr>\n",
       "    <tr>\n",
       "      <th>42887</th>\n",
       "      <td>28057253</td>\n",
       "      <td>Brooklyn</td>\n",
       "      <td>Williamsburg</td>\n",
       "      <td>Entire home/apt</td>\n",
       "      <td>76</td>\n",
       "      <td>7</td>\n",
       "      <td>0</td>\n",
       "      <td>1</td>\n",
       "      <td>8</td>\n",
       "      <td>0</td>\n",
       "      <td>...</td>\n",
       "      <td>0</td>\n",
       "      <td>0</td>\n",
       "      <td>0</td>\n",
       "      <td>0</td>\n",
       "      <td>0</td>\n",
       "      <td>0</td>\n",
       "      <td></td>\n",
       "      <td>0</td>\n",
       "      <td>NaN</td>\n",
       "      <td>0.0</td>\n",
       "    </tr>\n",
       "    <tr>\n",
       "      <th>42888</th>\n",
       "      <td>247439246</td>\n",
       "      <td>Manhattan</td>\n",
       "      <td>East Village</td>\n",
       "      <td>Private room</td>\n",
       "      <td>32</td>\n",
       "      <td>30</td>\n",
       "      <td>0</td>\n",
       "      <td>5</td>\n",
       "      <td>79</td>\n",
       "      <td>1</td>\n",
       "      <td>...</td>\n",
       "      <td>0</td>\n",
       "      <td>0</td>\n",
       "      <td>0</td>\n",
       "      <td>1</td>\n",
       "      <td>0</td>\n",
       "      <td>0</td>\n",
       "      <td>gym bbq</td>\n",
       "      <td>2</td>\n",
       "      <td>NaN</td>\n",
       "      <td>1.0</td>\n",
       "    </tr>\n",
       "    <tr>\n",
       "      <th>42889</th>\n",
       "      <td>26349246</td>\n",
       "      <td>Brooklyn</td>\n",
       "      <td>Bushwick</td>\n",
       "      <td>Entire home/apt</td>\n",
       "      <td>127</td>\n",
       "      <td>3</td>\n",
       "      <td>0</td>\n",
       "      <td>8</td>\n",
       "      <td>356</td>\n",
       "      <td>0</td>\n",
       "      <td>...</td>\n",
       "      <td>0</td>\n",
       "      <td>0</td>\n",
       "      <td>0</td>\n",
       "      <td>0</td>\n",
       "      <td>0</td>\n",
       "      <td>0</td>\n",
       "      <td></td>\n",
       "      <td>0</td>\n",
       "      <td>NaN</td>\n",
       "      <td>0.0</td>\n",
       "    </tr>\n",
       "    <tr>\n",
       "      <th>42890</th>\n",
       "      <td>48533809</td>\n",
       "      <td>Staten Island</td>\n",
       "      <td>Bull's Head</td>\n",
       "      <td>Entire home/apt</td>\n",
       "      <td>280</td>\n",
       "      <td>1</td>\n",
       "      <td>0</td>\n",
       "      <td>1</td>\n",
       "      <td>87</td>\n",
       "      <td>0</td>\n",
       "      <td>...</td>\n",
       "      <td>0</td>\n",
       "      <td>0</td>\n",
       "      <td>0</td>\n",
       "      <td>0</td>\n",
       "      <td>0</td>\n",
       "      <td>0</td>\n",
       "      <td></td>\n",
       "      <td>0</td>\n",
       "      <td>NaN</td>\n",
       "      <td>0.0</td>\n",
       "    </tr>\n",
       "    <tr>\n",
       "      <th>42891</th>\n",
       "      <td>488616033</td>\n",
       "      <td>Brooklyn</td>\n",
       "      <td>Williamsburg</td>\n",
       "      <td>Private room</td>\n",
       "      <td>78</td>\n",
       "      <td>90</td>\n",
       "      <td>0</td>\n",
       "      <td>69</td>\n",
       "      <td>309</td>\n",
       "      <td>0</td>\n",
       "      <td>...</td>\n",
       "      <td>0</td>\n",
       "      <td>0</td>\n",
       "      <td>0</td>\n",
       "      <td>0</td>\n",
       "      <td>0</td>\n",
       "      <td>0</td>\n",
       "      <td></td>\n",
       "      <td>0</td>\n",
       "      <td>NaN</td>\n",
       "      <td>1.0</td>\n",
       "    </tr>\n",
       "  </tbody>\n",
       "</table>\n",
       "<p>42892 rows × 26 columns</p>\n",
       "</div>"
      ]
     },
     "metadata": {
      "application/vnd.databricks.v1+output": {
       "addedWidgets": {},
       "arguments": {},
       "data": "<div>\n<style scoped>\n    .dataframe tbody tr th:only-of-type {\n        vertical-align: middle;\n    }\n\n    .dataframe tbody tr th {\n        vertical-align: top;\n    }\n\n    .dataframe thead th {\n        text-align: right;\n    }\n</style>\n<table border=\"1\" class=\"dataframe\">\n  <thead>\n    <tr style=\"text-align: right;\">\n      <th></th>\n      <th>host_id</th>\n      <th>neighbourhood_group</th>\n      <th>neighbourhood</th>\n      <th>room_type</th>\n      <th>price</th>\n      <th>minimum_nights</th>\n      <th>number_of_reviews</th>\n      <th>calculated_host_listings_count</th>\n      <th>availability_365</th>\n      <th>gym</th>\n      <th>...</th>\n      <th>lake</th>\n      <th>new</th>\n      <th>surf</th>\n      <th>bbq</th>\n      <th>elevator</th>\n      <th>wifi</th>\n      <th>ext_opt_new</th>\n      <th>ext_opt_cnt</th>\n      <th>last_review_year</th>\n      <th>room_type_le</th>\n    </tr>\n  </thead>\n  <tbody>\n    <tr>\n      <th>0</th>\n      <td>2845</td>\n      <td>Manhattan</td>\n      <td>Midtown</td>\n      <td>Entire home/apt</td>\n      <td>150</td>\n      <td>30</td>\n      <td>49</td>\n      <td>3</td>\n      <td>314</td>\n      <td>0</td>\n      <td>...</td>\n      <td>0</td>\n      <td>0</td>\n      <td>0</td>\n      <td>0</td>\n      <td>0</td>\n      <td>0</td>\n      <td></td>\n      <td>0</td>\n      <td>2022.0</td>\n      <td>0.0</td>\n    </tr>\n    <tr>\n      <th>1</th>\n      <td>7356</td>\n      <td>Brooklyn</td>\n      <td>Bedford-Stuyvesant</td>\n      <td>Private room</td>\n      <td>60</td>\n      <td>30</td>\n      <td>50</td>\n      <td>2</td>\n      <td>365</td>\n      <td>0</td>\n      <td>...</td>\n      <td>0</td>\n      <td>0</td>\n      <td>0</td>\n      <td>0</td>\n      <td>0</td>\n      <td>0</td>\n      <td></td>\n      <td>0</td>\n      <td>2019.0</td>\n      <td>1.0</td>\n    </tr>\n    <tr>\n      <th>2</th>\n      <td>7490</td>\n      <td>Manhattan</td>\n      <td>Upper West Side</td>\n      <td>Private room</td>\n      <td>75</td>\n      <td>2</td>\n      <td>118</td>\n      <td>1</td>\n      <td>0</td>\n      <td>0</td>\n      <td>...</td>\n      <td>0</td>\n      <td>0</td>\n      <td>0</td>\n      <td>0</td>\n      <td>0</td>\n      <td>0</td>\n      <td></td>\n      <td>0</td>\n      <td>2017.0</td>\n      <td>1.0</td>\n    </tr>\n    <tr>\n      <th>3</th>\n      <td>8967</td>\n      <td>Manhattan</td>\n      <td>Midtown</td>\n      <td>Private room</td>\n      <td>68</td>\n      <td>2</td>\n      <td>575</td>\n      <td>1</td>\n      <td>106</td>\n      <td>0</td>\n      <td>...</td>\n      <td>0</td>\n      <td>0</td>\n      <td>0</td>\n      <td>0</td>\n      <td>0</td>\n      <td>0</td>\n      <td></td>\n      <td>0</td>\n      <td>2023.0</td>\n      <td>1.0</td>\n    </tr>\n    <tr>\n      <th>4</th>\n      <td>7378</td>\n      <td>Brooklyn</td>\n      <td>Sunset Park</td>\n      <td>Entire home/apt</td>\n      <td>275</td>\n      <td>60</td>\n      <td>3</td>\n      <td>1</td>\n      <td>181</td>\n      <td>0</td>\n      <td>...</td>\n      <td>0</td>\n      <td>0</td>\n      <td>0</td>\n      <td>0</td>\n      <td>0</td>\n      <td>0</td>\n      <td></td>\n      <td>0</td>\n      <td>2022.0</td>\n      <td>0.0</td>\n    </tr>\n    <tr>\n      <th>...</th>\n      <td>...</td>\n      <td>...</td>\n      <td>...</td>\n      <td>...</td>\n      <td>...</td>\n      <td>...</td>\n      <td>...</td>\n      <td>...</td>\n      <td>...</td>\n      <td>...</td>\n      <td>...</td>\n      <td>...</td>\n      <td>...</td>\n      <td>...</td>\n      <td>...</td>\n      <td>...</td>\n      <td>...</td>\n      <td>...</td>\n      <td>...</td>\n      <td>...</td>\n      <td>...</td>\n    </tr>\n    <tr>\n      <th>42887</th>\n      <td>28057253</td>\n      <td>Brooklyn</td>\n      <td>Williamsburg</td>\n      <td>Entire home/apt</td>\n      <td>76</td>\n      <td>7</td>\n      <td>0</td>\n      <td>1</td>\n      <td>8</td>\n      <td>0</td>\n      <td>...</td>\n      <td>0</td>\n      <td>0</td>\n      <td>0</td>\n      <td>0</td>\n      <td>0</td>\n      <td>0</td>\n      <td></td>\n      <td>0</td>\n      <td>NaN</td>\n      <td>0.0</td>\n    </tr>\n    <tr>\n      <th>42888</th>\n      <td>247439246</td>\n      <td>Manhattan</td>\n      <td>East Village</td>\n      <td>Private room</td>\n      <td>32</td>\n      <td>30</td>\n      <td>0</td>\n      <td>5</td>\n      <td>79</td>\n      <td>1</td>\n      <td>...</td>\n      <td>0</td>\n      <td>0</td>\n      <td>0</td>\n      <td>1</td>\n      <td>0</td>\n      <td>0</td>\n      <td>gym bbq</td>\n      <td>2</td>\n      <td>NaN</td>\n      <td>1.0</td>\n    </tr>\n    <tr>\n      <th>42889</th>\n      <td>26349246</td>\n      <td>Brooklyn</td>\n      <td>Bushwick</td>\n      <td>Entire home/apt</td>\n      <td>127</td>\n      <td>3</td>\n      <td>0</td>\n      <td>8</td>\n      <td>356</td>\n      <td>0</td>\n      <td>...</td>\n      <td>0</td>\n      <td>0</td>\n      <td>0</td>\n      <td>0</td>\n      <td>0</td>\n      <td>0</td>\n      <td></td>\n      <td>0</td>\n      <td>NaN</td>\n      <td>0.0</td>\n    </tr>\n    <tr>\n      <th>42890</th>\n      <td>48533809</td>\n      <td>Staten Island</td>\n      <td>Bull's Head</td>\n      <td>Entire home/apt</td>\n      <td>280</td>\n      <td>1</td>\n      <td>0</td>\n      <td>1</td>\n      <td>87</td>\n      <td>0</td>\n      <td>...</td>\n      <td>0</td>\n      <td>0</td>\n      <td>0</td>\n      <td>0</td>\n      <td>0</td>\n      <td>0</td>\n      <td></td>\n      <td>0</td>\n      <td>NaN</td>\n      <td>0.0</td>\n    </tr>\n    <tr>\n      <th>42891</th>\n      <td>488616033</td>\n      <td>Brooklyn</td>\n      <td>Williamsburg</td>\n      <td>Private room</td>\n      <td>78</td>\n      <td>90</td>\n      <td>0</td>\n      <td>69</td>\n      <td>309</td>\n      <td>0</td>\n      <td>...</td>\n      <td>0</td>\n      <td>0</td>\n      <td>0</td>\n      <td>0</td>\n      <td>0</td>\n      <td>0</td>\n      <td></td>\n      <td>0</td>\n      <td>NaN</td>\n      <td>1.0</td>\n    </tr>\n  </tbody>\n</table>\n<p>42892 rows × 26 columns</p>\n</div>",
       "datasetInfos": [],
       "metadata": {},
       "removedWidgets": [],
       "textData": null,
       "type": "htmlSandbox"
      }
     },
     "output_type": "display_data"
    }
   ],
   "source": [
    "preprocessed_df.toPandas()"
   ]
  },
  {
   "cell_type": "code",
   "execution_count": null,
   "metadata": {
    "application/vnd.databricks.v1+cell": {
     "cellMetadata": {
      "byteLimit": 2048000,
      "rowLimit": 10000
     },
     "inputWidgets": {},
     "nuid": "d6b5f319-69db-4b9b-b04e-71cd807d023b",
     "showTitle": false,
     "title": ""
    }
   },
   "outputs": [
    {
     "name": "stdout",
     "output_type": "stream",
     "text": [
      "lB:-112.5, uB:387.5\n",
      "39599\n"
     ]
    }
   ],
   "source": [
    "from pyspark.sql.functions import col\n",
    "\n",
    "def detect_outliers(df, col_name):\n",
    "    quantiles = df.approxQuantile(col_name, [0.25, 0.75], 0.0)\n",
    "    Q1 = quantiles[0]\n",
    "    Q3 = quantiles[1]\n",
    "    IQR = Q3 - Q1\n",
    "    lower_bound = Q1 - 1.5 * IQR\n",
    "    upper_bound = Q3 + 1.5 * IQR\n",
    "    print(f\"lB:{lower_bound}, uB:{upper_bound}\")\n",
    "    print(df.filter((col(col_name) >= lower_bound) & (col(col_name) <= upper_bound)).count())\n",
    "    return df.filter((col(col_name) >= lower_bound) & (col(col_name) <= upper_bound))\n",
    "\n",
    "final_train_df = detect_outliers(preprocessed_df, \"price\")\n"
   ]
  },
  {
   "cell_type": "code",
   "execution_count": null,
   "metadata": {
    "application/vnd.databricks.v1+cell": {
     "cellMetadata": {
      "byteLimit": 2048000,
      "rowLimit": 10000
     },
     "inputWidgets": {},
     "nuid": "f741a0fb-7de4-4dc9-9185-2bcb05105c6d",
     "showTitle": false,
     "title": ""
    }
   },
   "outputs": [],
   "source": [
    "def print_null_ratio(df):\n",
    "    columns = df.columns\n",
    "    total_count = df.count()\n",
    "\n",
    "    for c in columns:\n",
    "        null_count = df.filter(df[c].isNull()).count()\n",
    "        print(f\"{c} : null Ratio {round(null_count / total_count, 4) * 100}%\")\n"
   ]
  },
  {
   "cell_type": "code",
   "execution_count": null,
   "metadata": {
    "application/vnd.databricks.v1+cell": {
     "cellMetadata": {
      "byteLimit": 2048000,
      "rowLimit": 10000
     },
     "inputWidgets": {},
     "nuid": "a581cda0-21d5-4015-9643-0ecca5ccbc21",
     "showTitle": false,
     "title": ""
    }
   },
   "outputs": [],
   "source": [
    "final_train_df = final_train_df.withColumn(\"last_review_year\", when(final_train_df[\"last_review_year\"].isNull(), 0).otherwise(final_train_df[\"last_review_year\"]))\n"
   ]
  },
  {
   "cell_type": "code",
   "execution_count": null,
   "metadata": {
    "application/vnd.databricks.v1+cell": {
     "cellMetadata": {
      "byteLimit": 2048000,
      "rowLimit": 10000
     },
     "inputWidgets": {},
     "nuid": "48b92b24-984e-4c0b-b365-aceb6a36497f",
     "showTitle": false,
     "title": ""
    }
   },
   "outputs": [],
   "source": [
    "used_boosting_columns = ['host_id', 'neighbourhood_group',\"room_type\",\n",
    "       'price', 'minimum_nights', 'calculated_host_listings_count',\n",
    "       'availability_365', 'elevator','wifi', 'gym','pool','beach','view','park','camping','skiing','lake','new','surf','bbq', 'ext_opt_cnt','last_review_year']\n",
    "\n",
    "regression_df = final_train_df.select(*used_boosting_columns)"
   ]
  },
  {
   "cell_type": "code",
   "execution_count": null,
   "metadata": {
    "application/vnd.databricks.v1+cell": {
     "cellMetadata": {
      "byteLimit": 2048000,
      "rowLimit": 10000
     },
     "inputWidgets": {},
     "nuid": "66c21d34-7def-4863-922f-7ed1a733350f",
     "showTitle": false,
     "title": ""
    }
   },
   "outputs": [
    {
     "name": "stdout",
     "output_type": "stream",
     "text": [
      "host_id : null Ratio 0.0%\n",
      "neighbourhood_group : null Ratio 0.0%\n",
      "room_type : null Ratio 0.0%\n",
      "price : null Ratio 0.0%\n",
      "minimum_nights : null Ratio 0.0%\n",
      "calculated_host_listings_count : null Ratio 0.0%\n",
      "availability_365 : null Ratio 0.0%\n",
      "elevator : null Ratio 0.0%\n",
      "wifi : null Ratio 0.0%\n",
      "gym : null Ratio 0.0%\n",
      "pool : null Ratio 0.0%\n",
      "beach : null Ratio 0.0%\n",
      "view : null Ratio 0.0%\n",
      "park : null Ratio 0.0%\n",
      "camping : null Ratio 0.0%\n",
      "skiing : null Ratio 0.0%\n",
      "lake : null Ratio 0.0%\n",
      "new : null Ratio 0.0%\n",
      "surf : null Ratio 0.0%\n",
      "bbq : null Ratio 0.0%\n",
      "ext_opt_cnt : null Ratio 0.0%\n",
      "last_review_year : null Ratio 0.0%\n"
     ]
    }
   ],
   "source": [
    "print_null_ratio(regression_df)\n"
   ]
  },
  {
   "cell_type": "markdown",
   "metadata": {
    "application/vnd.databricks.v1+cell": {
     "cellMetadata": {
      "byteLimit": 2048000,
      "rowLimit": 10000
     },
     "inputWidgets": {},
     "nuid": "62e25376-c520-4dcb-8de5-e469721dc7a9",
     "showTitle": false,
     "title": ""
    }
   },
   "source": [
    "###Storing the categorical and numerical variables in lists for later use"
   ]
  },
  {
   "cell_type": "code",
   "execution_count": null,
   "metadata": {
    "application/vnd.databricks.v1+cell": {
     "cellMetadata": {
      "byteLimit": 2048000,
      "rowLimit": 10000
     },
     "inputWidgets": {},
     "nuid": "b2393582-cc58-4a01-a4ab-4154b19180b0",
     "showTitle": false,
     "title": ""
    }
   },
   "outputs": [
    {
     "name": "stdout",
     "output_type": "stream",
     "text": [
      "Out[439]: ['room_type', 'neighbourhood_group']"
     ]
    }
   ],
   "source": [
    "# identify categorical variables\n",
    "dtypes = regression_df.dtypes # this will identify the data types of the variables in regression_df\n",
    "cat_input = [] # create an empty list\n",
    "for i in range(0, len(regression_df.columns)): #iterate over the variables\n",
    "  if dtypes[i][1] == 'string': # if dtype is string save it in the cat_input list\n",
    "    cat_input.append(dtypes[i][0])\n",
    "cat_input = list(set(cat_input)-set(target))\n",
    "cat_input"
   ]
  },
  {
   "cell_type": "markdown",
   "metadata": {
    "application/vnd.databricks.v1+cell": {
     "cellMetadata": {
      "byteLimit": 2048000,
      "rowLimit": 10000
     },
     "inputWidgets": {},
     "nuid": "616e9842-221a-4bce-855f-824772913282",
     "showTitle": false,
     "title": ""
    }
   },
   "source": [
    "#### 4. Determine Categorical and Numerical Variables\n"
   ]
  },
  {
   "cell_type": "code",
   "execution_count": null,
   "metadata": {
    "application/vnd.databricks.v1+cell": {
     "cellMetadata": {
      "byteLimit": 2048000,
      "rowLimit": 10000
     },
     "inputWidgets": {},
     "nuid": "80fc52b6-64e4-4478-82d1-a7dee7295689",
     "showTitle": false,
     "title": ""
    }
   },
   "outputs": [
    {
     "name": "stdout",
     "output_type": "stream",
     "text": [
      "Out[440]: ['beach',\n",
      " 'elevator',\n",
      " 'park',\n",
      " 'new',\n",
      " 'ext_opt_cnt',\n",
      " 'bbq',\n",
      " 'calculated_host_listings_count',\n",
      " 'gym',\n",
      " 'minimum_nights',\n",
      " 'wifi',\n",
      " 'skiing',\n",
      " 'view',\n",
      " 'surf',\n",
      " 'host_id',\n",
      " 'camping',\n",
      " 'lake',\n",
      " 'last_review_year',\n",
      " 'availability_365',\n",
      " 'pool']"
     ]
    }
   ],
   "source": [
    "# numerical variables\n",
    "num_input = list(set(regression_df.columns) - set([target]) - set(cat_input)) # the difference of the categorical variables from all the variables will give us the numerical variables. \n",
    "num_input"
   ]
  },
  {
   "cell_type": "code",
   "execution_count": null,
   "metadata": {
    "application/vnd.databricks.v1+cell": {
     "cellMetadata": {
      "byteLimit": 2048000,
      "rowLimit": 10000
     },
     "inputWidgets": {},
     "nuid": "1151c166-8260-4f6d-9054-54846188710e",
     "showTitle": false,
     "title": ""
    }
   },
   "outputs": [],
   "source": [
    "columns_to_be_standardized = [\"ext_opt_cnt\",\"calculated_host_listings_count\",\"minimum_nights\",\"host_id\",'last_review_year','availability_365']"
   ]
  },
  {
   "cell_type": "markdown",
   "metadata": {
    "application/vnd.databricks.v1+cell": {
     "cellMetadata": {
      "byteLimit": 2048000,
      "rowLimit": 10000
     },
     "inputWidgets": {},
     "nuid": "f2cbbf3c-7eec-4724-adde-1ec7a3f73db4",
     "showTitle": false,
     "title": ""
    }
   },
   "source": [
    "#### 5.Split the data into training and testing sets\n"
   ]
  },
  {
   "cell_type": "code",
   "execution_count": null,
   "metadata": {
    "application/vnd.databricks.v1+cell": {
     "cellMetadata": {
      "byteLimit": 2048000,
      "rowLimit": 10000
     },
     "inputWidgets": {},
     "nuid": "4e1cac26-e80c-482f-81dc-7f6866c01c1e",
     "showTitle": false,
     "title": ""
    }
   },
   "outputs": [],
   "source": [
    "(trainingData, testData) = regression_df.randomSplit([0.8, 0.2], seed=1234)\n"
   ]
  },
  {
   "cell_type": "code",
   "execution_count": null,
   "metadata": {
    "application/vnd.databricks.v1+cell": {
     "cellMetadata": {
      "byteLimit": 2048000,
      "rowLimit": 10000
     },
     "inputWidgets": {},
     "nuid": "23edc8d1-2696-4974-97cc-441e002c6d5f",
     "showTitle": false,
     "title": ""
    }
   },
   "outputs": [
    {
     "data": {
      "text/html": [
       "<div>\n",
       "<style scoped>\n",
       "    .dataframe tbody tr th:only-of-type {\n",
       "        vertical-align: middle;\n",
       "    }\n",
       "\n",
       "    .dataframe tbody tr th {\n",
       "        vertical-align: top;\n",
       "    }\n",
       "\n",
       "    .dataframe thead th {\n",
       "        text-align: right;\n",
       "    }\n",
       "</style>\n",
       "<table border=\"1\" class=\"dataframe\">\n",
       "  <thead>\n",
       "    <tr style=\"text-align: right;\">\n",
       "      <th></th>\n",
       "      <th>host_id</th>\n",
       "      <th>neighbourhood_group</th>\n",
       "      <th>room_type</th>\n",
       "      <th>price</th>\n",
       "      <th>minimum_nights</th>\n",
       "      <th>calculated_host_listings_count</th>\n",
       "      <th>availability_365</th>\n",
       "      <th>elevator</th>\n",
       "      <th>wifi</th>\n",
       "      <th>gym</th>\n",
       "      <th>...</th>\n",
       "      <th>view</th>\n",
       "      <th>park</th>\n",
       "      <th>camping</th>\n",
       "      <th>skiing</th>\n",
       "      <th>lake</th>\n",
       "      <th>new</th>\n",
       "      <th>surf</th>\n",
       "      <th>bbq</th>\n",
       "      <th>ext_opt_cnt</th>\n",
       "      <th>last_review_year</th>\n",
       "    </tr>\n",
       "  </thead>\n",
       "  <tbody>\n",
       "    <tr>\n",
       "      <th>0</th>\n",
       "      <td>2571</td>\n",
       "      <td>Brooklyn</td>\n",
       "      <td>Entire home/apt</td>\n",
       "      <td>99</td>\n",
       "      <td>14</td>\n",
       "      <td>1</td>\n",
       "      <td>35</td>\n",
       "      <td>0</td>\n",
       "      <td>0</td>\n",
       "      <td>0</td>\n",
       "      <td>...</td>\n",
       "      <td>0</td>\n",
       "      <td>0</td>\n",
       "      <td>0</td>\n",
       "      <td>0</td>\n",
       "      <td>0</td>\n",
       "      <td>0</td>\n",
       "      <td>0</td>\n",
       "      <td>0</td>\n",
       "      <td>0</td>\n",
       "      <td>2022</td>\n",
       "    </tr>\n",
       "    <tr>\n",
       "      <th>1</th>\n",
       "      <td>2845</td>\n",
       "      <td>Manhattan</td>\n",
       "      <td>Entire home/apt</td>\n",
       "      <td>150</td>\n",
       "      <td>30</td>\n",
       "      <td>3</td>\n",
       "      <td>314</td>\n",
       "      <td>0</td>\n",
       "      <td>0</td>\n",
       "      <td>0</td>\n",
       "      <td>...</td>\n",
       "      <td>0</td>\n",
       "      <td>0</td>\n",
       "      <td>0</td>\n",
       "      <td>0</td>\n",
       "      <td>0</td>\n",
       "      <td>0</td>\n",
       "      <td>0</td>\n",
       "      <td>0</td>\n",
       "      <td>0</td>\n",
       "      <td>2022</td>\n",
       "    </tr>\n",
       "    <tr>\n",
       "      <th>2</th>\n",
       "      <td>3647</td>\n",
       "      <td>Queens</td>\n",
       "      <td>Entire home/apt</td>\n",
       "      <td>169</td>\n",
       "      <td>5</td>\n",
       "      <td>1</td>\n",
       "      <td>365</td>\n",
       "      <td>0</td>\n",
       "      <td>0</td>\n",
       "      <td>0</td>\n",
       "      <td>...</td>\n",
       "      <td>0</td>\n",
       "      <td>0</td>\n",
       "      <td>0</td>\n",
       "      <td>0</td>\n",
       "      <td>0</td>\n",
       "      <td>0</td>\n",
       "      <td>0</td>\n",
       "      <td>0</td>\n",
       "      <td>0</td>\n",
       "      <td>2020</td>\n",
       "    </tr>\n",
       "    <tr>\n",
       "      <th>3</th>\n",
       "      <td>5089</td>\n",
       "      <td>Brooklyn</td>\n",
       "      <td>Entire home/apt</td>\n",
       "      <td>123</td>\n",
       "      <td>2</td>\n",
       "      <td>1</td>\n",
       "      <td>76</td>\n",
       "      <td>0</td>\n",
       "      <td>0</td>\n",
       "      <td>0</td>\n",
       "      <td>...</td>\n",
       "      <td>0</td>\n",
       "      <td>0</td>\n",
       "      <td>0</td>\n",
       "      <td>0</td>\n",
       "      <td>0</td>\n",
       "      <td>0</td>\n",
       "      <td>0</td>\n",
       "      <td>0</td>\n",
       "      <td>0</td>\n",
       "      <td>2023</td>\n",
       "    </tr>\n",
       "    <tr>\n",
       "      <th>4</th>\n",
       "      <td>6041</td>\n",
       "      <td>Queens</td>\n",
       "      <td>Private room</td>\n",
       "      <td>48</td>\n",
       "      <td>30</td>\n",
       "      <td>1</td>\n",
       "      <td>0</td>\n",
       "      <td>0</td>\n",
       "      <td>0</td>\n",
       "      <td>0</td>\n",
       "      <td>...</td>\n",
       "      <td>0</td>\n",
       "      <td>0</td>\n",
       "      <td>0</td>\n",
       "      <td>0</td>\n",
       "      <td>0</td>\n",
       "      <td>0</td>\n",
       "      <td>0</td>\n",
       "      <td>0</td>\n",
       "      <td>0</td>\n",
       "      <td>2018</td>\n",
       "    </tr>\n",
       "    <tr>\n",
       "      <th>...</th>\n",
       "      <td>...</td>\n",
       "      <td>...</td>\n",
       "      <td>...</td>\n",
       "      <td>...</td>\n",
       "      <td>...</td>\n",
       "      <td>...</td>\n",
       "      <td>...</td>\n",
       "      <td>...</td>\n",
       "      <td>...</td>\n",
       "      <td>...</td>\n",
       "      <td>...</td>\n",
       "      <td>...</td>\n",
       "      <td>...</td>\n",
       "      <td>...</td>\n",
       "      <td>...</td>\n",
       "      <td>...</td>\n",
       "      <td>...</td>\n",
       "      <td>...</td>\n",
       "      <td>...</td>\n",
       "      <td>...</td>\n",
       "      <td>...</td>\n",
       "    </tr>\n",
       "    <tr>\n",
       "      <th>31817</th>\n",
       "      <td>503579221</td>\n",
       "      <td>Manhattan</td>\n",
       "      <td>Entire home/apt</td>\n",
       "      <td>70</td>\n",
       "      <td>30</td>\n",
       "      <td>1</td>\n",
       "      <td>90</td>\n",
       "      <td>0</td>\n",
       "      <td>0</td>\n",
       "      <td>0</td>\n",
       "      <td>...</td>\n",
       "      <td>1</td>\n",
       "      <td>0</td>\n",
       "      <td>0</td>\n",
       "      <td>0</td>\n",
       "      <td>0</td>\n",
       "      <td>0</td>\n",
       "      <td>0</td>\n",
       "      <td>0</td>\n",
       "      <td>1</td>\n",
       "      <td>0</td>\n",
       "    </tr>\n",
       "    <tr>\n",
       "      <th>31818</th>\n",
       "      <td>503593397</td>\n",
       "      <td>Brooklyn</td>\n",
       "      <td>Entire home/apt</td>\n",
       "      <td>195</td>\n",
       "      <td>3</td>\n",
       "      <td>1</td>\n",
       "      <td>8</td>\n",
       "      <td>0</td>\n",
       "      <td>0</td>\n",
       "      <td>0</td>\n",
       "      <td>...</td>\n",
       "      <td>0</td>\n",
       "      <td>0</td>\n",
       "      <td>0</td>\n",
       "      <td>0</td>\n",
       "      <td>0</td>\n",
       "      <td>0</td>\n",
       "      <td>0</td>\n",
       "      <td>0</td>\n",
       "      <td>0</td>\n",
       "      <td>0</td>\n",
       "    </tr>\n",
       "    <tr>\n",
       "      <th>31819</th>\n",
       "      <td>503718879</td>\n",
       "      <td>Manhattan</td>\n",
       "      <td>Entire home/apt</td>\n",
       "      <td>199</td>\n",
       "      <td>4</td>\n",
       "      <td>1</td>\n",
       "      <td>6</td>\n",
       "      <td>0</td>\n",
       "      <td>0</td>\n",
       "      <td>0</td>\n",
       "      <td>...</td>\n",
       "      <td>0</td>\n",
       "      <td>0</td>\n",
       "      <td>0</td>\n",
       "      <td>0</td>\n",
       "      <td>0</td>\n",
       "      <td>0</td>\n",
       "      <td>0</td>\n",
       "      <td>0</td>\n",
       "      <td>0</td>\n",
       "      <td>0</td>\n",
       "    </tr>\n",
       "    <tr>\n",
       "      <th>31820</th>\n",
       "      <td>503726515</td>\n",
       "      <td>Brooklyn</td>\n",
       "      <td>Entire home/apt</td>\n",
       "      <td>239</td>\n",
       "      <td>2</td>\n",
       "      <td>1</td>\n",
       "      <td>365</td>\n",
       "      <td>0</td>\n",
       "      <td>0</td>\n",
       "      <td>0</td>\n",
       "      <td>...</td>\n",
       "      <td>1</td>\n",
       "      <td>0</td>\n",
       "      <td>0</td>\n",
       "      <td>0</td>\n",
       "      <td>0</td>\n",
       "      <td>0</td>\n",
       "      <td>0</td>\n",
       "      <td>0</td>\n",
       "      <td>1</td>\n",
       "      <td>0</td>\n",
       "    </tr>\n",
       "    <tr>\n",
       "      <th>31821</th>\n",
       "      <td>503872891</td>\n",
       "      <td>Manhattan</td>\n",
       "      <td>Shared room</td>\n",
       "      <td>64</td>\n",
       "      <td>30</td>\n",
       "      <td>1</td>\n",
       "      <td>365</td>\n",
       "      <td>0</td>\n",
       "      <td>0</td>\n",
       "      <td>0</td>\n",
       "      <td>...</td>\n",
       "      <td>0</td>\n",
       "      <td>0</td>\n",
       "      <td>0</td>\n",
       "      <td>0</td>\n",
       "      <td>0</td>\n",
       "      <td>0</td>\n",
       "      <td>0</td>\n",
       "      <td>0</td>\n",
       "      <td>0</td>\n",
       "      <td>0</td>\n",
       "    </tr>\n",
       "  </tbody>\n",
       "</table>\n",
       "<p>31822 rows × 22 columns</p>\n",
       "</div>"
      ]
     },
     "metadata": {
      "application/vnd.databricks.v1+output": {
       "addedWidgets": {},
       "arguments": {},
       "data": "<div>\n<style scoped>\n    .dataframe tbody tr th:only-of-type {\n        vertical-align: middle;\n    }\n\n    .dataframe tbody tr th {\n        vertical-align: top;\n    }\n\n    .dataframe thead th {\n        text-align: right;\n    }\n</style>\n<table border=\"1\" class=\"dataframe\">\n  <thead>\n    <tr style=\"text-align: right;\">\n      <th></th>\n      <th>host_id</th>\n      <th>neighbourhood_group</th>\n      <th>room_type</th>\n      <th>price</th>\n      <th>minimum_nights</th>\n      <th>calculated_host_listings_count</th>\n      <th>availability_365</th>\n      <th>elevator</th>\n      <th>wifi</th>\n      <th>gym</th>\n      <th>...</th>\n      <th>view</th>\n      <th>park</th>\n      <th>camping</th>\n      <th>skiing</th>\n      <th>lake</th>\n      <th>new</th>\n      <th>surf</th>\n      <th>bbq</th>\n      <th>ext_opt_cnt</th>\n      <th>last_review_year</th>\n    </tr>\n  </thead>\n  <tbody>\n    <tr>\n      <th>0</th>\n      <td>2571</td>\n      <td>Brooklyn</td>\n      <td>Entire home/apt</td>\n      <td>99</td>\n      <td>14</td>\n      <td>1</td>\n      <td>35</td>\n      <td>0</td>\n      <td>0</td>\n      <td>0</td>\n      <td>...</td>\n      <td>0</td>\n      <td>0</td>\n      <td>0</td>\n      <td>0</td>\n      <td>0</td>\n      <td>0</td>\n      <td>0</td>\n      <td>0</td>\n      <td>0</td>\n      <td>2022</td>\n    </tr>\n    <tr>\n      <th>1</th>\n      <td>2845</td>\n      <td>Manhattan</td>\n      <td>Entire home/apt</td>\n      <td>150</td>\n      <td>30</td>\n      <td>3</td>\n      <td>314</td>\n      <td>0</td>\n      <td>0</td>\n      <td>0</td>\n      <td>...</td>\n      <td>0</td>\n      <td>0</td>\n      <td>0</td>\n      <td>0</td>\n      <td>0</td>\n      <td>0</td>\n      <td>0</td>\n      <td>0</td>\n      <td>0</td>\n      <td>2022</td>\n    </tr>\n    <tr>\n      <th>2</th>\n      <td>3647</td>\n      <td>Queens</td>\n      <td>Entire home/apt</td>\n      <td>169</td>\n      <td>5</td>\n      <td>1</td>\n      <td>365</td>\n      <td>0</td>\n      <td>0</td>\n      <td>0</td>\n      <td>...</td>\n      <td>0</td>\n      <td>0</td>\n      <td>0</td>\n      <td>0</td>\n      <td>0</td>\n      <td>0</td>\n      <td>0</td>\n      <td>0</td>\n      <td>0</td>\n      <td>2020</td>\n    </tr>\n    <tr>\n      <th>3</th>\n      <td>5089</td>\n      <td>Brooklyn</td>\n      <td>Entire home/apt</td>\n      <td>123</td>\n      <td>2</td>\n      <td>1</td>\n      <td>76</td>\n      <td>0</td>\n      <td>0</td>\n      <td>0</td>\n      <td>...</td>\n      <td>0</td>\n      <td>0</td>\n      <td>0</td>\n      <td>0</td>\n      <td>0</td>\n      <td>0</td>\n      <td>0</td>\n      <td>0</td>\n      <td>0</td>\n      <td>2023</td>\n    </tr>\n    <tr>\n      <th>4</th>\n      <td>6041</td>\n      <td>Queens</td>\n      <td>Private room</td>\n      <td>48</td>\n      <td>30</td>\n      <td>1</td>\n      <td>0</td>\n      <td>0</td>\n      <td>0</td>\n      <td>0</td>\n      <td>...</td>\n      <td>0</td>\n      <td>0</td>\n      <td>0</td>\n      <td>0</td>\n      <td>0</td>\n      <td>0</td>\n      <td>0</td>\n      <td>0</td>\n      <td>0</td>\n      <td>2018</td>\n    </tr>\n    <tr>\n      <th>...</th>\n      <td>...</td>\n      <td>...</td>\n      <td>...</td>\n      <td>...</td>\n      <td>...</td>\n      <td>...</td>\n      <td>...</td>\n      <td>...</td>\n      <td>...</td>\n      <td>...</td>\n      <td>...</td>\n      <td>...</td>\n      <td>...</td>\n      <td>...</td>\n      <td>...</td>\n      <td>...</td>\n      <td>...</td>\n      <td>...</td>\n      <td>...</td>\n      <td>...</td>\n      <td>...</td>\n    </tr>\n    <tr>\n      <th>31817</th>\n      <td>503579221</td>\n      <td>Manhattan</td>\n      <td>Entire home/apt</td>\n      <td>70</td>\n      <td>30</td>\n      <td>1</td>\n      <td>90</td>\n      <td>0</td>\n      <td>0</td>\n      <td>0</td>\n      <td>...</td>\n      <td>1</td>\n      <td>0</td>\n      <td>0</td>\n      <td>0</td>\n      <td>0</td>\n      <td>0</td>\n      <td>0</td>\n      <td>0</td>\n      <td>1</td>\n      <td>0</td>\n    </tr>\n    <tr>\n      <th>31818</th>\n      <td>503593397</td>\n      <td>Brooklyn</td>\n      <td>Entire home/apt</td>\n      <td>195</td>\n      <td>3</td>\n      <td>1</td>\n      <td>8</td>\n      <td>0</td>\n      <td>0</td>\n      <td>0</td>\n      <td>...</td>\n      <td>0</td>\n      <td>0</td>\n      <td>0</td>\n      <td>0</td>\n      <td>0</td>\n      <td>0</td>\n      <td>0</td>\n      <td>0</td>\n      <td>0</td>\n      <td>0</td>\n    </tr>\n    <tr>\n      <th>31819</th>\n      <td>503718879</td>\n      <td>Manhattan</td>\n      <td>Entire home/apt</td>\n      <td>199</td>\n      <td>4</td>\n      <td>1</td>\n      <td>6</td>\n      <td>0</td>\n      <td>0</td>\n      <td>0</td>\n      <td>...</td>\n      <td>0</td>\n      <td>0</td>\n      <td>0</td>\n      <td>0</td>\n      <td>0</td>\n      <td>0</td>\n      <td>0</td>\n      <td>0</td>\n      <td>0</td>\n      <td>0</td>\n    </tr>\n    <tr>\n      <th>31820</th>\n      <td>503726515</td>\n      <td>Brooklyn</td>\n      <td>Entire home/apt</td>\n      <td>239</td>\n      <td>2</td>\n      <td>1</td>\n      <td>365</td>\n      <td>0</td>\n      <td>0</td>\n      <td>0</td>\n      <td>...</td>\n      <td>1</td>\n      <td>0</td>\n      <td>0</td>\n      <td>0</td>\n      <td>0</td>\n      <td>0</td>\n      <td>0</td>\n      <td>0</td>\n      <td>1</td>\n      <td>0</td>\n    </tr>\n    <tr>\n      <th>31821</th>\n      <td>503872891</td>\n      <td>Manhattan</td>\n      <td>Shared room</td>\n      <td>64</td>\n      <td>30</td>\n      <td>1</td>\n      <td>365</td>\n      <td>0</td>\n      <td>0</td>\n      <td>0</td>\n      <td>...</td>\n      <td>0</td>\n      <td>0</td>\n      <td>0</td>\n      <td>0</td>\n      <td>0</td>\n      <td>0</td>\n      <td>0</td>\n      <td>0</td>\n      <td>0</td>\n      <td>0</td>\n    </tr>\n  </tbody>\n</table>\n<p>31822 rows × 22 columns</p>\n</div>",
       "datasetInfos": [],
       "metadata": {},
       "removedWidgets": [],
       "textData": null,
       "type": "htmlSandbox"
      }
     },
     "output_type": "display_data"
    }
   ],
   "source": [
    "trainingData.toPandas()"
   ]
  },
  {
   "cell_type": "code",
   "execution_count": null,
   "metadata": {
    "application/vnd.databricks.v1+cell": {
     "cellMetadata": {
      "byteLimit": 2048000,
      "rowLimit": 10000
     },
     "inputWidgets": {},
     "nuid": "d883ad6d-bde2-452d-9687-d85006c33fe4",
     "showTitle": false,
     "title": ""
    }
   },
   "outputs": [
    {
     "name": "stdout",
     "output_type": "stream",
     "text": [
      "host_id : null Ratio 0.0%\n",
      "neighbourhood_group : null Ratio 0.0%\n",
      "room_type : null Ratio 0.0%\n",
      "price : null Ratio 0.0%\n",
      "minimum_nights : null Ratio 0.0%\n",
      "calculated_host_listings_count : null Ratio 0.0%\n",
      "availability_365 : null Ratio 0.0%\n",
      "elevator : null Ratio 0.0%\n",
      "wifi : null Ratio 0.0%\n",
      "gym : null Ratio 0.0%\n",
      "pool : null Ratio 0.0%\n",
      "beach : null Ratio 0.0%\n",
      "view : null Ratio 0.0%\n",
      "park : null Ratio 0.0%\n",
      "camping : null Ratio 0.0%\n",
      "skiing : null Ratio 0.0%\n",
      "lake : null Ratio 0.0%\n",
      "new : null Ratio 0.0%\n",
      "surf : null Ratio 0.0%\n",
      "bbq : null Ratio 0.0%\n",
      "ext_opt_cnt : null Ratio 0.0%\n",
      "last_review_year : null Ratio 0.0%\n"
     ]
    }
   ],
   "source": [
    "print_null_ratio(trainingData)"
   ]
  },
  {
   "cell_type": "markdown",
   "metadata": {
    "application/vnd.databricks.v1+cell": {
     "cellMetadata": {
      "byteLimit": 2048000,
      "rowLimit": 10000
     },
     "inputWidgets": {},
     "nuid": "d4c01fbb-8e84-459f-b85d-947da631c560",
     "showTitle": false,
     "title": ""
    }
   },
   "source": [
    "#### 6. Create Custom Standardization"
   ]
  },
  {
   "cell_type": "code",
   "execution_count": null,
   "metadata": {
    "application/vnd.databricks.v1+cell": {
     "cellMetadata": {
      "byteLimit": 2048000,
      "rowLimit": 10000
     },
     "inputWidgets": {},
     "nuid": "f32d8952-cc43-4f28-ac2f-1866da11237e",
     "showTitle": false,
     "title": ""
    }
   },
   "outputs": [],
   "source": [
    "# normalize a dataset\n",
    "from pyspark.sql.types import IntegerType\n",
    "from pyspark import keyword_only  ## < 2.0 -> pyspark.ml.util.keyword_only\n",
    "from pyspark.ml import Transformer\n",
    "from pyspark.ml.param.shared import HasInputCol, HasOutputCol, Param\n",
    "from pyspark.sql.functions import udf\n",
    "from pyspark.sql.types import ArrayType, StringType\n",
    "\n",
    "\n",
    "class Standardizer(Transformer, HasInputCol, HasOutputCol): # creating a standardizer class that will standardize columns (x-mean/3std)\n",
    "  \n",
    "    def __init__(self, inputCol=None, outputCol=None): # do not change this part at all when creating custom transformers\n",
    "        super(Standardizer, self).__init__() # do not change this part at all when creating custom transformers\n",
    "        self.setParams(inputCol = inputCol , outputCol = outputCol) # do not change this part at all when creating custom transformers\n",
    "     \n",
    "    def setParams(self, inputCol=None, outputCol=None): # do not change this part at all when creating custom transformers\n",
    "      return self._set(inputCol = inputCol, outputCol = outputCol) # do not change this part at all when creating custom transformers\n",
    "        \n",
    "\n",
    "    def _transform(self, dataset): # do not change this part at all when creating custom transformers\n",
    "\n",
    "      out_col = self.getOutputCol()  # do not change this part at all when creating custom transformers\n",
    "      in_col = self.getInputCol()  # do not change this part at all when creating custom transformers\n",
    "      \n",
    "      from pyspark.sql.functions import stddev, mean, col \n",
    "      from pyspark.sql.types import DoubleType\n",
    "      from pyspark.sql.functions import udf\n",
    "\n",
    "      mean_ = dataset.select(mean(in_col)).first()[0] # compute mean\n",
    "      std_ = dataset.select(stddev(in_col)).first()[0] # compute stdev\n",
    "      udf_c =  udf(lambda x: (x-mean_)/std_, DoubleType()) # create a custom udf that will iteratre over a column and subtract the mean fom each value and divide the result by stdev\n",
    "      return dataset.withColumn(out_col, udf_c(dataset[in_col])) # standardize the variable and saves the variable as out_col\n",
    "    "
   ]
  },
  {
   "cell_type": "code",
   "execution_count": null,
   "metadata": {
    "application/vnd.databricks.v1+cell": {
     "cellMetadata": {
      "byteLimit": 2048000,
      "rowLimit": 10000
     },
     "inputWidgets": {},
     "nuid": "52d56150-ba6c-4d98-b880-e57eee8f529d",
     "showTitle": false,
     "title": ""
    }
   },
   "outputs": [
    {
     "name": "stdout",
     "output_type": "stream",
     "text": [
      "Out[446]: [Standardizer_8eb77b0f7973,\n",
      " Standardizer_c38c67c8f3df,\n",
      " Standardizer_edf5dde9ca92,\n",
      " Standardizer_1790ae64146e,\n",
      " Standardizer_c0c4306e9c19,\n",
      " Standardizer_e8f4586c4908]"
     ]
    }
   ],
   "source": [
    "standardizers = [] # creating an empty list\n",
    "for column in columns_to_be_standardized: # creating a list of numeric imputers each of which responsible for imputing a variable\n",
    "  standardizers.append(Standardizer(inputCol = column, outputCol = column))\n",
    "standardizers"
   ]
  },
  {
   "cell_type": "markdown",
   "metadata": {
    "application/vnd.databricks.v1+cell": {
     "cellMetadata": {
      "byteLimit": 2048000,
      "rowLimit": 10000
     },
     "inputWidgets": {},
     "nuid": "89e3ac80-5965-4a30-aa46-a4a10c800165",
     "showTitle": false,
     "title": ""
    }
   },
   "source": [
    "#### 7. Create Dummies (Convert Categorical Variables into 0-1 Dummy Variables)"
   ]
  },
  {
   "cell_type": "code",
   "execution_count": null,
   "metadata": {
    "application/vnd.databricks.v1+cell": {
     "cellMetadata": {
      "byteLimit": 2048000,
      "rowLimit": 10000
     },
     "inputWidgets": {},
     "nuid": "9d71f438-b0ef-4be0-9fd7-788fd2b29163",
     "showTitle": false,
     "title": ""
    }
   },
   "outputs": [
    {
     "name": "stdout",
     "output_type": "stream",
     "text": [
      "Out[447]: [OneHotEncoder_b99f88c70e1e, OneHotEncoder_128dffa50265]"
     ]
    }
   ],
   "source": [
    "from pyspark.ml import Pipeline\n",
    "from pyspark.ml.feature import StringIndexer\n",
    "from pyspark.ml.feature import OneHotEncoder\n",
    "from pyspark.ml.feature import StandardScaler\n",
    "from pyspark.ml.linalg import Vectors\n",
    "from pyspark.ml.feature import VectorAssembler\n",
    "from pyspark.ml.regression import LinearRegression\n",
    "\n",
    "indexers = [StringIndexer(inputCol = column, outputCol = column+\"_index\") for column in cat_input] # this will first create indexers (it means it will number each category in a variable)\n",
    "for indexer in indexers:\n",
    "    indexer.setHandleInvalid(\"keep\")\n",
    "encoders = [OneHotEncoder(inputCol = column+\"_index\", outputCol = column+\"_encoded\") for column in cat_input] # This will use the numbers to create the binary variables\n",
    "encoders"
   ]
  },
  {
   "cell_type": "markdown",
   "metadata": {
    "application/vnd.databricks.v1+cell": {
     "cellMetadata": {
      "byteLimit": 2048000,
      "rowLimit": 10000
     },
     "inputWidgets": {},
     "nuid": "6f85e397-2c10-4222-b172-a4c702c15215",
     "showTitle": false,
     "title": ""
    }
   },
   "source": [
    "#### 8. Determine Input Variables (Features)"
   ]
  },
  {
   "cell_type": "code",
   "execution_count": null,
   "metadata": {
    "application/vnd.databricks.v1+cell": {
     "cellMetadata": {
      "byteLimit": 2048000,
      "rowLimit": 10000
     },
     "inputWidgets": {},
     "nuid": "ee94ec70-9669-4f6b-8e50-7cacc8ca16b4",
     "showTitle": false,
     "title": ""
    }
   },
   "outputs": [
    {
     "name": "stdout",
     "output_type": "stream",
     "text": [
      "Out[448]: ['room_type_encoded',\n",
      " 'neighbourhood_group_encoded',\n",
      " 'beach',\n",
      " 'elevator',\n",
      " 'park',\n",
      " 'new',\n",
      " 'ext_opt_cnt',\n",
      " 'bbq',\n",
      " 'calculated_host_listings_count',\n",
      " 'gym',\n",
      " 'minimum_nights',\n",
      " 'wifi',\n",
      " 'skiing',\n",
      " 'view',\n",
      " 'surf',\n",
      " 'host_id',\n",
      " 'camping',\n",
      " 'lake',\n",
      " 'last_review_year',\n",
      " 'availability_365',\n",
      " 'pool']"
     ]
    }
   ],
   "source": [
    "input_cols = [] # creates an empty list\n",
    "for i in cat_input: #iterates over categorical variables\n",
    "  input_cols.append(i+\"_encoded\") \n",
    "\n",
    "for i in num_input: # iterates over the numerical variables\n",
    "  input_cols.append(i) \n",
    "input_cols"
   ]
  },
  {
   "cell_type": "markdown",
   "metadata": {
    "application/vnd.databricks.v1+cell": {
     "cellMetadata": {
      "byteLimit": 2048000,
      "rowLimit": 10000
     },
     "inputWidgets": {},
     "nuid": "a431c048-a42f-4711-b5bc-c0f9bf9577ce",
     "showTitle": false,
     "title": ""
    }
   },
   "source": [
    "#### 9. Add more stages to the Pipeline"
   ]
  },
  {
   "cell_type": "code",
   "execution_count": null,
   "metadata": {
    "application/vnd.databricks.v1+cell": {
     "cellMetadata": {
      "byteLimit": 2048000,
      "rowLimit": 10000
     },
     "inputWidgets": {},
     "nuid": "996cf4c4-755d-4b56-bdc1-25b3fd4fd55b",
     "showTitle": false,
     "title": ""
    }
   },
   "outputs": [
    {
     "name": "stdout",
     "output_type": "stream",
     "text": [
      "Out[449]: VectorAssembler_19ea3561ff96"
     ]
    }
   ],
   "source": [
    "assembler = VectorAssembler(inputCols= input_cols, outputCol=\"features\") # takes the input variables and saves it as a vector\n",
    "assembler"
   ]
  },
  {
   "cell_type": "code",
   "execution_count": null,
   "metadata": {
    "application/vnd.databricks.v1+cell": {
     "cellMetadata": {
      "byteLimit": 2048000,
      "rowLimit": 10000
     },
     "inputWidgets": {},
     "nuid": "fe660dbd-354b-42f6-9c11-af461b88ae47",
     "showTitle": false,
     "title": ""
    }
   },
   "outputs": [],
   "source": [
    "lr = LinearRegression(featuresCol = 'features', labelCol = target,maxIter=10, regParam=0.3, elasticNetParam=0.8) # this is designed the buiold a regression model using the target variable and the features vector which is a vector contaiing the input_variables (input_cols)\n",
    "\n"
   ]
  },
  {
   "cell_type": "markdown",
   "metadata": {
    "application/vnd.databricks.v1+cell": {
     "cellMetadata": {
      "byteLimit": 2048000,
      "rowLimit": 10000
     },
     "inputWidgets": {},
     "nuid": "bea9b2c3-664b-4a92-a213-3362a3cee211",
     "showTitle": false,
     "title": ""
    }
   },
   "source": [
    "#### 10. Combine the stages as a list for Linear Regression model"
   ]
  },
  {
   "cell_type": "code",
   "execution_count": null,
   "metadata": {
    "application/vnd.databricks.v1+cell": {
     "cellMetadata": {
      "byteLimit": 2048000,
      "rowLimit": 10000
     },
     "inputWidgets": {},
     "nuid": "a4976225-639a-4b76-b665-1778e26504df",
     "showTitle": false,
     "title": ""
    }
   },
   "outputs": [
    {
     "name": "stdout",
     "output_type": "stream",
     "text": [
      "Out[451]: [StringIndexer_3535e5892192,\n",
      " StringIndexer_ed02a73f61c8,\n",
      " OneHotEncoder_b99f88c70e1e,\n",
      " OneHotEncoder_128dffa50265,\n",
      " Standardizer_8eb77b0f7973,\n",
      " Standardizer_c38c67c8f3df,\n",
      " Standardizer_edf5dde9ca92,\n",
      " Standardizer_1790ae64146e,\n",
      " Standardizer_c0c4306e9c19,\n",
      " Standardizer_e8f4586c4908,\n",
      " VectorAssembler_19ea3561ff96,\n",
      " LinearRegression_9bd08145db04]"
     ]
    }
   ],
   "source": [
    "import functools \n",
    "import operator\n",
    "stages = []\n",
    "stages = functools.reduce(operator.concat, [indexers, encoders, standardizers]) # it will combine the pipeline elements such as numeric imputers, indexers, etc.\n",
    "stages.append(assembler)\n",
    "stages.append(lr)\n",
    "stages"
   ]
  },
  {
   "cell_type": "code",
   "execution_count": null,
   "metadata": {
    "application/vnd.databricks.v1+cell": {
     "cellMetadata": {
      "byteLimit": 2048000,
      "rowLimit": 10000
     },
     "inputWidgets": {},
     "nuid": "c1157b4c-f592-48bf-9fdc-aa7331dd593c",
     "showTitle": false,
     "title": ""
    }
   },
   "outputs": [
    {
     "name": "stdout",
     "output_type": "stream",
     "text": [
      "Out[452]: ['host_id',\n",
      " 'neighbourhood_group',\n",
      " 'room_type',\n",
      " 'price',\n",
      " 'minimum_nights',\n",
      " 'calculated_host_listings_count',\n",
      " 'availability_365',\n",
      " 'elevator',\n",
      " 'wifi',\n",
      " 'gym',\n",
      " 'pool',\n",
      " 'beach',\n",
      " 'view',\n",
      " 'park',\n",
      " 'camping',\n",
      " 'skiing',\n",
      " 'lake',\n",
      " 'new',\n",
      " 'surf',\n",
      " 'bbq',\n",
      " 'ext_opt_cnt',\n",
      " 'last_review_year']"
     ]
    }
   ],
   "source": [
    "trainingData.columns"
   ]
  },
  {
   "cell_type": "code",
   "execution_count": null,
   "metadata": {
    "application/vnd.databricks.v1+cell": {
     "cellMetadata": {
      "byteLimit": 2048000,
      "rowLimit": 10000
     },
     "inputWidgets": {},
     "nuid": "b02e64ac-0271-45b8-a66b-6f8c8657eb25",
     "showTitle": false,
     "title": ""
    }
   },
   "outputs": [
    {
     "name": "stdout",
     "output_type": "stream",
     "text": [
      "+-------------------+-------------------+---------------+-----+-------------------+------------------------------+--------------------+--------+----+---+----+-----+----+----+-------+------+----+---+----+---+--------------------+-------------------+---------------+-------------------------+-----------------+---------------------------+--------------------+------------------+\n",
      "|            host_id|neighbourhood_group|      room_type|price|     minimum_nights|calculated_host_listings_count|    availability_365|elevator|wifi|gym|pool|beach|view|park|camping|skiing|lake|new|surf|bbq|         ext_opt_cnt|   last_review_year|room_type_index|neighbourhood_group_index|room_type_encoded|neighbourhood_group_encoded|            features|        prediction|\n",
      "+-------------------+-------------------+---------------+-----+-------------------+------------------------------+--------------------+--------+----+---+----+-----+----+----+-------+------+----+---+----+---+--------------------+-------------------+---------------+-------------------------+-----------------+---------------------------+--------------------+------------------+\n",
      "|-0.9220200519275971|           Brooklyn|   Private room|  199|-0.7232991236125066|           -0.2032583918587814| 0.32170720698413047|       0|   0|  0|   0|    0|   0|   0|      0|     0|   0|  0|   0|  0|-0.42040739981765995| 0.5429783521703744|            1.0|                      0.0|    (4,[1],[1.0])|              (5,[0],[1.0])|(28,[1,4,13,15,17...| 85.68159024418922|\n",
      "|-0.9220098954822653|          Manhattan|   Private room|  136|-0.6826952568606554|           -0.2671112159614532| -0.8573065683538642|       0|   0|  0|   0|    0|   0|   0|      0|     0|   0|  0|   0|  0|-0.42040739981765995| 0.5429783521703744|            1.0|                      1.0|    (4,[1],[1.0])|              (5,[1],[1.0])|(28,[1,5,13,15,17...|109.47537771160363|\n",
      "|-0.9219382764463833|          Manhattan|Entire home/apt|   86| 0.4542130121911793|          -0.27988178078198755| -0.5092844298504802|       0|   0|  0|   0|    0|   0|   0|      0|     0|   0|  0|   0|  0|-0.42040739981765995| 0.5429783521703744|            0.0|                      1.0|    (4,[0],[1.0])|              (5,[1],[1.0])|(28,[0,5,13,15,17...|181.74032657410015|\n",
      "|-0.9219315980628152|          Manhattan|   Private room|   62| 0.4542130121911793|          -0.27988178078198755|  0.8117791979378752|       0|   0|  0|   0|    0|   0|   0|      0|     0|   0|  0|   0|  0|-0.42040739981765995| 0.5429783521703744|            1.0|                      1.0|    (4,[1],[1.0])|              (5,[1],[1.0])|(28,[1,5,13,15,17...|106.25702036800587|\n",
      "|-0.9219284608637289|           Brooklyn|   Private room|   95|-0.5608836566051016|           -0.2671112159614532| -0.7081542232809853|       0|   0|  0|   0|    0|   0|   0|      0|     0|   0|  0|   0|  0|-0.42040739981765995| 0.5429783521703744|            1.0|                      0.0|    (4,[1],[1.0])|              (5,[0],[1.0])|(28,[1,4,13,15,17...| 78.80359095907303|\n",
      "|-0.9219284608637289|           Brooklyn|   Private room|   95|-0.4796759231013991|           -0.2671112159614532| -0.9567414650691167|       0|   0|  0|   0|    0|   0|   0|      0|     0|   0|  0|   0|  0|-0.42040739981765995| 0.5417960287324765|            1.0|                      0.0|    (4,[1],[1.0])|              (5,[0],[1.0])|(28,[1,4,13,15,17...| 76.76808784733625|\n",
      "|-0.9219267313012548|           Brooklyn|   Private room|  179|-0.6826952568606554|           -0.2671112159614532|   1.124288873328669|       0|   0|  0|   0|    0|   0|   0|      0|     0|   0|  0|   0|  0|-0.42040739981765995| 0.5429783521703744|            1.0|                      0.0|    (4,[1],[1.0])|              (5,[0],[1.0])|(28,[1,4,13,15,17...| 89.05510705495479|\n",
      "|-0.9218885546813874|          Manhattan|Entire home/apt|  110|   7.35687036000589|          -0.27988178078198755| -0.9567414650691167|       0|   0|  0|   0|    0|   0|   0|      0|     0|   0|  0|   0|  0|-0.42040739981765995| 0.5382490584187828|            0.0|                      1.0|    (4,[0],[1.0])|              (5,[1],[1.0])|(28,[0,5,13,15,17...|110.28960965420512|\n",
      "|-0.9218317821087871|          Manhattan|Entire home/apt|   95| 0.4542130121911793|          -0.27988178078198755| -0.9567414650691167|       0|   0|  0|   0|    0|   0|   0|      0|     0|   0|  0|   0|  0|-0.42040739981765995| 0.5311551177913952|            0.0|                      1.0|    (4,[0],[1.0])|              (5,[1],[1.0])|(28,[0,5,13,15,17...|179.57822939450242|\n",
      "|-0.9218108127418561|           Brooklyn|   Private room|   90| 0.4542130121911793|           -0.2287995214998501|  0.7549592569577309|       0|   0|  0|   0|    0|   0|   0|      0|     0|   0|  0|   0|  0|-0.42040739981765995| 0.5417960287324765|            1.0|                      0.0|    (4,[1],[1.0])|              (5,[0],[1.0])|(28,[1,4,13,15,17...| 75.93605342216594|\n",
      "|-0.9217898244381095|          Manhattan|Entire home/apt|  110| 0.4542130121911793|          -0.27988178078198755|   1.458106026587017|       0|   0|  0|   0|    0|   0|   0|      0|     0|   0|  0|   0|  0|-0.42040739981765995| 0.5417960287324765|            0.0|                      1.0|    (4,[0],[1.0])|              (5,[1],[1.0])|(28,[0,5,13,15,17...|191.43903412713576|\n",
      "|-0.9217708055631657|           Brooklyn|Entire home/apt|   90| 0.4542130121911793|           -0.2543406511409188| -0.5021819372279621|       0|   0|  0|   0|    0|   0|   1|      0|     0|   0|  0|   0|  0|  1.9643543422552368| 0.5417960287324765|            0.0|                      0.0|    (4,[0],[1.0])|              (5,[0],[1.0])|(28,[0,4,11,13,15...| 155.5059228336918|\n",
      "|-0.9217613434677323|           Brooklyn|Entire home/apt|  272| 0.4542130121911793|          -0.27988178078198755| -0.9567414650691167|       0|   0|  0|   0|    0|   1|   1|      0|     0|   0|  0|   0|  0|   4.349116084328133| 0.5335197646671911|            0.0|                      0.0|    (4,[0],[1.0])|              (5,[0],[1.0])|(28,[0,4,11,13,15...|184.72534247828892|\n",
      "|-0.9217589889903497|           Brooklyn|Entire home/apt|  214|-0.3578643228458454|          -0.27988178078198755| -0.9567414650691167|       0|   0|  0|   0|    0|   0|   0|      0|     0|   0|  0|   0|  0|-0.42040739981765995| 0.5311551177913952|            0.0|                      0.0|    (4,[0],[1.0])|              (5,[0],[1.0])|(28,[0,4,13,15,17...|157.54236613472335|\n",
      "|-0.9217411063243305|          Manhattan|   Private room|   70|-0.4796759231013991|           -0.2671112159614532| -0.8217941052412739|       0|   0|  0|   0|    0|   0|   0|      0|     0|   0|  0|   0|  0|-0.42040739981765995| 0.5429783521703744|            1.0|                      1.0|    (4,[1],[1.0])|              (5,[1],[1.0])|(28,[1,5,13,15,17...|107.61374004021232|\n",
      "|-0.9217210964227135|           Brooklyn|Entire home/apt|  125| 0.4542130121911793|          -0.27988178078198755|  0.1512473840436975|       0|   0|  0|   0|    0|   0|   0|      0|     0|   0|  0|   0|  0|-0.42040739981765995| 0.5417960287324765|            0.0|                      0.0|    (4,[0],[1.0])|              (5,[0],[1.0])|(28,[0,4,13,15,17...| 154.8151271917066|\n",
      "|-0.9216950456769806|           Brooklyn|   Private room|   94|-0.7232991236125066|          -0.24157008632038446|  0.4921670299245634|       0|   0|  0|   0|    0|   0|   0|      0|     0|   0|  0|   0|  0|-0.42040739981765995| 0.5429783521703744|            1.0|                      0.0|    (4,[1],[1.0])|              (5,[0],[1.0])|(28,[1,4,13,15,17...| 86.41781469298206|\n",
      "|-0.9216893583200857|           Brooklyn|Entire home/apt|  107|-0.6420913901088041|          -0.27988178078198755|-0.24649220281731274|       0|   0|  0|   0|    0|   0|   0|      0|     0|   0|  0|   0|  0|-0.42040739981765995| 0.5429783521703744|            0.0|                      0.0|    (4,[0],[1.0])|              (5,[0],[1.0])|(28,[0,4,13,15,17...|163.85170193020272|\n",
      "|-0.9216772071968641|             Queens|Entire home/apt|  114|-0.7232991236125066|          -0.27988178078198755|  1.2734412184015478|       0|   0|  0|   0|    1|   0|   0|      0|     0|   0|  0|   0|  0|  1.9643543422552368| 0.5429783521703744|            0.0|                      2.0|    (4,[0],[1.0])|              (5,[2],[1.0])|(28,[0,6,9,13,15,...|162.45839544047595|\n",
      "|-0.9216361016828799|           Brooklyn|   Private room|   45| 1.0632710134689478|           -0.2671112159614532|   0.584499434017298|       0|   0|  0|   0|    0|   0|   0|      0|     0|   0|  0|   0|  0|-0.42040739981765995|-1.8488619626971132|            1.0|                      0.0|    (4,[1],[1.0])|              (5,[0],[1.0])|(28,[1,4,13,15,17...| 77.47531675783338|\n",
      "+-------------------+-------------------+---------------+-----+-------------------+------------------------------+--------------------+--------+----+---+----+-----+----+----+-------+------+----+---+----+---+--------------------+-------------------+---------------+-------------------------+-----------------+---------------------------+--------------------+------------------+\n",
      "only showing top 20 rows\n",
      "\n"
     ]
    }
   ],
   "source": [
    "from pyspark.ml.evaluation import RegressionEvaluator\n",
    "\n",
    "# Create the pipeline\n",
    "pipeline = Pipeline(stages=stages)\n",
    "\n",
    "# Fit the pipeline on the training data\n",
    "model = pipeline.fit(trainingData)\n",
    "\n",
    "# Make predictions on the test data\n",
    "predictions = model.transform(testData)\n",
    "\n",
    "# Evaluate the model\n",
    "#evaluator = RegressionEvaluator(labelCol=\"price\", predictionCol=\"prediction\", metricName=\"rmse\")\n",
    "#rmse = evaluator.evaluate(predictions)\n",
    "predictions.show()\n",
    "\n"
   ]
  },
  {
   "cell_type": "code",
   "execution_count": null,
   "metadata": {
    "application/vnd.databricks.v1+cell": {
     "cellMetadata": {
      "byteLimit": 2048000,
      "rowLimit": 10000
     },
     "inputWidgets": {},
     "nuid": "48211fef-4cb4-4628-93db-477f23265b17",
     "showTitle": false,
     "title": ""
    }
   },
   "outputs": [
    {
     "name": "stdout",
     "output_type": "stream",
     "text": [
      "Root Mean Squared Error (RMSE) on test data: 62.74291792207146\n"
     ]
    }
   ],
   "source": [
    "evaluator = RegressionEvaluator(labelCol=\"price\", predictionCol=\"prediction\", metricName=\"rmse\")\n",
    "rmse = evaluator.evaluate(predictions)\n",
    "print(f\"Root Mean Squared Error (RMSE) on test data: {rmse}\")\n"
   ]
  },
  {
   "cell_type": "code",
   "execution_count": null,
   "metadata": {
    "application/vnd.databricks.v1+cell": {
     "cellMetadata": {
      "byteLimit": 2048000,
      "rowLimit": 10000
     },
     "inputWidgets": {},
     "nuid": "c5c29492-f927-460a-9f4f-012e0648d852",
     "showTitle": false,
     "title": ""
    }
   },
   "outputs": [
    {
     "name": "stdout",
     "output_type": "stream",
     "text": [
      "R-squared value on test data: 0.3979134190648471\n"
     ]
    }
   ],
   "source": [
    "evaluator_r2 = RegressionEvaluator(labelCol=\"price\", predictionCol=\"prediction\", metricName=\"r2\")\n",
    "r2 = evaluator_r2.evaluate(predictions)\n",
    "print(f\"R-squared value on test data: {r2}\")"
   ]
  },
  {
   "cell_type": "code",
   "execution_count": null,
   "metadata": {
    "application/vnd.databricks.v1+cell": {
     "cellMetadata": {
      "byteLimit": 2048000,
      "rowLimit": 10000
     },
     "inputWidgets": {},
     "nuid": "b0e41b7b-1aeb-4afd-bb66-36798cdb3f15",
     "showTitle": false,
     "title": ""
    }
   },
   "outputs": [
    {
     "name": "stdout",
     "output_type": "stream",
     "text": [
      "Out[456]: ['host_id',\n",
      " 'neighbourhood_group',\n",
      " 'room_type',\n",
      " 'price',\n",
      " 'minimum_nights',\n",
      " 'calculated_host_listings_count',\n",
      " 'availability_365',\n",
      " 'elevator',\n",
      " 'wifi',\n",
      " 'gym',\n",
      " 'pool',\n",
      " 'beach',\n",
      " 'view',\n",
      " 'park',\n",
      " 'camping',\n",
      " 'skiing',\n",
      " 'lake',\n",
      " 'new',\n",
      " 'surf',\n",
      " 'bbq',\n",
      " 'ext_opt_cnt',\n",
      " 'last_review_year']"
     ]
    }
   ],
   "source": [
    "trainingData.columns"
   ]
  },
  {
   "cell_type": "markdown",
   "metadata": {
    "application/vnd.databricks.v1+cell": {
     "cellMetadata": {
      "byteLimit": 2048000,
      "rowLimit": 10000
     },
     "inputWidgets": {},
     "nuid": "083617e5-fe64-47a6-942c-c30797a90e04",
     "showTitle": false,
     "title": ""
    }
   },
   "source": [
    "### XGBoost Model using Python"
   ]
  },
  {
   "cell_type": "code",
   "execution_count": null,
   "metadata": {
    "application/vnd.databricks.v1+cell": {
     "cellMetadata": {
      "byteLimit": 2048000,
      "rowLimit": 10000
     },
     "inputWidgets": {},
     "nuid": "d44bf497-5209-4abf-acdf-5c451b7dd980",
     "showTitle": false,
     "title": ""
    }
   },
   "outputs": [],
   "source": [
    "boosting_df = regression_df.toPandas()\n",
    "xgb_boosting_df = pd.get_dummies(boosting_df)\n",
    "\n",
    "xgb_boosting_y = xgb_boosting_df['price']\n",
    "xgb_boosting_x = xgb_boosting_df.drop('price',axis=1)\n"
   ]
  },
  {
   "cell_type": "code",
   "execution_count": null,
   "metadata": {
    "application/vnd.databricks.v1+cell": {
     "cellMetadata": {
      "byteLimit": 2048000,
      "rowLimit": 10000
     },
     "inputWidgets": {},
     "nuid": "05c96807-870e-4eb3-b1ce-949a8d6c0b7a",
     "showTitle": false,
     "title": ""
    }
   },
   "outputs": [],
   "source": [
    "from sklearn.model_selection import train_test_split\n",
    "\n",
    "X_train_xgb, X_test_xgb, y_train_xgb, y_test_xgb = train_test_split(xgb_boosting_x, xgb_boosting_y, test_size=0.2, random_state=42)\n"
   ]
  },
  {
   "cell_type": "code",
   "execution_count": null,
   "metadata": {
    "application/vnd.databricks.v1+cell": {
     "cellMetadata": {
      "byteLimit": 2048000,
      "rowLimit": 10000
     },
     "inputWidgets": {},
     "nuid": "9fb117f5-909c-4a42-bb9b-2aba1a4622db",
     "showTitle": false,
     "title": ""
    }
   },
   "outputs": [
    {
     "name": "stdout",
     "output_type": "stream",
     "text": [
      "Requirement already satisfied: xgboost in /local_disk0/.ephemeral_nfs/envs/pythonEnv-e19665cc-43fa-4448-b9ad-a3b4120f8bd5/lib/python3.9/site-packages (2.0.0)\r\n",
      "Requirement already satisfied: numpy in /databricks/python3/lib/python3.9/site-packages (from xgboost) (1.21.5)\r\n",
      "Requirement already satisfied: scipy in /databricks/python3/lib/python3.9/site-packages (from xgboost) (1.7.3)\r\n",
      "\u001b[33mWARNING: You are using pip version 21.2.4; however, version 23.3.1 is available.\r\n",
      "You should consider upgrading via the '/local_disk0/.ephemeral_nfs/envs/pythonEnv-e19665cc-43fa-4448-b9ad-a3b4120f8bd5/bin/python -m pip install --upgrade pip' command.\u001b[0m\r\n"
     ]
    }
   ],
   "source": [
    "!pip install xgboost"
   ]
  },
  {
   "cell_type": "code",
   "execution_count": null,
   "metadata": {
    "application/vnd.databricks.v1+cell": {
     "cellMetadata": {
      "byteLimit": 2048000,
      "rowLimit": 10000
     },
     "inputWidgets": {},
     "nuid": "dd5ac80f-127c-4933-b837-557e058f8750",
     "showTitle": false,
     "title": ""
    }
   },
   "outputs": [
    {
     "name": "stdout",
     "output_type": "stream",
     "text": [
      "Out[460]: Index(['host_id', 'minimum_nights', 'calculated_host_listings_count',\n",
      "       'availability_365', 'elevator', 'wifi', 'gym', 'pool', 'beach', 'view',\n",
      "       'park', 'camping', 'skiing', 'lake', 'new', 'surf', 'bbq',\n",
      "       'ext_opt_cnt', 'last_review_year', 'neighbourhood_group_Bronx',\n",
      "       'neighbourhood_group_Brooklyn', 'neighbourhood_group_Manhattan',\n",
      "       'neighbourhood_group_Queens', 'neighbourhood_group_Staten Island',\n",
      "       'room_type_Entire home/apt', 'room_type_Hotel room',\n",
      "       'room_type_Private room', 'room_type_Shared room'],\n",
      "      dtype='object')"
     ]
    }
   ],
   "source": [
    "X_train_xgb.columns"
   ]
  },
  {
   "cell_type": "code",
   "execution_count": null,
   "metadata": {
    "application/vnd.databricks.v1+cell": {
     "cellMetadata": {
      "byteLimit": 2048000,
      "rowLimit": 10000
     },
     "inputWidgets": {},
     "nuid": "d0891107-9e80-457a-865a-a0be0060c6f7",
     "showTitle": false,
     "title": ""
    }
   },
   "outputs": [
    {
     "name": "stdout",
     "output_type": "stream",
     "text": [
      "r2: 0.50882\n",
      "Root Mean Squared Error (RMSE): 56.47963863686256\n"
     ]
    }
   ],
   "source": [
    "from sklearn.metrics import r2_score, mean_squared_error\n",
    "import numpy as np\n",
    "from xgboost import XGBRegressor\n",
    "\n",
    "xgb = XGBRegressor(random_state=0)\n",
    "xgb.fit(X_train_xgb, y_train_xgb)\n",
    "pred = xgb.predict(X_test_xgb)\n",
    "\n",
    "print('r2: {0:.5f}'.format(r2_score(y_test_xgb, pred)))\n",
    "\n",
    "rmse = np.sqrt(mean_squared_error(y_test_xgb, pred))\n",
    "print(\"Root Mean Squared Error (RMSE):\", rmse)\n"
   ]
  },
  {
   "cell_type": "markdown",
   "metadata": {
    "application/vnd.databricks.v1+cell": {
     "cellMetadata": {
      "byteLimit": 2048000,
      "rowLimit": 10000
     },
     "inputWidgets": {},
     "nuid": "6c14c1d0-36a4-4e63-8811-44efcc200246",
     "showTitle": false,
     "title": ""
    }
   },
   "source": [
    "### CatBoost Model using Python"
   ]
  },
  {
   "cell_type": "code",
   "execution_count": null,
   "metadata": {
    "application/vnd.databricks.v1+cell": {
     "cellMetadata": {
      "byteLimit": 2048000,
      "rowLimit": 10000
     },
     "inputWidgets": {},
     "nuid": "f68f1de6-4405-48e9-b25a-67040fed72e3",
     "showTitle": false,
     "title": ""
    }
   },
   "outputs": [],
   "source": [
    "cat_boosting_columns = ['host_id', 'neighbourhood_group', 'room_type', 'neighbourhood',\n",
    "       'price', 'minimum_nights', 'number_of_reviews', 'calculated_host_listings_count',\n",
    "       'availability_365','ext_opt_new', 'ext_opt_cnt', 'last_review_year']\n",
    "\n",
    "cat_boosting_df = final_train_df.select(*cat_boosting_columns).toPandas()"
   ]
  },
  {
   "cell_type": "code",
   "execution_count": null,
   "metadata": {
    "application/vnd.databricks.v1+cell": {
     "cellMetadata": {
      "byteLimit": 2048000,
      "rowLimit": 10000
     },
     "inputWidgets": {},
     "nuid": "10e90b76-c371-48c7-b13b-0df88a162820",
     "showTitle": false,
     "title": ""
    }
   },
   "outputs": [],
   "source": [
    "cat_y = cat_boosting_df['price']\n",
    "cat_x = cat_boosting_df.drop('price',axis=1)\n",
    "\n",
    "X_train_cat, X_test_cat, y_train_cat, y_test_cat = train_test_split( cat_x, cat_y, test_size=0.2, random_state=42)\n"
   ]
  },
  {
   "cell_type": "code",
   "execution_count": null,
   "metadata": {
    "application/vnd.databricks.v1+cell": {
     "cellMetadata": {
      "byteLimit": 2048000,
      "rowLimit": 10000
     },
     "inputWidgets": {},
     "nuid": "dee39f2f-e4f7-4fb6-88a7-53b6f5c7aeea",
     "showTitle": false,
     "title": ""
    }
   },
   "outputs": [],
   "source": [
    "cat_col = []\n",
    "\n",
    "for c in cat_x.columns:\n",
    "    if (cat_x[c].dtype== 'object'):\n",
    "        cat_col.append(c)"
   ]
  },
  {
   "cell_type": "code",
   "execution_count": null,
   "metadata": {
    "application/vnd.databricks.v1+cell": {
     "cellMetadata": {
      "byteLimit": 2048000,
      "rowLimit": 10000
     },
     "inputWidgets": {},
     "nuid": "1e957474-fb6d-46f6-b95c-debaa5f42bba",
     "showTitle": false,
     "title": ""
    }
   },
   "outputs": [
    {
     "name": "stdout",
     "output_type": "stream",
     "text": [
      "Requirement already satisfied: catboost in /local_disk0/.ephemeral_nfs/envs/pythonEnv-e19665cc-43fa-4448-b9ad-a3b4120f8bd5/lib/python3.9/site-packages (1.2.2)\r\n",
      "Requirement already satisfied: scipy in /databricks/python3/lib/python3.9/site-packages (from catboost) (1.7.3)\r\n",
      "Requirement already satisfied: pandas>=0.24 in /databricks/python3/lib/python3.9/site-packages (from catboost) (1.4.2)\r\n",
      "Requirement already satisfied: plotly in /databricks/python3/lib/python3.9/site-packages (from catboost) (5.6.0)\r\n",
      "Requirement already satisfied: matplotlib in /databricks/python3/lib/python3.9/site-packages (from catboost) (3.5.1)\r\n",
      "Requirement already satisfied: numpy>=1.16.0 in /databricks/python3/lib/python3.9/site-packages (from catboost) (1.21.5)\r\n",
      "Requirement already satisfied: graphviz in /local_disk0/.ephemeral_nfs/envs/pythonEnv-e19665cc-43fa-4448-b9ad-a3b4120f8bd5/lib/python3.9/site-packages (from catboost) (0.20.1)\r\n",
      "Requirement already satisfied: six in /databricks/python3/lib/python3.9/site-packages (from catboost) (1.16.0)\r\n",
      "Requirement already satisfied: python-dateutil>=2.8.1 in /databricks/python3/lib/python3.9/site-packages (from pandas>=0.24->catboost) (2.8.2)\r\n",
      "Requirement already satisfied: pytz>=2020.1 in /databricks/python3/lib/python3.9/site-packages (from pandas>=0.24->catboost) (2021.3)\r\n",
      "Requirement already satisfied: packaging>=20.0 in /databricks/python3/lib/python3.9/site-packages (from matplotlib->catboost) (21.3)\r\n",
      "Requirement already satisfied: fonttools>=4.22.0 in /databricks/python3/lib/python3.9/site-packages (from matplotlib->catboost) (4.25.0)\r\n",
      "Requirement already satisfied: kiwisolver>=1.0.1 in /databricks/python3/lib/python3.9/site-packages (from matplotlib->catboost) (1.3.2)\r\n",
      "Requirement already satisfied: pyparsing>=2.2.1 in /databricks/python3/lib/python3.9/site-packages (from matplotlib->catboost) (3.0.4)\r\n",
      "Requirement already satisfied: cycler>=0.10 in /databricks/python3/lib/python3.9/site-packages (from matplotlib->catboost) (0.11.0)\r\n",
      "Requirement already satisfied: pillow>=6.2.0 in /databricks/python3/lib/python3.9/site-packages (from matplotlib->catboost) (9.0.1)\r\n",
      "Requirement already satisfied: tenacity>=6.2.0 in /databricks/python3/lib/python3.9/site-packages (from plotly->catboost) (8.0.1)\r\n",
      "\u001b[33mWARNING: You are using pip version 21.2.4; however, version 23.3.1 is available.\r\n",
      "You should consider upgrading via the '/local_disk0/.ephemeral_nfs/envs/pythonEnv-e19665cc-43fa-4448-b9ad-a3b4120f8bd5/bin/python -m pip install --upgrade pip' command.\u001b[0m\r\n"
     ]
    }
   ],
   "source": [
    "!pip install catboost\n",
    "from catboost import CatBoostRegressor\n"
   ]
  },
  {
   "cell_type": "code",
   "execution_count": null,
   "metadata": {
    "application/vnd.databricks.v1+cell": {
     "cellMetadata": {
      "byteLimit": 2048000,
      "rowLimit": 10000
     },
     "inputWidgets": {},
     "nuid": "87e2b9dd-5e5d-4b34-bfae-afe2201c4f15",
     "showTitle": false,
     "title": ""
    }
   },
   "outputs": [
    {
     "data": {
      "application/vnd.jupyter.widget-view+json": {
       "model_id": "408e9fca909947a1af6b818f208df3f8",
       "version_major": 2,
       "version_minor": 0
      },
      "text/plain": [
       "MetricVisualizer(layout=Layout(align_self='stretch', height='500px'))"
      ]
     },
     "metadata": {},
     "output_type": "display_data"
    },
    {
     "name": "stdout",
     "output_type": "stream",
     "text": [
      "0:\tlearn: 75.7824968\ttest: 75.8218986\tbest: 75.8218986 (0)\ttotal: 41.7ms\tremaining: 1m 2s\n",
      "100:\tlearn: 53.2499264\ttest: 54.6688735\tbest: 54.6688735 (100)\ttotal: 3.33s\tremaining: 46.2s\n",
      "200:\tlearn: 51.8132964\ttest: 53.9455482\tbest: 53.9455482 (200)\ttotal: 6.65s\tremaining: 43s\n",
      "300:\tlearn: 50.9583080\ttest: 53.7184320\tbest: 53.7184320 (300)\ttotal: 9.76s\tremaining: 38.9s\n",
      "400:\tlearn: 50.2339076\ttest: 53.5646142\tbest: 53.5620345 (391)\ttotal: 13s\tremaining: 35.7s\n",
      "500:\tlearn: 49.5066068\ttest: 53.4682803\tbest: 53.4649118 (498)\ttotal: 16.4s\tremaining: 32.6s\n",
      "600:\tlearn: 48.8591762\ttest: 53.3833456\tbest: 53.3808720 (595)\ttotal: 19.7s\tremaining: 29.5s\n",
      "700:\tlearn: 48.3057149\ttest: 53.2734166\tbest: 53.2706463 (699)\ttotal: 23.1s\tremaining: 26.3s\n",
      "800:\tlearn: 47.8224499\ttest: 53.2189348\tbest: 53.2074644 (786)\ttotal: 26.5s\tremaining: 23.1s\n",
      "900:\tlearn: 47.3815863\ttest: 53.2116838\tbest: 53.2045716 (885)\ttotal: 29.8s\tremaining: 19.8s\n",
      "1000:\tlearn: 46.9456181\ttest: 53.2141102\tbest: 53.1861360 (966)\ttotal: 33.3s\tremaining: 16.6s\n",
      "1100:\tlearn: 46.5424922\ttest: 53.1989281\tbest: 53.1861360 (966)\ttotal: 36.8s\tremaining: 13.3s\n",
      "1200:\tlearn: 46.1160666\ttest: 53.1805225\tbest: 53.1720417 (1191)\ttotal: 40.2s\tremaining: 10s\n",
      "1300:\tlearn: 45.7805035\ttest: 53.1469185\tbest: 53.1420714 (1276)\ttotal: 43.7s\tremaining: 6.69s\n",
      "1400:\tlearn: 45.4031606\ttest: 53.1268655\tbest: 53.1268655 (1400)\ttotal: 47.4s\tremaining: 3.35s\n",
      "1499:\tlearn: 45.0658393\ttest: 53.1068233\tbest: 53.1014512 (1453)\ttotal: 51s\tremaining: 0us\n",
      "\n",
      "bestTest = 53.10145125\n",
      "bestIteration = 1453\n",
      "\n",
      "Shrink model to first 1454 iterations.\n",
      "Out[466]: <catboost.core.CatBoostRegressor at 0x7f737390e760>"
     ]
    }
   ],
   "source": [
    "cat_model = CatBoostRegressor(iterations=1500, learning_rate = 0.15, loss_function='RMSE')\n",
    "\n",
    "cat_model.fit(X_train_cat,\n",
    "    y_train_cat,\n",
    "    cat_features=cat_col,\n",
    "    eval_set=(X_test_cat, y_test_cat),\n",
    "    verbose=100,\n",
    "    plot=True\n",
    ")"
   ]
  },
  {
   "cell_type": "code",
   "execution_count": null,
   "metadata": {
    "application/vnd.databricks.v1+cell": {
     "cellMetadata": {
      "byteLimit": 2048000,
      "rowLimit": 10000
     },
     "inputWidgets": {},
     "nuid": "76109440-641b-4705-9629-ff50e5b0ac57",
     "showTitle": false,
     "title": ""
    }
   },
   "outputs": [],
   "source": [
    "y_pred_cat = cat_model.predict(X_test_cat)\n"
   ]
  },
  {
   "cell_type": "code",
   "execution_count": null,
   "metadata": {
    "application/vnd.databricks.v1+cell": {
     "cellMetadata": {
      "byteLimit": 2048000,
      "rowLimit": 10000
     },
     "inputWidgets": {},
     "nuid": "2abdca36-b9ec-4b4f-a0b5-2ea3458eaee3",
     "showTitle": false,
     "title": ""
    }
   },
   "outputs": [
    {
     "name": "stdout",
     "output_type": "stream",
     "text": [
      "Out[468]: 0.5658211363086691"
     ]
    }
   ],
   "source": [
    "\n",
    "print(\"R square value of CatBoost model : \",r2_score((y_test_cat), y_pred_cat))\n"
   ]
  },
  {
   "cell_type": "code",
   "execution_count": null,
   "metadata": {
    "application/vnd.databricks.v1+cell": {
     "cellMetadata": {
      "byteLimit": 2048000,
      "rowLimit": 10000
     },
     "inputWidgets": {},
     "nuid": "b9bb4d4c-d9be-48c9-b853-a0f6075a6073",
     "showTitle": false,
     "title": ""
    }
   },
   "outputs": [
    {
     "name": "stdout",
     "output_type": "stream",
     "text": [
      "Root Mean Squared Error (RMSE): 53.10145124552344\n"
     ]
    }
   ],
   "source": [
    "rmse = np.sqrt(mean_squared_error(y_test_cat, y_pred_cat))\n",
    "print(\"Root Mean Squared Error (RMSE):\", rmse)"
   ]
  },
  {
   "cell_type": "markdown",
   "metadata": {
    "application/vnd.databricks.v1+cell": {
     "cellMetadata": {
      "byteLimit": 2048000,
      "rowLimit": 10000
     },
     "inputWidgets": {},
     "nuid": "39d72fe4-c87f-464e-8551-7e67c99b305d",
     "showTitle": false,
     "title": ""
    }
   },
   "source": [
    "R squared value has increased to 53% when catboost regressor is employed. "
   ]
  },
  {
   "cell_type": "markdown",
   "metadata": {},
   "source": []
  }
 ],
 "metadata": {
  "application/vnd.databricks.v1+notebook": {
   "dashboards": [],
   "language": "python",
   "notebookMetadata": {
    "mostRecentlyExecutedCommandWithImplicitDF": {
     "commandId": -1,
     "dataframes": [
      "_sqldf"
     ]
    },
    "pythonIndentUnit": 2
   },
   "notebookName": "Final_project",
   "widgets": {}
  },
  "language_info": {
   "name": "python"
  }
 },
 "nbformat": 4,
 "nbformat_minor": 0
}
